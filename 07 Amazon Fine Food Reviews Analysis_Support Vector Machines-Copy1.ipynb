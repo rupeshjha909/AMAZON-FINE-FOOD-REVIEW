{
 "cells": [
  {
   "cell_type": "markdown",
   "metadata": {},
   "source": [
    "# Amazon Fine Food Reviews Analysis\n",
    "\n",
    "\n",
    "Data Source: https://www.kaggle.com/snap/amazon-fine-food-reviews <br>\n",
    "\n",
    "EDA: https://nycdatascience.com/blog/student-works/amazon-fine-foods-visualization/\n",
    "\n",
    "\n",
    "The Amazon Fine Food Reviews dataset consists of reviews of fine foods from Amazon.<br>\n",
    "\n",
    "Number of reviews: 568,454<br>\n",
    "Number of users: 256,059<br>\n",
    "Number of products: 74,258<br>\n",
    "Timespan: Oct 1999 - Oct 2012<br>\n",
    "Number of Attributes/Columns in data: 10 \n",
    "\n",
    "Attribute Information:\n",
    "\n",
    "1. Id\n",
    "2. ProductId - unique identifier for the product\n",
    "3. UserId - unqiue identifier for the user\n",
    "4. ProfileName\n",
    "5. HelpfulnessNumerator - number of users who found the review helpful\n",
    "6. HelpfulnessDenominator - number of users who indicated whether they found the review helpful or not\n",
    "7. Score - rating between 1 and 5\n",
    "8. Time - timestamp for the review\n",
    "9. Summary - brief summary of the review\n",
    "10. Text - text of the review\n",
    "\n",
    "\n",
    "#### Objective:\n",
    "Given a review, determine whether the review is positive (rating of 4 or 5) or negative (rating of 1 or 2).\n",
    "\n",
    "<br>\n",
    "[Q] How to determine if a review is positive or negative?<br>\n",
    "<br> \n",
    "[Ans] We could use Score/Rating. A rating of 4 or 5 can be cosnidered as a positive review. A rating of 1 or 2 can be considered as negative one. A review of rating 3 is considered nuetral and such reviews are ignored from our analysis. This is an approximate and proxy way of determining the polarity (positivity/negativity) of a review.\n",
    "\n",
    "\n"
   ]
  },
  {
   "cell_type": "markdown",
   "metadata": {},
   "source": [
    "# [1]. Reading Data"
   ]
  },
  {
   "cell_type": "markdown",
   "metadata": {},
   "source": [
    "## [1.1] Loading the data\n",
    "\n",
    "The dataset is available in two forms\n",
    "1. .csv file\n",
    "2. SQLite Database\n",
    "\n",
    "In order to load the data, We have used the SQLITE dataset as it is easier to query the data and visualise the data efficiently.\n",
    "<br> \n",
    "\n",
    "Here as we only want to get the global sentiment of the recommendations (positive or negative), we will purposefully ignore all Scores equal to 3. If the score is above 3, then the recommendation wil be set to \"positive\". Otherwise, it will be set to \"negative\"."
   ]
  },
  {
   "cell_type": "code",
   "execution_count": 120,
   "metadata": {},
   "outputs": [],
   "source": [
    "%matplotlib inline\n",
    "import warnings\n",
    "warnings.filterwarnings(\"ignore\")\n",
    "\n",
    "\n",
    "import sqlite3\n",
    "import pandas as pd\n",
    "import numpy as np\n",
    "import nltk\n",
    "import string\n",
    "import matplotlib.pyplot as plt\n",
    "import seaborn as sns\n",
    "from sklearn.feature_extraction.text import TfidfTransformer\n",
    "from sklearn.feature_extraction.text import TfidfVectorizer\n",
    "\n",
    "from sklearn.feature_extraction.text import CountVectorizer\n",
    "from sklearn.metrics import confusion_matrix\n",
    "from sklearn import metrics\n",
    "from sklearn.metrics import roc_curve, auc\n",
    "from nltk.stem.porter import PorterStemmer\n",
    "\n",
    "import re\n",
    "# Tutorial about Python regular expressions: https://pymotw.com/2/re/\n",
    "import string\n",
    "from nltk.corpus import stopwords\n",
    "from nltk.stem import PorterStemmer\n",
    "from nltk.stem.wordnet import WordNetLemmatizer\n",
    "\n",
    "from gensim.models import Word2Vec\n",
    "from gensim.models import KeyedVectors\n",
    "import pickle\n",
    "\n",
    "from tqdm import tqdm\n",
    "import os"
   ]
  },
  {
   "cell_type": "code",
   "execution_count": 121,
   "metadata": {},
   "outputs": [
    {
     "name": "stdout",
     "output_type": "stream",
     "text": [
      "Number of data points in our data (10000, 10)\n"
     ]
    },
    {
     "data": {
      "text/html": [
       "<div>\n",
       "<style scoped>\n",
       "    .dataframe tbody tr th:only-of-type {\n",
       "        vertical-align: middle;\n",
       "    }\n",
       "\n",
       "    .dataframe tbody tr th {\n",
       "        vertical-align: top;\n",
       "    }\n",
       "\n",
       "    .dataframe thead th {\n",
       "        text-align: right;\n",
       "    }\n",
       "</style>\n",
       "<table border=\"1\" class=\"dataframe\">\n",
       "  <thead>\n",
       "    <tr style=\"text-align: right;\">\n",
       "      <th></th>\n",
       "      <th>Id</th>\n",
       "      <th>ProductId</th>\n",
       "      <th>UserId</th>\n",
       "      <th>ProfileName</th>\n",
       "      <th>HelpfulnessNumerator</th>\n",
       "      <th>HelpfulnessDenominator</th>\n",
       "      <th>Score</th>\n",
       "      <th>Time</th>\n",
       "      <th>Summary</th>\n",
       "      <th>Text</th>\n",
       "    </tr>\n",
       "  </thead>\n",
       "  <tbody>\n",
       "    <tr>\n",
       "      <th>0</th>\n",
       "      <td>1</td>\n",
       "      <td>B001E4KFG0</td>\n",
       "      <td>A3SGXH7AUHU8GW</td>\n",
       "      <td>delmartian</td>\n",
       "      <td>1</td>\n",
       "      <td>1</td>\n",
       "      <td>1</td>\n",
       "      <td>1303862400</td>\n",
       "      <td>Good Quality Dog Food</td>\n",
       "      <td>I have bought several of the Vitality canned d...</td>\n",
       "    </tr>\n",
       "    <tr>\n",
       "      <th>1</th>\n",
       "      <td>2</td>\n",
       "      <td>B00813GRG4</td>\n",
       "      <td>A1D87F6ZCVE5NK</td>\n",
       "      <td>dll pa</td>\n",
       "      <td>0</td>\n",
       "      <td>0</td>\n",
       "      <td>0</td>\n",
       "      <td>1346976000</td>\n",
       "      <td>Not as Advertised</td>\n",
       "      <td>Product arrived labeled as Jumbo Salted Peanut...</td>\n",
       "    </tr>\n",
       "    <tr>\n",
       "      <th>2</th>\n",
       "      <td>3</td>\n",
       "      <td>B000LQOCH0</td>\n",
       "      <td>ABXLMWJIXXAIN</td>\n",
       "      <td>Natalia Corres \"Natalia Corres\"</td>\n",
       "      <td>1</td>\n",
       "      <td>1</td>\n",
       "      <td>1</td>\n",
       "      <td>1219017600</td>\n",
       "      <td>\"Delight\" says it all</td>\n",
       "      <td>This is a confection that has been around a fe...</td>\n",
       "    </tr>\n",
       "  </tbody>\n",
       "</table>\n",
       "</div>"
      ],
      "text/plain": [
       "   Id   ProductId          UserId                      ProfileName  \\\n",
       "0   1  B001E4KFG0  A3SGXH7AUHU8GW                       delmartian   \n",
       "1   2  B00813GRG4  A1D87F6ZCVE5NK                           dll pa   \n",
       "2   3  B000LQOCH0   ABXLMWJIXXAIN  Natalia Corres \"Natalia Corres\"   \n",
       "\n",
       "   HelpfulnessNumerator  HelpfulnessDenominator  Score        Time  \\\n",
       "0                     1                       1      1  1303862400   \n",
       "1                     0                       0      0  1346976000   \n",
       "2                     1                       1      1  1219017600   \n",
       "\n",
       "                 Summary                                               Text  \n",
       "0  Good Quality Dog Food  I have bought several of the Vitality canned d...  \n",
       "1      Not as Advertised  Product arrived labeled as Jumbo Salted Peanut...  \n",
       "2  \"Delight\" says it all  This is a confection that has been around a fe...  "
      ]
     },
     "execution_count": 121,
     "metadata": {},
     "output_type": "execute_result"
    }
   ],
   "source": [
    "# using SQLite Table to read data.\n",
    "#con = sqlite3.connect('database.sqlite') \n",
    "\n",
    "# using the SQL Table to read data.\n",
    "import mysql.connector\n",
    "con=mysql.connector.connect(\n",
    "    host=\"localhost\",\n",
    "    user=\"root\",\n",
    "    passwd=\"Mother9922*\",\n",
    "    database='data'\n",
    "    )\n",
    "\n",
    "# filtering only positive and negative reviews i.e. \n",
    "# not taking into consideration those reviews with Score=3\n",
    "# SELECT * FROM Reviews WHERE Score != 3 LIMIT 500000, will give top 500000 data points\n",
    "# you can change the number to any other number based on your computing power\n",
    "\n",
    "# filtered_data = pd.read_sql_query(\"\"\" SELECT * FROM Reviews WHERE Score != 3 LIMIT 5000\"\"\", con) \n",
    "# for tsne assignment you can take 5k data points\n",
    "\n",
    "filtered_data = pd.read_sql_query(\"\"\" SELECT * FROM Reviews WHERE Score != 3 LIMIT 10000\"\"\", con) \n",
    "\n",
    "# Give reviews with Score>3 a positive rating(1), and reviews with a score<3 a negative rating(0).\n",
    "def partition(x):\n",
    "    if x < 3:\n",
    "        return 0\n",
    "    return 1\n",
    "\n",
    "#changing reviews with score less than 3 to be positive and vice-versa\n",
    "actualScore = filtered_data['Score']\n",
    "positiveNegative = actualScore.map(partition) \n",
    "filtered_data['Score'] = positiveNegative\n",
    "print(\"Number of data points in our data\", filtered_data.shape)\n",
    "filtered_data.head(3)"
   ]
  },
  {
   "cell_type": "code",
   "execution_count": 122,
   "metadata": {},
   "outputs": [],
   "source": [
    "display = pd.read_sql_query(\"\"\"\n",
    "SELECT UserId, ProductId, ProfileName, Time, Score, Text, COUNT(*)\n",
    "FROM Reviews\n",
    "GROUP BY UserId\n",
    "HAVING COUNT(*)>1\n",
    "\"\"\", con)"
   ]
  },
  {
   "cell_type": "code",
   "execution_count": 123,
   "metadata": {
    "scrolled": true
   },
   "outputs": [
    {
     "name": "stdout",
     "output_type": "stream",
     "text": [
      "(80667, 7)\n"
     ]
    },
    {
     "data": {
      "text/html": [
       "<div>\n",
       "<style scoped>\n",
       "    .dataframe tbody tr th:only-of-type {\n",
       "        vertical-align: middle;\n",
       "    }\n",
       "\n",
       "    .dataframe tbody tr th {\n",
       "        vertical-align: top;\n",
       "    }\n",
       "\n",
       "    .dataframe thead th {\n",
       "        text-align: right;\n",
       "    }\n",
       "</style>\n",
       "<table border=\"1\" class=\"dataframe\">\n",
       "  <thead>\n",
       "    <tr style=\"text-align: right;\">\n",
       "      <th></th>\n",
       "      <th>UserId</th>\n",
       "      <th>ProductId</th>\n",
       "      <th>ProfileName</th>\n",
       "      <th>Time</th>\n",
       "      <th>Score</th>\n",
       "      <th>Text</th>\n",
       "      <th>COUNT(*)</th>\n",
       "    </tr>\n",
       "  </thead>\n",
       "  <tbody>\n",
       "    <tr>\n",
       "      <th>0</th>\n",
       "      <td>ABXLMWJIXXAIN</td>\n",
       "      <td>B000LQOCH0</td>\n",
       "      <td>Natalia Corres \"Natalia Corres\"</td>\n",
       "      <td>1219017600</td>\n",
       "      <td>4</td>\n",
       "      <td>This is a confection that has been around a fe...</td>\n",
       "      <td>3</td>\n",
       "    </tr>\n",
       "    <tr>\n",
       "      <th>1</th>\n",
       "      <td>A395BORC6FGVXV</td>\n",
       "      <td>B000UA0QIQ</td>\n",
       "      <td>Karl</td>\n",
       "      <td>1307923200</td>\n",
       "      <td>2</td>\n",
       "      <td>If you are looking for the secret ingredient i...</td>\n",
       "      <td>3</td>\n",
       "    </tr>\n",
       "    <tr>\n",
       "      <th>2</th>\n",
       "      <td>A1UQRSCLF8GW1T</td>\n",
       "      <td>B006K2ZZ7K</td>\n",
       "      <td>Michael D. Bigham \"M. Wassir\"</td>\n",
       "      <td>1350777600</td>\n",
       "      <td>5</td>\n",
       "      <td>Great taffy at a great price.  There was a wid...</td>\n",
       "      <td>2</td>\n",
       "    </tr>\n",
       "    <tr>\n",
       "      <th>3</th>\n",
       "      <td>A1SP2KVKFXXRU1</td>\n",
       "      <td>B006K2ZZ7K</td>\n",
       "      <td>David C. Sullivan</td>\n",
       "      <td>1340150400</td>\n",
       "      <td>5</td>\n",
       "      <td>This saltwater taffy had great flavors and was...</td>\n",
       "      <td>2</td>\n",
       "    </tr>\n",
       "    <tr>\n",
       "      <th>4</th>\n",
       "      <td>A1MZYO9TZK0BBI</td>\n",
       "      <td>B000E7L2R4</td>\n",
       "      <td>R. James</td>\n",
       "      <td>1322006400</td>\n",
       "      <td>5</td>\n",
       "      <td>Right now I'm mostly just sprouting this so my...</td>\n",
       "      <td>2</td>\n",
       "    </tr>\n",
       "  </tbody>\n",
       "</table>\n",
       "</div>"
      ],
      "text/plain": [
       "           UserId   ProductId                      ProfileName        Time  \\\n",
       "0   ABXLMWJIXXAIN  B000LQOCH0  Natalia Corres \"Natalia Corres\"  1219017600   \n",
       "1  A395BORC6FGVXV  B000UA0QIQ                             Karl  1307923200   \n",
       "2  A1UQRSCLF8GW1T  B006K2ZZ7K    Michael D. Bigham \"M. Wassir\"  1350777600   \n",
       "3  A1SP2KVKFXXRU1  B006K2ZZ7K                David C. Sullivan  1340150400   \n",
       "4  A1MZYO9TZK0BBI  B000E7L2R4                         R. James  1322006400   \n",
       "\n",
       "   Score                                               Text  COUNT(*)  \n",
       "0      4  This is a confection that has been around a fe...         3  \n",
       "1      2  If you are looking for the secret ingredient i...         3  \n",
       "2      5  Great taffy at a great price.  There was a wid...         2  \n",
       "3      5  This saltwater taffy had great flavors and was...         2  \n",
       "4      5  Right now I'm mostly just sprouting this so my...         2  "
      ]
     },
     "execution_count": 123,
     "metadata": {},
     "output_type": "execute_result"
    }
   ],
   "source": [
    "print(display.shape)\n",
    "display.head()"
   ]
  },
  {
   "cell_type": "code",
   "execution_count": 124,
   "metadata": {},
   "outputs": [
    {
     "data": {
      "text/html": [
       "<div>\n",
       "<style scoped>\n",
       "    .dataframe tbody tr th:only-of-type {\n",
       "        vertical-align: middle;\n",
       "    }\n",
       "\n",
       "    .dataframe tbody tr th {\n",
       "        vertical-align: top;\n",
       "    }\n",
       "\n",
       "    .dataframe thead th {\n",
       "        text-align: right;\n",
       "    }\n",
       "</style>\n",
       "<table border=\"1\" class=\"dataframe\">\n",
       "  <thead>\n",
       "    <tr style=\"text-align: right;\">\n",
       "      <th></th>\n",
       "      <th>UserId</th>\n",
       "      <th>ProductId</th>\n",
       "      <th>ProfileName</th>\n",
       "      <th>Time</th>\n",
       "      <th>Score</th>\n",
       "      <th>Text</th>\n",
       "      <th>COUNT(*)</th>\n",
       "    </tr>\n",
       "  </thead>\n",
       "  <tbody>\n",
       "    <tr>\n",
       "      <th>18816</th>\n",
       "      <td>AZY10LLTJ71NX</td>\n",
       "      <td>B001ATMQK2</td>\n",
       "      <td>undertheshrine \"undertheshrine\"</td>\n",
       "      <td>1296691200</td>\n",
       "      <td>5</td>\n",
       "      <td>I bought this 6 pack because for the price tha...</td>\n",
       "      <td>5</td>\n",
       "    </tr>\n",
       "  </tbody>\n",
       "</table>\n",
       "</div>"
      ],
      "text/plain": [
       "              UserId   ProductId                      ProfileName        Time  \\\n",
       "18816  AZY10LLTJ71NX  B001ATMQK2  undertheshrine \"undertheshrine\"  1296691200   \n",
       "\n",
       "       Score                                               Text  COUNT(*)  \n",
       "18816      5  I bought this 6 pack because for the price tha...         5  "
      ]
     },
     "execution_count": 124,
     "metadata": {},
     "output_type": "execute_result"
    }
   ],
   "source": [
    "display[display['UserId']=='AZY10LLTJ71NX']"
   ]
  },
  {
   "cell_type": "code",
   "execution_count": 125,
   "metadata": {},
   "outputs": [
    {
     "data": {
      "text/plain": [
       "393061"
      ]
     },
     "execution_count": 125,
     "metadata": {},
     "output_type": "execute_result"
    }
   ],
   "source": [
    "display['COUNT(*)'].sum()"
   ]
  },
  {
   "cell_type": "markdown",
   "metadata": {},
   "source": [
    "#  [2] Exploratory Data Analysis"
   ]
  },
  {
   "cell_type": "markdown",
   "metadata": {},
   "source": [
    "## [2.1] Data Cleaning: Deduplication\n",
    "\n",
    "It is observed (as shown in the table below) that the reviews data had many duplicate entries. Hence it was necessary to remove duplicates in order to get unbiased results for the analysis of the data.  Following is an example:"
   ]
  },
  {
   "cell_type": "code",
   "execution_count": 126,
   "metadata": {
    "scrolled": false
   },
   "outputs": [
    {
     "data": {
      "text/html": [
       "<div>\n",
       "<style scoped>\n",
       "    .dataframe tbody tr th:only-of-type {\n",
       "        vertical-align: middle;\n",
       "    }\n",
       "\n",
       "    .dataframe tbody tr th {\n",
       "        vertical-align: top;\n",
       "    }\n",
       "\n",
       "    .dataframe thead th {\n",
       "        text-align: right;\n",
       "    }\n",
       "</style>\n",
       "<table border=\"1\" class=\"dataframe\">\n",
       "  <thead>\n",
       "    <tr style=\"text-align: right;\">\n",
       "      <th></th>\n",
       "      <th>Id</th>\n",
       "      <th>ProductId</th>\n",
       "      <th>UserId</th>\n",
       "      <th>ProfileName</th>\n",
       "      <th>HelpfulnessNumerator</th>\n",
       "      <th>HelpfulnessDenominator</th>\n",
       "      <th>Score</th>\n",
       "      <th>Time</th>\n",
       "      <th>Summary</th>\n",
       "      <th>Text</th>\n",
       "    </tr>\n",
       "  </thead>\n",
       "  <tbody>\n",
       "    <tr>\n",
       "      <th>0</th>\n",
       "      <td>78445</td>\n",
       "      <td>B000HDL1RQ</td>\n",
       "      <td>AR5J8UI46CURR</td>\n",
       "      <td>Geetha Krishnan</td>\n",
       "      <td>2</td>\n",
       "      <td>2</td>\n",
       "      <td>5</td>\n",
       "      <td>1199577600</td>\n",
       "      <td>LOACKER QUADRATINI VANILLA WAFERS</td>\n",
       "      <td>DELICIOUS WAFERS. I FIND THAT EUROPEAN WAFERS ...</td>\n",
       "    </tr>\n",
       "    <tr>\n",
       "      <th>1</th>\n",
       "      <td>138317</td>\n",
       "      <td>B000HDOPYC</td>\n",
       "      <td>AR5J8UI46CURR</td>\n",
       "      <td>Geetha Krishnan</td>\n",
       "      <td>2</td>\n",
       "      <td>2</td>\n",
       "      <td>5</td>\n",
       "      <td>1199577600</td>\n",
       "      <td>LOACKER QUADRATINI VANILLA WAFERS</td>\n",
       "      <td>DELICIOUS WAFERS. I FIND THAT EUROPEAN WAFERS ...</td>\n",
       "    </tr>\n",
       "    <tr>\n",
       "      <th>2</th>\n",
       "      <td>138277</td>\n",
       "      <td>B000HDOPYM</td>\n",
       "      <td>AR5J8UI46CURR</td>\n",
       "      <td>Geetha Krishnan</td>\n",
       "      <td>2</td>\n",
       "      <td>2</td>\n",
       "      <td>5</td>\n",
       "      <td>1199577600</td>\n",
       "      <td>LOACKER QUADRATINI VANILLA WAFERS</td>\n",
       "      <td>DELICIOUS WAFERS. I FIND THAT EUROPEAN WAFERS ...</td>\n",
       "    </tr>\n",
       "    <tr>\n",
       "      <th>3</th>\n",
       "      <td>73791</td>\n",
       "      <td>B000HDOPZG</td>\n",
       "      <td>AR5J8UI46CURR</td>\n",
       "      <td>Geetha Krishnan</td>\n",
       "      <td>2</td>\n",
       "      <td>2</td>\n",
       "      <td>5</td>\n",
       "      <td>1199577600</td>\n",
       "      <td>LOACKER QUADRATINI VANILLA WAFERS</td>\n",
       "      <td>DELICIOUS WAFERS. I FIND THAT EUROPEAN WAFERS ...</td>\n",
       "    </tr>\n",
       "    <tr>\n",
       "      <th>4</th>\n",
       "      <td>155049</td>\n",
       "      <td>B000PAQ75C</td>\n",
       "      <td>AR5J8UI46CURR</td>\n",
       "      <td>Geetha Krishnan</td>\n",
       "      <td>2</td>\n",
       "      <td>2</td>\n",
       "      <td>5</td>\n",
       "      <td>1199577600</td>\n",
       "      <td>LOACKER QUADRATINI VANILLA WAFERS</td>\n",
       "      <td>DELICIOUS WAFERS. I FIND THAT EUROPEAN WAFERS ...</td>\n",
       "    </tr>\n",
       "  </tbody>\n",
       "</table>\n",
       "</div>"
      ],
      "text/plain": [
       "       Id   ProductId         UserId      ProfileName  HelpfulnessNumerator  \\\n",
       "0   78445  B000HDL1RQ  AR5J8UI46CURR  Geetha Krishnan                     2   \n",
       "1  138317  B000HDOPYC  AR5J8UI46CURR  Geetha Krishnan                     2   \n",
       "2  138277  B000HDOPYM  AR5J8UI46CURR  Geetha Krishnan                     2   \n",
       "3   73791  B000HDOPZG  AR5J8UI46CURR  Geetha Krishnan                     2   \n",
       "4  155049  B000PAQ75C  AR5J8UI46CURR  Geetha Krishnan                     2   \n",
       "\n",
       "   HelpfulnessDenominator  Score        Time  \\\n",
       "0                       2      5  1199577600   \n",
       "1                       2      5  1199577600   \n",
       "2                       2      5  1199577600   \n",
       "3                       2      5  1199577600   \n",
       "4                       2      5  1199577600   \n",
       "\n",
       "                             Summary  \\\n",
       "0  LOACKER QUADRATINI VANILLA WAFERS   \n",
       "1  LOACKER QUADRATINI VANILLA WAFERS   \n",
       "2  LOACKER QUADRATINI VANILLA WAFERS   \n",
       "3  LOACKER QUADRATINI VANILLA WAFERS   \n",
       "4  LOACKER QUADRATINI VANILLA WAFERS   \n",
       "\n",
       "                                                Text  \n",
       "0  DELICIOUS WAFERS. I FIND THAT EUROPEAN WAFERS ...  \n",
       "1  DELICIOUS WAFERS. I FIND THAT EUROPEAN WAFERS ...  \n",
       "2  DELICIOUS WAFERS. I FIND THAT EUROPEAN WAFERS ...  \n",
       "3  DELICIOUS WAFERS. I FIND THAT EUROPEAN WAFERS ...  \n",
       "4  DELICIOUS WAFERS. I FIND THAT EUROPEAN WAFERS ...  "
      ]
     },
     "execution_count": 126,
     "metadata": {},
     "output_type": "execute_result"
    }
   ],
   "source": [
    "display= pd.read_sql_query(\"\"\"\n",
    "SELECT *\n",
    "FROM Reviews\n",
    "WHERE Score != 3 AND UserId=\"AR5J8UI46CURR\"\n",
    "ORDER BY ProductID\n",
    "\"\"\", con)\n",
    "display.head()"
   ]
  },
  {
   "cell_type": "markdown",
   "metadata": {},
   "source": [
    "As it can be seen above that same user has multiple reviews with same values for HelpfulnessNumerator, HelpfulnessDenominator, Score, Time, Summary and Text and on doing analysis it was found that <br>\n",
    "<br> \n",
    "ProductId=B000HDOPZG was Loacker Quadratini Vanilla Wafer Cookies, 8.82-Ounce Packages (Pack of 8)<br>\n",
    "<br> \n",
    "ProductId=B000HDL1RQ was Loacker Quadratini Lemon Wafer Cookies, 8.82-Ounce Packages (Pack of 8) and so on<br>\n",
    "\n",
    "It was inferred after analysis that reviews with same parameters other than ProductId belonged to the same product just having different flavour or quantity. Hence in order to reduce redundancy it was decided to eliminate the rows having same parameters.<br>\n",
    "\n",
    "The method used for the same was that we first sort the data according to ProductId and then just keep the first similar product review and delelte the others. for eg. in the above just the review for ProductId=B000HDL1RQ remains. This method ensures that there is only one representative for each product and deduplication without sorting would lead to possibility of different representatives still existing for the same product."
   ]
  },
  {
   "cell_type": "code",
   "execution_count": 127,
   "metadata": {},
   "outputs": [],
   "source": [
    "#Sorting data according to ProductId in ascending order\n",
    "sorted_data=filtered_data.sort_values('ProductId', axis=0, ascending=True, inplace=False, kind='quicksort', na_position='last')"
   ]
  },
  {
   "cell_type": "code",
   "execution_count": 128,
   "metadata": {},
   "outputs": [
    {
     "data": {
      "text/plain": [
       "(9564, 10)"
      ]
     },
     "execution_count": 128,
     "metadata": {},
     "output_type": "execute_result"
    }
   ],
   "source": [
    "#Deduplication of entries\n",
    "final=sorted_data.drop_duplicates(subset={\"UserId\",\"ProfileName\",\"Time\",\"Text\"}, keep='first', inplace=False)\n",
    "final.shape"
   ]
  },
  {
   "cell_type": "code",
   "execution_count": 129,
   "metadata": {},
   "outputs": [
    {
     "data": {
      "text/plain": [
       "95.64"
      ]
     },
     "execution_count": 129,
     "metadata": {},
     "output_type": "execute_result"
    }
   ],
   "source": [
    "#Checking to see how much % of data still remains\n",
    "(final['Id'].size*1.0)/(filtered_data['Id'].size*1.0)*100"
   ]
  },
  {
   "cell_type": "markdown",
   "metadata": {},
   "source": [
    "<b>Observation:-</b> It was also seen that in two rows given below the value of HelpfulnessNumerator is greater than HelpfulnessDenominator which is not practically possible hence these two rows too are removed from calcualtions"
   ]
  },
  {
   "cell_type": "code",
   "execution_count": 130,
   "metadata": {},
   "outputs": [
    {
     "data": {
      "text/html": [
       "<div>\n",
       "<style scoped>\n",
       "    .dataframe tbody tr th:only-of-type {\n",
       "        vertical-align: middle;\n",
       "    }\n",
       "\n",
       "    .dataframe tbody tr th {\n",
       "        vertical-align: top;\n",
       "    }\n",
       "\n",
       "    .dataframe thead th {\n",
       "        text-align: right;\n",
       "    }\n",
       "</style>\n",
       "<table border=\"1\" class=\"dataframe\">\n",
       "  <thead>\n",
       "    <tr style=\"text-align: right;\">\n",
       "      <th></th>\n",
       "      <th>Id</th>\n",
       "      <th>ProductId</th>\n",
       "      <th>UserId</th>\n",
       "      <th>ProfileName</th>\n",
       "      <th>HelpfulnessNumerator</th>\n",
       "      <th>HelpfulnessDenominator</th>\n",
       "      <th>Score</th>\n",
       "      <th>Time</th>\n",
       "      <th>Summary</th>\n",
       "      <th>Text</th>\n",
       "    </tr>\n",
       "  </thead>\n",
       "  <tbody>\n",
       "    <tr>\n",
       "      <th>0</th>\n",
       "      <td>64422</td>\n",
       "      <td>B000MIDROQ</td>\n",
       "      <td>A161DK06JJMCYF</td>\n",
       "      <td>J. E. Stephens \"Jeanne\"</td>\n",
       "      <td>3</td>\n",
       "      <td>1</td>\n",
       "      <td>5</td>\n",
       "      <td>1224892800</td>\n",
       "      <td>Bought This for My Son at College</td>\n",
       "      <td>My son loves spaghetti so I didn't hesitate or...</td>\n",
       "    </tr>\n",
       "    <tr>\n",
       "      <th>1</th>\n",
       "      <td>44737</td>\n",
       "      <td>B001EQ55RW</td>\n",
       "      <td>A2V0I904FH7ABY</td>\n",
       "      <td>Ram</td>\n",
       "      <td>3</td>\n",
       "      <td>2</td>\n",
       "      <td>4</td>\n",
       "      <td>1212883200</td>\n",
       "      <td>Pure cocoa taste with crunchy almonds inside</td>\n",
       "      <td>It was almost a 'love at first bite' - the per...</td>\n",
       "    </tr>\n",
       "  </tbody>\n",
       "</table>\n",
       "</div>"
      ],
      "text/plain": [
       "      Id   ProductId          UserId              ProfileName  \\\n",
       "0  64422  B000MIDROQ  A161DK06JJMCYF  J. E. Stephens \"Jeanne\"   \n",
       "1  44737  B001EQ55RW  A2V0I904FH7ABY                      Ram   \n",
       "\n",
       "   HelpfulnessNumerator  HelpfulnessDenominator  Score        Time  \\\n",
       "0                     3                       1      5  1224892800   \n",
       "1                     3                       2      4  1212883200   \n",
       "\n",
       "                                        Summary  \\\n",
       "0             Bought This for My Son at College   \n",
       "1  Pure cocoa taste with crunchy almonds inside   \n",
       "\n",
       "                                                Text  \n",
       "0  My son loves spaghetti so I didn't hesitate or...  \n",
       "1  It was almost a 'love at first bite' - the per...  "
      ]
     },
     "execution_count": 130,
     "metadata": {},
     "output_type": "execute_result"
    }
   ],
   "source": [
    "display= pd.read_sql_query(\"\"\"\n",
    "SELECT *\n",
    "FROM Reviews\n",
    "WHERE Score != 3 AND Id=44737 OR Id=64422\n",
    "ORDER BY ProductID\n",
    "\"\"\", con)\n",
    "\n",
    "display.head()"
   ]
  },
  {
   "cell_type": "code",
   "execution_count": 131,
   "metadata": {},
   "outputs": [],
   "source": [
    "final=final[final.HelpfulnessNumerator<=final.HelpfulnessDenominator]"
   ]
  },
  {
   "cell_type": "code",
   "execution_count": 132,
   "metadata": {},
   "outputs": [
    {
     "name": "stdout",
     "output_type": "stream",
     "text": [
      "(9564, 10)\n"
     ]
    },
    {
     "data": {
      "text/plain": [
       "1    7976\n",
       "0    1588\n",
       "Name: Score, dtype: int64"
      ]
     },
     "execution_count": 132,
     "metadata": {},
     "output_type": "execute_result"
    }
   ],
   "source": [
    "#Before starting the next phase of preprocessing lets see the number of entries left\n",
    "print(final.shape)\n",
    "\n",
    "#How many positive and negative reviews are present in our dataset?\n",
    "final['Score'].value_counts()"
   ]
  },
  {
   "cell_type": "markdown",
   "metadata": {},
   "source": [
    "#  [3] Preprocessing"
   ]
  },
  {
   "cell_type": "markdown",
   "metadata": {},
   "source": [
    "## [3.1].  Preprocessing Review Text\n",
    "\n",
    "Now that we have finished deduplication our data requires some preprocessing before we go on further with analysis and making the prediction model.\n",
    "\n",
    "Hence in the Preprocessing phase we do the following in the order below:-\n",
    "\n",
    "1. Begin by removing the html tags\n",
    "2. Remove any punctuations or limited set of special characters like , or . or # etc.\n",
    "3. Check if the word is made up of english letters and is not alpha-numeric\n",
    "4. Check to see if the length of the word is greater than 2 (as it was researched that there is no adjective in 2-letters)\n",
    "5. Convert the word to lowercase\n",
    "6. Remove Stopwords\n",
    "7. Finally Snowball Stemming the word (it was obsereved to be better than Porter Stemming)<br>\n",
    "\n",
    "After which we collect the words used to describe positive and negative reviews"
   ]
  },
  {
   "cell_type": "code",
   "execution_count": 133,
   "metadata": {},
   "outputs": [
    {
     "name": "stdout",
     "output_type": "stream",
     "text": [
      "262-TRIAL-Got a free package of these with a bottle of bloody mary mix I bought from the seller, and the advertising worked..lol,  I tried them, and shared them with 2 buddies, and we all loved them...  So im here to buy more, and noticed there were no reviews yet,...  well now there is.  They are Hot,  but not \"burn your mouth forever hot\"  its a nice temp...  Perfect for us.. 164\n",
      "==================================================\n",
      "This is a very good snack that I feel great about offering my 10 month old.  She can easily  pick up the small pieces and definitely enjoys the apple cinnamon taste.  My 5 year old loves them as well!  I would definitely recommend these to anyone with small (or larger) kids.  :)\n",
      "==================================================\n",
      "These spicy chips have a lot of great flavor but be warned, you will be left with some stanky breath afterwards! The first time I ate these was at night and then even after brushing and flossing I could taste them in my mouth the next morning. So just be careful about when you eat them, especially if you will be hanging out with people later in the day.\n",
      "==================================================\n",
      "These tablets definitely made things sweeter -- like lemons, limes, and grapefruit.  But it wasn't to the point of sheer amazement.  They also had an interesting effect on cheeses and vinegar, but still did virtually nothing for beer and wine. The tablets are a bit pricey but they do work.  If you've got extra money, sure, give them a try, but if you're looking for some amazing way to get your kids to eat broccoli or something along those lines then this is not the answer. Fun experiment, but not life-changing. :)\n",
      "==================================================\n"
     ]
    }
   ],
   "source": [
    "# printing some random reviews\n",
    "sent_0 = final['Text'].values[0]\n",
    "print(sent_0)\n",
    "print(\"=\"*50)\n",
    "\n",
    "sent_1000 = final['Text'].values[1000]\n",
    "print(sent_1000)\n",
    "print(\"=\"*50)\n",
    "\n",
    "sent_1500 = final['Text'].values[1500]\n",
    "print(sent_1500)\n",
    "print(\"=\"*50)\n",
    "\n",
    "sent_4900 = final['Text'].values[4900]\n",
    "print(sent_4900)\n",
    "print(\"=\"*50)"
   ]
  },
  {
   "cell_type": "code",
   "execution_count": 134,
   "metadata": {},
   "outputs": [
    {
     "name": "stdout",
     "output_type": "stream",
     "text": [
      "262-TRIAL-Got a free package of these with a bottle of bloody mary mix I bought from the seller, and the advertising worked..lol,  I tried them, and shared them with 2 buddies, and we all loved them...  So im here to buy more, and noticed there were no reviews yet,...  well now there is.  They are Hot,  but not \"burn your mouth forever hot\"  its a nice temp...  Perfect for us.. 164\n"
     ]
    }
   ],
   "source": [
    "# remove urls from text python: https://stackoverflow.com/a/40823105/4084039\n",
    "sent_0 = re.sub(r\"http\\S+\", \"\", sent_0)\n",
    "sent_1000 = re.sub(r\"http\\S+\", \"\", sent_1000)\n",
    "sent_150 = re.sub(r\"http\\S+\", \"\", sent_1500)\n",
    "sent_4900 = re.sub(r\"http\\S+\", \"\", sent_4900)\n",
    "\n",
    "print(sent_0)"
   ]
  },
  {
   "cell_type": "code",
   "execution_count": 135,
   "metadata": {},
   "outputs": [
    {
     "name": "stdout",
     "output_type": "stream",
     "text": [
      "262-TRIAL-Got a free package of these with a bottle of bloody mary mix I bought from the seller, and the advertising worked..lol,  I tried them, and shared them with 2 buddies, and we all loved them...  So im here to buy more, and noticed there were no reviews yet,...  well now there is.  They are Hot,  but not \"burn your mouth forever hot\"  its a nice temp...  Perfect for us.. 164\n",
      "==================================================\n",
      "This is a very good snack that I feel great about offering my 10 month old.  She can easily  pick up the small pieces and definitely enjoys the apple cinnamon taste.  My 5 year old loves them as well!  I would definitely recommend these to anyone with small (or larger) kids.  :)\n",
      "==================================================\n",
      "These spicy chips have a lot of great flavor but be warned, you will be left with some stanky breath afterwards! The first time I ate these was at night and then even after brushing and flossing I could taste them in my mouth the next morning. So just be careful about when you eat them, especially if you will be hanging out with people later in the day.\n",
      "==================================================\n",
      "These tablets definitely made things sweeter -- like lemons, limes, and grapefruit.  But it wasn't to the point of sheer amazement.  They also had an interesting effect on cheeses and vinegar, but still did virtually nothing for beer and wine. The tablets are a bit pricey but they do work.  If you've got extra money, sure, give them a try, but if you're looking for some amazing way to get your kids to eat broccoli or something along those lines then this is not the answer. Fun experiment, but not life-changing. :)\n"
     ]
    }
   ],
   "source": [
    "# https://stackoverflow.com/questions/16206380/python-beautifulsoup-how-to-remove-all-tags-from-an-element\n",
    "from bs4 import BeautifulSoup\n",
    "\n",
    "soup = BeautifulSoup(sent_0, 'lxml')\n",
    "text = soup.get_text()\n",
    "print(text)\n",
    "print(\"=\"*50)\n",
    "\n",
    "soup = BeautifulSoup(sent_1000, 'lxml')\n",
    "text = soup.get_text()\n",
    "print(text)\n",
    "print(\"=\"*50)\n",
    "\n",
    "soup = BeautifulSoup(sent_1500, 'lxml')\n",
    "text = soup.get_text()\n",
    "print(text)\n",
    "print(\"=\"*50)\n",
    "\n",
    "soup = BeautifulSoup(sent_4900, 'lxml')\n",
    "text = soup.get_text()\n",
    "print(text)"
   ]
  },
  {
   "cell_type": "code",
   "execution_count": 136,
   "metadata": {},
   "outputs": [],
   "source": [
    "# https://stackoverflow.com/a/47091490/4084039\n",
    "import re\n",
    "\n",
    "def decontracted(phrase):\n",
    "    # specific\n",
    "    phrase = re.sub(r\"won't\", \"will not\", phrase)\n",
    "    phrase = re.sub(r\"can\\'t\", \"can not\", phrase)\n",
    "\n",
    "    # general\n",
    "    phrase = re.sub(r\"n\\'t\", \" not\", phrase)\n",
    "    phrase = re.sub(r\"\\'re\", \" are\", phrase)\n",
    "    phrase = re.sub(r\"\\'s\", \" is\", phrase)\n",
    "    phrase = re.sub(r\"\\'d\", \" would\", phrase)\n",
    "    phrase = re.sub(r\"\\'ll\", \" will\", phrase)\n",
    "    phrase = re.sub(r\"\\'t\", \" not\", phrase)\n",
    "    phrase = re.sub(r\"\\'ve\", \" have\", phrase)\n",
    "    phrase = re.sub(r\"\\'m\", \" am\", phrase)\n",
    "    return phrase"
   ]
  },
  {
   "cell_type": "code",
   "execution_count": 137,
   "metadata": {},
   "outputs": [
    {
     "name": "stdout",
     "output_type": "stream",
     "text": [
      "These spicy chips have a lot of great flavor but be warned, you will be left with some stanky breath afterwards! The first time I ate these was at night and then even after brushing and flossing I could taste them in my mouth the next morning. So just be careful about when you eat them, especially if you will be hanging out with people later in the day.\n",
      "==================================================\n"
     ]
    }
   ],
   "source": [
    "sent_1500 = decontracted(sent_1500)\n",
    "print(sent_1500)\n",
    "print(\"=\"*50)"
   ]
  },
  {
   "cell_type": "code",
   "execution_count": 138,
   "metadata": {},
   "outputs": [
    {
     "name": "stdout",
     "output_type": "stream",
     "text": [
      "a free package of these with a bottle of bloody mary mix I bought from the seller, and the advertising worked..lol,  I tried them, and shared them with  buddies, and we all loved them...  So im here to buy more, and noticed there were no reviews yet,...  well now there is.  They are Hot,  but not \"burn your mouth forever hot\"  its a nice temp...  Perfect for us..\n"
     ]
    }
   ],
   "source": [
    "#remove words with numbers python: https://stackoverflow.com/a/18082370/4084039\n",
    "sent_0 = re.sub(\"\\S*\\d\\S*\", \"\", sent_0).strip()\n",
    "print(sent_0)"
   ]
  },
  {
   "cell_type": "code",
   "execution_count": 139,
   "metadata": {},
   "outputs": [
    {
     "name": "stdout",
     "output_type": "stream",
     "text": [
      "These spicy chips have a lot of great flavor but be warned you will be left with some stanky breath afterwards The first time I ate these was at night and then even after brushing and flossing I could taste them in my mouth the next morning So just be careful about when you eat them especially if you will be hanging out with people later in the day \n"
     ]
    }
   ],
   "source": [
    "#remove spacial character: https://stackoverflow.com/a/5843547/4084039\n",
    "sent_1500 = re.sub('[^A-Za-z0-9]+', ' ', sent_1500)\n",
    "print(sent_1500)"
   ]
  },
  {
   "cell_type": "code",
   "execution_count": 140,
   "metadata": {},
   "outputs": [],
   "source": [
    "# https://gist.github.com/sebleier/554280\n",
    "# we are removing the words from the stop words list: 'no', 'nor', 'not'\n",
    "# <br /><br /> ==> after the above steps, we are getting \"br br\"\n",
    "# we are including them into stop words list\n",
    "# instead of <br /> if we have <br/> these tags would have revmoved in the 1st step\n",
    "\n",
    "stopwords= set(['br', 'the', 'i', 'me', 'my', 'myself', 'we', 'our', 'ours', 'ourselves', 'you', \"you're\", \"you've\",\\\n",
    "            \"you'll\", \"you'd\", 'your', 'yours', 'yourself', 'yourselves', 'he', 'him', 'his', 'himself', \\\n",
    "            'she', \"she's\", 'her', 'hers', 'herself', 'it', \"it's\", 'its', 'itself', 'they', 'them', 'their',\\\n",
    "            'theirs', 'themselves', 'what', 'which', 'who', 'whom', 'this', 'that', \"that'll\", 'these', 'those', \\\n",
    "            'am', 'is', 'are', 'was', 'were', 'be', 'been', 'being', 'have', 'has', 'had', 'having', 'do', 'does', \\\n",
    "            'did', 'doing', 'a', 'an', 'the', 'and', 'but', 'if', 'or', 'because', 'as', 'until', 'while', 'of', \\\n",
    "            'at', 'by', 'for', 'with', 'about', 'against', 'between', 'into', 'through', 'during', 'before', 'after',\\\n",
    "            'above', 'below', 'to', 'from', 'up', 'down', 'in', 'out', 'on', 'off', 'over', 'under', 'again', 'further',\\\n",
    "            'then', 'once', 'here', 'there', 'when', 'where', 'why', 'how', 'all', 'any', 'both', 'each', 'few', 'more',\\\n",
    "            'most', 'other', 'some', 'such', 'only', 'own', 'same', 'so', 'than', 'too', 'very', \\\n",
    "            's', 't', 'can', 'will', 'just', 'don', \"don't\", 'should', \"should've\", 'now', 'd', 'll', 'm', 'o', 're', \\\n",
    "            've', 'y', 'ain', 'aren', \"aren't\", 'couldn', \"couldn't\", 'didn', \"didn't\", 'doesn', \"doesn't\", 'hadn',\\\n",
    "            \"hadn't\", 'hasn', \"hasn't\", 'haven', \"haven't\", 'isn', \"isn't\", 'ma', 'mightn', \"mightn't\", 'mustn',\\\n",
    "            \"mustn't\", 'needn', \"needn't\", 'shan', \"shan't\", 'shouldn', \"shouldn't\", 'wasn', \"wasn't\", 'weren', \"weren't\", \\\n",
    "            'won', \"won't\", 'wouldn', \"wouldn't\"])"
   ]
  },
  {
   "cell_type": "code",
   "execution_count": 141,
   "metadata": {},
   "outputs": [
    {
     "name": "stderr",
     "output_type": "stream",
     "text": [
      "100%|████████████████████████████████████████████████████████████████████████████| 9564/9564 [00:03<00:00, 2721.19it/s]\n"
     ]
    }
   ],
   "source": [
    "# Combining all the above stundents \n",
    "from tqdm import tqdm\n",
    "preprocessed_reviews = []\n",
    "# tqdm is for printing the status bar\n",
    "for sentance in tqdm(final['Text'].values):\n",
    "    sentance = re.sub(r\"http\\S+\", \"\", sentance)\n",
    "    sentance = BeautifulSoup(sentance, 'lxml').get_text()\n",
    "    sentance = decontracted(sentance)\n",
    "    sentance = re.sub(\"\\S*\\d\\S*\", \"\", sentance).strip()\n",
    "    sentance = re.sub('[^A-Za-z]+', ' ', sentance)\n",
    "    # https://gist.github.com/sebleier/554280\n",
    "    sentance = ' '.join(e.lower() for e in sentance.split() if e.lower() not in stopwords)\n",
    "    preprocessed_reviews.append(sentance.strip())"
   ]
  },
  {
   "cell_type": "code",
   "execution_count": 142,
   "metadata": {},
   "outputs": [
    {
     "data": {
      "text/plain": [
       "'spicy chips lot great flavor warned left stanky breath afterwards first time ate night even brushing flossing could taste mouth next morning careful eat especially hanging people later day'"
      ]
     },
     "execution_count": 142,
     "metadata": {},
     "output_type": "execute_result"
    }
   ],
   "source": [
    "preprocessed_reviews[1500]"
   ]
  },
  {
   "cell_type": "markdown",
   "metadata": {},
   "source": [
    "### Preparing data for models"
   ]
  },
  {
   "cell_type": "code",
   "execution_count": 143,
   "metadata": {},
   "outputs": [
    {
     "data": {
      "text/plain": [
       "Index(['Id', 'ProductId', 'UserId', 'ProfileName', 'HelpfulnessNumerator',\n",
       "       'HelpfulnessDenominator', 'Score', 'Time', 'Summary', 'Text'],\n",
       "      dtype='object')"
      ]
     },
     "execution_count": 143,
     "metadata": {},
     "output_type": "execute_result"
    }
   ],
   "source": [
    "final.columns"
   ]
  },
  {
   "cell_type": "code",
   "execution_count": 144,
   "metadata": {},
   "outputs": [
    {
     "data": {
      "text/plain": [
       "Index(['Id', 'ProductId', 'UserId', 'ProfileName', 'HelpfulnessNumerator',\n",
       "       'HelpfulnessDenominator', 'Score', 'Time', 'Summary', 'Text',\n",
       "       'preprocessed_reviews'],\n",
       "      dtype='object')"
      ]
     },
     "execution_count": 144,
     "metadata": {},
     "output_type": "execute_result"
    }
   ],
   "source": [
    "final['preprocessed_reviews']=preprocessed_reviews\n",
    "final.columns"
   ]
  },
  {
   "cell_type": "code",
   "execution_count": 145,
   "metadata": {},
   "outputs": [
    {
     "name": "stdout",
     "output_type": "stream",
     "text": [
      "(9564, 11)\n"
     ]
    }
   ],
   "source": [
    "final_sorted_data=final.sort_values(by='Time')\n",
    "print(final_sorted_data.shape)"
   ]
  },
  {
   "cell_type": "markdown",
   "metadata": {},
   "source": [
    "# [4] Featurization"
   ]
  },
  {
   "cell_type": "markdown",
   "metadata": {},
   "source": [
    "## [4.1] BAG OF WORDS"
   ]
  },
  {
   "cell_type": "code",
   "execution_count": 146,
   "metadata": {},
   "outputs": [
    {
     "name": "stdout",
     "output_type": "stream",
     "text": [
      "some feature names  ['aa', 'aaaa', 'aahhhs', 'ab', 'aback', 'abandon', 'abates', 'abberline', 'abbott', 'abby']\n",
      "==================================================\n",
      "the type of count vectorizer  <class 'scipy.sparse.csr.csr_matrix'>\n",
      "the shape of out text BOW vectorizer  (9564, 18244)\n",
      "the number of unique words  18244\n"
     ]
    }
   ],
   "source": [
    "#BoW\n",
    "count_vect = CountVectorizer() #in scikit-learn\n",
    "count_vect.fit(preprocessed_reviews)\n",
    "print(\"some feature names \", count_vect.get_feature_names()[:10])\n",
    "print('='*50)\n",
    "\n",
    "final_counts = count_vect.transform(preprocessed_reviews)\n",
    "print(\"the type of count vectorizer \",type(final_counts))\n",
    "print(\"the shape of out text BOW vectorizer \",final_counts.get_shape())\n",
    "print(\"the number of unique words \", final_counts.get_shape()[1])"
   ]
  },
  {
   "cell_type": "markdown",
   "metadata": {},
   "source": [
    "## [4.2] Bi-Grams and n-Grams."
   ]
  },
  {
   "cell_type": "code",
   "execution_count": 147,
   "metadata": {},
   "outputs": [
    {
     "name": "stdout",
     "output_type": "stream",
     "text": [
      "the type of count vectorizer  <class 'scipy.sparse.csr.csr_matrix'>\n",
      "the shape of out text BOW vectorizer  (9564, 5000)\n",
      "the number of unique words including both unigrams and bigrams  5000\n"
     ]
    }
   ],
   "source": [
    "#bi-gram, tri-gram and n-gram\n",
    "\n",
    "#removing stop words like \"not\" should be avoided before building n-grams\n",
    "# count_vect = CountVectorizer(ngram_range=(1,2))\n",
    "# please do read the CountVectorizer documentation http://scikit-learn.org/stable/modules/generated/sklearn.feature_extraction.text.CountVectorizer.html\n",
    "\n",
    "# you can choose these numebrs min_df=10, max_features=5000, of your choice\n",
    "count_vect = CountVectorizer(ngram_range=(1,2), min_df=10, max_features=5000)\n",
    "final_bigram_counts = count_vect.fit_transform(preprocessed_reviews)\n",
    "print(\"the type of count vectorizer \",type(final_bigram_counts))\n",
    "print(\"the shape of out text BOW vectorizer \",final_bigram_counts.get_shape())\n",
    "print(\"the number of unique words including both unigrams and bigrams \", final_bigram_counts.get_shape()[1])"
   ]
  },
  {
   "cell_type": "markdown",
   "metadata": {},
   "source": [
    "## [4.3] TF-IDF"
   ]
  },
  {
   "cell_type": "code",
   "execution_count": 148,
   "metadata": {},
   "outputs": [
    {
     "name": "stdout",
     "output_type": "stream",
     "text": [
      "some sample features(unique words in the corpus) ['ability', 'able', 'able buy', 'able eat', 'able find', 'able get', 'able order', 'able use', 'absolute', 'absolute best']\n",
      "==================================================\n",
      "the type of count vectorizer  <class 'scipy.sparse.csr.csr_matrix'>\n",
      "the shape of out text TFIDF vectorizer  (9564, 5765)\n",
      "the number of unique words including both unigrams and bigrams  5765\n"
     ]
    }
   ],
   "source": [
    "tf_idf_vect = TfidfVectorizer(ngram_range=(1,2), min_df=10)\n",
    "tf_idf_vect.fit(preprocessed_reviews)\n",
    "print(\"some sample features(unique words in the corpus)\",tf_idf_vect.get_feature_names()[0:10])\n",
    "print('='*50)\n",
    "\n",
    "final_tf_idf = tf_idf_vect.transform(preprocessed_reviews)\n",
    "print(\"the type of count vectorizer \",type(final_tf_idf))\n",
    "print(\"the shape of out text TFIDF vectorizer \",final_tf_idf.get_shape())\n",
    "print(\"the number of unique words including both unigrams and bigrams \", final_tf_idf.get_shape()[1])"
   ]
  },
  {
   "cell_type": "markdown",
   "metadata": {},
   "source": [
    "## [4.4] Word2Vec"
   ]
  },
  {
   "cell_type": "code",
   "execution_count": 149,
   "metadata": {},
   "outputs": [],
   "source": [
    "# Train your own Word2Vec model using your own text corpus\n",
    "i=0\n",
    "list_of_sentance=[]\n",
    "for sentance in preprocessed_reviews:\n",
    "    list_of_sentance.append(sentance.split())"
   ]
  },
  {
   "cell_type": "code",
   "execution_count": 150,
   "metadata": {
    "scrolled": true
   },
   "outputs": [
    {
     "name": "stdout",
     "output_type": "stream",
     "text": [
      "[('excellent', 0.9346300959587097), ('looking', 0.9341257214546204), ('bummer', 0.9107151627540588), ('still', 0.9054000973701477), ('alternative', 0.9046181440353394), ('overall', 0.9045107960700989), ('good', 0.9041039943695068), ('cfh', 0.9019262790679932), ('though', 0.8792616724967957), ('either', 0.8778611421585083)]\n",
      "==================================================\n",
      "[('kcups', 0.9991269111633301), ('hands', 0.9987362027168274), ('folgers', 0.9984857439994812), ('jamaica', 0.998353898525238), ('kcup', 0.9983210563659668), ('earl', 0.9979210495948792), ('cocoas', 0.997821569442749), ('worlds', 0.9978101253509521), ('pg', 0.9977997541427612), ('peaberry', 0.9977970719337463)]\n"
     ]
    }
   ],
   "source": [
    "# Using Google News Word2Vectors\n",
    "\n",
    "# in this project we are using a pretrained model by google\n",
    "# its 3.3G file, once you load this into your memory \n",
    "# it occupies ~9Gb, so please do this step only if you have >12G of ram\n",
    "# we will provide a pickle file wich contains a dict , \n",
    "# and it contains all our courpus words as keys and  model[word] as values\n",
    "# To use this code-snippet, download \"GoogleNews-vectors-negative300.bin\" \n",
    "# from https://drive.google.com/file/d/0B7XkCwpI5KDYNlNUTTlSS21pQmM/edit\n",
    "# it's 1.9GB in size.\n",
    "\n",
    "\n",
    "# http://kavita-ganesan.com/gensim-word2vec-tutorial-starter-code/#.W17SRFAzZPY\n",
    "# you can comment this whole cell\n",
    "# or change these varible according to your need\n",
    "\n",
    "is_your_ram_gt_16g=False\n",
    "want_to_use_google_w2v = False\n",
    "want_to_train_w2v = True\n",
    "\n",
    "if want_to_train_w2v:\n",
    "    # min_count = 5 considers only words that occured atleast 5 times\n",
    "    w2v_model=Word2Vec(list_of_sentance,min_count=5,size=1500, workers=4)\n",
    "    print(w2v_model.wv.most_similar('great'))\n",
    "    print('='*50)\n",
    "    print(w2v_model.wv.most_similar('worst'))\n",
    "    \n",
    "elif want_to_use_google_w2v and is_your_ram_gt_16g:\n",
    "    if os.path.isfile('GoogleNews-vectors-negative300.bin'):\n",
    "        w2v_model=KeyedVectors.load_word2vec_format('GoogleNews-vectors-negative300.bin', binary=True)\n",
    "        print(w2v_model.wv.most_similar('great'))\n",
    "        print(w2v_model.wv.most_similar('worst'))\n",
    "    else:\n",
    "        print(\"you don't have gogole's word2vec file, keep want_to_train_w2v = True, to train your own w2v \")"
   ]
  },
  {
   "cell_type": "code",
   "execution_count": 151,
   "metadata": {},
   "outputs": [
    {
     "name": "stdout",
     "output_type": "stream",
     "text": [
      "number of words that occured minimum 5 times  5652\n",
      "sample words  ['free', 'package', 'bottle', 'bloody', 'mary', 'mix', 'bought', 'seller', 'advertising', 'worked', 'lol', 'tried', 'shared', 'buddies', 'loved', 'im', 'buy', 'noticed', 'no', 'reviews', 'yet', 'well', 'hot', 'not', 'burn', 'mouth', 'forever', 'nice', 'temp', 'perfect', 'us', 'used', 'fly', 'bait', 'seasons', 'ca', 'beat', 'great', 'product', 'available', 'traps', 'course', 'total', 'pretty', 'stinky', 'right', 'nearby', 'received', 'shipment', 'could']\n"
     ]
    }
   ],
   "source": [
    "w2v_words = list(w2v_model.wv.vocab)\n",
    "print(\"number of words that occured minimum 5 times \",len(w2v_words))\n",
    "print(\"sample words \", w2v_words[0:50])"
   ]
  },
  {
   "cell_type": "markdown",
   "metadata": {},
   "source": [
    "## [4.4.1] Converting text into vectors using Avg W2V, TFIDF-W2V"
   ]
  },
  {
   "cell_type": "markdown",
   "metadata": {},
   "source": [
    "#### [4.4.1.1] Avg W2v"
   ]
  },
  {
   "cell_type": "code",
   "execution_count": 152,
   "metadata": {},
   "outputs": [
    {
     "name": "stderr",
     "output_type": "stream",
     "text": [
      "  0%|                                                                                         | 0/9564 [00:00<?, ?it/s]\n"
     ]
    },
    {
     "ename": "ValueError",
     "evalue": "operands could not be broadcast together with shapes (4000,) (1500,) (4000,) ",
     "output_type": "error",
     "traceback": [
      "\u001b[1;31m---------------------------------------------------------------------------\u001b[0m",
      "\u001b[1;31mValueError\u001b[0m                                Traceback (most recent call last)",
      "\u001b[1;32m<ipython-input-152-cbd0b7e3472b>\u001b[0m in \u001b[0;36m<module>\u001b[1;34m\u001b[0m\n\u001b[0;32m      8\u001b[0m         \u001b[1;32mif\u001b[0m \u001b[0mword\u001b[0m \u001b[1;32min\u001b[0m \u001b[0mw2v_words\u001b[0m\u001b[1;33m:\u001b[0m\u001b[1;33m\u001b[0m\u001b[1;33m\u001b[0m\u001b[0m\n\u001b[0;32m      9\u001b[0m             \u001b[0mvec\u001b[0m \u001b[1;33m=\u001b[0m \u001b[0mw2v_model\u001b[0m\u001b[1;33m.\u001b[0m\u001b[0mwv\u001b[0m\u001b[1;33m[\u001b[0m\u001b[0mword\u001b[0m\u001b[1;33m]\u001b[0m\u001b[1;33m\u001b[0m\u001b[1;33m\u001b[0m\u001b[0m\n\u001b[1;32m---> 10\u001b[1;33m             \u001b[0msent_vec\u001b[0m \u001b[1;33m+=\u001b[0m \u001b[0mvec\u001b[0m\u001b[1;33m\u001b[0m\u001b[1;33m\u001b[0m\u001b[0m\n\u001b[0m\u001b[0;32m     11\u001b[0m             \u001b[0mcnt_words\u001b[0m \u001b[1;33m+=\u001b[0m \u001b[1;36m1\u001b[0m\u001b[1;33m\u001b[0m\u001b[1;33m\u001b[0m\u001b[0m\n\u001b[0;32m     12\u001b[0m     \u001b[1;32mif\u001b[0m \u001b[0mcnt_words\u001b[0m \u001b[1;33m!=\u001b[0m \u001b[1;36m0\u001b[0m\u001b[1;33m:\u001b[0m\u001b[1;33m\u001b[0m\u001b[1;33m\u001b[0m\u001b[0m\n",
      "\u001b[1;31mValueError\u001b[0m: operands could not be broadcast together with shapes (4000,) (1500,) (4000,) "
     ]
    }
   ],
   "source": [
    "# average Word2Vec\n",
    "# compute average word2vec for each review.\n",
    "sent_vectors = []; # the avg-w2v for each sentence/review is stored in this list\n",
    "for sent in tqdm(list_of_sentance): # for each review/sentence\n",
    "    sent_vec = np.zeros(4000) # as word vectors are of zero length 50, you might need to change this to 300 if you use google's w2v\n",
    "    cnt_words =0; # num of words with a valid vector in the sentence/review\n",
    "    for word in sent: # for each word in a review/sentence\n",
    "        if word in w2v_words:\n",
    "            vec = w2v_model.wv[word]\n",
    "            sent_vec += vec\n",
    "            cnt_words += 1\n",
    "    if cnt_words != 0:\n",
    "        sent_vec /= cnt_words\n",
    "    sent_vectors.append(sent_vec)\n",
    "print(len(sent_vectors))\n",
    "print(len(sent_vectors[0]))"
   ]
  },
  {
   "cell_type": "markdown",
   "metadata": {},
   "source": [
    "#### [4.4.1.2] TFIDF weighted W2v"
   ]
  },
  {
   "cell_type": "code",
   "execution_count": null,
   "metadata": {},
   "outputs": [],
   "source": [
    "# S = [\"abc def pqr\", \"def def def abc\", \"pqr pqr def\"]\n",
    "model = TfidfVectorizer()\n",
    "tf_idf_matrix = model.fit_transform(preprocessed_reviews)\n",
    "# we are converting a dictionary with word as a key, and the idf as a value\n",
    "dictionary = dict(zip(model.get_feature_names(), list(model.idf_)))"
   ]
  },
  {
   "cell_type": "code",
   "execution_count": null,
   "metadata": {
    "scrolled": true
   },
   "outputs": [],
   "source": [
    "# TF-IDF weighted Word2Vec\n",
    "tfidf_feat = model.get_feature_names() # tfidf words/col-names\n",
    "# final_tf_idf is the sparse matrix with row= sentence, col=word and cell_val = tfidf\n",
    "\n",
    "tfidf_sent_vectors = []; # the tfidf-w2v for each sentence/review is stored in this list\n",
    "row=0;\n",
    "for sent in tqdm(list_of_sentance): # for each review/sentence \n",
    "    sent_vec = np.zeros(50) # as word vectors are of zero length\n",
    "    weight_sum =0; # num of words with a valid vector in the sentence/review\n",
    "    for word in sent: # for each word in a review/sentence\n",
    "        if word in w2v_words and word in tfidf_feat:\n",
    "            vec = w2v_model.wv[word]\n",
    "#             tf_idf = tf_idf_matrix[row, tfidf_feat.index(word)]\n",
    "            # to reduce the computation we are \n",
    "            # dictionary[word] = idf value of word in whole courpus\n",
    "            # sent.count(word) = tf valeus of word in this review\n",
    "            tf_idf = dictionary[word]*(sent.count(word)/len(sent))\n",
    "            sent_vec += (vec * tf_idf)\n",
    "            weight_sum += tf_idf\n",
    "    if weight_sum != 0:\n",
    "        sent_vec /= weight_sum\n",
    "    tfidf_sent_vectors.append(sent_vec)\n",
    "    row += 1"
   ]
  },
  {
   "cell_type": "markdown",
   "metadata": {},
   "source": [
    "# [5] Assignment 7: SVM"
   ]
  },
  {
   "cell_type": "markdown",
   "metadata": {},
   "source": [
    "<ol>\n",
    "    <li><strong>Apply SVM on these feature sets</strong>\n",
    "        <ul>\n",
    "            <li><font color='red'>SET 1:</font>Review text, preprocessed one converted into vectors using (BOW)</li>\n",
    "            <li><font color='red'>SET 2:</font>Review text, preprocessed one converted into vectors using (TFIDF)</li>\n",
    "            <li><font color='red'>SET 3:</font>Review text, preprocessed one converted into vectors using (AVG W2v)</li>\n",
    "            <li><font color='red'>SET 4:</font>Review text, preprocessed one converted into vectors using (TFIDF W2v)</li>\n",
    "        </ul>\n",
    "    </li>\n",
    "    <br>\n",
    "    <li><strong>Procedure</strong>\n",
    "        <ul>\n",
    "    <li>You need to work with 2 versions of SVM\n",
    "        <ul><li>Linear kernel</li>\n",
    "            <li>RBF kernel</li></ul>\n",
    "    <li>When you are working with linear kernel, use SGDClassifier’ with hinge loss because it is computationally less expensive.</li>\n",
    "    <li>When you are working with ‘SGDClassifier’ with hinge loss and trying to find the AUC\n",
    "        score, you would have to use <a href='https://scikit-learn.org/stable/modules/generated/sklearn.calibration.CalibratedClassifierCV.html'>CalibratedClassifierCV</a></li>\n",
    "    <li>Similarly, like kdtree of knn, when you are working with RBF kernel it's better to reduce\n",
    "the number of dimensions. You can put min_df = 10, max_features = 500 and consider a sample size of 40k points.</li>                \n",
    "        </ul>\n",
    "    </li>\n",
    "    <br>\n",
    "    <li><strong>Hyper paramter tuning (find best alpha in range [10^-4 to 10^4], and the best penalty among 'l1', 'l2')</strong>\n",
    "        <ul>\n",
    "    <li>Find the best hyper parameter which will give the maximum <a href='https://www.appliedaicourse.com/course/applied-ai-course-online/lessons/receiver-operating-characteristic-curve-roc-curve-and-auc-1/'>AUC</a> value</li>\n",
    "    <li>Find the best hyper paramter using k-fold cross validation or simple cross validation data</li>\n",
    "    <li>Use gridsearch cv or randomsearch cv or you can also write your own for loops to do this task of hyperparameter tuning</li>          \n",
    "        </ul>\n",
    "    </li>\n",
    "    <br>\n",
    "    <li><strong>Feature importance</strong>\n",
    "        <ul>\n",
    "    <li>When you are working on the linear kernel with BOW or TFIDF please print the top 10 best\n",
    "features for each of the positive and negative classes.</li>\n",
    "        </ul>\n",
    "    </li>\n",
    "    <br>\n",
    "    <li><strong>Feature engineering</strong>\n",
    "        <ul>\n",
    "    <li>To increase the performance of your model, you can also experiment with with feature engineering like :</li>\n",
    "            <ul>\n",
    "            <li>Taking length of reviews as another feature.</li>\n",
    "            <li>Considering some features from review summary as well.</li>\n",
    "        </ul>\n",
    "        </ul>\n",
    "    </li>\n",
    "    <br>\n",
    "    <li><strong>Representation of results</strong>\n",
    "        <ul>\n",
    "    <li>You need to plot the performance of model both on train data and cross validation data for each hyper parameter, like shown in the figure.\n",
    "    <img src='train_cv_auc.JPG' width=300px></li>\n",
    "    <li>Once after you found the best hyper parameter, you need to train your model with it, and find the AUC on test data and plot the ROC curve on both train and test.\n",
    "    <img src='train_test_auc.JPG' width=300px></li>\n",
    "    <li>Along with plotting ROC curve, you need to print the <a href='https://www.appliedaicourse.com/course/applied-ai-course-online/lessons/confusion-matrix-tpr-fpr-fnr-tnr-1/'>confusion matrix</a> with predicted and original labels of test data points. Please visualize your confusion matrices using <a href='https://seaborn.pydata.org/generated/seaborn.heatmap.html'>seaborn heatmaps.\n",
    "    <img src='confusion_matrix.png' width=300px></li>\n",
    "        </ul>\n",
    "    </li>\n",
    "    <br>\n",
    "    <li><strong>Conclusion</strong>\n",
    "        <ul>\n",
    "    <li>You need to summarize the results at the end of the notebook, summarize it in the table format. To print out a table please refer to this prettytable library<a href='http://zetcode.com/python/prettytable/'>  link</a> \n",
    "        <img src='summary.JPG' width=400px>\n",
    "    </li>\n",
    "        </ul>\n",
    "</ol>"
   ]
  },
  {
   "cell_type": "markdown",
   "metadata": {},
   "source": [
    "<h4><font color='red'>Note: Data Leakage</font></h4>\n",
    "\n",
    "1. There will be an issue of data-leakage if you vectorize the entire data and then split it into train/cv/test.\n",
    "2. To avoid the issue of data-leakag, make sure to split your data first and then vectorize it. \n",
    "3. While vectorizing your data, apply the method fit_transform() on you train data, and apply the method transform() on cv/test data.\n",
    "4. For more details please go through this <a href='https://soundcloud.com/applied-ai-course/leakage-bow-and-tfidf'>link.</a>"
   ]
  },
  {
   "cell_type": "markdown",
   "metadata": {},
   "source": [
    "# Applying SVM"
   ]
  },
  {
   "cell_type": "markdown",
   "metadata": {},
   "source": [
    "## [5.1] Linear SVM"
   ]
  },
  {
   "cell_type": "markdown",
   "metadata": {},
   "source": [
    "### [5.1.1] Applying Linear SVM on BOW,<font color='red'> SET 1</font>"
   ]
  },
  {
   "cell_type": "code",
   "execution_count": 153,
   "metadata": {},
   "outputs": [
    {
     "name": "stdout",
     "output_type": "stream",
     "text": [
      "(9564, 11)\n",
      "<class 'pandas.core.frame.DataFrame'>\n"
     ]
    }
   ],
   "source": [
    "# Please write all the code with proper documentation\n",
    "print(final_sorted_data.shape)\n",
    "print(type(final_sorted_data))"
   ]
  },
  {
   "cell_type": "code",
   "execution_count": 154,
   "metadata": {},
   "outputs": [],
   "source": [
    "X=final_sorted_data['preprocessed_reviews']\n",
    "Y=final_sorted_data['Score']"
   ]
  },
  {
   "cell_type": "markdown",
   "metadata": {},
   "source": [
    "### Splitting into train,cv and test sets"
   ]
  },
  {
   "cell_type": "code",
   "execution_count": 155,
   "metadata": {},
   "outputs": [
    {
     "name": "stdout",
     "output_type": "stream",
     "text": [
      "(9564,)\n",
      "(9564,)\n",
      "<class 'pandas.core.series.Series'>\n"
     ]
    }
   ],
   "source": [
    "print(X.shape)\n",
    "print(Y.shape)\n",
    "print(type(Y))"
   ]
  },
  {
   "cell_type": "code",
   "execution_count": 156,
   "metadata": {},
   "outputs": [
    {
     "name": "stdout",
     "output_type": "stream",
     "text": [
      "(6024,)\n",
      "(6024,)\n",
      "(2870,)\n",
      "(2870,)\n",
      "(670,)\n",
      "(670,)\n"
     ]
    }
   ],
   "source": [
    "from sklearn.model_selection import train_test_split\n",
    "x_train,x_test,y_train,y_test=train_test_split(X,Y,test_size=0.3,random_state=0)\n",
    "x_train,x_cv,y_train,y_cv=train_test_split(x_train,y_train,test_size=0.1,random_state=0)\n",
    "print(x_train.shape)\n",
    "print(y_train.shape)\n",
    "print(x_test.shape)\n",
    "print(y_test.shape)\n",
    "print(x_cv.shape)\n",
    "print(y_cv.shape)"
   ]
  },
  {
   "cell_type": "code",
   "execution_count": 157,
   "metadata": {},
   "outputs": [],
   "source": [
    "from sklearn.feature_extraction.text import CountVectorizer\n",
    "vectorizer = CountVectorizer(min_df=10)\n",
    "def bow(data):\n",
    "    text_bow = vectorizer.transform(data)\n",
    "    return text_bow\n",
    "\n",
    "vectorizer.fit(x_train)\n",
    "train_bow=bow(x_train)\n",
    "test_bow=bow(x_test)\n",
    "cv_bow=bow(x_cv)\n",
    "bow_feature_name=vectorizer.get_feature_names()"
   ]
  },
  {
   "cell_type": "code",
   "execution_count": 158,
   "metadata": {},
   "outputs": [
    {
     "data": {
      "text/plain": [
       "['ability',\n",
       " 'able',\n",
       " 'absolute',\n",
       " 'absolutely',\n",
       " 'acacia',\n",
       " 'according',\n",
       " 'account',\n",
       " 'acerola',\n",
       " 'acid',\n",
       " 'acidic',\n",
       " 'acidity',\n",
       " 'acquired',\n",
       " 'across',\n",
       " 'active',\n",
       " 'actual',\n",
       " 'actually',\n",
       " 'add',\n",
       " 'added',\n",
       " 'addict',\n",
       " 'addicted',\n",
       " 'addicting',\n",
       " 'addictive',\n",
       " 'adding',\n",
       " 'addition',\n",
       " 'additional',\n",
       " 'additives',\n",
       " 'adds',\n",
       " 'adequate',\n",
       " 'admit',\n",
       " 'adopted',\n",
       " 'adore',\n",
       " 'adult',\n",
       " 'adults',\n",
       " 'advantage',\n",
       " 'advertised',\n",
       " 'advice',\n",
       " 'afford',\n",
       " 'affordable',\n",
       " 'afraid',\n",
       " 'afternoon',\n",
       " 'aftertaste',\n",
       " 'afterwards',\n",
       " 'agave',\n",
       " 'age',\n",
       " 'ages',\n",
       " 'ago',\n",
       " 'agree',\n",
       " 'ahead',\n",
       " 'aid',\n",
       " 'air',\n",
       " 'alcohol',\n",
       " 'allergic',\n",
       " 'allergies',\n",
       " 'allergy',\n",
       " 'allow',\n",
       " 'allowed',\n",
       " 'allowing',\n",
       " 'allows',\n",
       " 'almond',\n",
       " 'almonds',\n",
       " 'almost',\n",
       " 'alone',\n",
       " 'along',\n",
       " 'alot',\n",
       " 'already',\n",
       " 'also',\n",
       " 'alternative',\n",
       " 'alternatives',\n",
       " 'although',\n",
       " 'aluminum',\n",
       " 'always',\n",
       " 'amazed',\n",
       " 'amazing',\n",
       " 'amazingly',\n",
       " 'amazon',\n",
       " 'america',\n",
       " 'american',\n",
       " 'among',\n",
       " 'amount',\n",
       " 'amounts',\n",
       " 'animal',\n",
       " 'animals',\n",
       " 'annie',\n",
       " 'annoying',\n",
       " 'another',\n",
       " 'answer',\n",
       " 'antioxidants',\n",
       " 'anymore',\n",
       " 'anyone',\n",
       " 'anything',\n",
       " 'anytime',\n",
       " 'anyway',\n",
       " 'anywhere',\n",
       " 'apart',\n",
       " 'apparently',\n",
       " 'appeal',\n",
       " 'appealing',\n",
       " 'appear',\n",
       " 'appears',\n",
       " 'apple',\n",
       " 'apples',\n",
       " 'appreciate',\n",
       " 'approximately',\n",
       " 'area',\n",
       " 'aroma',\n",
       " 'aromatic',\n",
       " 'around',\n",
       " 'arrive',\n",
       " 'arrived',\n",
       " 'arrives',\n",
       " 'artificial',\n",
       " 'asian',\n",
       " 'aside',\n",
       " 'ask',\n",
       " 'asked',\n",
       " 'asking',\n",
       " 'assorted',\n",
       " 'assortment',\n",
       " 'assume',\n",
       " 'assuming',\n",
       " 'ate',\n",
       " 'attempt',\n",
       " 'attention',\n",
       " 'attractive',\n",
       " 'audio',\n",
       " 'authentic',\n",
       " 'auto',\n",
       " 'automatic',\n",
       " 'available',\n",
       " 'average',\n",
       " 'avoid',\n",
       " 'awake',\n",
       " 'aware',\n",
       " 'away',\n",
       " 'awesome',\n",
       " 'awful',\n",
       " 'awhile',\n",
       " 'babies',\n",
       " 'baby',\n",
       " 'back',\n",
       " 'bacon',\n",
       " 'bad',\n",
       " 'bag',\n",
       " 'bags',\n",
       " 'bake',\n",
       " 'baked',\n",
       " 'baking',\n",
       " 'balance',\n",
       " 'balanced',\n",
       " 'ball',\n",
       " 'balls',\n",
       " 'banana',\n",
       " 'bananas',\n",
       " 'bar',\n",
       " 'barbecue',\n",
       " 'barbeque',\n",
       " 'barely',\n",
       " 'bargain',\n",
       " 'barley',\n",
       " 'bars',\n",
       " 'base',\n",
       " 'based',\n",
       " 'basic',\n",
       " 'basically',\n",
       " 'basil',\n",
       " 'basis',\n",
       " 'basket',\n",
       " 'batch',\n",
       " 'batches',\n",
       " 'batter',\n",
       " 'bbq',\n",
       " 'bean',\n",
       " 'beans',\n",
       " 'bear',\n",
       " 'bears',\n",
       " 'beat',\n",
       " 'beats',\n",
       " 'beautiful',\n",
       " 'beautifully',\n",
       " 'became',\n",
       " 'become',\n",
       " 'becomes',\n",
       " 'becoming',\n",
       " 'bed',\n",
       " 'beef',\n",
       " 'beer',\n",
       " 'began',\n",
       " 'begin',\n",
       " 'beginning',\n",
       " 'behind',\n",
       " 'belgian',\n",
       " 'believe',\n",
       " 'belly',\n",
       " 'benefit',\n",
       " 'benefits',\n",
       " 'berries',\n",
       " 'berry',\n",
       " 'besides',\n",
       " 'best',\n",
       " 'bet',\n",
       " 'better',\n",
       " 'betty',\n",
       " 'beverage',\n",
       " 'beverages',\n",
       " 'beware',\n",
       " 'beyond',\n",
       " 'big',\n",
       " 'bigger',\n",
       " 'biggest',\n",
       " 'bill',\n",
       " 'birthday',\n",
       " 'biscuit',\n",
       " 'biscuits',\n",
       " 'bisquick',\n",
       " 'bit',\n",
       " 'bite',\n",
       " 'bites',\n",
       " 'bits',\n",
       " 'bitter',\n",
       " 'bitterness',\n",
       " 'black',\n",
       " 'bland',\n",
       " 'blend',\n",
       " 'blender',\n",
       " 'blends',\n",
       " 'blood',\n",
       " 'blown',\n",
       " 'blue',\n",
       " 'blueberries',\n",
       " 'blueberry',\n",
       " 'bob',\n",
       " 'bodied',\n",
       " 'body',\n",
       " 'boil',\n",
       " 'bold',\n",
       " 'bone',\n",
       " 'bones',\n",
       " 'bonus',\n",
       " 'book',\n",
       " 'boost',\n",
       " 'born',\n",
       " 'bother',\n",
       " 'bottle',\n",
       " 'bottled',\n",
       " 'bottles',\n",
       " 'bottom',\n",
       " 'bought',\n",
       " 'bowel',\n",
       " 'bowl',\n",
       " 'bowls',\n",
       " 'box',\n",
       " 'boxed',\n",
       " 'boxes',\n",
       " 'boy',\n",
       " 'boyfriend',\n",
       " 'boys',\n",
       " 'bpa',\n",
       " 'brand',\n",
       " 'brands',\n",
       " 'bread',\n",
       " 'breads',\n",
       " 'break',\n",
       " 'breakfast',\n",
       " 'breaking',\n",
       " 'breath',\n",
       " 'breed',\n",
       " 'brew',\n",
       " 'brewed',\n",
       " 'brewer',\n",
       " 'brewing',\n",
       " 'brews',\n",
       " 'bright',\n",
       " 'bring',\n",
       " 'brings',\n",
       " 'broccoli',\n",
       " 'broke',\n",
       " 'broken',\n",
       " 'broth',\n",
       " 'brother',\n",
       " 'brought',\n",
       " 'brown',\n",
       " 'brownies',\n",
       " 'btw',\n",
       " 'bubble',\n",
       " 'bucks',\n",
       " 'budget',\n",
       " 'buds',\n",
       " 'buffalo',\n",
       " 'bulk',\n",
       " 'bunch',\n",
       " 'burn',\n",
       " 'burned',\n",
       " 'burnt',\n",
       " 'business',\n",
       " 'busy',\n",
       " 'butter',\n",
       " 'buttermilk',\n",
       " 'buttery',\n",
       " 'buy',\n",
       " 'buyer',\n",
       " 'buying',\n",
       " 'ca',\n",
       " 'cafe',\n",
       " 'caffeine',\n",
       " 'cajun',\n",
       " 'cake',\n",
       " 'cakes',\n",
       " 'cal',\n",
       " 'calcium',\n",
       " 'california',\n",
       " 'call',\n",
       " 'called',\n",
       " 'calls',\n",
       " 'calorie',\n",
       " 'calories',\n",
       " 'came',\n",
       " 'candies',\n",
       " 'candy',\n",
       " 'cane',\n",
       " 'canned',\n",
       " 'cannot',\n",
       " 'canola',\n",
       " 'cans',\n",
       " 'cant',\n",
       " 'car',\n",
       " 'caramel',\n",
       " 'carb',\n",
       " 'carbonated',\n",
       " 'carbonation',\n",
       " 'carbs',\n",
       " 'card',\n",
       " 'cardboard',\n",
       " 'care',\n",
       " 'careful',\n",
       " 'carefully',\n",
       " 'caribou',\n",
       " 'carried',\n",
       " 'carries',\n",
       " 'carrot',\n",
       " 'carrots',\n",
       " 'carry',\n",
       " 'carrying',\n",
       " 'carton',\n",
       " 'case',\n",
       " 'cases',\n",
       " 'cat',\n",
       " 'catch',\n",
       " 'cats',\n",
       " 'caught',\n",
       " 'cause',\n",
       " 'caused',\n",
       " 'causes',\n",
       " 'caution',\n",
       " 'celery',\n",
       " 'celiac',\n",
       " 'center',\n",
       " 'cents',\n",
       " 'cereal',\n",
       " 'cereals',\n",
       " 'certain',\n",
       " 'certainly',\n",
       " 'certified',\n",
       " 'challenge',\n",
       " 'chamomile',\n",
       " 'chance',\n",
       " 'change',\n",
       " 'changed',\n",
       " 'changes',\n",
       " 'changing',\n",
       " 'character',\n",
       " 'charge',\n",
       " 'charges',\n",
       " 'charging',\n",
       " 'cheap',\n",
       " 'cheaper',\n",
       " 'cheapest',\n",
       " 'check',\n",
       " 'checked',\n",
       " 'cheddar',\n",
       " 'cheese',\n",
       " 'chemical',\n",
       " 'chemicals',\n",
       " 'cherry',\n",
       " 'chew',\n",
       " 'chewing',\n",
       " 'chews',\n",
       " 'chewy',\n",
       " 'chia',\n",
       " 'chicken',\n",
       " 'child',\n",
       " 'childhood',\n",
       " 'children',\n",
       " 'chili',\n",
       " 'chilled',\n",
       " 'china',\n",
       " 'chinese',\n",
       " 'chip',\n",
       " 'chips',\n",
       " 'chocolate',\n",
       " 'chocolates',\n",
       " 'chocolatey',\n",
       " 'choice',\n",
       " 'choices',\n",
       " 'cholesterol',\n",
       " 'choose',\n",
       " 'chopped',\n",
       " 'chose',\n",
       " 'chowder',\n",
       " 'christmas',\n",
       " 'chunks',\n",
       " 'cider',\n",
       " 'cinnamon',\n",
       " 'citrus',\n",
       " 'claim',\n",
       " 'claims',\n",
       " 'clam',\n",
       " 'class',\n",
       " 'classic',\n",
       " 'clean',\n",
       " 'cleaning',\n",
       " 'clear',\n",
       " 'clearly',\n",
       " 'close',\n",
       " 'closer',\n",
       " 'closest',\n",
       " 'club',\n",
       " 'co',\n",
       " 'coast',\n",
       " 'coat',\n",
       " 'coated',\n",
       " 'coating',\n",
       " 'coats',\n",
       " 'coco',\n",
       " 'cocoa',\n",
       " 'coconut',\n",
       " 'coffee',\n",
       " 'coffees',\n",
       " 'coke',\n",
       " 'cold',\n",
       " 'collection',\n",
       " 'color',\n",
       " 'colored',\n",
       " 'coloring',\n",
       " 'colors',\n",
       " 'com',\n",
       " 'combination',\n",
       " 'combined',\n",
       " 'combo',\n",
       " 'come',\n",
       " 'comes',\n",
       " 'coming',\n",
       " 'comment',\n",
       " 'comments',\n",
       " 'commercial',\n",
       " 'common',\n",
       " 'companies',\n",
       " 'company',\n",
       " 'comparable',\n",
       " 'compare',\n",
       " 'compared',\n",
       " 'comparison',\n",
       " 'complain',\n",
       " 'complained',\n",
       " 'complaint',\n",
       " 'complaints',\n",
       " 'complete',\n",
       " 'completely',\n",
       " 'complex',\n",
       " 'computer',\n",
       " 'concentrate',\n",
       " 'concentrates',\n",
       " 'concerned',\n",
       " 'concerns',\n",
       " 'condition',\n",
       " 'confused',\n",
       " 'consider',\n",
       " 'considered',\n",
       " 'considering',\n",
       " 'consistency',\n",
       " 'consistent',\n",
       " 'consistently',\n",
       " 'constant',\n",
       " 'constantly',\n",
       " 'consume',\n",
       " 'consumed',\n",
       " 'consumer',\n",
       " 'consuming',\n",
       " 'consumption',\n",
       " 'contact',\n",
       " 'contain',\n",
       " 'contained',\n",
       " 'container',\n",
       " 'containers',\n",
       " 'containing',\n",
       " 'contains',\n",
       " 'content',\n",
       " 'contents',\n",
       " 'continue',\n",
       " 'continued',\n",
       " 'control',\n",
       " 'convenience',\n",
       " 'convenient',\n",
       " 'cook',\n",
       " 'cooked',\n",
       " 'cookie',\n",
       " 'cookies',\n",
       " 'cooking',\n",
       " 'cooks',\n",
       " 'cool',\n",
       " 'corn',\n",
       " 'corner',\n",
       " 'correct',\n",
       " 'correctly',\n",
       " 'cost',\n",
       " 'costco',\n",
       " 'costs',\n",
       " 'could',\n",
       " 'count',\n",
       " 'counter',\n",
       " 'country',\n",
       " 'couple',\n",
       " 'coupon',\n",
       " 'course',\n",
       " 'cover',\n",
       " 'covered',\n",
       " 'cow',\n",
       " 'cracked',\n",
       " 'cracker',\n",
       " 'crackers',\n",
       " 'crap',\n",
       " 'crave',\n",
       " 'craving',\n",
       " 'cravings',\n",
       " 'crazy',\n",
       " 'cream',\n",
       " 'creamer',\n",
       " 'creamy',\n",
       " 'create',\n",
       " 'created',\n",
       " 'creates',\n",
       " 'creme',\n",
       " 'crisp',\n",
       " 'crisps',\n",
       " 'crispy',\n",
       " 'crocker',\n",
       " 'crumbled',\n",
       " 'crumbly',\n",
       " 'crumbs',\n",
       " 'crunch',\n",
       " 'crunchy',\n",
       " 'crushed',\n",
       " 'crust',\n",
       " 'cubes',\n",
       " 'cup',\n",
       " 'cupboard',\n",
       " 'cupcakes',\n",
       " 'cups',\n",
       " 'current',\n",
       " 'currently',\n",
       " 'curry',\n",
       " 'customer',\n",
       " 'customers',\n",
       " 'cut',\n",
       " 'cute',\n",
       " 'cutting',\n",
       " 'dad',\n",
       " 'daily',\n",
       " 'dairy',\n",
       " 'damage',\n",
       " 'damaged',\n",
       " 'dark',\n",
       " 'darker',\n",
       " 'darn',\n",
       " 'date',\n",
       " 'dates',\n",
       " 'daughter',\n",
       " 'day',\n",
       " 'days',\n",
       " 'de',\n",
       " 'dead',\n",
       " 'deal',\n",
       " 'decaf',\n",
       " 'decaffeinated',\n",
       " 'decent',\n",
       " 'decide',\n",
       " 'decided',\n",
       " 'deep',\n",
       " 'definately',\n",
       " 'definite',\n",
       " 'definitely',\n",
       " 'degrees',\n",
       " 'delicate',\n",
       " 'delicious',\n",
       " 'delight',\n",
       " 'delighted',\n",
       " 'delightful',\n",
       " 'delivered',\n",
       " 'delivers',\n",
       " 'delivery',\n",
       " 'dense',\n",
       " 'dented',\n",
       " 'depending',\n",
       " 'describe',\n",
       " 'described',\n",
       " 'description',\n",
       " 'design',\n",
       " 'designed',\n",
       " 'desired',\n",
       " 'desk',\n",
       " 'despite',\n",
       " 'dessert',\n",
       " 'desserts',\n",
       " 'diabetes',\n",
       " 'diabetic',\n",
       " 'diagnosed',\n",
       " 'diamond',\n",
       " 'diarrhea',\n",
       " 'didnt',\n",
       " 'diet',\n",
       " 'dietary',\n",
       " 'dieting',\n",
       " 'diets',\n",
       " 'difference',\n",
       " 'different',\n",
       " 'differently',\n",
       " 'difficult',\n",
       " 'digest',\n",
       " 'digestion',\n",
       " 'digestive',\n",
       " 'dinner',\n",
       " 'dinners',\n",
       " 'dip',\n",
       " 'dipping',\n",
       " 'dips',\n",
       " 'direct',\n",
       " 'directions',\n",
       " 'directly',\n",
       " 'dirt',\n",
       " 'dirty',\n",
       " 'disappointed',\n",
       " 'disappointing',\n",
       " 'disappointment',\n",
       " 'discontinued',\n",
       " 'discount',\n",
       " 'discover',\n",
       " 'discovered',\n",
       " 'disease',\n",
       " 'disgusting',\n",
       " 'dish',\n",
       " 'dishes',\n",
       " 'dislike',\n",
       " 'disposable',\n",
       " 'disposakups',\n",
       " 'dissolve',\n",
       " 'dissolved',\n",
       " 'dissolves',\n",
       " 'distinct',\n",
       " 'doctor',\n",
       " 'doesnt',\n",
       " 'dog',\n",
       " 'dogs',\n",
       " 'dollar',\n",
       " 'dollars',\n",
       " 'done',\n",
       " 'dont',\n",
       " 'donut',\n",
       " 'donuts',\n",
       " 'door',\n",
       " 'dose',\n",
       " 'double',\n",
       " 'doubt',\n",
       " 'dough',\n",
       " 'downside',\n",
       " 'dozen',\n",
       " 'dr',\n",
       " 'drank',\n",
       " 'drawback',\n",
       " 'dressing',\n",
       " 'dried',\n",
       " 'drink',\n",
       " 'drinker',\n",
       " 'drinkers',\n",
       " 'drinking',\n",
       " 'drinks',\n",
       " 'drip',\n",
       " 'drive',\n",
       " 'drop',\n",
       " 'dropped',\n",
       " 'drops',\n",
       " 'drunk',\n",
       " 'dry',\n",
       " 'due',\n",
       " 'dunkin',\n",
       " 'dust',\n",
       " 'earlier',\n",
       " 'early',\n",
       " 'earth',\n",
       " 'earthy',\n",
       " 'ease',\n",
       " 'easier',\n",
       " 'easily',\n",
       " 'easy',\n",
       " 'eat',\n",
       " 'eaten',\n",
       " 'eater',\n",
       " 'eating',\n",
       " 'eats',\n",
       " 'economical',\n",
       " 'edge',\n",
       " 'edible',\n",
       " 'edit',\n",
       " 'effect',\n",
       " 'effective',\n",
       " 'effects',\n",
       " 'effort',\n",
       " 'egg',\n",
       " 'eggs',\n",
       " 'either',\n",
       " 'electrolytes',\n",
       " 'else',\n",
       " 'elsewhere',\n",
       " 'em',\n",
       " 'email',\n",
       " 'empty',\n",
       " 'end',\n",
       " 'ended',\n",
       " 'ends',\n",
       " 'energy',\n",
       " 'england',\n",
       " 'english',\n",
       " 'enjoy',\n",
       " 'enjoyable',\n",
       " 'enjoyed',\n",
       " 'enjoying',\n",
       " 'enjoys',\n",
       " 'enough',\n",
       " 'entire',\n",
       " 'entirely',\n",
       " 'equal',\n",
       " 'equally',\n",
       " 'equivalent',\n",
       " 'error',\n",
       " 'especially',\n",
       " 'espresso',\n",
       " 'essential',\n",
       " 'etc',\n",
       " 'european',\n",
       " 'even',\n",
       " 'evening',\n",
       " 'eventually',\n",
       " 'ever',\n",
       " 'every',\n",
       " 'everybody',\n",
       " 'everyday',\n",
       " 'everyone',\n",
       " 'everything',\n",
       " 'everytime',\n",
       " 'everywhere',\n",
       " 'exact',\n",
       " 'exactly',\n",
       " 'example',\n",
       " 'excellent',\n",
       " 'except',\n",
       " 'exception',\n",
       " 'excited',\n",
       " 'expect',\n",
       " 'expectations',\n",
       " 'expected',\n",
       " 'expecting',\n",
       " 'expensive',\n",
       " 'experience',\n",
       " 'experienced',\n",
       " 'experiment',\n",
       " 'expiration',\n",
       " 'expired',\n",
       " 'extra',\n",
       " 'extract',\n",
       " 'extremely',\n",
       " 'eye',\n",
       " 'eyes',\n",
       " 'fabulous',\n",
       " 'face',\n",
       " 'fact',\n",
       " 'factor',\n",
       " 'facts',\n",
       " 'fair',\n",
       " 'fairly',\n",
       " 'fake',\n",
       " 'fall',\n",
       " 'familiar',\n",
       " 'family',\n",
       " 'fan',\n",
       " 'fancy',\n",
       " 'fans',\n",
       " 'fantastic',\n",
       " 'far',\n",
       " 'farms',\n",
       " 'fast',\n",
       " 'faster',\n",
       " 'fat',\n",
       " 'father',\n",
       " 'fats',\n",
       " 'fatty',\n",
       " 'favor',\n",
       " 'favorite',\n",
       " 'favorites',\n",
       " 'favors',\n",
       " 'fed',\n",
       " 'feed',\n",
       " 'feeding',\n",
       " 'feel',\n",
       " 'feeling',\n",
       " 'feels',\n",
       " 'fell',\n",
       " 'felt',\n",
       " 'fiber',\n",
       " 'figure',\n",
       " 'figured',\n",
       " 'fill',\n",
       " 'filled',\n",
       " 'fillers',\n",
       " 'filling',\n",
       " 'fills',\n",
       " 'filter',\n",
       " 'filtered',\n",
       " 'filters',\n",
       " 'final',\n",
       " 'finally',\n",
       " 'find',\n",
       " 'finding',\n",
       " 'fine',\n",
       " 'fingers',\n",
       " 'finicky',\n",
       " 'finish',\n",
       " 'finished',\n",
       " 'firm',\n",
       " 'first',\n",
       " 'fish',\n",
       " 'fit',\n",
       " 'fits',\n",
       " 'five',\n",
       " 'fix',\n",
       " 'fizz',\n",
       " 'fizzy',\n",
       " 'flat',\n",
       " 'flavor',\n",
       " 'flavored',\n",
       " 'flavorful',\n",
       " 'flavoring',\n",
       " 'flavorings',\n",
       " 'flavors',\n",
       " 'flavour',\n",
       " 'flax',\n",
       " 'floor',\n",
       " 'florida',\n",
       " 'flour',\n",
       " 'flowers',\n",
       " 'fluffy',\n",
       " 'foil',\n",
       " 'folgers',\n",
       " 'folks',\n",
       " 'follow',\n",
       " 'followed',\n",
       " 'following',\n",
       " 'fond',\n",
       " 'fondant',\n",
       " 'food',\n",
       " 'foods',\n",
       " 'forever',\n",
       " 'forget',\n",
       " 'forgot',\n",
       " 'form',\n",
       " 'formula',\n",
       " 'formulas',\n",
       " 'fortunately',\n",
       " 'forward',\n",
       " 'found',\n",
       " 'four',\n",
       " 'fourth',\n",
       " 'fragrant',\n",
       " 'free',\n",
       " 'freeze',\n",
       " 'freezer',\n",
       " 'french',\n",
       " 'frequently',\n",
       " 'fresh',\n",
       " 'fresher',\n",
       " 'freshly',\n",
       " 'freshness',\n",
       " 'fridge',\n",
       " 'fried',\n",
       " 'friend',\n",
       " 'friendly',\n",
       " 'friends',\n",
       " 'fries',\n",
       " 'front',\n",
       " 'frosting',\n",
       " 'frozen',\n",
       " 'fructose',\n",
       " 'fruit',\n",
       " 'fruits',\n",
       " 'fruity',\n",
       " 'fry',\n",
       " 'fuel',\n",
       " 'full',\n",
       " 'fully',\n",
       " 'fun',\n",
       " 'funny',\n",
       " 'fur',\n",
       " 'future',\n",
       " 'gain',\n",
       " 'gallon',\n",
       " 'game',\n",
       " 'garbage',\n",
       " 'garden',\n",
       " 'garlic',\n",
       " 'gas',\n",
       " 'gave',\n",
       " 'gel',\n",
       " 'general',\n",
       " 'generally',\n",
       " 'gerber',\n",
       " 'german',\n",
       " 'get',\n",
       " 'gets',\n",
       " 'getting',\n",
       " 'gevalia',\n",
       " 'gf',\n",
       " 'gift',\n",
       " 'gifts',\n",
       " 'ginger',\n",
       " 'girl',\n",
       " 'girlfriend',\n",
       " 'girls',\n",
       " 'give',\n",
       " 'given',\n",
       " 'gives',\n",
       " 'giving',\n",
       " 'glad',\n",
       " 'glass',\n",
       " 'gluten',\n",
       " 'go',\n",
       " 'goat',\n",
       " 'goats',\n",
       " 'god',\n",
       " 'goes',\n",
       " 'going',\n",
       " 'gold',\n",
       " 'golden',\n",
       " 'gone',\n",
       " 'good',\n",
       " 'goodness',\n",
       " 'goods',\n",
       " 'google',\n",
       " 'got',\n",
       " 'gotta',\n",
       " 'gotten',\n",
       " 'gourmet',\n",
       " 'grab',\n",
       " 'grade',\n",
       " 'grain',\n",
       " 'grains',\n",
       " 'grainy',\n",
       " 'gram',\n",
       " 'grams',\n",
       " 'grandmother',\n",
       " 'grandpa',\n",
       " 'grandson',\n",
       " 'granola',\n",
       " 'granted',\n",
       " 'grape',\n",
       " 'grapefruit',\n",
       " 'grass',\n",
       " 'grateful',\n",
       " 'gravy',\n",
       " 'greasy',\n",
       " 'great',\n",
       " 'greatest',\n",
       " 'greatly',\n",
       " 'green',\n",
       " 'grew',\n",
       " 'grey',\n",
       " 'grill',\n",
       " 'grilled',\n",
       " 'grind',\n",
       " 'grinder',\n",
       " 'grinding',\n",
       " 'gritty',\n",
       " 'grocer',\n",
       " 'groceries',\n",
       " 'grocery',\n",
       " 'gross',\n",
       " 'ground',\n",
       " 'grounds',\n",
       " 'group',\n",
       " 'grove',\n",
       " 'grow',\n",
       " 'growing',\n",
       " 'grown',\n",
       " 'guess',\n",
       " ...]"
      ]
     },
     "execution_count": 158,
     "metadata": {},
     "output_type": "execute_result"
    }
   ],
   "source": [
    "bow_feature_name"
   ]
  },
  {
   "cell_type": "code",
   "execution_count": 159,
   "metadata": {},
   "outputs": [
    {
     "name": "stdout",
     "output_type": "stream",
     "text": [
      "(6024, 2562)\n",
      "(670, 2562)\n",
      "(2870, 2562)\n"
     ]
    }
   ],
   "source": [
    "print(train_bow.shape)\n",
    "print(cv_bow.shape)\n",
    "print(test_bow.shape)"
   ]
  },
  {
   "cell_type": "markdown",
   "metadata": {},
   "source": [
    "### Training and Testing"
   ]
  },
  {
   "cell_type": "code",
   "execution_count": 160,
   "metadata": {},
   "outputs": [
    {
     "name": "stderr",
     "output_type": "stream",
     "text": [
      "100%|████████████████████████████████████████████████████████████████████████████████████| 9/9 [00:00<00:00, 57.46it/s]\n"
     ]
    }
   ],
   "source": [
    "from sklearn.linear_model import SGDClassifier\n",
    "from sklearn.metrics import roc_auc_score,auc\n",
    "train_auc=[]\n",
    "cv_auc=[]\n",
    "alpha=[10**i for i in range(-4,5)]\n",
    "for alf in tqdm(alpha):\n",
    "    model=SGDClassifier(loss='hinge',alpha=alf,penalty='l2')\n",
    "    model.fit(train_bow,y_train)\n",
    "    y_train_prob=[]\n",
    "    y_train_prob=model.decision_function(train_bow)\n",
    "    y_cv_prob=[]\n",
    "    y_cv_prob=model.decision_function(cv_bow)\n",
    "    train_auc.append(roc_auc_score(y_train,y_train_prob))\n",
    "    cv_auc.append(roc_auc_score(y_cv,y_cv_prob))"
   ]
  },
  {
   "cell_type": "code",
   "execution_count": 161,
   "metadata": {},
   "outputs": [
    {
     "data": {
      "image/png": "[encoded data removed]",
      "text/plain": [
       "<Figure size 432x288 with 1 Axes>"
      ]
     },
     "metadata": {
      "needs_background": "light"
     },
     "output_type": "display_data"
    },
    {
     "name": "stdout",
     "output_type": "stream",
     "text": [
      "[0.0001, 0.001, 0.01, 0.1, 1, 10, 100, 1000, 10000]\n"
     ]
    }
   ],
   "source": [
    "import math\n",
    "log_alpha=[math.log(i) for i in alpha]\n",
    "plt.plot(log_alpha,train_auc,label='train_auc')\n",
    "plt.plot(log_alpha,cv_auc,label='cv_auc')\n",
    "plt.legend()\n",
    "plt.scatter(log_alpha,train_auc)\n",
    "plt.scatter(log_alpha,cv_auc)\n",
    "plt.grid()\n",
    "plt.ylabel('auc')\n",
    "plt.xlabel('value of c')\n",
    "plt.show()\n",
    "print(alpha)"
   ]
  },
  {
   "cell_type": "code",
   "execution_count": 162,
   "metadata": {},
   "outputs": [],
   "source": [
    "sgd=SGDClassifier(loss='hinge')\n",
    "from sklearn.model_selection import GridSearchCV\n",
    "parameters = {'alpha':[10**i for i in range(-4,5)]}\n",
    "clf=GridSearchCV(sgd,parameters,cv=3,scoring='roc_auc',return_train_score=True)\n",
    "clf.fit(train_bow,y_train)\n",
    "train_auc= clf.cv_results_['mean_train_score']\n",
    "train_auc_std= clf.cv_results_['std_train_score']\n",
    "cv_auc = clf.cv_results_['mean_test_score'] \n",
    "cv_auc_std= clf.cv_results_['std_test_score']"
   ]
  },
  {
   "cell_type": "code",
   "execution_count": 163,
   "metadata": {},
   "outputs": [
    {
     "data": {
      "text/plain": [
       "{'alpha': 0.01}"
      ]
     },
     "execution_count": 163,
     "metadata": {},
     "output_type": "execute_result"
    }
   ],
   "source": [
    "clf.best_params_"
   ]
  },
  {
   "cell_type": "code",
   "execution_count": 164,
   "metadata": {},
   "outputs": [
    {
     "data": {
      "image/png": "[encoded data removed]",
      "text/plain": [
       "<Figure size 432x288 with 1 Axes>"
      ]
     },
     "metadata": {
      "needs_background": "light"
     },
     "output_type": "display_data"
    },
    {
     "name": "stdout",
     "output_type": "stream",
     "text": [
      "[0.0001, 0.001, 0.01, 0.1, 1, 10, 100, 1000, 10000]\n"
     ]
    }
   ],
   "source": [
    "import math\n",
    "alpha=[10**i for i in range(-4,5)]\n",
    "log_alpha=[math.log(i) for i in alpha]\n",
    "plt.plot(log_alpha,train_auc,label='train_auc')\n",
    "plt.plot(log_alpha,cv_auc,label='cv_auc')\n",
    "plt.legend()\n",
    "plt.scatter(log_alpha,train_auc)\n",
    "plt.scatter(log_alpha,cv_auc)\n",
    "plt.grid()\n",
    "plt.ylabel('auc')\n",
    "plt.xlabel('value of c')\n",
    "plt.show()\n",
    "print(alpha)"
   ]
  },
  {
   "cell_type": "code",
   "execution_count": 165,
   "metadata": {},
   "outputs": [],
   "source": [
    "best_alpha = 0.001\n",
    "from sklearn.metrics import roc_curve,auc\n",
    "model=SGDClassifier(alpha=best_alpha,penalty='l2',loss='hinge')\n",
    "model.fit(train_bow,y_train)\n",
    "y_train_pred=[]\n",
    "y_train_pred=model.decision_function(train_bow)\n",
    "fpr_train,tpr_train,thresholds_train=roc_curve(y_train,y_train_pred)\n",
    "y_test_pred=[]\n",
    "y_test_pred=model.decision_function(test_bow)\n",
    "fpr_test,tpr_test,thresholds_test=roc_curve(y_test,y_test_pred)"
   ]
  },
  {
   "cell_type": "code",
   "execution_count": 166,
   "metadata": {},
   "outputs": [
    {
     "data": {
      "text/plain": [
       "Text(0, 0.5, 'True positive rate')"
      ]
     },
     "execution_count": 166,
     "metadata": {},
     "output_type": "execute_result"
    },
    {
     "data": {
      "image/png": "[encoded data removed]",
      "text/plain": [
       "<Figure size 432x288 with 1 Axes>"
      ]
     },
     "metadata": {
      "needs_background": "light"
     },
     "output_type": "display_data"
    }
   ],
   "source": [
    "plt.title('Error')\n",
    "plt.plot(fpr_test,tpr_test,label='test='+str(auc(fpr_test,tpr_test)))\n",
    "plt.plot(fpr_train,tpr_train,label='train='+str(auc(fpr_train,tpr_train)))\n",
    "plt.legend()\n",
    "plt.xlabel('False positive rate')\n",
    "plt.ylabel('True positive rate')"
   ]
  },
  {
   "cell_type": "code",
   "execution_count": 167,
   "metadata": {},
   "outputs": [
    {
     "name": "stdout",
     "output_type": "stream",
     "text": [
      "Train Confusion Matrix\n",
      "[[ 854  134]\n",
      " [  17 5019]]\n"
     ]
    },
    {
     "data": {
      "text/plain": [
       "<AxesSubplot:>"
      ]
     },
     "execution_count": 167,
     "metadata": {},
     "output_type": "execute_result"
    },
    {
     "data": {
      "image/png": "[encoded data removed]",
      "text/plain": [
       "<Figure size 432x288 with 1 Axes>"
      ]
     },
     "metadata": {
      "needs_background": "light"
     },
     "output_type": "display_data"
    }
   ],
   "source": [
    "print('Train Confusion Matrix')\n",
    "print(confusion_matrix(y_train,model.predict(train_bow)))\n",
    "tn,fp,fn,tp=confusion_matrix(y_train,model.predict(train_bow)).ravel()\n",
    "mat=np.matrix([[tn,fn],[fp,tp]])\n",
    "sns.heatmap(mat, square=True, annot=True, fmt='d', cbar=False,            \n",
    "xticklabels=[0,1], yticklabels=[0,1]) "
   ]
  },
  {
   "cell_type": "code",
   "execution_count": 168,
   "metadata": {},
   "outputs": [
    {
     "name": "stdout",
     "output_type": "stream",
     "text": [
      "Test Confusion Matrix\n",
      "[[ 288  203]\n",
      " [  93 2286]]\n"
     ]
    },
    {
     "data": {
      "text/plain": [
       "<AxesSubplot:>"
      ]
     },
     "execution_count": 168,
     "metadata": {},
     "output_type": "execute_result"
    },
    {
     "data": {
      "image/png": "[encoded data removed]",
      "text/plain": [
       "<Figure size 432x288 with 1 Axes>"
      ]
     },
     "metadata": {
      "needs_background": "light"
     },
     "output_type": "display_data"
    }
   ],
   "source": [
    "print('Test Confusion Matrix')\n",
    "print(confusion_matrix(y_test,model.predict(test_bow)))\n",
    "tn,fp,fn,tp=confusion_matrix(y_test,model.predict(test_bow)).ravel()\n",
    "mat=np.matrix([[tn,fn],[fp,tp]])\n",
    "sns.heatmap(mat, square=True, annot=True, fmt='d', cbar=False,            \n",
    "xticklabels=[0,1], yticklabels=[0,1]) "
   ]
  },
  {
   "cell_type": "markdown",
   "metadata": {},
   "source": [
    "### [5.1.2] Applying Linear SVM on TFIDF,<font color='red'> SET 2</font>"
   ]
  },
  {
   "cell_type": "code",
   "execution_count": 169,
   "metadata": {},
   "outputs": [
    {
     "name": "stdout",
     "output_type": "stream",
     "text": [
      "(9564, 11)\n",
      "<class 'pandas.core.frame.DataFrame'>\n"
     ]
    }
   ],
   "source": [
    "print(final_sorted_data.shape)\n",
    "print(type(final_sorted_data))"
   ]
  },
  {
   "cell_type": "code",
   "execution_count": 170,
   "metadata": {},
   "outputs": [],
   "source": [
    "X=final_sorted_data['preprocessed_reviews']\n",
    "Y=final_sorted_data['Score']"
   ]
  },
  {
   "cell_type": "markdown",
   "metadata": {},
   "source": [
    "### Splitting into train,cv and test sets"
   ]
  },
  {
   "cell_type": "code",
   "execution_count": 171,
   "metadata": {},
   "outputs": [
    {
     "name": "stdout",
     "output_type": "stream",
     "text": [
      "(9564,)\n",
      "(9564,)\n",
      "<class 'pandas.core.series.Series'>\n"
     ]
    }
   ],
   "source": [
    "print(X.shape)\n",
    "print(Y.shape)\n",
    "print(type(Y))"
   ]
  },
  {
   "cell_type": "code",
   "execution_count": 172,
   "metadata": {},
   "outputs": [
    {
     "name": "stdout",
     "output_type": "stream",
     "text": [
      "(6024,)\n",
      "(6024,)\n",
      "(2870,)\n",
      "(2870,)\n",
      "(670,)\n",
      "(670,)\n"
     ]
    }
   ],
   "source": [
    "from sklearn.model_selection import train_test_split\n",
    "x_train,x_test,y_train,y_test=train_test_split(X,Y,test_size=0.3,random_state=0)\n",
    "x_train,x_cv,y_train,y_cv=train_test_split(x_train,y_train,test_size=0.1,random_state=0)\n",
    "print(x_train.shape)\n",
    "print(y_train.shape)\n",
    "print(x_test.shape)\n",
    "print(y_test.shape)\n",
    "print(x_cv.shape)\n",
    "print(y_cv.shape)"
   ]
  },
  {
   "cell_type": "code",
   "execution_count": 173,
   "metadata": {},
   "outputs": [],
   "source": [
    "from sklearn.feature_extraction.text import CountVectorizer\n",
    "vectorizer = tf_idf_vect = TfidfVectorizer(ngram_range=(1,2), min_df=10)\n",
    "def tfidf(data):\n",
    "    text_tfidf = vectorizer.transform(data)\n",
    "    return text_tfidf\n",
    "\n",
    "vectorizer.fit(x_train)\n",
    "train_tfidf=tfidf(x_train)\n",
    "test_tfidf=tfidf(x_test)\n",
    "cv_tfidf=tfidf(x_cv)\n",
    "tfidf_feature_name=vectorizer.get_feature_names()"
   ]
  },
  {
   "cell_type": "code",
   "execution_count": 174,
   "metadata": {},
   "outputs": [
    {
     "data": {
      "text/plain": [
       "['ability',\n",
       " 'able',\n",
       " 'able find',\n",
       " 'able use',\n",
       " 'absolute',\n",
       " 'absolute best',\n",
       " 'absolute favorite',\n",
       " 'absolutely',\n",
       " 'absolutely delicious',\n",
       " 'absolutely love',\n",
       " 'absolutely loves',\n",
       " 'acacia',\n",
       " 'according',\n",
       " 'account',\n",
       " 'acerola',\n",
       " 'acid',\n",
       " 'acidic',\n",
       " 'acidity',\n",
       " 'acquired',\n",
       " 'across',\n",
       " 'active',\n",
       " 'actual',\n",
       " 'actually',\n",
       " 'add',\n",
       " 'add little',\n",
       " 'add water',\n",
       " 'added',\n",
       " 'added bonus',\n",
       " 'added sugar',\n",
       " 'added sugars',\n",
       " 'addict',\n",
       " 'addicted',\n",
       " 'addicting',\n",
       " 'addictive',\n",
       " 'adding',\n",
       " 'addition',\n",
       " 'additional',\n",
       " 'additives',\n",
       " 'adds',\n",
       " 'adequate',\n",
       " 'admit',\n",
       " 'adopted',\n",
       " 'adore',\n",
       " 'adult',\n",
       " 'adults',\n",
       " 'advantage',\n",
       " 'advertised',\n",
       " 'advice',\n",
       " 'afford',\n",
       " 'affordable',\n",
       " 'afraid',\n",
       " 'afternoon',\n",
       " 'aftertaste',\n",
       " 'aftertaste not',\n",
       " 'afterwards',\n",
       " 'agave',\n",
       " 'age',\n",
       " 'ages',\n",
       " 'ago',\n",
       " 'agree',\n",
       " 'ahead',\n",
       " 'aid',\n",
       " 'air',\n",
       " 'air tight',\n",
       " 'alcohol',\n",
       " 'allergic',\n",
       " 'allergies',\n",
       " 'allergy',\n",
       " 'allow',\n",
       " 'allowed',\n",
       " 'allowing',\n",
       " 'allows',\n",
       " 'almond',\n",
       " 'almond milk',\n",
       " 'almonds',\n",
       " 'almost',\n",
       " 'almost every',\n",
       " 'almost like',\n",
       " 'alone',\n",
       " 'along',\n",
       " 'alot',\n",
       " 'already',\n",
       " 'also',\n",
       " 'also good',\n",
       " 'also great',\n",
       " 'also like',\n",
       " 'also love',\n",
       " 'also make',\n",
       " 'also not',\n",
       " 'also tried',\n",
       " 'also use',\n",
       " 'also used',\n",
       " 'alternative',\n",
       " 'alternative regular',\n",
       " 'alternatives',\n",
       " 'although',\n",
       " 'although not',\n",
       " 'aluminum',\n",
       " 'always',\n",
       " 'amazed',\n",
       " 'amazing',\n",
       " 'amazingly',\n",
       " 'amazon',\n",
       " 'amazon com',\n",
       " 'amazon get',\n",
       " 'amazon great',\n",
       " 'amazon not',\n",
       " 'amazon price',\n",
       " 'amazon prime',\n",
       " 'america',\n",
       " 'american',\n",
       " 'among',\n",
       " 'amount',\n",
       " 'amount salt',\n",
       " 'amounts',\n",
       " 'animal',\n",
       " 'animals',\n",
       " 'annie',\n",
       " 'annoying',\n",
       " 'another',\n",
       " 'another brand',\n",
       " 'another one',\n",
       " 'another reviewer',\n",
       " 'answer',\n",
       " 'antioxidants',\n",
       " 'anymore',\n",
       " 'anyone',\n",
       " 'anything',\n",
       " 'anything else',\n",
       " 'anything like',\n",
       " 'anytime',\n",
       " 'anyway',\n",
       " 'anywhere',\n",
       " 'apart',\n",
       " 'apparently',\n",
       " 'appeal',\n",
       " 'appealing',\n",
       " 'appear',\n",
       " 'appears',\n",
       " 'apple',\n",
       " 'apple grape',\n",
       " 'apples',\n",
       " 'appreciate',\n",
       " 'approximately',\n",
       " 'area',\n",
       " 'aroma',\n",
       " 'aroma taste',\n",
       " 'aromatic',\n",
       " 'around',\n",
       " 'around house',\n",
       " 'arrive',\n",
       " 'arrived',\n",
       " 'arrived quickly',\n",
       " 'arrived time',\n",
       " 'arrives',\n",
       " 'artificial',\n",
       " 'artificial flavors',\n",
       " 'artificial sweeteners',\n",
       " 'asian',\n",
       " 'aside',\n",
       " 'ask',\n",
       " 'asked',\n",
       " 'asking',\n",
       " 'assorted',\n",
       " 'assortment',\n",
       " 'assume',\n",
       " 'assuming',\n",
       " 'ate',\n",
       " 'attempt',\n",
       " 'attention',\n",
       " 'attractive',\n",
       " 'audio',\n",
       " 'authentic',\n",
       " 'auto',\n",
       " 'automatic',\n",
       " 'available',\n",
       " 'available amazon',\n",
       " 'average',\n",
       " 'avoid',\n",
       " 'awake',\n",
       " 'aware',\n",
       " 'away',\n",
       " 'away not',\n",
       " 'awesome',\n",
       " 'awful',\n",
       " 'awhile',\n",
       " 'babies',\n",
       " 'baby',\n",
       " 'baby food',\n",
       " 'baby loves',\n",
       " 'back',\n",
       " 'bacon',\n",
       " 'bad',\n",
       " 'bad batch',\n",
       " 'bad not',\n",
       " 'bad taste',\n",
       " 'bag',\n",
       " 'bag not',\n",
       " 'bags',\n",
       " 'bake',\n",
       " 'baked',\n",
       " 'baked goods',\n",
       " 'baking',\n",
       " 'baking mix',\n",
       " 'baking soda',\n",
       " 'balance',\n",
       " 'balanced',\n",
       " 'ball',\n",
       " 'balls',\n",
       " 'banana',\n",
       " 'bananas',\n",
       " 'bar',\n",
       " 'barbecue',\n",
       " 'barbeque',\n",
       " 'barely',\n",
       " 'bargain',\n",
       " 'barley',\n",
       " 'bars',\n",
       " 'base',\n",
       " 'based',\n",
       " 'basic',\n",
       " 'basically',\n",
       " 'basil',\n",
       " 'basis',\n",
       " 'basket',\n",
       " 'batch',\n",
       " 'batches',\n",
       " 'batter',\n",
       " 'bbq',\n",
       " 'bean',\n",
       " 'beans',\n",
       " 'bear',\n",
       " 'bears',\n",
       " 'beat',\n",
       " 'beats',\n",
       " 'beautiful',\n",
       " 'beautifully',\n",
       " 'became',\n",
       " 'become',\n",
       " 'becomes',\n",
       " 'becoming',\n",
       " 'bed',\n",
       " 'beef',\n",
       " 'beef jerky',\n",
       " 'beer',\n",
       " 'began',\n",
       " 'begin',\n",
       " 'beginning',\n",
       " 'behind',\n",
       " 'belgian',\n",
       " 'believe',\n",
       " 'belly',\n",
       " 'benefit',\n",
       " 'benefits',\n",
       " 'berries',\n",
       " 'berry',\n",
       " 'besides',\n",
       " 'best',\n",
       " 'best baby',\n",
       " 'best coffee',\n",
       " 'best cup',\n",
       " 'best ever',\n",
       " 'best flavor',\n",
       " 'best found',\n",
       " 'best hot',\n",
       " 'best not',\n",
       " 'best part',\n",
       " 'best price',\n",
       " 'best tasting',\n",
       " 'best thing',\n",
       " 'best way',\n",
       " 'bet',\n",
       " 'better',\n",
       " 'better not',\n",
       " 'better price',\n",
       " 'better regular',\n",
       " 'better tasting',\n",
       " 'betty',\n",
       " 'betty crocker',\n",
       " 'beverage',\n",
       " 'beverages',\n",
       " 'beware',\n",
       " 'beyond',\n",
       " 'big',\n",
       " 'big fan',\n",
       " 'big hit',\n",
       " 'bigger',\n",
       " 'biggest',\n",
       " 'bill',\n",
       " 'birthday',\n",
       " 'biscuit',\n",
       " 'biscuits',\n",
       " 'bisquick',\n",
       " 'bit',\n",
       " 'bit better',\n",
       " 'bite',\n",
       " 'bites',\n",
       " 'bits',\n",
       " 'bitter',\n",
       " 'bitter aftertaste',\n",
       " 'bitter not',\n",
       " 'bitter taste',\n",
       " 'bitterness',\n",
       " 'black',\n",
       " 'black tea',\n",
       " 'bland',\n",
       " 'blend',\n",
       " 'blender',\n",
       " 'blends',\n",
       " 'blood',\n",
       " 'blood pressure',\n",
       " 'blood sugar',\n",
       " 'blown',\n",
       " 'blue',\n",
       " 'blue diamond',\n",
       " 'blueberries',\n",
       " 'blueberry',\n",
       " 'bob',\n",
       " 'bob red',\n",
       " 'bodied',\n",
       " 'body',\n",
       " 'boil',\n",
       " 'bold',\n",
       " 'bold coffee',\n",
       " 'bone',\n",
       " 'bones',\n",
       " 'bonus',\n",
       " 'book',\n",
       " 'boost',\n",
       " 'born',\n",
       " 'bother',\n",
       " 'bottle',\n",
       " 'bottled',\n",
       " 'bottles',\n",
       " 'bottom',\n",
       " 'bottom bag',\n",
       " 'bottom line',\n",
       " 'bought',\n",
       " 'bought one',\n",
       " 'bought product',\n",
       " 'bowel',\n",
       " 'bowl',\n",
       " 'bowls',\n",
       " 'box',\n",
       " 'box not',\n",
       " 'boxed',\n",
       " 'boxes',\n",
       " 'boy',\n",
       " 'boyfriend',\n",
       " 'boys',\n",
       " 'bpa',\n",
       " 'bpa free',\n",
       " 'brand',\n",
       " 'brand chips',\n",
       " 'brand coffee',\n",
       " 'brand not',\n",
       " 'brands',\n",
       " 'brands not',\n",
       " 'brands tried',\n",
       " 'bread',\n",
       " 'breads',\n",
       " 'break',\n",
       " 'breakfast',\n",
       " 'breakfast bed',\n",
       " 'breakfast blend',\n",
       " 'breaking',\n",
       " 'breath',\n",
       " 'breed',\n",
       " 'brew',\n",
       " 'brewed',\n",
       " 'brewer',\n",
       " 'brewing',\n",
       " 'brews',\n",
       " 'bright',\n",
       " 'bring',\n",
       " 'brings',\n",
       " 'broccoli',\n",
       " 'broke',\n",
       " 'broken',\n",
       " 'broth',\n",
       " 'brother',\n",
       " 'brought',\n",
       " 'brown',\n",
       " 'brown rice',\n",
       " 'brown sugar',\n",
       " 'brownies',\n",
       " 'btw',\n",
       " 'bubble',\n",
       " 'bucks',\n",
       " 'budget',\n",
       " 'buds',\n",
       " 'buffalo',\n",
       " 'bulk',\n",
       " 'bunch',\n",
       " 'burn',\n",
       " 'burned',\n",
       " 'burnt',\n",
       " 'business',\n",
       " 'busy',\n",
       " 'butter',\n",
       " 'buttermilk',\n",
       " 'buttery',\n",
       " 'buy',\n",
       " 'buy amazon',\n",
       " 'buy bulk',\n",
       " 'buy case',\n",
       " 'buy not',\n",
       " 'buy one',\n",
       " 'buy product',\n",
       " 'buy store',\n",
       " 'buyer',\n",
       " 'buying',\n",
       " 'buying product',\n",
       " 'ca',\n",
       " 'ca not',\n",
       " 'cafe',\n",
       " 'caffeine',\n",
       " 'cajun',\n",
       " 'cake',\n",
       " 'cake mix',\n",
       " 'cakes',\n",
       " 'cal',\n",
       " 'calcium',\n",
       " 'california',\n",
       " 'call',\n",
       " 'called',\n",
       " 'calls',\n",
       " 'calorie',\n",
       " 'calorie count',\n",
       " 'calories',\n",
       " 'calories fat',\n",
       " 'calories not',\n",
       " 'calories per',\n",
       " 'came',\n",
       " 'came across',\n",
       " 'candies',\n",
       " 'candy',\n",
       " 'cane',\n",
       " 'cane sugar',\n",
       " 'canned',\n",
       " 'canned food',\n",
       " 'cannot',\n",
       " 'cannot find',\n",
       " 'canola',\n",
       " 'cans',\n",
       " 'cant',\n",
       " 'car',\n",
       " 'caramel',\n",
       " 'carb',\n",
       " 'carb diet',\n",
       " 'carbonated',\n",
       " 'carbonated juice',\n",
       " 'carbonated water',\n",
       " 'carbonation',\n",
       " 'carbs',\n",
       " 'card',\n",
       " 'cardboard',\n",
       " 'care',\n",
       " 'careful',\n",
       " 'carefully',\n",
       " 'caribou',\n",
       " 'carried',\n",
       " 'carries',\n",
       " 'carrot',\n",
       " 'carrots',\n",
       " 'carry',\n",
       " 'carrying',\n",
       " 'carton',\n",
       " 'case',\n",
       " 'case not',\n",
       " 'cases',\n",
       " 'cat',\n",
       " 'cat food',\n",
       " 'cat grass',\n",
       " 'cat loves',\n",
       " 'catch',\n",
       " 'cats',\n",
       " 'cats love',\n",
       " 'caught',\n",
       " 'cause',\n",
       " 'caused',\n",
       " 'causes',\n",
       " 'caution',\n",
       " 'celery',\n",
       " 'celiac',\n",
       " 'celiac disease',\n",
       " 'center',\n",
       " 'cents',\n",
       " 'cents per',\n",
       " 'cereal',\n",
       " 'cereals',\n",
       " 'certain',\n",
       " 'certainly',\n",
       " 'certainly not',\n",
       " 'certified',\n",
       " 'challenge',\n",
       " 'chamomile',\n",
       " 'chance',\n",
       " 'change',\n",
       " 'changed',\n",
       " 'changes',\n",
       " 'changing',\n",
       " 'character',\n",
       " 'charge',\n",
       " 'charges',\n",
       " 'charging',\n",
       " 'cheap',\n",
       " 'cheaper',\n",
       " 'cheapest',\n",
       " 'check',\n",
       " 'checked',\n",
       " 'cheddar',\n",
       " 'cheese',\n",
       " 'chemical',\n",
       " 'chemicals',\n",
       " 'cherry',\n",
       " 'chew',\n",
       " 'chewing',\n",
       " 'chews',\n",
       " 'chewy',\n",
       " 'chia',\n",
       " 'chia seeds',\n",
       " 'chicken',\n",
       " 'child',\n",
       " 'childhood',\n",
       " 'children',\n",
       " 'chili',\n",
       " 'chilled',\n",
       " 'china',\n",
       " 'chinese',\n",
       " 'chip',\n",
       " 'chips',\n",
       " 'chips ever',\n",
       " 'chips great',\n",
       " 'chips not',\n",
       " 'chips really',\n",
       " 'chips taste',\n",
       " 'chocolate',\n",
       " 'chocolate chip',\n",
       " 'chocolate cups',\n",
       " 'chocolate flavor',\n",
       " 'chocolate not',\n",
       " 'chocolates',\n",
       " 'chocolatey',\n",
       " 'choice',\n",
       " 'choices',\n",
       " 'cholesterol',\n",
       " 'choose',\n",
       " 'chopped',\n",
       " 'chose',\n",
       " 'chowder',\n",
       " 'christmas',\n",
       " 'chunks',\n",
       " 'cider',\n",
       " 'cinnamon',\n",
       " 'citrus',\n",
       " 'claim',\n",
       " 'claims',\n",
       " 'clam',\n",
       " 'clam chowder',\n",
       " 'class',\n",
       " 'classic',\n",
       " 'clean',\n",
       " 'cleaning',\n",
       " 'clear',\n",
       " 'clearly',\n",
       " 'close',\n",
       " 'closer',\n",
       " 'closest',\n",
       " 'club',\n",
       " 'co',\n",
       " 'coast',\n",
       " 'coat',\n",
       " 'coated',\n",
       " 'coating',\n",
       " 'coats',\n",
       " 'coco',\n",
       " 'cocoa',\n",
       " 'cocoa powder',\n",
       " 'coconut',\n",
       " 'coconut oil',\n",
       " 'coconut water',\n",
       " 'coffee',\n",
       " 'coffee beans',\n",
       " 'coffee best',\n",
       " 'coffee cups',\n",
       " 'coffee drinker',\n",
       " 'coffee drinkers',\n",
       " 'coffee ever',\n",
       " 'coffee every',\n",
       " 'coffee flavor',\n",
       " 'coffee good',\n",
       " 'coffee great',\n",
       " 'coffee like',\n",
       " 'coffee machine',\n",
       " 'coffee maker',\n",
       " 'coffee no',\n",
       " 'coffee not',\n",
       " 'coffee one',\n",
       " 'coffee people',\n",
       " 'coffee shop',\n",
       " 'coffee smooth',\n",
       " 'coffee strong',\n",
       " 'coffee tastes',\n",
       " 'coffee tea',\n",
       " 'coffee use',\n",
       " 'coffee would',\n",
       " 'coffees',\n",
       " 'coke',\n",
       " 'cold',\n",
       " 'cold water',\n",
       " 'collection',\n",
       " 'color',\n",
       " 'colored',\n",
       " 'coloring',\n",
       " 'colors',\n",
       " 'com',\n",
       " 'combination',\n",
       " 'combined',\n",
       " 'combo',\n",
       " 'come',\n",
       " 'comes',\n",
       " 'coming',\n",
       " 'comment',\n",
       " 'comments',\n",
       " 'commercial',\n",
       " 'common',\n",
       " 'companies',\n",
       " 'company',\n",
       " 'company not',\n",
       " 'comparable',\n",
       " 'compare',\n",
       " 'compared',\n",
       " 'comparison',\n",
       " 'complain',\n",
       " 'complained',\n",
       " 'complaint',\n",
       " 'complaints',\n",
       " 'complete',\n",
       " 'completely',\n",
       " 'complex',\n",
       " 'computer',\n",
       " 'concentrate',\n",
       " 'concentrates',\n",
       " 'concerned',\n",
       " 'concerns',\n",
       " 'condition',\n",
       " 'confused',\n",
       " 'consider',\n",
       " 'considered',\n",
       " 'considering',\n",
       " 'consistency',\n",
       " 'consistent',\n",
       " 'consistently',\n",
       " 'constant',\n",
       " 'constantly',\n",
       " 'consume',\n",
       " 'consumed',\n",
       " 'consumer',\n",
       " 'consuming',\n",
       " 'consumption',\n",
       " 'contact',\n",
       " 'contain',\n",
       " 'contained',\n",
       " 'container',\n",
       " 'containers',\n",
       " 'containing',\n",
       " 'contains',\n",
       " 'content',\n",
       " 'contents',\n",
       " 'continue',\n",
       " 'continue buy',\n",
       " 'continued',\n",
       " 'control',\n",
       " 'convenience',\n",
       " 'convenient',\n",
       " 'cook',\n",
       " 'cooked',\n",
       " 'cookie',\n",
       " 'cookie bars',\n",
       " 'cookies',\n",
       " 'cooking',\n",
       " 'cooks',\n",
       " 'cool',\n",
       " 'corn',\n",
       " 'corn syrup',\n",
       " 'corner',\n",
       " 'correct',\n",
       " 'correctly',\n",
       " 'cost',\n",
       " 'costco',\n",
       " 'costs',\n",
       " 'could',\n",
       " 'could buy',\n",
       " 'could eat',\n",
       " 'could find',\n",
       " 'could get',\n",
       " 'could make',\n",
       " 'could not',\n",
       " 'count',\n",
       " 'counter',\n",
       " 'country',\n",
       " 'couple',\n",
       " 'couple days',\n",
       " 'couple years',\n",
       " 'coupon',\n",
       " 'course',\n",
       " 'cover',\n",
       " 'covered',\n",
       " 'cow',\n",
       " 'cow milk',\n",
       " 'cracked',\n",
       " 'cracker',\n",
       " 'crackers',\n",
       " 'crap',\n",
       " 'crave',\n",
       " 'craving',\n",
       " 'cravings',\n",
       " 'crazy',\n",
       " 'cream',\n",
       " 'cream cheese',\n",
       " 'cream onion',\n",
       " 'cream sugar',\n",
       " 'creamer',\n",
       " 'creamy',\n",
       " 'create',\n",
       " 'created',\n",
       " 'creates',\n",
       " 'creme',\n",
       " 'crisp',\n",
       " 'crisps',\n",
       " 'crispy',\n",
       " 'crocker',\n",
       " 'crumbled',\n",
       " 'crumbly',\n",
       " 'crumbs',\n",
       " 'crunch',\n",
       " 'crunchy',\n",
       " 'crushed',\n",
       " 'crust',\n",
       " 'cubes',\n",
       " 'cup',\n",
       " 'cup coffee',\n",
       " 'cup hot',\n",
       " 'cup not',\n",
       " 'cup setting',\n",
       " 'cup size',\n",
       " 'cup tea',\n",
       " 'cupboard',\n",
       " 'cupcakes',\n",
       " 'cups',\n",
       " 'cups not',\n",
       " 'current',\n",
       " 'currently',\n",
       " 'curry',\n",
       " 'customer',\n",
       " 'customer service',\n",
       " 'customers',\n",
       " 'cut',\n",
       " 'cut back',\n",
       " 'cute',\n",
       " 'cutting',\n",
       " 'dad',\n",
       " 'daily',\n",
       " 'dairy',\n",
       " 'dairy free',\n",
       " 'damage',\n",
       " 'damaged',\n",
       " 'dark',\n",
       " 'dark chocolate',\n",
       " 'dark roast',\n",
       " 'darker',\n",
       " 'darn',\n",
       " 'date',\n",
       " 'dates',\n",
       " 'daughter',\n",
       " 'daughter loves',\n",
       " 'day',\n",
       " 'day not',\n",
       " 'days',\n",
       " 'de',\n",
       " 'dead',\n",
       " 'deal',\n",
       " 'decaf',\n",
       " 'decaf coffee',\n",
       " 'decaffeinated',\n",
       " 'decent',\n",
       " 'decide',\n",
       " 'decided',\n",
       " 'decided give',\n",
       " 'decided try',\n",
       " 'deep',\n",
       " 'definately',\n",
       " 'definite',\n",
       " 'definitely',\n",
       " 'definitely buy',\n",
       " 'definitely buying',\n",
       " 'definitely not',\n",
       " 'definitely order',\n",
       " 'definitely recommend',\n",
       " 'definitely worth',\n",
       " 'degrees',\n",
       " 'delicate',\n",
       " 'delicious',\n",
       " 'delicious not',\n",
       " 'delight',\n",
       " 'delighted',\n",
       " 'delightful',\n",
       " 'delivered',\n",
       " 'delivers',\n",
       " 'delivery',\n",
       " 'dense',\n",
       " 'dented',\n",
       " 'depending',\n",
       " 'describe',\n",
       " 'described',\n",
       " 'description',\n",
       " 'design',\n",
       " 'designed',\n",
       " 'desired',\n",
       " 'desk',\n",
       " 'despite',\n",
       " 'dessert',\n",
       " 'desserts',\n",
       " 'diabetes',\n",
       " 'diabetic',\n",
       " 'diagnosed',\n",
       " 'diamond',\n",
       " 'diarrhea',\n",
       " 'didnt',\n",
       " 'diet',\n",
       " 'dietary',\n",
       " 'dieting',\n",
       " 'diets',\n",
       " 'difference',\n",
       " 'different',\n",
       " 'different brand',\n",
       " 'different brands',\n",
       " 'different flavors',\n",
       " 'different kinds',\n",
       " 'different types',\n",
       " 'differently',\n",
       " 'difficult',\n",
       " 'difficult find',\n",
       " 'digest',\n",
       " 'digestion',\n",
       " 'digestive',\n",
       " 'digestive system',\n",
       " 'dinner',\n",
       " 'dinners',\n",
       " 'dip',\n",
       " 'dipping',\n",
       " 'dips',\n",
       " 'direct',\n",
       " 'directions',\n",
       " 'directly',\n",
       " 'dirt',\n",
       " 'dirty',\n",
       " 'disappointed',\n",
       " 'disappointed product',\n",
       " 'disappointing',\n",
       " 'disappointment',\n",
       " 'discontinued',\n",
       " 'discount',\n",
       " 'discover',\n",
       " 'discovered',\n",
       " 'disease',\n",
       " 'disgusting',\n",
       " 'dish',\n",
       " 'dishes',\n",
       " 'dislike',\n",
       " 'disposable',\n",
       " 'disposakups',\n",
       " 'dissolve',\n",
       " 'dissolved',\n",
       " 'dissolves',\n",
       " 'distinct',\n",
       " 'doctor',\n",
       " 'doesnt',\n",
       " 'dog',\n",
       " 'dog food',\n",
       " 'dog loves',\n",
       " 'dog not',\n",
       " 'dogs',\n",
       " 'dogs love',\n",
       " 'dollar',\n",
       " 'dollars',\n",
       " 'done',\n",
       " 'dont',\n",
       " 'donut',\n",
       " 'donut shop',\n",
       " 'donuts',\n",
       " 'door',\n",
       " 'dose',\n",
       " 'double',\n",
       " 'doubt',\n",
       " 'dough',\n",
       " 'downside',\n",
       " 'dozen',\n",
       " 'dr',\n",
       " 'drank',\n",
       " 'drawback',\n",
       " 'dressing',\n",
       " 'dried',\n",
       " 'drink',\n",
       " 'drink coffee',\n",
       " 'drink lot',\n",
       " 'drink not',\n",
       " 'drinker',\n",
       " 'drinkers',\n",
       " 'drinking',\n",
       " 'drinking tea',\n",
       " 'drinks',\n",
       " 'drip',\n",
       " 'drip coffee',\n",
       " 'drive',\n",
       " 'drop',\n",
       " 'dropped',\n",
       " 'drops',\n",
       " 'drunk',\n",
       " 'dry',\n",
       " 'dry food',\n",
       " 'due',\n",
       " 'dunkin',\n",
       " 'dust',\n",
       " 'earlier',\n",
       " 'early',\n",
       " 'earth',\n",
       " 'earth best',\n",
       " 'earthy',\n",
       " 'ease',\n",
       " 'easier',\n",
       " 'easily',\n",
       " 'easy',\n",
       " 'easy make',\n",
       " 'easy prepare',\n",
       " 'easy use',\n",
       " 'easy way',\n",
       " 'eat',\n",
       " 'eat anything',\n",
       " 'eat much',\n",
       " 'eat not',\n",
       " 'eat one',\n",
       " 'eat whole',\n",
       " 'eaten',\n",
       " 'eater',\n",
       " 'eating',\n",
       " 'eats',\n",
       " 'economical',\n",
       " 'edge',\n",
       " 'edible',\n",
       " 'edit',\n",
       " 'effect',\n",
       " 'effective',\n",
       " 'effects',\n",
       " 'effort',\n",
       " 'egg',\n",
       " 'eggs',\n",
       " 'either',\n",
       " 'either way',\n",
       " 'electrolytes',\n",
       " 'else',\n",
       " 'elsewhere',\n",
       " 'em',\n",
       " 'email',\n",
       " 'empty',\n",
       " 'end',\n",
       " 'ended',\n",
       " 'ends',\n",
       " 'energy',\n",
       " 'energy drink',\n",
       " 'england',\n",
       " 'english',\n",
       " 'enjoy',\n",
       " 'enjoyable',\n",
       " 'enjoyed',\n",
       " 'enjoying',\n",
       " 'enjoys',\n",
       " 'enough',\n",
       " 'entire',\n",
       " 'entirely',\n",
       " 'equal',\n",
       " 'equally',\n",
       " 'equivalent',\n",
       " 'error',\n",
       " 'especially',\n",
       " 'especially like',\n",
       " 'espresso',\n",
       " 'essential',\n",
       " 'etc',\n",
       " 'european',\n",
       " 'even',\n",
       " 'even better',\n",
       " 'even like',\n",
       " 'even not',\n",
       " 'even though',\n",
       " 'evening',\n",
       " 'eventually',\n",
       " 'ever',\n",
       " 'ever eaten',\n",
       " ...]"
      ]
     },
     "execution_count": 174,
     "metadata": {},
     "output_type": "execute_result"
    }
   ],
   "source": [
    "tfidf_feature_name"
   ]
  },
  {
   "cell_type": "code",
   "execution_count": 175,
   "metadata": {},
   "outputs": [
    {
     "name": "stdout",
     "output_type": "stream",
     "text": [
      "(6024, 3793)\n",
      "(670, 3793)\n",
      "(2870, 3793)\n"
     ]
    }
   ],
   "source": [
    "print(train_tfidf.shape)\n",
    "print(cv_tfidf.shape)\n",
    "print(test_tfidf.shape)"
   ]
  },
  {
   "cell_type": "markdown",
   "metadata": {},
   "source": [
    "### Training and Testing"
   ]
  },
  {
   "cell_type": "code",
   "execution_count": 176,
   "metadata": {},
   "outputs": [],
   "source": [
    "sgd=SGDClassifier(loss='hinge',penalty='l1')\n",
    "from sklearn.model_selection import GridSearchCV\n",
    "parameters = {'alpha':[10**i for i in range(-9,5)]}\n",
    "clf=GridSearchCV(sgd,parameters,cv=3,scoring='roc_auc',return_train_score=True)\n",
    "clf.fit(train_tfidf,y_train)\n",
    "train_auc_std= clf.cv_results_['std_train_score']\n",
    "cv_auc_std = clf.cv_results_['mean_test_score'] \n",
    "cv_auc_std= clf.cv_results_['std_test_score']"
   ]
  },
  {
   "cell_type": "code",
   "execution_count": 177,
   "metadata": {},
   "outputs": [
    {
     "data": {
      "text/plain": [
       "{'alpha': 0.0001}"
      ]
     },
     "execution_count": 177,
     "metadata": {},
     "output_type": "execute_result"
    }
   ],
   "source": [
    "clf.best_params_"
   ]
  },
  {
   "cell_type": "code",
   "execution_count": 178,
   "metadata": {},
   "outputs": [
    {
     "data": {
      "image/png": "[encoded data removed]",
      "text/plain": [
       "<Figure size 432x288 with 1 Axes>"
      ]
     },
     "metadata": {
      "needs_background": "light"
     },
     "output_type": "display_data"
    },
    {
     "name": "stdout",
     "output_type": "stream",
     "text": [
      "[1e-09, 1e-08, 1e-07, 1e-06, 1e-05, 0.0001, 0.001, 0.01, 0.1, 1, 10, 100, 1000, 10000]\n"
     ]
    }
   ],
   "source": [
    "import math\n",
    "alpha=[10**i for i in range(-9,5)]\n",
    "log_alpha=[math.log(i) for i in alpha]\n",
    "plt.plot(log_alpha,train_auc_std,label='train_auc_std')\n",
    "plt.plot(log_alpha,cv_auc_std,label='cv_auc_std')\n",
    "plt.legend()\n",
    "plt.scatter(log_alpha,train_auc_std)\n",
    "plt.scatter(log_alpha,cv_auc_std)\n",
    "plt.grid()\n",
    "plt.ylabel('auc')\n",
    "plt.xlabel('value of alpha')\n",
    "plt.show()\n",
    "print(alpha)"
   ]
  },
  {
   "cell_type": "code",
   "execution_count": 179,
   "metadata": {},
   "outputs": [],
   "source": [
    "best_alpha =0.0001\n",
    "from sklearn.metrics import roc_curve,auc\n",
    "model=SGDClassifier(alpha=best_alpha,penalty='l2',loss='hinge')\n",
    "model.fit(train_tfidf,y_train)\n",
    "y_train_pred=[]\n",
    "y_train_pred=model.decision_function(train_tfidf)\n",
    "fpr_train,tpr_train,thresholds_train=roc_curve(y_train,y_train_pred)\n",
    "y_test_pred=[]\n",
    "y_test_pred=model.decision_function(test_tfidf)\n",
    "fpr_test,tpr_test,thresholds_test=roc_curve(y_test,y_test_pred)"
   ]
  },
  {
   "cell_type": "code",
   "execution_count": 180,
   "metadata": {},
   "outputs": [
    {
     "data": {
      "text/plain": [
       "Text(0, 0.5, 'True positive rate')"
      ]
     },
     "execution_count": 180,
     "metadata": {},
     "output_type": "execute_result"
    },
    {
     "data": {
      "image/png": "[encoded data removed]",
      "text/plain": [
       "<Figure size 432x288 with 1 Axes>"
      ]
     },
     "metadata": {
      "needs_background": "light"
     },
     "output_type": "display_data"
    }
   ],
   "source": [
    "plt.title('Error')\n",
    "plt.plot(fpr_test,tpr_test,label='test='+str(auc(fpr_test,tpr_test)))\n",
    "plt.plot(fpr_train,tpr_train,label='train='+str(auc(fpr_train,tpr_train)))\n",
    "plt.legend()\n",
    "plt.xlabel('False positive rate')\n",
    "plt.ylabel('True positive rate')"
   ]
  },
  {
   "cell_type": "code",
   "execution_count": 181,
   "metadata": {},
   "outputs": [
    {
     "name": "stdout",
     "output_type": "stream",
     "text": [
      "Train Confusion Matrix\n",
      "[[ 845  143]\n",
      " [  17 5019]]\n"
     ]
    },
    {
     "data": {
      "text/plain": [
       "<AxesSubplot:>"
      ]
     },
     "execution_count": 181,
     "metadata": {},
     "output_type": "execute_result"
    },
    {
     "data": {
      "image/png": "[encoded data removed]",
      "text/plain": [
       "<Figure size 432x288 with 1 Axes>"
      ]
     },
     "metadata": {
      "needs_background": "light"
     },
     "output_type": "display_data"
    }
   ],
   "source": [
    "print('Train Confusion Matrix')\n",
    "print(confusion_matrix(y_train,model.predict(train_tfidf)))\n",
    "tn,fp,fn,tp=confusion_matrix(y_train,model.predict(train_tfidf)).ravel()\n",
    "mat=np.matrix([[tn,fn],[fp,tp]])\n",
    "sns.heatmap(mat, square=True, annot=True, fmt='d', cbar=False,            \n",
    "xticklabels=[0,1], yticklabels=[0,1]) "
   ]
  },
  {
   "cell_type": "code",
   "execution_count": 182,
   "metadata": {},
   "outputs": [
    {
     "name": "stdout",
     "output_type": "stream",
     "text": [
      "Test Confusion Matrix\n",
      "[[ 285  206]\n",
      " [  62 2317]]\n"
     ]
    },
    {
     "data": {
      "text/plain": [
       "<AxesSubplot:>"
      ]
     },
     "execution_count": 182,
     "metadata": {},
     "output_type": "execute_result"
    },
    {
     "data": {
      "image/png": "[encoded data removed]",
      "text/plain": [
       "<Figure size 432x288 with 1 Axes>"
      ]
     },
     "metadata": {
      "needs_background": "light"
     },
     "output_type": "display_data"
    }
   ],
   "source": [
    "print('Test Confusion Matrix')\n",
    "print(confusion_matrix(y_test,model.predict(test_tfidf)))\n",
    "tn,fp,fn,tp=confusion_matrix(y_test,model.predict(test_tfidf)).ravel()\n",
    "mat=np.matrix([[tn,fn],[fp,tp]])\n",
    "sns.heatmap(mat, square=True, annot=True, fmt='d', cbar=False,            \n",
    "xticklabels=[0,1], yticklabels=[0,1]) "
   ]
  },
  {
   "cell_type": "markdown",
   "metadata": {},
   "source": [
    "### [5.1.3]  Applying Linear SVM on AVG W2V,<font color='red'> SET 3</font>"
   ]
  },
  {
   "cell_type": "code",
   "execution_count": 183,
   "metadata": {},
   "outputs": [
    {
     "data": {
      "text/plain": [
       "Index(['Id', 'ProductId', 'UserId', 'ProfileName', 'HelpfulnessNumerator',\n",
       "       'HelpfulnessDenominator', 'Score', 'Time', 'Summary', 'Text',\n",
       "       'preprocessed_reviews'],\n",
       "      dtype='object')"
      ]
     },
     "execution_count": 183,
     "metadata": {},
     "output_type": "execute_result"
    }
   ],
   "source": [
    "final_sorted_data.columns"
   ]
  },
  {
   "cell_type": "code",
   "execution_count": 184,
   "metadata": {},
   "outputs": [
    {
     "name": "stdout",
     "output_type": "stream",
     "text": [
      "Loaded 400000 word vectors.\n"
     ]
    }
   ],
   "source": [
    "# load the whole embedding into memory\n",
    "model = dict()\n",
    "f = open('F:\\APPLIED_AI_COURSE\\CASE STUDY MACHINE LEARNING\\CASE STUDY-AMAZON FINE FOOD REVIEWS\\glove.6B.200d.txt',encoding=\"utf8\")\n",
    "for line in f:\n",
    "\tvalues = line.split()\n",
    "\tword = values[0]\n",
    "\tcoefs = np.asarray(values[1:], dtype='float32')\n",
    "\tmodel[word] = coefs\n",
    "f.close()\n",
    "print('Loaded %s word vectors.' % len(model))"
   ]
  },
  {
   "cell_type": "code",
   "execution_count": 185,
   "metadata": {},
   "outputs": [],
   "source": [
    "# average Word2Vec\n",
    "# compute average word2vec for each review.\n",
    "def avg_w2v(data):\n",
    "    glove_words =  set(model.keys())\n",
    "    avg_w2v_vectors = []; # the avg-w2v for each sentence/review is stored in this list\n",
    "    for sentence in data: # for each review/sentence\n",
    "        vector = np.zeros(200) # as word vectors are of zero length\n",
    "        cnt_words =0; # num of words with a valid vector in the sentence/review\n",
    "        for word in sentence.split(): # for each word in a review/sentence\n",
    "            if word in glove_words:\n",
    "                vector += model[word]\n",
    "                cnt_words += 1\n",
    "        if cnt_words != 0:\n",
    "            vector /= cnt_words\n",
    "        avg_w2v_vectors.append(vector)\n",
    "    return avg_w2v_vectors\n"
   ]
  },
  {
   "cell_type": "code",
   "execution_count": 186,
   "metadata": {},
   "outputs": [],
   "source": [
    "X=final_sorted_data['preprocessed_reviews']\n",
    "Y=final_sorted_data['Score']"
   ]
  },
  {
   "cell_type": "code",
   "execution_count": 187,
   "metadata": {},
   "outputs": [
    {
     "name": "stdout",
     "output_type": "stream",
     "text": [
      "6024\n",
      "6024\n",
      "2870\n",
      "2870\n",
      "670\n",
      "670\n"
     ]
    }
   ],
   "source": [
    "from sklearn.model_selection import train_test_split\n",
    "x_train,test_avgw2v,y_train,y_test=train_test_split(X,Y,test_size=0.3,random_state=0)\n",
    "train_avgw2v,cv_avgw2v,y_train,y_cv=train_test_split(x_train,y_train,test_size=0.1,random_state=0)\n",
    "print(len(train_avgw2v))\n",
    "print(len(y_train))\n",
    "print(len(test_avgw2v))\n",
    "print(len(y_test))\n",
    "print(len(cv_avgw2v))\n",
    "print(len(y_cv))"
   ]
  },
  {
   "cell_type": "code",
   "execution_count": 188,
   "metadata": {},
   "outputs": [],
   "source": [
    "train_avgw2v=avg_w2v(train_avgw2v)\n",
    "cv_avgw2v=avg_w2v(cv_avgw2v)\n",
    "test_avgw2v=avg_w2v(test_avgw2v)"
   ]
  },
  {
   "cell_type": "markdown",
   "metadata": {},
   "source": [
    "### Training and Testing"
   ]
  },
  {
   "cell_type": "code",
   "execution_count": 189,
   "metadata": {},
   "outputs": [],
   "source": [
    "sgd=SGDClassifier(loss='hinge')\n",
    "from sklearn.model_selection import GridSearchCV\n",
    "parameters = {'alpha':[10**i for i in range(-7,5)],'penalty':['l1','l2']}\n",
    "clf=GridSearchCV(sgd,parameters,cv=3,scoring='roc_auc',return_train_score=True)\n",
    "clf.fit(train_avgw2v,y_train)\n",
    "train_auc= clf.cv_results_['mean_train_score']\n",
    "train_auc_std= clf.cv_results_['std_train_score']\n",
    "cv_auc = clf.cv_results_['mean_test_score'] \n",
    "cv_auc_std= clf.cv_results_['std_test_score']"
   ]
  },
  {
   "cell_type": "code",
   "execution_count": 190,
   "metadata": {},
   "outputs": [
    {
     "data": {
      "text/plain": [
       "{'alpha': 0.001, 'penalty': 'l2'}"
      ]
     },
     "execution_count": 190,
     "metadata": {},
     "output_type": "execute_result"
    }
   ],
   "source": [
    "clf.best_params_"
   ]
  },
  {
   "cell_type": "code",
   "execution_count": 191,
   "metadata": {},
   "outputs": [
    {
     "data": {
      "image/png": "[encoded data removed]",
      "text/plain": [
       "<Figure size 432x288 with 1 Axes>"
      ]
     },
     "metadata": {
      "needs_background": "light"
     },
     "output_type": "display_data"
    },
    {
     "name": "stdout",
     "output_type": "stream",
     "text": [
      "[1e-07, 1e-06, 1e-05, 0.0001, 0.001, 0.01, 0.1, 1, 10, 100, 1000, 10000]\n"
     ]
    }
   ],
   "source": [
    "import math\n",
    "alpha=[10**i for i in range(-7,5)]\n",
    "log_alpha=[math.log(i) for i in alpha]\n",
    "plt.plot(log_alpha,train_auc[:12],label='train_auc')\n",
    "plt.plot(log_alpha,cv_auc[:12],label='cv_auc')\n",
    "plt.legend()\n",
    "plt.scatter(log_alpha,train_auc[:12])\n",
    "plt.scatter(log_alpha,cv_auc[:12])\n",
    "plt.grid()\n",
    "plt.ylabel('auc')\n",
    "plt.xlabel('value of alpha')\n",
    "plt.show()\n",
    "print(alpha)"
   ]
  },
  {
   "cell_type": "code",
   "execution_count": 192,
   "metadata": {},
   "outputs": [
    {
     "name": "stderr",
     "output_type": "stream",
     "text": [
      "100%|██████████████████████████████████████████████████████████████████████████████████| 12/12 [00:01<00:00,  7.20it/s]\n"
     ]
    }
   ],
   "source": [
    "train_auc=[]\n",
    "cv_auc=[]\n",
    "alpha=[10**i for i in range(-7,5)]\n",
    "for alf in tqdm(alpha):\n",
    "    model=SGDClassifier(loss='hinge',alpha=alf,penalty='l2')\n",
    "    model.fit(train_avgw2v,y_train)\n",
    "    y_train_prob=[]\n",
    "    y_train_prob=model.decision_function(train_avgw2v)\n",
    "    y_cv_prob=[]\n",
    "    y_cv_prob=model.decision_function(cv_avgw2v)\n",
    "    train_auc.append(roc_auc_score(y_train,y_train_prob))\n",
    "    cv_auc.append(roc_auc_score(y_cv,y_cv_prob))"
   ]
  },
  {
   "cell_type": "code",
   "execution_count": 193,
   "metadata": {},
   "outputs": [
    {
     "data": {
      "image/png": "[encoded data removed]",
      "text/plain": [
       "<Figure size 432x288 with 1 Axes>"
      ]
     },
     "metadata": {
      "needs_background": "light"
     },
     "output_type": "display_data"
    },
    {
     "name": "stdout",
     "output_type": "stream",
     "text": [
      "[1e-07, 1e-06, 1e-05, 0.0001, 0.001, 0.01, 0.1, 1, 10, 100, 1000, 10000]\n"
     ]
    }
   ],
   "source": [
    "import math\n",
    "alpha=[10**i for i in range(-7,5)]\n",
    "log_alpha=[math.log(i) for i in alpha]\n",
    "plt.plot(log_alpha,train_auc,label='train_auc')\n",
    "plt.plot(log_alpha,cv_auc,label='cv_auc')\n",
    "plt.legend()\n",
    "plt.scatter(log_alpha,train_auc)\n",
    "plt.scatter(log_alpha,cv_auc)\n",
    "plt.grid()\n",
    "plt.ylabel('auc')\n",
    "plt.xlabel('value of c')\n",
    "plt.show()\n",
    "print(alpha)"
   ]
  },
  {
   "cell_type": "code",
   "execution_count": 194,
   "metadata": {},
   "outputs": [
    {
     "name": "stderr",
     "output_type": "stream",
     "text": [
      "100%|██████████████████████████████████████████████████████████████████████████████████| 12/12 [00:03<00:00,  3.96it/s]\n"
     ]
    }
   ],
   "source": [
    "train_auc=[]\n",
    "cv_auc=[]\n",
    "alpha=[10**i for i in range(-7,5)]\n",
    "for alf in tqdm(alpha):\n",
    "    model=SGDClassifier(loss='hinge',alpha=alf,penalty='l1')\n",
    "    model.fit(train_avgw2v,y_train)\n",
    "    y_train_prob=[]\n",
    "    y_train_prob=model.decision_function(train_avgw2v)\n",
    "    y_cv_prob=[]\n",
    "    y_cv_prob=model.decision_function(cv_avgw2v)\n",
    "    train_auc.append(roc_auc_score(y_train,y_train_prob))\n",
    "    cv_auc.append(roc_auc_score(y_cv,y_cv_prob))"
   ]
  },
  {
   "cell_type": "code",
   "execution_count": 195,
   "metadata": {},
   "outputs": [
    {
     "data": {
      "image/png": "[encoded data removed]",
      "text/plain": [
       "<Figure size 432x288 with 1 Axes>"
      ]
     },
     "metadata": {
      "needs_background": "light"
     },
     "output_type": "display_data"
    },
    {
     "name": "stdout",
     "output_type": "stream",
     "text": [
      "[1e-07, 1e-06, 1e-05, 0.0001, 0.001, 0.01, 0.1, 1, 10, 100, 1000, 10000]\n"
     ]
    }
   ],
   "source": [
    "import math\n",
    "alpha=[10**i for i in range(-7,5)]\n",
    "log_alpha=[math.log(i) for i in alpha]\n",
    "plt.plot(log_alpha,train_auc,label='train_auc')\n",
    "plt.plot(log_alpha,cv_auc,label='cv_auc')\n",
    "plt.legend()\n",
    "plt.scatter(log_alpha,train_auc)\n",
    "plt.scatter(log_alpha,cv_auc)\n",
    "plt.grid()\n",
    "plt.ylabel('auc')\n",
    "plt.xlabel('value of c')\n",
    "plt.show()\n",
    "print(alpha)"
   ]
  },
  {
   "cell_type": "code",
   "execution_count": 196,
   "metadata": {},
   "outputs": [],
   "source": [
    "best_alpha =0.001\n",
    "from sklearn.metrics import roc_curve,auc\n",
    "model=SGDClassifier(alpha=best_alpha,penalty='l1',loss='hinge')\n",
    "model.fit(train_avgw2v,y_train)\n",
    "y_train_pred=[]\n",
    "y_train_pred=model.decision_function(train_avgw2v)\n",
    "fpr_train,tpr_train,thresholds_train=roc_curve(y_train,y_train_pred)\n",
    "y_test_pred=[]\n",
    "y_test_pred=model.decision_function(test_avgw2v)\n",
    "fpr_test,tpr_test,thresholds_test=roc_curve(y_test,y_test_pred)"
   ]
  },
  {
   "cell_type": "code",
   "execution_count": 197,
   "metadata": {},
   "outputs": [
    {
     "data": {
      "text/plain": [
       "Text(0, 0.5, 'True positive rate')"
      ]
     },
     "execution_count": 197,
     "metadata": {},
     "output_type": "execute_result"
    },
    {
     "data": {
      "image/png": "[encoded data removed]",
      "text/plain": [
       "<Figure size 432x288 with 1 Axes>"
      ]
     },
     "metadata": {
      "needs_background": "light"
     },
     "output_type": "display_data"
    }
   ],
   "source": [
    "plt.title('Error')\n",
    "plt.plot(fpr_test,tpr_test,label='test='+str(auc(fpr_test,tpr_test)))\n",
    "plt.plot(fpr_train,tpr_train,label='train='+str(auc(fpr_train,tpr_train)))\n",
    "plt.legend()\n",
    "plt.xlabel('False positive rate')\n",
    "plt.ylabel('True positive rate')"
   ]
  },
  {
   "cell_type": "code",
   "execution_count": 198,
   "metadata": {},
   "outputs": [
    {
     "name": "stdout",
     "output_type": "stream",
     "text": [
      "Train Confusion Matrix\n",
      "[[ 140  848]\n",
      " [  18 5018]]\n"
     ]
    },
    {
     "data": {
      "text/plain": [
       "<AxesSubplot:>"
      ]
     },
     "execution_count": 198,
     "metadata": {},
     "output_type": "execute_result"
    },
    {
     "data": {
      "image/png": "[encoded data removed]",
      "text/plain": [
       "<Figure size 432x288 with 1 Axes>"
      ]
     },
     "metadata": {
      "needs_background": "light"
     },
     "output_type": "display_data"
    }
   ],
   "source": [
    "print('Train Confusion Matrix')\n",
    "print(confusion_matrix(y_train,model.predict(train_avgw2v)))\n",
    "tn,fp,fn,tp=confusion_matrix(y_train,model.predict(train_avgw2v)).ravel()\n",
    "mat=np.matrix([[tn,fn],[fp,tp]])\n",
    "sns.heatmap(mat, square=True, annot=True, fmt='d', cbar=False,            \n",
    "xticklabels=[0,1], yticklabels=[0,1])"
   ]
  },
  {
   "cell_type": "code",
   "execution_count": 199,
   "metadata": {},
   "outputs": [
    {
     "name": "stdout",
     "output_type": "stream",
     "text": [
      "Test Confusion Matrix\n",
      "[[  71  420]\n",
      " [   7 2372]]\n"
     ]
    },
    {
     "data": {
      "text/plain": [
       "<AxesSubplot:>"
      ]
     },
     "execution_count": 199,
     "metadata": {},
     "output_type": "execute_result"
    },
    {
     "data": {
      "image/png": "[encoded data removed]",
      "text/plain": [
       "<Figure size 432x288 with 1 Axes>"
      ]
     },
     "metadata": {
      "needs_background": "light"
     },
     "output_type": "display_data"
    }
   ],
   "source": [
    "print('Test Confusion Matrix')\n",
    "print(confusion_matrix(y_test,model.predict(test_avgw2v)))\n",
    "tn,fp,fn,tp=confusion_matrix(y_test,model.predict(test_avgw2v)).ravel()\n",
    "mat=np.matrix([[tn,fn],[fp,tp]])\n",
    "sns.heatmap(mat, square=True, annot=True, fmt='d', cbar=False,            \n",
    "xticklabels=[0,1], yticklabels=[0,1]) \n"
   ]
  },
  {
   "cell_type": "markdown",
   "metadata": {},
   "source": [
    "### [5.1.4]  Applying Linear SVM on TFIDF W2V,<font color='red'> SET 4</font>"
   ]
  },
  {
   "cell_type": "code",
   "execution_count": 200,
   "metadata": {},
   "outputs": [
    {
     "data": {
      "text/plain": [
       "Index(['Id', 'ProductId', 'UserId', 'ProfileName', 'HelpfulnessNumerator',\n",
       "       'HelpfulnessDenominator', 'Score', 'Time', 'Summary', 'Text',\n",
       "       'preprocessed_reviews'],\n",
       "      dtype='object')"
      ]
     },
     "execution_count": 200,
     "metadata": {},
     "output_type": "execute_result"
    }
   ],
   "source": [
    "final_sorted_data.columns"
   ]
  },
  {
   "cell_type": "code",
   "execution_count": 201,
   "metadata": {},
   "outputs": [
    {
     "name": "stdout",
     "output_type": "stream",
     "text": [
      "Loaded 400000 word vectors.\n"
     ]
    }
   ],
   "source": [
    "# load the whole embedding into memory\n",
    "model = dict()\n",
    "f = open('F:\\APPLIED_AI_COURSE\\CASE STUDY MACHINE LEARNING\\CASE STUDY-AMAZON FINE FOOD REVIEWS\\glove.6B.200d.txt',encoding=\"utf8\")\n",
    "for line in f:\n",
    "\tvalues = line.split()\n",
    "\tword = values[0]\n",
    "\tcoefs = np.asarray(values[1:], dtype='float32')\n",
    "\tmodel[word] = coefs\n",
    "f.close()\n",
    "print('Loaded %s word vectors.' % len(model))"
   ]
  },
  {
   "cell_type": "code",
   "execution_count": 202,
   "metadata": {},
   "outputs": [],
   "source": [
    "# TF-IDF weighted Word2Vec\n",
    "# average Word2Vec\n",
    "# compute average word2vec for each review\n",
    "def tfidf_weighted_w2v(data,tfidf_words):\n",
    "    glove_words =  set(model.keys())\n",
    "    tfidf_w2v_vectors = []; # the avg-w2v for each sentence/review is stored in this list\n",
    "    for sentence in data: # for each review/sentence\n",
    "        vector = np.zeros(200) # as word vectors are of zero length\n",
    "        tf_idf_weight =0; # num of words with a valid vector in the sentence/review\n",
    "        for word in sentence.split(): # for each word in a review/sentence\n",
    "            if (word in glove_words) and (word in tfidf_words):\n",
    "                vec = model[word] # getting the vector for each word\n",
    "            # here we are multiplying idf value(dictionary[word]) and the tf value((sentence.count(word)/len(sentence.split())))\n",
    "                tf_idf = dictionary[word]*(sentence.count(word)/len(sentence.split())) # getting the tfidf value for each word\n",
    "                vector += (vec * tf_idf) # calculating tfidf weighted w2v\n",
    "                tf_idf_weight += tf_idf\n",
    "        if tf_idf_weight != 0:\n",
    "            vector /= tf_idf_weight\n",
    "        tfidf_w2v_vectors.append(vector)\n",
    "    return tfidf_w2v_vectors\n"
   ]
  },
  {
   "cell_type": "code",
   "execution_count": 203,
   "metadata": {},
   "outputs": [],
   "source": [
    "X=final_sorted_data['preprocessed_reviews']\n",
    "Y=final_sorted_data['Score']"
   ]
  },
  {
   "cell_type": "code",
   "execution_count": 204,
   "metadata": {},
   "outputs": [
    {
     "name": "stdout",
     "output_type": "stream",
     "text": [
      "9564\n",
      "9564\n",
      "<class 'pandas.core.series.Series'>\n"
     ]
    }
   ],
   "source": [
    "print(len(X))\n",
    "print(len(Y))\n",
    "print(type(Y))"
   ]
  },
  {
   "cell_type": "code",
   "execution_count": 205,
   "metadata": {},
   "outputs": [
    {
     "name": "stdout",
     "output_type": "stream",
     "text": [
      "6024\n",
      "6024\n",
      "2870\n",
      "2870\n",
      "670\n",
      "670\n"
     ]
    }
   ],
   "source": [
    "from sklearn.model_selection import train_test_split\n",
    "x_train,test_tfidfw2v,y_train,y_test=train_test_split(X,Y,test_size=0.3,random_state=0)\n",
    "train_tfidfw2v,cv_tfidfw2v,y_train,y_cv=train_test_split(x_train,y_train,test_size=0.1,random_state=0)\n",
    "print(len(train_tfidfw2v))\n",
    "print(len(y_train))\n",
    "print(len(test_tfidfw2v))\n",
    "print(len(y_test))\n",
    "print(len(cv_tfidfw2v))\n",
    "print(len(y_cv))"
   ]
  },
  {
   "cell_type": "code",
   "execution_count": 206,
   "metadata": {},
   "outputs": [],
   "source": [
    "tfidf_model = TfidfVectorizer()\n",
    "tfidf_model.fit(train_tfidfw2v)\n",
    "dictionary = dict(zip(tfidf_model.get_feature_names(), list(tfidf_model.idf_)))\n",
    "tfidf_words = set(tfidf_model.get_feature_names())"
   ]
  },
  {
   "cell_type": "code",
   "execution_count": 207,
   "metadata": {},
   "outputs": [],
   "source": [
    "train_tfidfw2v=tfidf_weighted_w2v(train_tfidfw2v,tfidf_words)\n",
    "cv_tfidfw2v=tfidf_weighted_w2v(cv_tfidfw2v,tfidf_words)\n",
    "test_tfidfw2v=tfidf_weighted_w2v(test_tfidfw2v,tfidf_words)"
   ]
  },
  {
   "cell_type": "code",
   "execution_count": 208,
   "metadata": {},
   "outputs": [],
   "source": [
    "sgd=SGDClassifier(loss='hinge')\n",
    "from sklearn.model_selection import GridSearchCV\n",
    "parameters = {'alpha':[10**i for i in range(-11,2)],'penalty':['l2','l1']}\n",
    "clf=GridSearchCV(sgd,parameters,cv=5,scoring='roc_auc',return_train_score=True)\n",
    "clf.fit(train_tfidfw2v,y_train)\n",
    "train_auc= clf.cv_results_['mean_train_score']\n",
    "train_auc_std= clf.cv_results_['std_train_score']\n",
    "cv_auc = clf.cv_results_['mean_test_score'] \n",
    "cv_auc_std= clf.cv_results_['std_test_score']"
   ]
  },
  {
   "cell_type": "code",
   "execution_count": 209,
   "metadata": {},
   "outputs": [
    {
     "data": {
      "text/plain": [
       "{'alpha': 0.01, 'penalty': 'l2'}"
      ]
     },
     "execution_count": 209,
     "metadata": {},
     "output_type": "execute_result"
    }
   ],
   "source": [
    "clf.best_params_"
   ]
  },
  {
   "cell_type": "code",
   "execution_count": 210,
   "metadata": {},
   "outputs": [
    {
     "data": {
      "image/png": "[encoded data removed]",
      "text/plain": [
       "<Figure size 432x288 with 1 Axes>"
      ]
     },
     "metadata": {
      "needs_background": "light"
     },
     "output_type": "display_data"
    },
    {
     "name": "stdout",
     "output_type": "stream",
     "text": [
      "[1e-11, 1e-10, 1e-09, 1e-08, 1e-07, 1e-06, 1e-05, 0.0001, 0.001, 0.01, 0.1, 1, 10]\n"
     ]
    }
   ],
   "source": [
    "alpha=[10**i for i in range(-11,2)]\n",
    "log_alpha=[math.log(i) for i in alpha]\n",
    "plt.plot(log_alpha,train_auc[:13],label='train_auc')\n",
    "plt.plot(log_alpha,cv_auc[:13],label='cv_auc')\n",
    "plt.legend()\n",
    "plt.scatter(log_alpha,train_auc[:13])\n",
    "plt.scatter(log_alpha,cv_auc[:13])\n",
    "plt.grid()\n",
    "plt.ylabel('auc')\n",
    "plt.xlabel('value of alpha')\n",
    "plt.show()\n",
    "print(alpha)"
   ]
  },
  {
   "cell_type": "code",
   "execution_count": 211,
   "metadata": {},
   "outputs": [
    {
     "name": "stderr",
     "output_type": "stream",
     "text": [
      "100%|██████████████████████████████████████████████████████████████████████████████████| 13/13 [00:01<00:00,  7.90it/s]\n"
     ]
    }
   ],
   "source": [
    "train_auc=[]\n",
    "cv_auc=[]\n",
    "alpha=[10**i for i in range(-11,2)]\n",
    "for alf in tqdm(alpha):\n",
    "    model=SGDClassifier(loss='hinge',alpha=alf,penalty='l2')\n",
    "    model.fit(train_tfidfw2v,y_train)\n",
    "    y_train_prob=[]\n",
    "    y_train_prob=model.decision_function(train_tfidfw2v)\n",
    "    y_cv_prob=[]\n",
    "    y_cv_prob=model.decision_function(cv_tfidfw2v)\n",
    "    train_auc.append(roc_auc_score(y_train,y_train_prob))\n",
    "    cv_auc.append(roc_auc_score(y_cv,y_cv_prob))"
   ]
  },
  {
   "cell_type": "code",
   "execution_count": 212,
   "metadata": {},
   "outputs": [
    {
     "data": {
      "image/png": "[encoded data removed]",
      "text/plain": [
       "<Figure size 432x288 with 1 Axes>"
      ]
     },
     "metadata": {
      "needs_background": "light"
     },
     "output_type": "display_data"
    },
    {
     "name": "stdout",
     "output_type": "stream",
     "text": [
      "[1e-11, 1e-10, 1e-09, 1e-08, 1e-07, 1e-06, 1e-05, 0.0001, 0.001, 0.01, 0.1, 1, 10]\n"
     ]
    }
   ],
   "source": [
    "alpha=[10**i for i in range(-11,2)]\n",
    "log_alpha=[math.log(i) for i in alpha]\n",
    "plt.plot(log_alpha,train_auc,label='train_auc')\n",
    "plt.plot(log_alpha,cv_auc,label='cv_auc')\n",
    "plt.legend()\n",
    "plt.scatter(log_alpha,train_auc)\n",
    "plt.scatter(log_alpha,cv_auc)\n",
    "plt.grid()\n",
    "plt.ylabel('auc')\n",
    "plt.xlabel('value of alpha')\n",
    "plt.show()\n",
    "print(alpha)"
   ]
  },
  {
   "cell_type": "code",
   "execution_count": 213,
   "metadata": {},
   "outputs": [],
   "source": [
    "best_alpha =1e-07\n",
    "from sklearn.metrics import roc_curve,auc\n",
    "model=SGDClassifier(alpha=best_alpha,penalty='l2',loss='hinge')\n",
    "model.fit(train_tfidfw2v,y_train)\n",
    "y_train_pred=[]\n",
    "y_train_pred=model.decision_function(train_tfidfw2v)\n",
    "fpr_train,tpr_train,thresholds_train=roc_curve(y_train,y_train_pred)\n",
    "y_test_pred=[]\n",
    "y_test_pred=model.decision_function(test_tfidfw2v)\n",
    "fpr_test,tpr_test,thresholds_test=roc_curve(y_test,y_test_pred)"
   ]
  },
  {
   "cell_type": "code",
   "execution_count": 214,
   "metadata": {},
   "outputs": [
    {
     "data": {
      "text/plain": [
       "Text(0, 0.5, 'True positive rate')"
      ]
     },
     "execution_count": 214,
     "metadata": {},
     "output_type": "execute_result"
    },
    {
     "data": {
      "image/png": "[encoded data removed]",
      "text/plain": [
       "<Figure size 432x288 with 1 Axes>"
      ]
     },
     "metadata": {
      "needs_background": "light"
     },
     "output_type": "display_data"
    }
   ],
   "source": [
    "plt.title('Error')\n",
    "plt.plot(fpr_test,tpr_test,label='test='+str(auc(fpr_test,tpr_test)))\n",
    "plt.plot(fpr_train,tpr_train,label='train='+str(auc(fpr_train,tpr_train)))\n",
    "plt.legend()\n",
    "plt.xlabel('False positive rate')\n",
    "plt.ylabel('True positive rate')"
   ]
  },
  {
   "cell_type": "code",
   "execution_count": 215,
   "metadata": {},
   "outputs": [
    {
     "name": "stdout",
     "output_type": "stream",
     "text": [
      "Train Confusion Matrix\n",
      "[[ 215  773]\n",
      " [  60 4976]]\n"
     ]
    },
    {
     "data": {
      "text/plain": [
       "<AxesSubplot:>"
      ]
     },
     "execution_count": 215,
     "metadata": {},
     "output_type": "execute_result"
    },
    {
     "data": {
      "image/png": "[encoded data removed]",
      "text/plain": [
       "<Figure size 432x288 with 1 Axes>"
      ]
     },
     "metadata": {
      "needs_background": "light"
     },
     "output_type": "display_data"
    }
   ],
   "source": [
    "print('Train Confusion Matrix')\n",
    "print(confusion_matrix(y_train,model.predict(train_tfidfw2v)))\n",
    "tn,fp,fn,tp=confusion_matrix(y_train,model.predict(train_tfidfw2v)).ravel()\n",
    "mat=np.matrix([[tn,fn],[fp,tp]])\n",
    "sns.heatmap(mat, square=True, annot=True, fmt='d', cbar=False,            \n",
    "xticklabels=[0,1], yticklabels=[0,1]) "
   ]
  },
  {
   "cell_type": "code",
   "execution_count": 216,
   "metadata": {},
   "outputs": [
    {
     "name": "stdout",
     "output_type": "stream",
     "text": [
      "Test Confusion Matrix\n",
      "[[ 115  376]\n",
      " [  32 2347]]\n"
     ]
    },
    {
     "data": {
      "text/plain": [
       "<AxesSubplot:>"
      ]
     },
     "execution_count": 216,
     "metadata": {},
     "output_type": "execute_result"
    },
    {
     "data": {
      "image/png": "[encoded data removed]",
      "text/plain": [
       "<Figure size 432x288 with 1 Axes>"
      ]
     },
     "metadata": {
      "needs_background": "light"
     },
     "output_type": "display_data"
    }
   ],
   "source": [
    "print('Test Confusion Matrix')\n",
    "print(confusion_matrix(y_test,model.predict(test_tfidfw2v)))\n",
    "tn,fp,fn,tp=confusion_matrix(y_test,model.predict(test_tfidfw2v)).ravel()\n",
    "mat=np.matrix([[tn,fn],[fp,tp]])\n",
    "sns.heatmap(mat, square=True, annot=True, fmt='d', cbar=False,            \n",
    "xticklabels=[0,1], yticklabels=[0,1]) "
   ]
  },
  {
   "cell_type": "markdown",
   "metadata": {},
   "source": [
    "## [5.2] RBF SVM"
   ]
  },
  {
   "cell_type": "markdown",
   "metadata": {},
   "source": [
    "### [5.2.1] Applying RBF SVM on BOW,<font color='red'> SET 1</font>"
   ]
  },
  {
   "cell_type": "code",
   "execution_count": 217,
   "metadata": {},
   "outputs": [
    {
     "name": "stdout",
     "output_type": "stream",
     "text": [
      "(9564, 11)\n",
      "<class 'pandas.core.frame.DataFrame'>\n"
     ]
    }
   ],
   "source": [
    "# Please write all the code with proper documentation\n",
    "print(final_sorted_data.shape)\n",
    "print(type(final_sorted_data))"
   ]
  },
  {
   "cell_type": "code",
   "execution_count": 218,
   "metadata": {},
   "outputs": [],
   "source": [
    "X=final_sorted_data['preprocessed_reviews']\n",
    "Y=final_sorted_data['Score']"
   ]
  },
  {
   "cell_type": "markdown",
   "metadata": {},
   "source": [
    "### Splitting into train,cv and test sets"
   ]
  },
  {
   "cell_type": "code",
   "execution_count": 219,
   "metadata": {},
   "outputs": [
    {
     "name": "stdout",
     "output_type": "stream",
     "text": [
      "(9564,)\n",
      "(9564,)\n",
      "<class 'pandas.core.series.Series'>\n"
     ]
    }
   ],
   "source": [
    "print(X.shape)\n",
    "print(Y.shape)\n",
    "print(type(Y))"
   ]
  },
  {
   "cell_type": "code",
   "execution_count": 220,
   "metadata": {},
   "outputs": [
    {
     "name": "stdout",
     "output_type": "stream",
     "text": [
      "(6024,)\n",
      "(6024,)\n",
      "(2870,)\n",
      "(2870,)\n",
      "(670,)\n",
      "(670,)\n"
     ]
    }
   ],
   "source": [
    "from sklearn.model_selection import train_test_split\n",
    "x_train,x_test,y_train,y_test=train_test_split(X,Y,test_size=0.3,random_state=0)\n",
    "x_train,x_cv,y_train,y_cv=train_test_split(x_train,y_train,test_size=0.1,random_state=0)\n",
    "print(x_train.shape)\n",
    "print(y_train.shape)\n",
    "print(x_test.shape)\n",
    "print(y_test.shape)\n",
    "print(x_cv.shape)\n",
    "print(y_cv.shape)"
   ]
  },
  {
   "cell_type": "code",
   "execution_count": 221,
   "metadata": {},
   "outputs": [],
   "source": [
    "from sklearn.feature_extraction.text import CountVectorizer\n",
    "vectorizer = CountVectorizer(min_df=10)\n",
    "def bow(data):\n",
    "    text_bow = vectorizer.transform(data)\n",
    "    return text_bow\n",
    "\n",
    "vectorizer.fit(x_train)\n",
    "train_bow=bow(x_train)\n",
    "test_bow=bow(x_test)\n",
    "cv_bow=bow(x_cv)\n",
    "bow_feature_name=vectorizer.get_feature_names()"
   ]
  },
  {
   "cell_type": "code",
   "execution_count": 222,
   "metadata": {},
   "outputs": [
    {
     "data": {
      "text/plain": [
       "['ability',\n",
       " 'able',\n",
       " 'absolute',\n",
       " 'absolutely',\n",
       " 'acacia',\n",
       " 'according',\n",
       " 'account',\n",
       " 'acerola',\n",
       " 'acid',\n",
       " 'acidic',\n",
       " 'acidity',\n",
       " 'acquired',\n",
       " 'across',\n",
       " 'active',\n",
       " 'actual',\n",
       " 'actually',\n",
       " 'add',\n",
       " 'added',\n",
       " 'addict',\n",
       " 'addicted',\n",
       " 'addicting',\n",
       " 'addictive',\n",
       " 'adding',\n",
       " 'addition',\n",
       " 'additional',\n",
       " 'additives',\n",
       " 'adds',\n",
       " 'adequate',\n",
       " 'admit',\n",
       " 'adopted',\n",
       " 'adore',\n",
       " 'adult',\n",
       " 'adults',\n",
       " 'advantage',\n",
       " 'advertised',\n",
       " 'advice',\n",
       " 'afford',\n",
       " 'affordable',\n",
       " 'afraid',\n",
       " 'afternoon',\n",
       " 'aftertaste',\n",
       " 'afterwards',\n",
       " 'agave',\n",
       " 'age',\n",
       " 'ages',\n",
       " 'ago',\n",
       " 'agree',\n",
       " 'ahead',\n",
       " 'aid',\n",
       " 'air',\n",
       " 'alcohol',\n",
       " 'allergic',\n",
       " 'allergies',\n",
       " 'allergy',\n",
       " 'allow',\n",
       " 'allowed',\n",
       " 'allowing',\n",
       " 'allows',\n",
       " 'almond',\n",
       " 'almonds',\n",
       " 'almost',\n",
       " 'alone',\n",
       " 'along',\n",
       " 'alot',\n",
       " 'already',\n",
       " 'also',\n",
       " 'alternative',\n",
       " 'alternatives',\n",
       " 'although',\n",
       " 'aluminum',\n",
       " 'always',\n",
       " 'amazed',\n",
       " 'amazing',\n",
       " 'amazingly',\n",
       " 'amazon',\n",
       " 'america',\n",
       " 'american',\n",
       " 'among',\n",
       " 'amount',\n",
       " 'amounts',\n",
       " 'animal',\n",
       " 'animals',\n",
       " 'annie',\n",
       " 'annoying',\n",
       " 'another',\n",
       " 'answer',\n",
       " 'antioxidants',\n",
       " 'anymore',\n",
       " 'anyone',\n",
       " 'anything',\n",
       " 'anytime',\n",
       " 'anyway',\n",
       " 'anywhere',\n",
       " 'apart',\n",
       " 'apparently',\n",
       " 'appeal',\n",
       " 'appealing',\n",
       " 'appear',\n",
       " 'appears',\n",
       " 'apple',\n",
       " 'apples',\n",
       " 'appreciate',\n",
       " 'approximately',\n",
       " 'area',\n",
       " 'aroma',\n",
       " 'aromatic',\n",
       " 'around',\n",
       " 'arrive',\n",
       " 'arrived',\n",
       " 'arrives',\n",
       " 'artificial',\n",
       " 'asian',\n",
       " 'aside',\n",
       " 'ask',\n",
       " 'asked',\n",
       " 'asking',\n",
       " 'assorted',\n",
       " 'assortment',\n",
       " 'assume',\n",
       " 'assuming',\n",
       " 'ate',\n",
       " 'attempt',\n",
       " 'attention',\n",
       " 'attractive',\n",
       " 'audio',\n",
       " 'authentic',\n",
       " 'auto',\n",
       " 'automatic',\n",
       " 'available',\n",
       " 'average',\n",
       " 'avoid',\n",
       " 'awake',\n",
       " 'aware',\n",
       " 'away',\n",
       " 'awesome',\n",
       " 'awful',\n",
       " 'awhile',\n",
       " 'babies',\n",
       " 'baby',\n",
       " 'back',\n",
       " 'bacon',\n",
       " 'bad',\n",
       " 'bag',\n",
       " 'bags',\n",
       " 'bake',\n",
       " 'baked',\n",
       " 'baking',\n",
       " 'balance',\n",
       " 'balanced',\n",
       " 'ball',\n",
       " 'balls',\n",
       " 'banana',\n",
       " 'bananas',\n",
       " 'bar',\n",
       " 'barbecue',\n",
       " 'barbeque',\n",
       " 'barely',\n",
       " 'bargain',\n",
       " 'barley',\n",
       " 'bars',\n",
       " 'base',\n",
       " 'based',\n",
       " 'basic',\n",
       " 'basically',\n",
       " 'basil',\n",
       " 'basis',\n",
       " 'basket',\n",
       " 'batch',\n",
       " 'batches',\n",
       " 'batter',\n",
       " 'bbq',\n",
       " 'bean',\n",
       " 'beans',\n",
       " 'bear',\n",
       " 'bears',\n",
       " 'beat',\n",
       " 'beats',\n",
       " 'beautiful',\n",
       " 'beautifully',\n",
       " 'became',\n",
       " 'become',\n",
       " 'becomes',\n",
       " 'becoming',\n",
       " 'bed',\n",
       " 'beef',\n",
       " 'beer',\n",
       " 'began',\n",
       " 'begin',\n",
       " 'beginning',\n",
       " 'behind',\n",
       " 'belgian',\n",
       " 'believe',\n",
       " 'belly',\n",
       " 'benefit',\n",
       " 'benefits',\n",
       " 'berries',\n",
       " 'berry',\n",
       " 'besides',\n",
       " 'best',\n",
       " 'bet',\n",
       " 'better',\n",
       " 'betty',\n",
       " 'beverage',\n",
       " 'beverages',\n",
       " 'beware',\n",
       " 'beyond',\n",
       " 'big',\n",
       " 'bigger',\n",
       " 'biggest',\n",
       " 'bill',\n",
       " 'birthday',\n",
       " 'biscuit',\n",
       " 'biscuits',\n",
       " 'bisquick',\n",
       " 'bit',\n",
       " 'bite',\n",
       " 'bites',\n",
       " 'bits',\n",
       " 'bitter',\n",
       " 'bitterness',\n",
       " 'black',\n",
       " 'bland',\n",
       " 'blend',\n",
       " 'blender',\n",
       " 'blends',\n",
       " 'blood',\n",
       " 'blown',\n",
       " 'blue',\n",
       " 'blueberries',\n",
       " 'blueberry',\n",
       " 'bob',\n",
       " 'bodied',\n",
       " 'body',\n",
       " 'boil',\n",
       " 'bold',\n",
       " 'bone',\n",
       " 'bones',\n",
       " 'bonus',\n",
       " 'book',\n",
       " 'boost',\n",
       " 'born',\n",
       " 'bother',\n",
       " 'bottle',\n",
       " 'bottled',\n",
       " 'bottles',\n",
       " 'bottom',\n",
       " 'bought',\n",
       " 'bowel',\n",
       " 'bowl',\n",
       " 'bowls',\n",
       " 'box',\n",
       " 'boxed',\n",
       " 'boxes',\n",
       " 'boy',\n",
       " 'boyfriend',\n",
       " 'boys',\n",
       " 'bpa',\n",
       " 'brand',\n",
       " 'brands',\n",
       " 'bread',\n",
       " 'breads',\n",
       " 'break',\n",
       " 'breakfast',\n",
       " 'breaking',\n",
       " 'breath',\n",
       " 'breed',\n",
       " 'brew',\n",
       " 'brewed',\n",
       " 'brewer',\n",
       " 'brewing',\n",
       " 'brews',\n",
       " 'bright',\n",
       " 'bring',\n",
       " 'brings',\n",
       " 'broccoli',\n",
       " 'broke',\n",
       " 'broken',\n",
       " 'broth',\n",
       " 'brother',\n",
       " 'brought',\n",
       " 'brown',\n",
       " 'brownies',\n",
       " 'btw',\n",
       " 'bubble',\n",
       " 'bucks',\n",
       " 'budget',\n",
       " 'buds',\n",
       " 'buffalo',\n",
       " 'bulk',\n",
       " 'bunch',\n",
       " 'burn',\n",
       " 'burned',\n",
       " 'burnt',\n",
       " 'business',\n",
       " 'busy',\n",
       " 'butter',\n",
       " 'buttermilk',\n",
       " 'buttery',\n",
       " 'buy',\n",
       " 'buyer',\n",
       " 'buying',\n",
       " 'ca',\n",
       " 'cafe',\n",
       " 'caffeine',\n",
       " 'cajun',\n",
       " 'cake',\n",
       " 'cakes',\n",
       " 'cal',\n",
       " 'calcium',\n",
       " 'california',\n",
       " 'call',\n",
       " 'called',\n",
       " 'calls',\n",
       " 'calorie',\n",
       " 'calories',\n",
       " 'came',\n",
       " 'candies',\n",
       " 'candy',\n",
       " 'cane',\n",
       " 'canned',\n",
       " 'cannot',\n",
       " 'canola',\n",
       " 'cans',\n",
       " 'cant',\n",
       " 'car',\n",
       " 'caramel',\n",
       " 'carb',\n",
       " 'carbonated',\n",
       " 'carbonation',\n",
       " 'carbs',\n",
       " 'card',\n",
       " 'cardboard',\n",
       " 'care',\n",
       " 'careful',\n",
       " 'carefully',\n",
       " 'caribou',\n",
       " 'carried',\n",
       " 'carries',\n",
       " 'carrot',\n",
       " 'carrots',\n",
       " 'carry',\n",
       " 'carrying',\n",
       " 'carton',\n",
       " 'case',\n",
       " 'cases',\n",
       " 'cat',\n",
       " 'catch',\n",
       " 'cats',\n",
       " 'caught',\n",
       " 'cause',\n",
       " 'caused',\n",
       " 'causes',\n",
       " 'caution',\n",
       " 'celery',\n",
       " 'celiac',\n",
       " 'center',\n",
       " 'cents',\n",
       " 'cereal',\n",
       " 'cereals',\n",
       " 'certain',\n",
       " 'certainly',\n",
       " 'certified',\n",
       " 'challenge',\n",
       " 'chamomile',\n",
       " 'chance',\n",
       " 'change',\n",
       " 'changed',\n",
       " 'changes',\n",
       " 'changing',\n",
       " 'character',\n",
       " 'charge',\n",
       " 'charges',\n",
       " 'charging',\n",
       " 'cheap',\n",
       " 'cheaper',\n",
       " 'cheapest',\n",
       " 'check',\n",
       " 'checked',\n",
       " 'cheddar',\n",
       " 'cheese',\n",
       " 'chemical',\n",
       " 'chemicals',\n",
       " 'cherry',\n",
       " 'chew',\n",
       " 'chewing',\n",
       " 'chews',\n",
       " 'chewy',\n",
       " 'chia',\n",
       " 'chicken',\n",
       " 'child',\n",
       " 'childhood',\n",
       " 'children',\n",
       " 'chili',\n",
       " 'chilled',\n",
       " 'china',\n",
       " 'chinese',\n",
       " 'chip',\n",
       " 'chips',\n",
       " 'chocolate',\n",
       " 'chocolates',\n",
       " 'chocolatey',\n",
       " 'choice',\n",
       " 'choices',\n",
       " 'cholesterol',\n",
       " 'choose',\n",
       " 'chopped',\n",
       " 'chose',\n",
       " 'chowder',\n",
       " 'christmas',\n",
       " 'chunks',\n",
       " 'cider',\n",
       " 'cinnamon',\n",
       " 'citrus',\n",
       " 'claim',\n",
       " 'claims',\n",
       " 'clam',\n",
       " 'class',\n",
       " 'classic',\n",
       " 'clean',\n",
       " 'cleaning',\n",
       " 'clear',\n",
       " 'clearly',\n",
       " 'close',\n",
       " 'closer',\n",
       " 'closest',\n",
       " 'club',\n",
       " 'co',\n",
       " 'coast',\n",
       " 'coat',\n",
       " 'coated',\n",
       " 'coating',\n",
       " 'coats',\n",
       " 'coco',\n",
       " 'cocoa',\n",
       " 'coconut',\n",
       " 'coffee',\n",
       " 'coffees',\n",
       " 'coke',\n",
       " 'cold',\n",
       " 'collection',\n",
       " 'color',\n",
       " 'colored',\n",
       " 'coloring',\n",
       " 'colors',\n",
       " 'com',\n",
       " 'combination',\n",
       " 'combined',\n",
       " 'combo',\n",
       " 'come',\n",
       " 'comes',\n",
       " 'coming',\n",
       " 'comment',\n",
       " 'comments',\n",
       " 'commercial',\n",
       " 'common',\n",
       " 'companies',\n",
       " 'company',\n",
       " 'comparable',\n",
       " 'compare',\n",
       " 'compared',\n",
       " 'comparison',\n",
       " 'complain',\n",
       " 'complained',\n",
       " 'complaint',\n",
       " 'complaints',\n",
       " 'complete',\n",
       " 'completely',\n",
       " 'complex',\n",
       " 'computer',\n",
       " 'concentrate',\n",
       " 'concentrates',\n",
       " 'concerned',\n",
       " 'concerns',\n",
       " 'condition',\n",
       " 'confused',\n",
       " 'consider',\n",
       " 'considered',\n",
       " 'considering',\n",
       " 'consistency',\n",
       " 'consistent',\n",
       " 'consistently',\n",
       " 'constant',\n",
       " 'constantly',\n",
       " 'consume',\n",
       " 'consumed',\n",
       " 'consumer',\n",
       " 'consuming',\n",
       " 'consumption',\n",
       " 'contact',\n",
       " 'contain',\n",
       " 'contained',\n",
       " 'container',\n",
       " 'containers',\n",
       " 'containing',\n",
       " 'contains',\n",
       " 'content',\n",
       " 'contents',\n",
       " 'continue',\n",
       " 'continued',\n",
       " 'control',\n",
       " 'convenience',\n",
       " 'convenient',\n",
       " 'cook',\n",
       " 'cooked',\n",
       " 'cookie',\n",
       " 'cookies',\n",
       " 'cooking',\n",
       " 'cooks',\n",
       " 'cool',\n",
       " 'corn',\n",
       " 'corner',\n",
       " 'correct',\n",
       " 'correctly',\n",
       " 'cost',\n",
       " 'costco',\n",
       " 'costs',\n",
       " 'could',\n",
       " 'count',\n",
       " 'counter',\n",
       " 'country',\n",
       " 'couple',\n",
       " 'coupon',\n",
       " 'course',\n",
       " 'cover',\n",
       " 'covered',\n",
       " 'cow',\n",
       " 'cracked',\n",
       " 'cracker',\n",
       " 'crackers',\n",
       " 'crap',\n",
       " 'crave',\n",
       " 'craving',\n",
       " 'cravings',\n",
       " 'crazy',\n",
       " 'cream',\n",
       " 'creamer',\n",
       " 'creamy',\n",
       " 'create',\n",
       " 'created',\n",
       " 'creates',\n",
       " 'creme',\n",
       " 'crisp',\n",
       " 'crisps',\n",
       " 'crispy',\n",
       " 'crocker',\n",
       " 'crumbled',\n",
       " 'crumbly',\n",
       " 'crumbs',\n",
       " 'crunch',\n",
       " 'crunchy',\n",
       " 'crushed',\n",
       " 'crust',\n",
       " 'cubes',\n",
       " 'cup',\n",
       " 'cupboard',\n",
       " 'cupcakes',\n",
       " 'cups',\n",
       " 'current',\n",
       " 'currently',\n",
       " 'curry',\n",
       " 'customer',\n",
       " 'customers',\n",
       " 'cut',\n",
       " 'cute',\n",
       " 'cutting',\n",
       " 'dad',\n",
       " 'daily',\n",
       " 'dairy',\n",
       " 'damage',\n",
       " 'damaged',\n",
       " 'dark',\n",
       " 'darker',\n",
       " 'darn',\n",
       " 'date',\n",
       " 'dates',\n",
       " 'daughter',\n",
       " 'day',\n",
       " 'days',\n",
       " 'de',\n",
       " 'dead',\n",
       " 'deal',\n",
       " 'decaf',\n",
       " 'decaffeinated',\n",
       " 'decent',\n",
       " 'decide',\n",
       " 'decided',\n",
       " 'deep',\n",
       " 'definately',\n",
       " 'definite',\n",
       " 'definitely',\n",
       " 'degrees',\n",
       " 'delicate',\n",
       " 'delicious',\n",
       " 'delight',\n",
       " 'delighted',\n",
       " 'delightful',\n",
       " 'delivered',\n",
       " 'delivers',\n",
       " 'delivery',\n",
       " 'dense',\n",
       " 'dented',\n",
       " 'depending',\n",
       " 'describe',\n",
       " 'described',\n",
       " 'description',\n",
       " 'design',\n",
       " 'designed',\n",
       " 'desired',\n",
       " 'desk',\n",
       " 'despite',\n",
       " 'dessert',\n",
       " 'desserts',\n",
       " 'diabetes',\n",
       " 'diabetic',\n",
       " 'diagnosed',\n",
       " 'diamond',\n",
       " 'diarrhea',\n",
       " 'didnt',\n",
       " 'diet',\n",
       " 'dietary',\n",
       " 'dieting',\n",
       " 'diets',\n",
       " 'difference',\n",
       " 'different',\n",
       " 'differently',\n",
       " 'difficult',\n",
       " 'digest',\n",
       " 'digestion',\n",
       " 'digestive',\n",
       " 'dinner',\n",
       " 'dinners',\n",
       " 'dip',\n",
       " 'dipping',\n",
       " 'dips',\n",
       " 'direct',\n",
       " 'directions',\n",
       " 'directly',\n",
       " 'dirt',\n",
       " 'dirty',\n",
       " 'disappointed',\n",
       " 'disappointing',\n",
       " 'disappointment',\n",
       " 'discontinued',\n",
       " 'discount',\n",
       " 'discover',\n",
       " 'discovered',\n",
       " 'disease',\n",
       " 'disgusting',\n",
       " 'dish',\n",
       " 'dishes',\n",
       " 'dislike',\n",
       " 'disposable',\n",
       " 'disposakups',\n",
       " 'dissolve',\n",
       " 'dissolved',\n",
       " 'dissolves',\n",
       " 'distinct',\n",
       " 'doctor',\n",
       " 'doesnt',\n",
       " 'dog',\n",
       " 'dogs',\n",
       " 'dollar',\n",
       " 'dollars',\n",
       " 'done',\n",
       " 'dont',\n",
       " 'donut',\n",
       " 'donuts',\n",
       " 'door',\n",
       " 'dose',\n",
       " 'double',\n",
       " 'doubt',\n",
       " 'dough',\n",
       " 'downside',\n",
       " 'dozen',\n",
       " 'dr',\n",
       " 'drank',\n",
       " 'drawback',\n",
       " 'dressing',\n",
       " 'dried',\n",
       " 'drink',\n",
       " 'drinker',\n",
       " 'drinkers',\n",
       " 'drinking',\n",
       " 'drinks',\n",
       " 'drip',\n",
       " 'drive',\n",
       " 'drop',\n",
       " 'dropped',\n",
       " 'drops',\n",
       " 'drunk',\n",
       " 'dry',\n",
       " 'due',\n",
       " 'dunkin',\n",
       " 'dust',\n",
       " 'earlier',\n",
       " 'early',\n",
       " 'earth',\n",
       " 'earthy',\n",
       " 'ease',\n",
       " 'easier',\n",
       " 'easily',\n",
       " 'easy',\n",
       " 'eat',\n",
       " 'eaten',\n",
       " 'eater',\n",
       " 'eating',\n",
       " 'eats',\n",
       " 'economical',\n",
       " 'edge',\n",
       " 'edible',\n",
       " 'edit',\n",
       " 'effect',\n",
       " 'effective',\n",
       " 'effects',\n",
       " 'effort',\n",
       " 'egg',\n",
       " 'eggs',\n",
       " 'either',\n",
       " 'electrolytes',\n",
       " 'else',\n",
       " 'elsewhere',\n",
       " 'em',\n",
       " 'email',\n",
       " 'empty',\n",
       " 'end',\n",
       " 'ended',\n",
       " 'ends',\n",
       " 'energy',\n",
       " 'england',\n",
       " 'english',\n",
       " 'enjoy',\n",
       " 'enjoyable',\n",
       " 'enjoyed',\n",
       " 'enjoying',\n",
       " 'enjoys',\n",
       " 'enough',\n",
       " 'entire',\n",
       " 'entirely',\n",
       " 'equal',\n",
       " 'equally',\n",
       " 'equivalent',\n",
       " 'error',\n",
       " 'especially',\n",
       " 'espresso',\n",
       " 'essential',\n",
       " 'etc',\n",
       " 'european',\n",
       " 'even',\n",
       " 'evening',\n",
       " 'eventually',\n",
       " 'ever',\n",
       " 'every',\n",
       " 'everybody',\n",
       " 'everyday',\n",
       " 'everyone',\n",
       " 'everything',\n",
       " 'everytime',\n",
       " 'everywhere',\n",
       " 'exact',\n",
       " 'exactly',\n",
       " 'example',\n",
       " 'excellent',\n",
       " 'except',\n",
       " 'exception',\n",
       " 'excited',\n",
       " 'expect',\n",
       " 'expectations',\n",
       " 'expected',\n",
       " 'expecting',\n",
       " 'expensive',\n",
       " 'experience',\n",
       " 'experienced',\n",
       " 'experiment',\n",
       " 'expiration',\n",
       " 'expired',\n",
       " 'extra',\n",
       " 'extract',\n",
       " 'extremely',\n",
       " 'eye',\n",
       " 'eyes',\n",
       " 'fabulous',\n",
       " 'face',\n",
       " 'fact',\n",
       " 'factor',\n",
       " 'facts',\n",
       " 'fair',\n",
       " 'fairly',\n",
       " 'fake',\n",
       " 'fall',\n",
       " 'familiar',\n",
       " 'family',\n",
       " 'fan',\n",
       " 'fancy',\n",
       " 'fans',\n",
       " 'fantastic',\n",
       " 'far',\n",
       " 'farms',\n",
       " 'fast',\n",
       " 'faster',\n",
       " 'fat',\n",
       " 'father',\n",
       " 'fats',\n",
       " 'fatty',\n",
       " 'favor',\n",
       " 'favorite',\n",
       " 'favorites',\n",
       " 'favors',\n",
       " 'fed',\n",
       " 'feed',\n",
       " 'feeding',\n",
       " 'feel',\n",
       " 'feeling',\n",
       " 'feels',\n",
       " 'fell',\n",
       " 'felt',\n",
       " 'fiber',\n",
       " 'figure',\n",
       " 'figured',\n",
       " 'fill',\n",
       " 'filled',\n",
       " 'fillers',\n",
       " 'filling',\n",
       " 'fills',\n",
       " 'filter',\n",
       " 'filtered',\n",
       " 'filters',\n",
       " 'final',\n",
       " 'finally',\n",
       " 'find',\n",
       " 'finding',\n",
       " 'fine',\n",
       " 'fingers',\n",
       " 'finicky',\n",
       " 'finish',\n",
       " 'finished',\n",
       " 'firm',\n",
       " 'first',\n",
       " 'fish',\n",
       " 'fit',\n",
       " 'fits',\n",
       " 'five',\n",
       " 'fix',\n",
       " 'fizz',\n",
       " 'fizzy',\n",
       " 'flat',\n",
       " 'flavor',\n",
       " 'flavored',\n",
       " 'flavorful',\n",
       " 'flavoring',\n",
       " 'flavorings',\n",
       " 'flavors',\n",
       " 'flavour',\n",
       " 'flax',\n",
       " 'floor',\n",
       " 'florida',\n",
       " 'flour',\n",
       " 'flowers',\n",
       " 'fluffy',\n",
       " 'foil',\n",
       " 'folgers',\n",
       " 'folks',\n",
       " 'follow',\n",
       " 'followed',\n",
       " 'following',\n",
       " 'fond',\n",
       " 'fondant',\n",
       " 'food',\n",
       " 'foods',\n",
       " 'forever',\n",
       " 'forget',\n",
       " 'forgot',\n",
       " 'form',\n",
       " 'formula',\n",
       " 'formulas',\n",
       " 'fortunately',\n",
       " 'forward',\n",
       " 'found',\n",
       " 'four',\n",
       " 'fourth',\n",
       " 'fragrant',\n",
       " 'free',\n",
       " 'freeze',\n",
       " 'freezer',\n",
       " 'french',\n",
       " 'frequently',\n",
       " 'fresh',\n",
       " 'fresher',\n",
       " 'freshly',\n",
       " 'freshness',\n",
       " 'fridge',\n",
       " 'fried',\n",
       " 'friend',\n",
       " 'friendly',\n",
       " 'friends',\n",
       " 'fries',\n",
       " 'front',\n",
       " 'frosting',\n",
       " 'frozen',\n",
       " 'fructose',\n",
       " 'fruit',\n",
       " 'fruits',\n",
       " 'fruity',\n",
       " 'fry',\n",
       " 'fuel',\n",
       " 'full',\n",
       " 'fully',\n",
       " 'fun',\n",
       " 'funny',\n",
       " 'fur',\n",
       " 'future',\n",
       " 'gain',\n",
       " 'gallon',\n",
       " 'game',\n",
       " 'garbage',\n",
       " 'garden',\n",
       " 'garlic',\n",
       " 'gas',\n",
       " 'gave',\n",
       " 'gel',\n",
       " 'general',\n",
       " 'generally',\n",
       " 'gerber',\n",
       " 'german',\n",
       " 'get',\n",
       " 'gets',\n",
       " 'getting',\n",
       " 'gevalia',\n",
       " 'gf',\n",
       " 'gift',\n",
       " 'gifts',\n",
       " 'ginger',\n",
       " 'girl',\n",
       " 'girlfriend',\n",
       " 'girls',\n",
       " 'give',\n",
       " 'given',\n",
       " 'gives',\n",
       " 'giving',\n",
       " 'glad',\n",
       " 'glass',\n",
       " 'gluten',\n",
       " 'go',\n",
       " 'goat',\n",
       " 'goats',\n",
       " 'god',\n",
       " 'goes',\n",
       " 'going',\n",
       " 'gold',\n",
       " 'golden',\n",
       " 'gone',\n",
       " 'good',\n",
       " 'goodness',\n",
       " 'goods',\n",
       " 'google',\n",
       " 'got',\n",
       " 'gotta',\n",
       " 'gotten',\n",
       " 'gourmet',\n",
       " 'grab',\n",
       " 'grade',\n",
       " 'grain',\n",
       " 'grains',\n",
       " 'grainy',\n",
       " 'gram',\n",
       " 'grams',\n",
       " 'grandmother',\n",
       " 'grandpa',\n",
       " 'grandson',\n",
       " 'granola',\n",
       " 'granted',\n",
       " 'grape',\n",
       " 'grapefruit',\n",
       " 'grass',\n",
       " 'grateful',\n",
       " 'gravy',\n",
       " 'greasy',\n",
       " 'great',\n",
       " 'greatest',\n",
       " 'greatly',\n",
       " 'green',\n",
       " 'grew',\n",
       " 'grey',\n",
       " 'grill',\n",
       " 'grilled',\n",
       " 'grind',\n",
       " 'grinder',\n",
       " 'grinding',\n",
       " 'gritty',\n",
       " 'grocer',\n",
       " 'groceries',\n",
       " 'grocery',\n",
       " 'gross',\n",
       " 'ground',\n",
       " 'grounds',\n",
       " 'group',\n",
       " 'grove',\n",
       " 'grow',\n",
       " 'growing',\n",
       " 'grown',\n",
       " 'guess',\n",
       " ...]"
      ]
     },
     "execution_count": 222,
     "metadata": {},
     "output_type": "execute_result"
    }
   ],
   "source": [
    "bow_feature_name"
   ]
  },
  {
   "cell_type": "code",
   "execution_count": 223,
   "metadata": {},
   "outputs": [
    {
     "name": "stdout",
     "output_type": "stream",
     "text": [
      "(6024, 2562)\n",
      "(670, 2562)\n",
      "(2870, 2562)\n"
     ]
    }
   ],
   "source": [
    "print(train_bow.shape)\n",
    "print(cv_bow.shape)\n",
    "print(test_bow.shape)"
   ]
  },
  {
   "cell_type": "markdown",
   "metadata": {},
   "source": [
    "### Training and Testing"
   ]
  },
  {
   "cell_type": "code",
   "execution_count": 224,
   "metadata": {},
   "outputs": [
    {
     "name": "stderr",
     "output_type": "stream",
     "text": [
      "100%|████████████████████████████████████████████████████████████████████████████████████| 9/9 [02:15<00:00, 15.06s/it]\n"
     ]
    }
   ],
   "source": [
    "from sklearn.svm import SVC\n",
    "from sklearn.metrics import roc_auc_score,auc\n",
    "train_auc=[]\n",
    "cv_auc=[]\n",
    "alpha=[10**i for i in range(-4,5)]\n",
    "for alf in tqdm(alpha):\n",
    "    model=SVC(kernel='rbf',gamma=alf)\n",
    "    model.fit(train_bow,y_train)\n",
    "    y_train_prob=[]\n",
    "    y_train_prob=model.decision_function(train_bow)\n",
    "    y_cv_prob=[]\n",
    "    y_cv_prob=model.decision_function(cv_bow)\n",
    "    train_auc.append(roc_auc_score(y_train,y_train_prob))\n",
    "    cv_auc.append(roc_auc_score(y_cv,y_cv_prob))"
   ]
  },
  {
   "cell_type": "code",
   "execution_count": 225,
   "metadata": {},
   "outputs": [
    {
     "data": {
      "image/png": "[encoded data removed]",
      "text/plain": [
       "<Figure size 432x288 with 1 Axes>"
      ]
     },
     "metadata": {
      "needs_background": "light"
     },
     "output_type": "display_data"
    },
    {
     "name": "stdout",
     "output_type": "stream",
     "text": [
      "[0.0001, 0.001, 0.01, 0.1, 1, 10, 100, 1000, 10000]\n"
     ]
    }
   ],
   "source": [
    "import math\n",
    "log_alpha=[math.log(i) for i in alpha]\n",
    "plt.plot(log_alpha,train_auc,label='train_auc')\n",
    "plt.plot(log_alpha,cv_auc,label='cv_auc')\n",
    "plt.legend()\n",
    "plt.scatter(log_alpha,train_auc)\n",
    "plt.scatter(log_alpha,cv_auc)\n",
    "plt.grid()\n",
    "plt.ylabel('auc')\n",
    "plt.xlabel('value of c')\n",
    "plt.show()\n",
    "print(alpha)"
   ]
  },
  {
   "cell_type": "code",
   "execution_count": 226,
   "metadata": {},
   "outputs": [],
   "source": [
    "sgd=SVC(kernel='rbf')\n",
    "from sklearn.model_selection import GridSearchCV\n",
    "parameters = {'gamma':[10**i for i in range(-4,5)]}\n",
    "clf=GridSearchCV(sgd,parameters,cv=3,scoring='roc_auc',return_train_score=True)\n",
    "clf.fit(train_bow,y_train)\n",
    "train_auc= clf.cv_results_['mean_train_score']\n",
    "train_auc_std= clf.cv_results_['std_train_score']\n",
    "cv_auc = clf.cv_results_['mean_test_score'] \n",
    "cv_auc_std= clf.cv_results_['std_test_score']"
   ]
  },
  {
   "cell_type": "code",
   "execution_count": 227,
   "metadata": {},
   "outputs": [
    {
     "data": {
      "text/plain": [
       "{'gamma': 0.01}"
      ]
     },
     "execution_count": 227,
     "metadata": {},
     "output_type": "execute_result"
    }
   ],
   "source": [
    "clf.best_params_"
   ]
  },
  {
   "cell_type": "code",
   "execution_count": 228,
   "metadata": {},
   "outputs": [
    {
     "data": {
      "image/png": "[encoded data removed]",
      "text/plain": [
       "<Figure size 432x288 with 1 Axes>"
      ]
     },
     "metadata": {
      "needs_background": "light"
     },
     "output_type": "display_data"
    },
    {
     "name": "stdout",
     "output_type": "stream",
     "text": [
      "[0.0001, 0.001, 0.01, 0.1, 1, 10, 100, 1000, 10000]\n"
     ]
    }
   ],
   "source": [
    "import math\n",
    "alpha=[10**i for i in range(-4,5)]\n",
    "log_alpha=[math.log(i) for i in alpha]\n",
    "plt.plot(log_alpha,train_auc,label='train_auc')\n",
    "plt.plot(log_alpha,cv_auc,label='cv_auc')\n",
    "plt.legend()\n",
    "plt.scatter(log_alpha,train_auc)\n",
    "plt.scatter(log_alpha,cv_auc)\n",
    "plt.grid()\n",
    "plt.ylabel('auc')\n",
    "plt.xlabel('value of c')\n",
    "plt.show()\n",
    "print(alpha)"
   ]
  },
  {
   "cell_type": "code",
   "execution_count": 229,
   "metadata": {},
   "outputs": [],
   "source": [
    "best_gamma = 0.01\n",
    "from sklearn.metrics import roc_curve,auc\n",
    "model=SVC(kernel='rbf',gamma=best_gamma)\n",
    "model.fit(train_bow,y_train)\n",
    "y_train_pred=[]\n",
    "y_train_pred=model.decision_function(train_bow)\n",
    "fpr_train,tpr_train,thresholds_train=roc_curve(y_train,y_train_pred)\n",
    "y_test_pred=[]\n",
    "y_test_pred=model.decision_function(test_bow)\n",
    "fpr_test,tpr_test,thresholds_test=roc_curve(y_test,y_test_pred)"
   ]
  },
  {
   "cell_type": "code",
   "execution_count": 230,
   "metadata": {},
   "outputs": [
    {
     "data": {
      "text/plain": [
       "Text(0, 0.5, 'True positive rate')"
      ]
     },
     "execution_count": 230,
     "metadata": {},
     "output_type": "execute_result"
    },
    {
     "data": {
      "image/png": "[encoded data removed]",
      "text/plain": [
       "<Figure size 432x288 with 1 Axes>"
      ]
     },
     "metadata": {
      "needs_background": "light"
     },
     "output_type": "display_data"
    }
   ],
   "source": [
    "plt.title('Error')\n",
    "plt.plot(fpr_test,tpr_test,label='test='+str(auc(fpr_test,tpr_test)))\n",
    "plt.plot(fpr_train,tpr_train,label='train='+str(auc(fpr_train,tpr_train)))\n",
    "plt.legend()\n",
    "plt.xlabel('False positive rate')\n",
    "plt.ylabel('True positive rate')"
   ]
  },
  {
   "cell_type": "code",
   "execution_count": 231,
   "metadata": {},
   "outputs": [
    {
     "name": "stdout",
     "output_type": "stream",
     "text": [
      "Train Confusion Matrix\n",
      "[[ 524  464]\n",
      " [   4 5032]]\n"
     ]
    },
    {
     "data": {
      "text/plain": [
       "<AxesSubplot:>"
      ]
     },
     "execution_count": 231,
     "metadata": {},
     "output_type": "execute_result"
    },
    {
     "data": {
      "image/png": "[encoded data removed]",
      "text/plain": [
       "<Figure size 432x288 with 1 Axes>"
      ]
     },
     "metadata": {
      "needs_background": "light"
     },
     "output_type": "display_data"
    }
   ],
   "source": [
    "print('Train Confusion Matrix')\n",
    "print(confusion_matrix(y_train,model.predict(train_bow)))\n",
    "tn,fp,fn,tp=confusion_matrix(y_train,model.predict(train_bow)).ravel()\n",
    "mat=np.matrix([[tn,fn],[fp,tp]])\n",
    "sns.heatmap(mat, square=True, annot=True, fmt='d', cbar=False,            \n",
    "xticklabels=[0,1], yticklabels=[0,1]) "
   ]
  },
  {
   "cell_type": "code",
   "execution_count": 232,
   "metadata": {},
   "outputs": [
    {
     "name": "stdout",
     "output_type": "stream",
     "text": [
      "Test Confusion Matrix\n",
      "[[ 128  363]\n",
      " [   9 2370]]\n"
     ]
    },
    {
     "data": {
      "text/plain": [
       "<AxesSubplot:>"
      ]
     },
     "execution_count": 232,
     "metadata": {},
     "output_type": "execute_result"
    },
    {
     "data": {
      "image/png": "[encoded data removed]",
      "text/plain": [
       "<Figure size 432x288 with 1 Axes>"
      ]
     },
     "metadata": {
      "needs_background": "light"
     },
     "output_type": "display_data"
    }
   ],
   "source": [
    "print('Test Confusion Matrix')\n",
    "print(confusion_matrix(y_test,model.predict(test_bow)))\n",
    "tn,fp,fn,tp=confusion_matrix(y_test,model.predict(test_bow)).ravel()\n",
    "mat=np.matrix([[tn,fn],[fp,tp]])\n",
    "sns.heatmap(mat, square=True, annot=True, fmt='d', cbar=False,            \n",
    "xticklabels=[0,1], yticklabels=[0,1]) "
   ]
  },
  {
   "cell_type": "markdown",
   "metadata": {},
   "source": [
    "### [5.2.2] Applying RBF SVM on TFIDF,<font color='red'> SET 2</font>"
   ]
  },
  {
   "cell_type": "code",
   "execution_count": 233,
   "metadata": {},
   "outputs": [
    {
     "name": "stdout",
     "output_type": "stream",
     "text": [
      "(9564, 11)\n",
      "<class 'pandas.core.frame.DataFrame'>\n"
     ]
    }
   ],
   "source": [
    "print(final_sorted_data.shape)\n",
    "print(type(final_sorted_data))"
   ]
  },
  {
   "cell_type": "code",
   "execution_count": 234,
   "metadata": {},
   "outputs": [],
   "source": [
    "X=final_sorted_data['preprocessed_reviews']\n",
    "Y=final_sorted_data['Score']"
   ]
  },
  {
   "cell_type": "markdown",
   "metadata": {},
   "source": [
    "### Splitting into train,cv and test sets"
   ]
  },
  {
   "cell_type": "code",
   "execution_count": 235,
   "metadata": {},
   "outputs": [
    {
     "name": "stdout",
     "output_type": "stream",
     "text": [
      "(9564,)\n",
      "(9564,)\n",
      "<class 'pandas.core.series.Series'>\n"
     ]
    }
   ],
   "source": [
    "print(X.shape)\n",
    "print(Y.shape)\n",
    "print(type(Y))"
   ]
  },
  {
   "cell_type": "code",
   "execution_count": 236,
   "metadata": {},
   "outputs": [
    {
     "name": "stdout",
     "output_type": "stream",
     "text": [
      "(6024,)\n",
      "(6024,)\n",
      "(2870,)\n",
      "(2870,)\n",
      "(670,)\n",
      "(670,)\n"
     ]
    }
   ],
   "source": [
    "from sklearn.model_selection import train_test_split\n",
    "x_train,x_test,y_train,y_test=train_test_split(X,Y,test_size=0.3,random_state=0)\n",
    "x_train,x_cv,y_train,y_cv=train_test_split(x_train,y_train,test_size=0.1,random_state=0)\n",
    "print(x_train.shape)\n",
    "print(y_train.shape)\n",
    "print(x_test.shape)\n",
    "print(y_test.shape)\n",
    "print(x_cv.shape)\n",
    "print(y_cv.shape)"
   ]
  },
  {
   "cell_type": "code",
   "execution_count": 237,
   "metadata": {},
   "outputs": [],
   "source": [
    "from sklearn.feature_extraction.text import CountVectorizer\n",
    "vectorizer = tf_idf_vect = TfidfVectorizer(ngram_range=(1,2), min_df=10)\n",
    "def tfidf(data):\n",
    "    text_tfidf = vectorizer.transform(data)\n",
    "    return text_tfidf\n",
    "\n",
    "vectorizer.fit(x_train)\n",
    "train_tfidf=tfidf(x_train)\n",
    "test_tfidf=tfidf(x_test)\n",
    "cv_tfidf=tfidf(x_cv)\n",
    "tfidf_feature_name=vectorizer.get_feature_names()"
   ]
  },
  {
   "cell_type": "code",
   "execution_count": 238,
   "metadata": {},
   "outputs": [
    {
     "data": {
      "text/plain": [
       "['ability',\n",
       " 'able',\n",
       " 'able find',\n",
       " 'able use',\n",
       " 'absolute',\n",
       " 'absolute best',\n",
       " 'absolute favorite',\n",
       " 'absolutely',\n",
       " 'absolutely delicious',\n",
       " 'absolutely love',\n",
       " 'absolutely loves',\n",
       " 'acacia',\n",
       " 'according',\n",
       " 'account',\n",
       " 'acerola',\n",
       " 'acid',\n",
       " 'acidic',\n",
       " 'acidity',\n",
       " 'acquired',\n",
       " 'across',\n",
       " 'active',\n",
       " 'actual',\n",
       " 'actually',\n",
       " 'add',\n",
       " 'add little',\n",
       " 'add water',\n",
       " 'added',\n",
       " 'added bonus',\n",
       " 'added sugar',\n",
       " 'added sugars',\n",
       " 'addict',\n",
       " 'addicted',\n",
       " 'addicting',\n",
       " 'addictive',\n",
       " 'adding',\n",
       " 'addition',\n",
       " 'additional',\n",
       " 'additives',\n",
       " 'adds',\n",
       " 'adequate',\n",
       " 'admit',\n",
       " 'adopted',\n",
       " 'adore',\n",
       " 'adult',\n",
       " 'adults',\n",
       " 'advantage',\n",
       " 'advertised',\n",
       " 'advice',\n",
       " 'afford',\n",
       " 'affordable',\n",
       " 'afraid',\n",
       " 'afternoon',\n",
       " 'aftertaste',\n",
       " 'aftertaste not',\n",
       " 'afterwards',\n",
       " 'agave',\n",
       " 'age',\n",
       " 'ages',\n",
       " 'ago',\n",
       " 'agree',\n",
       " 'ahead',\n",
       " 'aid',\n",
       " 'air',\n",
       " 'air tight',\n",
       " 'alcohol',\n",
       " 'allergic',\n",
       " 'allergies',\n",
       " 'allergy',\n",
       " 'allow',\n",
       " 'allowed',\n",
       " 'allowing',\n",
       " 'allows',\n",
       " 'almond',\n",
       " 'almond milk',\n",
       " 'almonds',\n",
       " 'almost',\n",
       " 'almost every',\n",
       " 'almost like',\n",
       " 'alone',\n",
       " 'along',\n",
       " 'alot',\n",
       " 'already',\n",
       " 'also',\n",
       " 'also good',\n",
       " 'also great',\n",
       " 'also like',\n",
       " 'also love',\n",
       " 'also make',\n",
       " 'also not',\n",
       " 'also tried',\n",
       " 'also use',\n",
       " 'also used',\n",
       " 'alternative',\n",
       " 'alternative regular',\n",
       " 'alternatives',\n",
       " 'although',\n",
       " 'although not',\n",
       " 'aluminum',\n",
       " 'always',\n",
       " 'amazed',\n",
       " 'amazing',\n",
       " 'amazingly',\n",
       " 'amazon',\n",
       " 'amazon com',\n",
       " 'amazon get',\n",
       " 'amazon great',\n",
       " 'amazon not',\n",
       " 'amazon price',\n",
       " 'amazon prime',\n",
       " 'america',\n",
       " 'american',\n",
       " 'among',\n",
       " 'amount',\n",
       " 'amount salt',\n",
       " 'amounts',\n",
       " 'animal',\n",
       " 'animals',\n",
       " 'annie',\n",
       " 'annoying',\n",
       " 'another',\n",
       " 'another brand',\n",
       " 'another one',\n",
       " 'another reviewer',\n",
       " 'answer',\n",
       " 'antioxidants',\n",
       " 'anymore',\n",
       " 'anyone',\n",
       " 'anything',\n",
       " 'anything else',\n",
       " 'anything like',\n",
       " 'anytime',\n",
       " 'anyway',\n",
       " 'anywhere',\n",
       " 'apart',\n",
       " 'apparently',\n",
       " 'appeal',\n",
       " 'appealing',\n",
       " 'appear',\n",
       " 'appears',\n",
       " 'apple',\n",
       " 'apple grape',\n",
       " 'apples',\n",
       " 'appreciate',\n",
       " 'approximately',\n",
       " 'area',\n",
       " 'aroma',\n",
       " 'aroma taste',\n",
       " 'aromatic',\n",
       " 'around',\n",
       " 'around house',\n",
       " 'arrive',\n",
       " 'arrived',\n",
       " 'arrived quickly',\n",
       " 'arrived time',\n",
       " 'arrives',\n",
       " 'artificial',\n",
       " 'artificial flavors',\n",
       " 'artificial sweeteners',\n",
       " 'asian',\n",
       " 'aside',\n",
       " 'ask',\n",
       " 'asked',\n",
       " 'asking',\n",
       " 'assorted',\n",
       " 'assortment',\n",
       " 'assume',\n",
       " 'assuming',\n",
       " 'ate',\n",
       " 'attempt',\n",
       " 'attention',\n",
       " 'attractive',\n",
       " 'audio',\n",
       " 'authentic',\n",
       " 'auto',\n",
       " 'automatic',\n",
       " 'available',\n",
       " 'available amazon',\n",
       " 'average',\n",
       " 'avoid',\n",
       " 'awake',\n",
       " 'aware',\n",
       " 'away',\n",
       " 'away not',\n",
       " 'awesome',\n",
       " 'awful',\n",
       " 'awhile',\n",
       " 'babies',\n",
       " 'baby',\n",
       " 'baby food',\n",
       " 'baby loves',\n",
       " 'back',\n",
       " 'bacon',\n",
       " 'bad',\n",
       " 'bad batch',\n",
       " 'bad not',\n",
       " 'bad taste',\n",
       " 'bag',\n",
       " 'bag not',\n",
       " 'bags',\n",
       " 'bake',\n",
       " 'baked',\n",
       " 'baked goods',\n",
       " 'baking',\n",
       " 'baking mix',\n",
       " 'baking soda',\n",
       " 'balance',\n",
       " 'balanced',\n",
       " 'ball',\n",
       " 'balls',\n",
       " 'banana',\n",
       " 'bananas',\n",
       " 'bar',\n",
       " 'barbecue',\n",
       " 'barbeque',\n",
       " 'barely',\n",
       " 'bargain',\n",
       " 'barley',\n",
       " 'bars',\n",
       " 'base',\n",
       " 'based',\n",
       " 'basic',\n",
       " 'basically',\n",
       " 'basil',\n",
       " 'basis',\n",
       " 'basket',\n",
       " 'batch',\n",
       " 'batches',\n",
       " 'batter',\n",
       " 'bbq',\n",
       " 'bean',\n",
       " 'beans',\n",
       " 'bear',\n",
       " 'bears',\n",
       " 'beat',\n",
       " 'beats',\n",
       " 'beautiful',\n",
       " 'beautifully',\n",
       " 'became',\n",
       " 'become',\n",
       " 'becomes',\n",
       " 'becoming',\n",
       " 'bed',\n",
       " 'beef',\n",
       " 'beef jerky',\n",
       " 'beer',\n",
       " 'began',\n",
       " 'begin',\n",
       " 'beginning',\n",
       " 'behind',\n",
       " 'belgian',\n",
       " 'believe',\n",
       " 'belly',\n",
       " 'benefit',\n",
       " 'benefits',\n",
       " 'berries',\n",
       " 'berry',\n",
       " 'besides',\n",
       " 'best',\n",
       " 'best baby',\n",
       " 'best coffee',\n",
       " 'best cup',\n",
       " 'best ever',\n",
       " 'best flavor',\n",
       " 'best found',\n",
       " 'best hot',\n",
       " 'best not',\n",
       " 'best part',\n",
       " 'best price',\n",
       " 'best tasting',\n",
       " 'best thing',\n",
       " 'best way',\n",
       " 'bet',\n",
       " 'better',\n",
       " 'better not',\n",
       " 'better price',\n",
       " 'better regular',\n",
       " 'better tasting',\n",
       " 'betty',\n",
       " 'betty crocker',\n",
       " 'beverage',\n",
       " 'beverages',\n",
       " 'beware',\n",
       " 'beyond',\n",
       " 'big',\n",
       " 'big fan',\n",
       " 'big hit',\n",
       " 'bigger',\n",
       " 'biggest',\n",
       " 'bill',\n",
       " 'birthday',\n",
       " 'biscuit',\n",
       " 'biscuits',\n",
       " 'bisquick',\n",
       " 'bit',\n",
       " 'bit better',\n",
       " 'bite',\n",
       " 'bites',\n",
       " 'bits',\n",
       " 'bitter',\n",
       " 'bitter aftertaste',\n",
       " 'bitter not',\n",
       " 'bitter taste',\n",
       " 'bitterness',\n",
       " 'black',\n",
       " 'black tea',\n",
       " 'bland',\n",
       " 'blend',\n",
       " 'blender',\n",
       " 'blends',\n",
       " 'blood',\n",
       " 'blood pressure',\n",
       " 'blood sugar',\n",
       " 'blown',\n",
       " 'blue',\n",
       " 'blue diamond',\n",
       " 'blueberries',\n",
       " 'blueberry',\n",
       " 'bob',\n",
       " 'bob red',\n",
       " 'bodied',\n",
       " 'body',\n",
       " 'boil',\n",
       " 'bold',\n",
       " 'bold coffee',\n",
       " 'bone',\n",
       " 'bones',\n",
       " 'bonus',\n",
       " 'book',\n",
       " 'boost',\n",
       " 'born',\n",
       " 'bother',\n",
       " 'bottle',\n",
       " 'bottled',\n",
       " 'bottles',\n",
       " 'bottom',\n",
       " 'bottom bag',\n",
       " 'bottom line',\n",
       " 'bought',\n",
       " 'bought one',\n",
       " 'bought product',\n",
       " 'bowel',\n",
       " 'bowl',\n",
       " 'bowls',\n",
       " 'box',\n",
       " 'box not',\n",
       " 'boxed',\n",
       " 'boxes',\n",
       " 'boy',\n",
       " 'boyfriend',\n",
       " 'boys',\n",
       " 'bpa',\n",
       " 'bpa free',\n",
       " 'brand',\n",
       " 'brand chips',\n",
       " 'brand coffee',\n",
       " 'brand not',\n",
       " 'brands',\n",
       " 'brands not',\n",
       " 'brands tried',\n",
       " 'bread',\n",
       " 'breads',\n",
       " 'break',\n",
       " 'breakfast',\n",
       " 'breakfast bed',\n",
       " 'breakfast blend',\n",
       " 'breaking',\n",
       " 'breath',\n",
       " 'breed',\n",
       " 'brew',\n",
       " 'brewed',\n",
       " 'brewer',\n",
       " 'brewing',\n",
       " 'brews',\n",
       " 'bright',\n",
       " 'bring',\n",
       " 'brings',\n",
       " 'broccoli',\n",
       " 'broke',\n",
       " 'broken',\n",
       " 'broth',\n",
       " 'brother',\n",
       " 'brought',\n",
       " 'brown',\n",
       " 'brown rice',\n",
       " 'brown sugar',\n",
       " 'brownies',\n",
       " 'btw',\n",
       " 'bubble',\n",
       " 'bucks',\n",
       " 'budget',\n",
       " 'buds',\n",
       " 'buffalo',\n",
       " 'bulk',\n",
       " 'bunch',\n",
       " 'burn',\n",
       " 'burned',\n",
       " 'burnt',\n",
       " 'business',\n",
       " 'busy',\n",
       " 'butter',\n",
       " 'buttermilk',\n",
       " 'buttery',\n",
       " 'buy',\n",
       " 'buy amazon',\n",
       " 'buy bulk',\n",
       " 'buy case',\n",
       " 'buy not',\n",
       " 'buy one',\n",
       " 'buy product',\n",
       " 'buy store',\n",
       " 'buyer',\n",
       " 'buying',\n",
       " 'buying product',\n",
       " 'ca',\n",
       " 'ca not',\n",
       " 'cafe',\n",
       " 'caffeine',\n",
       " 'cajun',\n",
       " 'cake',\n",
       " 'cake mix',\n",
       " 'cakes',\n",
       " 'cal',\n",
       " 'calcium',\n",
       " 'california',\n",
       " 'call',\n",
       " 'called',\n",
       " 'calls',\n",
       " 'calorie',\n",
       " 'calorie count',\n",
       " 'calories',\n",
       " 'calories fat',\n",
       " 'calories not',\n",
       " 'calories per',\n",
       " 'came',\n",
       " 'came across',\n",
       " 'candies',\n",
       " 'candy',\n",
       " 'cane',\n",
       " 'cane sugar',\n",
       " 'canned',\n",
       " 'canned food',\n",
       " 'cannot',\n",
       " 'cannot find',\n",
       " 'canola',\n",
       " 'cans',\n",
       " 'cant',\n",
       " 'car',\n",
       " 'caramel',\n",
       " 'carb',\n",
       " 'carb diet',\n",
       " 'carbonated',\n",
       " 'carbonated juice',\n",
       " 'carbonated water',\n",
       " 'carbonation',\n",
       " 'carbs',\n",
       " 'card',\n",
       " 'cardboard',\n",
       " 'care',\n",
       " 'careful',\n",
       " 'carefully',\n",
       " 'caribou',\n",
       " 'carried',\n",
       " 'carries',\n",
       " 'carrot',\n",
       " 'carrots',\n",
       " 'carry',\n",
       " 'carrying',\n",
       " 'carton',\n",
       " 'case',\n",
       " 'case not',\n",
       " 'cases',\n",
       " 'cat',\n",
       " 'cat food',\n",
       " 'cat grass',\n",
       " 'cat loves',\n",
       " 'catch',\n",
       " 'cats',\n",
       " 'cats love',\n",
       " 'caught',\n",
       " 'cause',\n",
       " 'caused',\n",
       " 'causes',\n",
       " 'caution',\n",
       " 'celery',\n",
       " 'celiac',\n",
       " 'celiac disease',\n",
       " 'center',\n",
       " 'cents',\n",
       " 'cents per',\n",
       " 'cereal',\n",
       " 'cereals',\n",
       " 'certain',\n",
       " 'certainly',\n",
       " 'certainly not',\n",
       " 'certified',\n",
       " 'challenge',\n",
       " 'chamomile',\n",
       " 'chance',\n",
       " 'change',\n",
       " 'changed',\n",
       " 'changes',\n",
       " 'changing',\n",
       " 'character',\n",
       " 'charge',\n",
       " 'charges',\n",
       " 'charging',\n",
       " 'cheap',\n",
       " 'cheaper',\n",
       " 'cheapest',\n",
       " 'check',\n",
       " 'checked',\n",
       " 'cheddar',\n",
       " 'cheese',\n",
       " 'chemical',\n",
       " 'chemicals',\n",
       " 'cherry',\n",
       " 'chew',\n",
       " 'chewing',\n",
       " 'chews',\n",
       " 'chewy',\n",
       " 'chia',\n",
       " 'chia seeds',\n",
       " 'chicken',\n",
       " 'child',\n",
       " 'childhood',\n",
       " 'children',\n",
       " 'chili',\n",
       " 'chilled',\n",
       " 'china',\n",
       " 'chinese',\n",
       " 'chip',\n",
       " 'chips',\n",
       " 'chips ever',\n",
       " 'chips great',\n",
       " 'chips not',\n",
       " 'chips really',\n",
       " 'chips taste',\n",
       " 'chocolate',\n",
       " 'chocolate chip',\n",
       " 'chocolate cups',\n",
       " 'chocolate flavor',\n",
       " 'chocolate not',\n",
       " 'chocolates',\n",
       " 'chocolatey',\n",
       " 'choice',\n",
       " 'choices',\n",
       " 'cholesterol',\n",
       " 'choose',\n",
       " 'chopped',\n",
       " 'chose',\n",
       " 'chowder',\n",
       " 'christmas',\n",
       " 'chunks',\n",
       " 'cider',\n",
       " 'cinnamon',\n",
       " 'citrus',\n",
       " 'claim',\n",
       " 'claims',\n",
       " 'clam',\n",
       " 'clam chowder',\n",
       " 'class',\n",
       " 'classic',\n",
       " 'clean',\n",
       " 'cleaning',\n",
       " 'clear',\n",
       " 'clearly',\n",
       " 'close',\n",
       " 'closer',\n",
       " 'closest',\n",
       " 'club',\n",
       " 'co',\n",
       " 'coast',\n",
       " 'coat',\n",
       " 'coated',\n",
       " 'coating',\n",
       " 'coats',\n",
       " 'coco',\n",
       " 'cocoa',\n",
       " 'cocoa powder',\n",
       " 'coconut',\n",
       " 'coconut oil',\n",
       " 'coconut water',\n",
       " 'coffee',\n",
       " 'coffee beans',\n",
       " 'coffee best',\n",
       " 'coffee cups',\n",
       " 'coffee drinker',\n",
       " 'coffee drinkers',\n",
       " 'coffee ever',\n",
       " 'coffee every',\n",
       " 'coffee flavor',\n",
       " 'coffee good',\n",
       " 'coffee great',\n",
       " 'coffee like',\n",
       " 'coffee machine',\n",
       " 'coffee maker',\n",
       " 'coffee no',\n",
       " 'coffee not',\n",
       " 'coffee one',\n",
       " 'coffee people',\n",
       " 'coffee shop',\n",
       " 'coffee smooth',\n",
       " 'coffee strong',\n",
       " 'coffee tastes',\n",
       " 'coffee tea',\n",
       " 'coffee use',\n",
       " 'coffee would',\n",
       " 'coffees',\n",
       " 'coke',\n",
       " 'cold',\n",
       " 'cold water',\n",
       " 'collection',\n",
       " 'color',\n",
       " 'colored',\n",
       " 'coloring',\n",
       " 'colors',\n",
       " 'com',\n",
       " 'combination',\n",
       " 'combined',\n",
       " 'combo',\n",
       " 'come',\n",
       " 'comes',\n",
       " 'coming',\n",
       " 'comment',\n",
       " 'comments',\n",
       " 'commercial',\n",
       " 'common',\n",
       " 'companies',\n",
       " 'company',\n",
       " 'company not',\n",
       " 'comparable',\n",
       " 'compare',\n",
       " 'compared',\n",
       " 'comparison',\n",
       " 'complain',\n",
       " 'complained',\n",
       " 'complaint',\n",
       " 'complaints',\n",
       " 'complete',\n",
       " 'completely',\n",
       " 'complex',\n",
       " 'computer',\n",
       " 'concentrate',\n",
       " 'concentrates',\n",
       " 'concerned',\n",
       " 'concerns',\n",
       " 'condition',\n",
       " 'confused',\n",
       " 'consider',\n",
       " 'considered',\n",
       " 'considering',\n",
       " 'consistency',\n",
       " 'consistent',\n",
       " 'consistently',\n",
       " 'constant',\n",
       " 'constantly',\n",
       " 'consume',\n",
       " 'consumed',\n",
       " 'consumer',\n",
       " 'consuming',\n",
       " 'consumption',\n",
       " 'contact',\n",
       " 'contain',\n",
       " 'contained',\n",
       " 'container',\n",
       " 'containers',\n",
       " 'containing',\n",
       " 'contains',\n",
       " 'content',\n",
       " 'contents',\n",
       " 'continue',\n",
       " 'continue buy',\n",
       " 'continued',\n",
       " 'control',\n",
       " 'convenience',\n",
       " 'convenient',\n",
       " 'cook',\n",
       " 'cooked',\n",
       " 'cookie',\n",
       " 'cookie bars',\n",
       " 'cookies',\n",
       " 'cooking',\n",
       " 'cooks',\n",
       " 'cool',\n",
       " 'corn',\n",
       " 'corn syrup',\n",
       " 'corner',\n",
       " 'correct',\n",
       " 'correctly',\n",
       " 'cost',\n",
       " 'costco',\n",
       " 'costs',\n",
       " 'could',\n",
       " 'could buy',\n",
       " 'could eat',\n",
       " 'could find',\n",
       " 'could get',\n",
       " 'could make',\n",
       " 'could not',\n",
       " 'count',\n",
       " 'counter',\n",
       " 'country',\n",
       " 'couple',\n",
       " 'couple days',\n",
       " 'couple years',\n",
       " 'coupon',\n",
       " 'course',\n",
       " 'cover',\n",
       " 'covered',\n",
       " 'cow',\n",
       " 'cow milk',\n",
       " 'cracked',\n",
       " 'cracker',\n",
       " 'crackers',\n",
       " 'crap',\n",
       " 'crave',\n",
       " 'craving',\n",
       " 'cravings',\n",
       " 'crazy',\n",
       " 'cream',\n",
       " 'cream cheese',\n",
       " 'cream onion',\n",
       " 'cream sugar',\n",
       " 'creamer',\n",
       " 'creamy',\n",
       " 'create',\n",
       " 'created',\n",
       " 'creates',\n",
       " 'creme',\n",
       " 'crisp',\n",
       " 'crisps',\n",
       " 'crispy',\n",
       " 'crocker',\n",
       " 'crumbled',\n",
       " 'crumbly',\n",
       " 'crumbs',\n",
       " 'crunch',\n",
       " 'crunchy',\n",
       " 'crushed',\n",
       " 'crust',\n",
       " 'cubes',\n",
       " 'cup',\n",
       " 'cup coffee',\n",
       " 'cup hot',\n",
       " 'cup not',\n",
       " 'cup setting',\n",
       " 'cup size',\n",
       " 'cup tea',\n",
       " 'cupboard',\n",
       " 'cupcakes',\n",
       " 'cups',\n",
       " 'cups not',\n",
       " 'current',\n",
       " 'currently',\n",
       " 'curry',\n",
       " 'customer',\n",
       " 'customer service',\n",
       " 'customers',\n",
       " 'cut',\n",
       " 'cut back',\n",
       " 'cute',\n",
       " 'cutting',\n",
       " 'dad',\n",
       " 'daily',\n",
       " 'dairy',\n",
       " 'dairy free',\n",
       " 'damage',\n",
       " 'damaged',\n",
       " 'dark',\n",
       " 'dark chocolate',\n",
       " 'dark roast',\n",
       " 'darker',\n",
       " 'darn',\n",
       " 'date',\n",
       " 'dates',\n",
       " 'daughter',\n",
       " 'daughter loves',\n",
       " 'day',\n",
       " 'day not',\n",
       " 'days',\n",
       " 'de',\n",
       " 'dead',\n",
       " 'deal',\n",
       " 'decaf',\n",
       " 'decaf coffee',\n",
       " 'decaffeinated',\n",
       " 'decent',\n",
       " 'decide',\n",
       " 'decided',\n",
       " 'decided give',\n",
       " 'decided try',\n",
       " 'deep',\n",
       " 'definately',\n",
       " 'definite',\n",
       " 'definitely',\n",
       " 'definitely buy',\n",
       " 'definitely buying',\n",
       " 'definitely not',\n",
       " 'definitely order',\n",
       " 'definitely recommend',\n",
       " 'definitely worth',\n",
       " 'degrees',\n",
       " 'delicate',\n",
       " 'delicious',\n",
       " 'delicious not',\n",
       " 'delight',\n",
       " 'delighted',\n",
       " 'delightful',\n",
       " 'delivered',\n",
       " 'delivers',\n",
       " 'delivery',\n",
       " 'dense',\n",
       " 'dented',\n",
       " 'depending',\n",
       " 'describe',\n",
       " 'described',\n",
       " 'description',\n",
       " 'design',\n",
       " 'designed',\n",
       " 'desired',\n",
       " 'desk',\n",
       " 'despite',\n",
       " 'dessert',\n",
       " 'desserts',\n",
       " 'diabetes',\n",
       " 'diabetic',\n",
       " 'diagnosed',\n",
       " 'diamond',\n",
       " 'diarrhea',\n",
       " 'didnt',\n",
       " 'diet',\n",
       " 'dietary',\n",
       " 'dieting',\n",
       " 'diets',\n",
       " 'difference',\n",
       " 'different',\n",
       " 'different brand',\n",
       " 'different brands',\n",
       " 'different flavors',\n",
       " 'different kinds',\n",
       " 'different types',\n",
       " 'differently',\n",
       " 'difficult',\n",
       " 'difficult find',\n",
       " 'digest',\n",
       " 'digestion',\n",
       " 'digestive',\n",
       " 'digestive system',\n",
       " 'dinner',\n",
       " 'dinners',\n",
       " 'dip',\n",
       " 'dipping',\n",
       " 'dips',\n",
       " 'direct',\n",
       " 'directions',\n",
       " 'directly',\n",
       " 'dirt',\n",
       " 'dirty',\n",
       " 'disappointed',\n",
       " 'disappointed product',\n",
       " 'disappointing',\n",
       " 'disappointment',\n",
       " 'discontinued',\n",
       " 'discount',\n",
       " 'discover',\n",
       " 'discovered',\n",
       " 'disease',\n",
       " 'disgusting',\n",
       " 'dish',\n",
       " 'dishes',\n",
       " 'dislike',\n",
       " 'disposable',\n",
       " 'disposakups',\n",
       " 'dissolve',\n",
       " 'dissolved',\n",
       " 'dissolves',\n",
       " 'distinct',\n",
       " 'doctor',\n",
       " 'doesnt',\n",
       " 'dog',\n",
       " 'dog food',\n",
       " 'dog loves',\n",
       " 'dog not',\n",
       " 'dogs',\n",
       " 'dogs love',\n",
       " 'dollar',\n",
       " 'dollars',\n",
       " 'done',\n",
       " 'dont',\n",
       " 'donut',\n",
       " 'donut shop',\n",
       " 'donuts',\n",
       " 'door',\n",
       " 'dose',\n",
       " 'double',\n",
       " 'doubt',\n",
       " 'dough',\n",
       " 'downside',\n",
       " 'dozen',\n",
       " 'dr',\n",
       " 'drank',\n",
       " 'drawback',\n",
       " 'dressing',\n",
       " 'dried',\n",
       " 'drink',\n",
       " 'drink coffee',\n",
       " 'drink lot',\n",
       " 'drink not',\n",
       " 'drinker',\n",
       " 'drinkers',\n",
       " 'drinking',\n",
       " 'drinking tea',\n",
       " 'drinks',\n",
       " 'drip',\n",
       " 'drip coffee',\n",
       " 'drive',\n",
       " 'drop',\n",
       " 'dropped',\n",
       " 'drops',\n",
       " 'drunk',\n",
       " 'dry',\n",
       " 'dry food',\n",
       " 'due',\n",
       " 'dunkin',\n",
       " 'dust',\n",
       " 'earlier',\n",
       " 'early',\n",
       " 'earth',\n",
       " 'earth best',\n",
       " 'earthy',\n",
       " 'ease',\n",
       " 'easier',\n",
       " 'easily',\n",
       " 'easy',\n",
       " 'easy make',\n",
       " 'easy prepare',\n",
       " 'easy use',\n",
       " 'easy way',\n",
       " 'eat',\n",
       " 'eat anything',\n",
       " 'eat much',\n",
       " 'eat not',\n",
       " 'eat one',\n",
       " 'eat whole',\n",
       " 'eaten',\n",
       " 'eater',\n",
       " 'eating',\n",
       " 'eats',\n",
       " 'economical',\n",
       " 'edge',\n",
       " 'edible',\n",
       " 'edit',\n",
       " 'effect',\n",
       " 'effective',\n",
       " 'effects',\n",
       " 'effort',\n",
       " 'egg',\n",
       " 'eggs',\n",
       " 'either',\n",
       " 'either way',\n",
       " 'electrolytes',\n",
       " 'else',\n",
       " 'elsewhere',\n",
       " 'em',\n",
       " 'email',\n",
       " 'empty',\n",
       " 'end',\n",
       " 'ended',\n",
       " 'ends',\n",
       " 'energy',\n",
       " 'energy drink',\n",
       " 'england',\n",
       " 'english',\n",
       " 'enjoy',\n",
       " 'enjoyable',\n",
       " 'enjoyed',\n",
       " 'enjoying',\n",
       " 'enjoys',\n",
       " 'enough',\n",
       " 'entire',\n",
       " 'entirely',\n",
       " 'equal',\n",
       " 'equally',\n",
       " 'equivalent',\n",
       " 'error',\n",
       " 'especially',\n",
       " 'especially like',\n",
       " 'espresso',\n",
       " 'essential',\n",
       " 'etc',\n",
       " 'european',\n",
       " 'even',\n",
       " 'even better',\n",
       " 'even like',\n",
       " 'even not',\n",
       " 'even though',\n",
       " 'evening',\n",
       " 'eventually',\n",
       " 'ever',\n",
       " 'ever eaten',\n",
       " ...]"
      ]
     },
     "execution_count": 238,
     "metadata": {},
     "output_type": "execute_result"
    }
   ],
   "source": [
    "tfidf_feature_name"
   ]
  },
  {
   "cell_type": "code",
   "execution_count": 239,
   "metadata": {},
   "outputs": [
    {
     "name": "stdout",
     "output_type": "stream",
     "text": [
      "(6024, 3793)\n",
      "(670, 3793)\n",
      "(2870, 3793)\n"
     ]
    }
   ],
   "source": [
    "print(train_tfidf.shape)\n",
    "print(cv_tfidf.shape)\n",
    "print(test_tfidf.shape)"
   ]
  },
  {
   "cell_type": "markdown",
   "metadata": {},
   "source": [
    "### Training and Testing"
   ]
  },
  {
   "cell_type": "code",
   "execution_count": 240,
   "metadata": {},
   "outputs": [],
   "source": [
    "sgd=SVC(kernel='rbf')\n",
    "from sklearn.model_selection import GridSearchCV\n",
    "parameters = {'gamma':[10**i for i in range(-9,5)]}\n",
    "clf=GridSearchCV(sgd,parameters,cv=3,scoring='roc_auc',return_train_score=True)\n",
    "clf.fit(train_tfidf,y_train)\n",
    "train_auc_std= clf.cv_results_['std_train_score']\n",
    "cv_auc_std = clf.cv_results_['mean_test_score'] \n",
    "cv_auc_std= clf.cv_results_['std_test_score']"
   ]
  },
  {
   "cell_type": "code",
   "execution_count": 241,
   "metadata": {},
   "outputs": [
    {
     "data": {
      "text/plain": [
       "{'gamma': 1}"
      ]
     },
     "execution_count": 241,
     "metadata": {},
     "output_type": "execute_result"
    }
   ],
   "source": [
    "clf.best_params_"
   ]
  },
  {
   "cell_type": "code",
   "execution_count": 242,
   "metadata": {},
   "outputs": [
    {
     "data": {
      "image/png": "[encoded data removed]",
      "text/plain": [
       "<Figure size 432x288 with 1 Axes>"
      ]
     },
     "metadata": {
      "needs_background": "light"
     },
     "output_type": "display_data"
    },
    {
     "name": "stdout",
     "output_type": "stream",
     "text": [
      "[1e-09, 1e-08, 1e-07, 1e-06, 1e-05, 0.0001, 0.001, 0.01, 0.1, 1, 10, 100, 1000, 10000]\n"
     ]
    }
   ],
   "source": [
    "import math\n",
    "alpha=[10**i for i in range(-9,5)]\n",
    "log_alpha=[math.log(i) for i in alpha]\n",
    "plt.plot(log_alpha,train_auc_std,label='train_auc_std')\n",
    "plt.plot(log_alpha,cv_auc_std,label='cv_auc_std')\n",
    "plt.legend()\n",
    "plt.scatter(log_alpha,train_auc_std)\n",
    "plt.scatter(log_alpha,cv_auc_std)\n",
    "plt.grid()\n",
    "plt.ylabel('auc')\n",
    "plt.xlabel('value of alpha')\n",
    "plt.show()\n",
    "print(alpha)"
   ]
  },
  {
   "cell_type": "code",
   "execution_count": 243,
   "metadata": {},
   "outputs": [],
   "source": [
    "best_gamma =1\n",
    "from sklearn.metrics import roc_curve,auc\n",
    "model=SVC(kernel='rbf',gamma=best_gamma)\n",
    "model.fit(train_tfidf,y_train)\n",
    "y_train_pred=[]\n",
    "y_train_pred=model.decision_function(train_tfidf)\n",
    "fpr_train,tpr_train,thresholds_train=roc_curve(y_train,y_train_pred)\n",
    "y_test_pred=[]\n",
    "y_test_pred=model.decision_function(test_tfidf)\n",
    "fpr_test,tpr_test,thresholds_test=roc_curve(y_test,y_test_pred)"
   ]
  },
  {
   "cell_type": "code",
   "execution_count": 244,
   "metadata": {},
   "outputs": [
    {
     "data": {
      "text/plain": [
       "Text(0, 0.5, 'True positive rate')"
      ]
     },
     "execution_count": 244,
     "metadata": {},
     "output_type": "execute_result"
    },
    {
     "data": {
      "image/png": "[encoded data removed]",
      "text/plain": [
       "<Figure size 432x288 with 1 Axes>"
      ]
     },
     "metadata": {
      "needs_background": "light"
     },
     "output_type": "display_data"
    }
   ],
   "source": [
    "plt.title('Error')\n",
    "plt.plot(fpr_test,tpr_test,label='test='+str(auc(fpr_test,tpr_test)))\n",
    "plt.plot(fpr_train,tpr_train,label='train='+str(auc(fpr_train,tpr_train)))\n",
    "plt.legend()\n",
    "plt.xlabel('False positive rate')\n",
    "plt.ylabel('True positive rate')"
   ]
  },
  {
   "cell_type": "code",
   "execution_count": 245,
   "metadata": {},
   "outputs": [
    {
     "name": "stdout",
     "output_type": "stream",
     "text": [
      "Train Confusion Matrix\n",
      "[[ 914   74]\n",
      " [   1 5035]]\n"
     ]
    },
    {
     "data": {
      "text/plain": [
       "<AxesSubplot:>"
      ]
     },
     "execution_count": 245,
     "metadata": {},
     "output_type": "execute_result"
    },
    {
     "data": {
      "image/png": "[encoded data removed]",
      "text/plain": [
       "<Figure size 432x288 with 1 Axes>"
      ]
     },
     "metadata": {
      "needs_background": "light"
     },
     "output_type": "display_data"
    }
   ],
   "source": [
    "print('Train Confusion Matrix')\n",
    "print(confusion_matrix(y_train,model.predict(train_tfidf)))\n",
    "tn,fp,fn,tp=confusion_matrix(y_train,model.predict(train_tfidf)).ravel()\n",
    "mat=np.matrix([[tn,fn],[fp,tp]])\n",
    "sns.heatmap(mat, square=True, annot=True, fmt='d', cbar=False,            \n",
    "xticklabels=[0,1], yticklabels=[0,1]) "
   ]
  },
  {
   "cell_type": "code",
   "execution_count": 246,
   "metadata": {},
   "outputs": [
    {
     "name": "stdout",
     "output_type": "stream",
     "text": [
      "Test Confusion Matrix\n",
      "[[ 175  316]\n",
      " [  10 2369]]\n"
     ]
    },
    {
     "data": {
      "text/plain": [
       "<AxesSubplot:>"
      ]
     },
     "execution_count": 246,
     "metadata": {},
     "output_type": "execute_result"
    },
    {
     "data": {
      "image/png": "[encoded data removed]",
      "text/plain": [
       "<Figure size 432x288 with 1 Axes>"
      ]
     },
     "metadata": {
      "needs_background": "light"
     },
     "output_type": "display_data"
    }
   ],
   "source": [
    "print('Test Confusion Matrix')\n",
    "print(confusion_matrix(y_test,model.predict(test_tfidf)))\n",
    "tn,fp,fn,tp=confusion_matrix(y_test,model.predict(test_tfidf)).ravel()\n",
    "mat=np.matrix([[tn,fn],[fp,tp]])\n",
    "sns.heatmap(mat, square=True, annot=True, fmt='d', cbar=False,            \n",
    "xticklabels=[0,1], yticklabels=[0,1]) "
   ]
  },
  {
   "cell_type": "markdown",
   "metadata": {},
   "source": [
    "### [5.2.3]  Applying RBF SVM on AVG W2V,<font color='red'> SET 3</font>"
   ]
  },
  {
   "cell_type": "code",
   "execution_count": 264,
   "metadata": {},
   "outputs": [
    {
     "data": {
      "text/plain": [
       "Index(['Id', 'ProductId', 'UserId', 'ProfileName', 'HelpfulnessNumerator',\n",
       "       'HelpfulnessDenominator', 'Score', 'Time', 'Summary', 'Text',\n",
       "       'preprocessed_reviews'],\n",
       "      dtype='object')"
      ]
     },
     "execution_count": 264,
     "metadata": {},
     "output_type": "execute_result"
    }
   ],
   "source": [
    "# Please write all the code with proper documentation\n",
    "final_sorted_data.columns"
   ]
  },
  {
   "cell_type": "code",
   "execution_count": 265,
   "metadata": {},
   "outputs": [
    {
     "name": "stdout",
     "output_type": "stream",
     "text": [
      "Loaded 400000 word vectors.\n"
     ]
    }
   ],
   "source": [
    "# load the whole embedding into memory\n",
    "model = dict()\n",
    "f = open('F:\\APPLIED_AI_COURSE\\CASE STUDY MACHINE LEARNING\\CASE STUDY-AMAZON FINE FOOD REVIEWS\\glove.6B.200d.txt',encoding=\"utf8\")\n",
    "for line in f:\n",
    "\tvalues = line.split()\n",
    "\tword = values[0]\n",
    "\tcoefs = np.asarray(values[1:], dtype='float32')\n",
    "\tmodel[word] = coefs\n",
    "f.close()\n",
    "print('Loaded %s word vectors.' % len(model))"
   ]
  },
  {
   "cell_type": "code",
   "execution_count": 266,
   "metadata": {},
   "outputs": [],
   "source": [
    "# average Word2Vec\n",
    "# compute average word2vec for each review.\n",
    "def avg_w2v(data):\n",
    "    glove_words =  set(model.keys())\n",
    "    avg_w2v_vectors = []; # the avg-w2v for each sentence/review is stored in this list\n",
    "    for sentence in data: # for each review/sentence\n",
    "        vector = np.zeros(200) # as word vectors are of zero length\n",
    "        cnt_words =0; # num of words with a valid vector in the sentence/review\n",
    "        for word in sentence.split(): # for each word in a review/sentence\n",
    "            if word in glove_words:\n",
    "                vector += model[word]\n",
    "                cnt_words += 1\n",
    "        if cnt_words != 0:\n",
    "            vector /= cnt_words\n",
    "        avg_w2v_vectors.append(vector)\n",
    "    return avg_w2v_vectors"
   ]
  },
  {
   "cell_type": "code",
   "execution_count": 267,
   "metadata": {},
   "outputs": [],
   "source": [
    "X=final_sorted_data['preprocessed_reviews']\n",
    "Y=final_sorted_data['Score']"
   ]
  },
  {
   "cell_type": "code",
   "execution_count": 268,
   "metadata": {},
   "outputs": [
    {
     "name": "stdout",
     "output_type": "stream",
     "text": [
      "9564\n",
      "9564\n",
      "<class 'pandas.core.series.Series'>\n"
     ]
    }
   ],
   "source": [
    "print(len(X))\n",
    "print(len(Y))\n",
    "print(type(Y))"
   ]
  },
  {
   "cell_type": "code",
   "execution_count": 269,
   "metadata": {},
   "outputs": [
    {
     "name": "stdout",
     "output_type": "stream",
     "text": [
      "6024\n",
      "6024\n",
      "2870\n",
      "2870\n",
      "670\n",
      "670\n"
     ]
    }
   ],
   "source": [
    "from sklearn.model_selection import train_test_split\n",
    "x_train,test_avgw2v,y_train,y_test=train_test_split(X,Y,test_size=0.3,random_state=0)\n",
    "train_avgw2v,cv_avgw2v,y_train,y_cv=train_test_split(x_train,y_train,test_size=0.1,random_state=0)\n",
    "print(len(train_avgw2v))\n",
    "print(len(y_train))\n",
    "print(len(test_avgw2v))\n",
    "print(len(y_test))\n",
    "print(len(cv_avgw2v))\n",
    "print(len(y_cv))"
   ]
  },
  {
   "cell_type": "code",
   "execution_count": 270,
   "metadata": {},
   "outputs": [],
   "source": [
    "train_avgw2v=avg_w2v(train_avgw2v)\n",
    "cv_avgw2v=avg_w2v(cv_avgw2v)\n",
    "test_avgw2v=avg_w2v(test_avgw2v)"
   ]
  },
  {
   "cell_type": "markdown",
   "metadata": {},
   "source": [
    "### Training and Testing"
   ]
  },
  {
   "cell_type": "code",
   "execution_count": 271,
   "metadata": {},
   "outputs": [],
   "source": [
    "sgd=SVC(kernel='rbf')\n",
    "from sklearn.model_selection import GridSearchCV\n",
    "parameters = {'gamma':[10**i for i in range(-7,5)]}\n",
    "clf=GridSearchCV(sgd,parameters,cv=3,scoring='roc_auc',return_train_score=True)\n",
    "clf.fit(train_avgw2v,y_train)\n",
    "train_auc= clf.cv_results_['mean_train_score']\n",
    "train_auc_std= clf.cv_results_['std_train_score']\n",
    "cv_auc = clf.cv_results_['mean_test_score'] \n",
    "cv_auc_std= clf.cv_results_['std_test_score']"
   ]
  },
  {
   "cell_type": "code",
   "execution_count": 272,
   "metadata": {},
   "outputs": [
    {
     "data": {
      "text/plain": [
       "{'gamma': 0.1}"
      ]
     },
     "execution_count": 272,
     "metadata": {},
     "output_type": "execute_result"
    }
   ],
   "source": [
    "clf.best_params_"
   ]
  },
  {
   "cell_type": "code",
   "execution_count": 273,
   "metadata": {},
   "outputs": [
    {
     "data": {
      "image/png": "[encoded data removed]",
      "text/plain": [
       "<Figure size 432x288 with 1 Axes>"
      ]
     },
     "metadata": {
      "needs_background": "light"
     },
     "output_type": "display_data"
    },
    {
     "name": "stdout",
     "output_type": "stream",
     "text": [
      "[1e-07, 1e-06, 1e-05, 0.0001, 0.001, 0.01, 0.1, 1, 10, 100, 1000, 10000]\n"
     ]
    }
   ],
   "source": [
    "import math\n",
    "alpha=[10**i for i in range(-7,5)]\n",
    "log_alpha=[math.log(i) for i in alpha]\n",
    "plt.plot(log_alpha,train_auc[:12],label='train_auc')\n",
    "plt.plot(log_alpha,cv_auc[:12],label='cv_auc')\n",
    "plt.legend()\n",
    "plt.scatter(log_alpha,train_auc[:12])\n",
    "plt.scatter(log_alpha,cv_auc[:12])\n",
    "plt.grid()\n",
    "plt.ylabel('auc')\n",
    "plt.xlabel('value of alpha')\n",
    "plt.show()\n",
    "print(alpha)"
   ]
  },
  {
   "cell_type": "code",
   "execution_count": 274,
   "metadata": {},
   "outputs": [
    {
     "name": "stderr",
     "output_type": "stream",
     "text": [
      "100%|██████████████████████████████████████████████████████████████████████████████████| 11/11 [01:09<00:00,  6.33s/it]\n"
     ]
    }
   ],
   "source": [
    "train_auc=[]\n",
    "cv_auc=[]\n",
    "alpha=[10**i for i in range(-10,1)]\n",
    "for alf in tqdm(alpha):\n",
    "    model=SVC(kernel='rbf',gamma=alf)\n",
    "    model.fit(train_avgw2v,y_train)\n",
    "    y_train_prob=[]\n",
    "    y_train_prob=model.decision_function(train_avgw2v)\n",
    "    y_cv_prob=[]\n",
    "    y_cv_prob=model.decision_function(cv_avgw2v)\n",
    "    train_auc.append(roc_auc_score(y_train,y_train_prob))\n",
    "    cv_auc.append(roc_auc_score(y_cv,y_cv_prob))"
   ]
  },
  {
   "cell_type": "code",
   "execution_count": 275,
   "metadata": {},
   "outputs": [
    {
     "data": {
      "image/png": "[encoded data removed]",
      "text/plain": [
       "<Figure size 432x288 with 1 Axes>"
      ]
     },
     "metadata": {
      "needs_background": "light"
     },
     "output_type": "display_data"
    },
    {
     "name": "stdout",
     "output_type": "stream",
     "text": [
      "[1e-07, 1e-06, 1e-05, 0.0001, 0.001, 0.01, 0.1, 1, 10, 100, 1000]\n"
     ]
    }
   ],
   "source": [
    "import math\n",
    "alpha=[10**i for i in range(-7,4)]\n",
    "log_alpha=[math.log(i) for i in alpha]\n",
    "plt.plot(log_alpha,train_auc,label='train_auc')\n",
    "plt.plot(log_alpha,cv_auc,label='cv_auc')\n",
    "plt.legend()\n",
    "plt.scatter(log_alpha,train_auc)\n",
    "plt.scatter(log_alpha,cv_auc)\n",
    "plt.grid()\n",
    "plt.ylabel('auc')\n",
    "plt.xlabel('value of c')\n",
    "plt.show()\n",
    "print(alpha)"
   ]
  },
  {
   "cell_type": "code",
   "execution_count": 276,
   "metadata": {},
   "outputs": [
    {
     "name": "stderr",
     "output_type": "stream",
     "text": [
      "100%|██████████████████████████████████████████████████████████████████████████████████| 11/11 [01:51<00:00, 10.12s/it]\n"
     ]
    }
   ],
   "source": [
    "train_auc=[]\n",
    "cv_auc=[]\n",
    "alpha=[10**i for i in range(-7,4)]\n",
    "for alf in tqdm(alpha):\n",
    "    model=model=SVC(kernel='rbf',gamma=alf)\n",
    "    model.fit(train_avgw2v,y_train)\n",
    "    y_train_prob=[]\n",
    "    y_train_prob=model.decision_function(train_avgw2v)\n",
    "    y_cv_prob=[]\n",
    "    y_cv_prob=model.decision_function(cv_avgw2v)\n",
    "    train_auc.append(roc_auc_score(y_train,y_train_prob))\n",
    "    cv_auc.append(roc_auc_score(y_cv,y_cv_prob))"
   ]
  },
  {
   "cell_type": "code",
   "execution_count": 280,
   "metadata": {},
   "outputs": [
    {
     "data": {
      "image/png": "[encoded data removed]",
      "text/plain": [
       "<Figure size 432x288 with 1 Axes>"
      ]
     },
     "metadata": {
      "needs_background": "light"
     },
     "output_type": "display_data"
    },
    {
     "name": "stdout",
     "output_type": "stream",
     "text": [
      "[1e-06, 1e-05, 0.0001, 0.001, 0.01, 0.1, 1, 10, 100, 1000, 10000]\n"
     ]
    }
   ],
   "source": [
    "import math\n",
    "alpha=[10**i for i in range(-6,5)]\n",
    "log_alpha=[math.log(i) for i in alpha]\n",
    "plt.plot(log_alpha,train_auc,label='train_auc')\n",
    "plt.plot(log_alpha,cv_auc,label='cv_auc')\n",
    "plt.legend()\n",
    "plt.scatter(log_alpha,train_auc)\n",
    "plt.scatter(log_alpha,cv_auc)\n",
    "plt.grid()\n",
    "plt.ylabel('auc')\n",
    "plt.xlabel('value of c')\n",
    "plt.show()\n",
    "print(alpha)"
   ]
  },
  {
   "cell_type": "code",
   "execution_count": 281,
   "metadata": {},
   "outputs": [],
   "source": [
    "best_alpha =0.1\n",
    "from sklearn.metrics import roc_curve,auc\n",
    "model=SVC(kernel='rbf',gamma=best_alpha) \n",
    "model.fit(train_avgw2v,y_train)\n",
    "y_train_pred=[]\n",
    "y_train_pred=model.decision_function(train_avgw2v)\n",
    "fpr_train,tpr_train,thresholds_train=roc_curve(y_train,y_train_pred)\n",
    "y_test_pred=[]\n",
    "y_test_pred=model.decision_function(test_avgw2v)\n",
    "fpr_test,tpr_test,thresholds_test=roc_curve(y_test,y_test_pred)"
   ]
  },
  {
   "cell_type": "code",
   "execution_count": 282,
   "metadata": {},
   "outputs": [
    {
     "data": {
      "text/plain": [
       "Text(0, 0.5, 'True positive rate')"
      ]
     },
     "execution_count": 282,
     "metadata": {},
     "output_type": "execute_result"
    },
    {
     "data": {
      "image/png": "[encoded data removed]",
      "text/plain": [
       "<Figure size 432x288 with 1 Axes>"
      ]
     },
     "metadata": {
      "needs_background": "light"
     },
     "output_type": "display_data"
    }
   ],
   "source": [
    "plt.title('Error')\n",
    "plt.plot(fpr_test,tpr_test,label='test='+str(auc(fpr_test,tpr_test)))\n",
    "plt.plot(fpr_train,tpr_train,label='train='+str(auc(fpr_train,tpr_train)))\n",
    "plt.legend()\n",
    "plt.xlabel('False positive rate')\n",
    "plt.ylabel('True positive rate')"
   ]
  },
  {
   "cell_type": "code",
   "execution_count": 283,
   "metadata": {},
   "outputs": [
    {
     "name": "stdout",
     "output_type": "stream",
     "text": [
      "Train Confusion Matrix\n",
      "[[ 264  724]\n",
      " [  29 5007]]\n"
     ]
    },
    {
     "data": {
      "text/plain": [
       "<AxesSubplot:>"
      ]
     },
     "execution_count": 283,
     "metadata": {},
     "output_type": "execute_result"
    },
    {
     "data": {
      "image/png": "[encoded data removed]",
      "text/plain": [
       "<Figure size 432x288 with 1 Axes>"
      ]
     },
     "metadata": {
      "needs_background": "light"
     },
     "output_type": "display_data"
    }
   ],
   "source": [
    "print('Train Confusion Matrix')\n",
    "print(confusion_matrix(y_train,model.predict(train_avgw2v)))\n",
    "tn,fp,fn,tp=confusion_matrix(y_train,model.predict(train_avgw2v)).ravel()\n",
    "mat=np.matrix([[tn,fn],[fp,tp]])\n",
    "sns.heatmap(mat, square=True, annot=True, fmt='d', cbar=False,            \n",
    "xticklabels=[0,1], yticklabels=[0,1])"
   ]
  },
  {
   "cell_type": "code",
   "execution_count": 284,
   "metadata": {},
   "outputs": [
    {
     "name": "stdout",
     "output_type": "stream",
     "text": [
      "Test Confusion Matrix\n",
      "[[ 121  370]\n",
      " [  19 2360]]\n"
     ]
    },
    {
     "data": {
      "text/plain": [
       "<AxesSubplot:>"
      ]
     },
     "execution_count": 284,
     "metadata": {},
     "output_type": "execute_result"
    },
    {
     "data": {
      "image/png": "[encoded data removed]",
      "text/plain": [
       "<Figure size 432x288 with 1 Axes>"
      ]
     },
     "metadata": {
      "needs_background": "light"
     },
     "output_type": "display_data"
    }
   ],
   "source": [
    "print('Test Confusion Matrix')\n",
    "print(confusion_matrix(y_test,model.predict(test_avgw2v)))\n",
    "tn,fp,fn,tp=confusion_matrix(y_test,model.predict(test_avgw2v)).ravel()\n",
    "mat=np.matrix([[tn,fn],[fp,tp]])\n",
    "sns.heatmap(mat, square=True, annot=True, fmt='d', cbar=False,            \n",
    "xticklabels=[0,1], yticklabels=[0,1]) "
   ]
  },
  {
   "cell_type": "markdown",
   "metadata": {},
   "source": [
    "### [5.2.4]  Applying RBF SVM on TFIDF W2V,<font color='red'> SET 4</font>"
   ]
  },
  {
   "cell_type": "code",
   "execution_count": 285,
   "metadata": {},
   "outputs": [
    {
     "data": {
      "text/plain": [
       "Index(['Id', 'ProductId', 'UserId', 'ProfileName', 'HelpfulnessNumerator',\n",
       "       'HelpfulnessDenominator', 'Score', 'Time', 'Summary', 'Text',\n",
       "       'preprocessed_reviews'],\n",
       "      dtype='object')"
      ]
     },
     "execution_count": 285,
     "metadata": {},
     "output_type": "execute_result"
    }
   ],
   "source": [
    "final_sorted_data.columns"
   ]
  },
  {
   "cell_type": "code",
   "execution_count": 286,
   "metadata": {},
   "outputs": [
    {
     "name": "stdout",
     "output_type": "stream",
     "text": [
      "Loaded 400000 word vectors.\n"
     ]
    }
   ],
   "source": [
    "# load the whole embedding into memory\n",
    "model = dict()\n",
    "f = open('F:\\APPLIED_AI_COURSE\\CASE STUDY MACHINE LEARNING\\CASE STUDY-AMAZON FINE FOOD REVIEWS\\glove.6B.200d.txt',encoding=\"utf8\")\n",
    "for line in f:\n",
    "\tvalues = line.split()\n",
    "\tword = values[0]\n",
    "\tcoefs = np.asarray(values[1:], dtype='float32')\n",
    "\tmodel[word] = coefs\n",
    "f.close()\n",
    "print('Loaded %s word vectors.' % len(model))"
   ]
  },
  {
   "cell_type": "code",
   "execution_count": 287,
   "metadata": {},
   "outputs": [],
   "source": [
    "# TF-IDF weighted Word2Vec\n",
    "# average Word2Vec\n",
    "# compute average word2vec for each review\n",
    "def tfidf_weighted_w2v(data,tfidf_words):\n",
    "    glove_words =  set(model.keys())\n",
    "    tfidf_w2v_vectors = []; # the avg-w2v for each sentence/review is stored in this list\n",
    "    for sentence in data: # for each review/sentence\n",
    "        vector = np.zeros(200) # as word vectors are of zero length\n",
    "        tf_idf_weight =0; # num of words with a valid vector in the sentence/review\n",
    "        for word in sentence.split(): # for each word in a review/sentence\n",
    "            if (word in glove_words) and (word in tfidf_words):\n",
    "                vec = model[word] # getting the vector for each word\n",
    "            # here we are multiplying idf value(dictionary[word]) and the tf value((sentence.count(word)/len(sentence.split())))\n",
    "                tf_idf = dictionary[word]*(sentence.count(word)/len(sentence.split())) # getting the tfidf value for each word\n",
    "                vector += (vec * tf_idf) # calculating tfidf weighted w2v\n",
    "                tf_idf_weight += tf_idf\n",
    "        if tf_idf_weight != 0:\n",
    "            vector /= tf_idf_weight\n",
    "        tfidf_w2v_vectors.append(vector)\n",
    "    return tfidf_w2v_vectors\n"
   ]
  },
  {
   "cell_type": "code",
   "execution_count": 288,
   "metadata": {},
   "outputs": [],
   "source": [
    "X=final_sorted_data['preprocessed_reviews']\n",
    "Y=final_sorted_data['Score']"
   ]
  },
  {
   "cell_type": "code",
   "execution_count": 289,
   "metadata": {},
   "outputs": [
    {
     "name": "stdout",
     "output_type": "stream",
     "text": [
      "9564\n",
      "9564\n",
      "<class 'pandas.core.series.Series'>\n"
     ]
    }
   ],
   "source": [
    "print(len(X))\n",
    "print(len(Y))\n",
    "print(type(Y))"
   ]
  },
  {
   "cell_type": "code",
   "execution_count": 290,
   "metadata": {},
   "outputs": [
    {
     "name": "stdout",
     "output_type": "stream",
     "text": [
      "6024\n",
      "6024\n",
      "2870\n",
      "2870\n",
      "670\n",
      "670\n"
     ]
    }
   ],
   "source": [
    "from sklearn.model_selection import train_test_split\n",
    "x_train,test_tfidfw2v,y_train,y_test=train_test_split(X,Y,test_size=0.3,random_state=0)\n",
    "train_tfidfw2v,cv_tfidfw2v,y_train,y_cv=train_test_split(x_train,y_train,test_size=0.1,random_state=0)\n",
    "print(len(train_tfidfw2v))\n",
    "print(len(y_train))\n",
    "print(len(test_tfidfw2v))\n",
    "print(len(y_test))\n",
    "print(len(cv_tfidfw2v))\n",
    "print(len(y_cv))"
   ]
  },
  {
   "cell_type": "code",
   "execution_count": 291,
   "metadata": {},
   "outputs": [],
   "source": [
    "tfidf_model = TfidfVectorizer()\n",
    "tfidf_model.fit(train_tfidfw2v)\n",
    "dictionary = dict(zip(tfidf_model.get_feature_names(), list(tfidf_model.idf_)))\n",
    "tfidf_words = set(tfidf_model.get_feature_names())"
   ]
  },
  {
   "cell_type": "code",
   "execution_count": 292,
   "metadata": {},
   "outputs": [],
   "source": [
    "train_tfidfw2v=tfidf_weighted_w2v(train_tfidfw2v,tfidf_words)\n",
    "cv_tfidfw2v=tfidf_weighted_w2v(cv_tfidfw2v,tfidf_words)\n",
    "test_tfidfw2v=tfidf_weighted_w2v(test_tfidfw2v,tfidf_words)"
   ]
  },
  {
   "cell_type": "code",
   "execution_count": 321,
   "metadata": {},
   "outputs": [],
   "source": [
    "sgd=SVC(kernel='rbf')\n",
    "from sklearn.model_selection import GridSearchCV\n",
    "parameters = {'gamma':[10**i for i in range(-18,-13)]}\n",
    "clf=GridSearchCV(sgd,parameters,cv=5,scoring='roc_auc',return_train_score=True)\n",
    "clf.fit(train_tfidfw2v,y_train)\n",
    "train_auc= clf.cv_results_['mean_train_score']\n",
    "train_auc_std= clf.cv_results_['std_train_score']\n",
    "cv_auc = clf.cv_results_['mean_test_score'] \n",
    "cv_auc_std= clf.cv_results_['std_test_score']"
   ]
  },
  {
   "cell_type": "code",
   "execution_count": 322,
   "metadata": {},
   "outputs": [
    {
     "data": {
      "text/plain": [
       "{'gamma': 1e-14}"
      ]
     },
     "execution_count": 322,
     "metadata": {},
     "output_type": "execute_result"
    }
   ],
   "source": [
    "clf.best_params_"
   ]
  },
  {
   "cell_type": "code",
   "execution_count": 296,
   "metadata": {},
   "outputs": [
    {
     "data": {
      "image/png": "[encoded data removed]",
      "text/plain": [
       "<Figure size 432x288 with 1 Axes>"
      ]
     },
     "metadata": {
      "needs_background": "light"
     },
     "output_type": "display_data"
    },
    {
     "name": "stdout",
     "output_type": "stream",
     "text": [
      "[1e-11, 1e-10, 1e-09, 1e-08, 1e-07, 1e-06, 1e-05, 0.0001, 0.001, 0.01, 0.1, 1, 10]\n"
     ]
    }
   ],
   "source": [
    "alpha=[10**i for i in range(-18,-13)]\n",
    "log_alpha=[math.log(i) for i in alpha]\n",
    "plt.plot(log_alpha,train_auc[:13],label='train_auc')\n",
    "plt.plot(log_alpha,cv_auc[:13],label='cv_auc')\n",
    "plt.legend()\n",
    "plt.scatter(log_alpha,train_auc[:13])\n",
    "plt.scatter(log_alpha,cv_auc[:13])\n",
    "plt.grid()\n",
    "plt.ylabel('auc')\n",
    "plt.xlabel('value of alpha')\n",
    "plt.show()\n",
    "print(alpha)"
   ]
  },
  {
   "cell_type": "code",
   "execution_count": 306,
   "metadata": {},
   "outputs": [
    {
     "name": "stderr",
     "output_type": "stream",
     "text": [
      "100%|██████████████████████████████████████████████████████████████████████████████████| 13/13 [01:12<00:00,  5.56s/it]\n"
     ]
    }
   ],
   "source": [
    "train_auc=[]\n",
    "cv_auc=[]\n",
    "alpha=[10**i for i in range(-18,-5)]\n",
    "for alf in tqdm(alpha):\n",
    "    model=SVC(kernel='rbf',gamma=alf)\n",
    "    model.fit(train_tfidfw2v,y_train)\n",
    "    y_train_prob=[]\n",
    "    y_train_prob=model.decision_function(train_tfidfw2v)\n",
    "    y_cv_prob=[]\n",
    "    y_cv_prob=model.decision_function(cv_tfidfw2v)\n",
    "    train_auc.append(roc_auc_score(y_train,y_train_prob))\n",
    "    cv_auc.append(roc_auc_score(y_cv,y_cv_prob))"
   ]
  },
  {
   "cell_type": "code",
   "execution_count": 307,
   "metadata": {},
   "outputs": [
    {
     "data": {
      "image/png": "[encoded data removed]",
      "text/plain": [
       "<Figure size 432x288 with 1 Axes>"
      ]
     },
     "metadata": {
      "needs_background": "light"
     },
     "output_type": "display_data"
    },
    {
     "name": "stdout",
     "output_type": "stream",
     "text": [
      "[1e-18, 1e-17, 1e-16, 1e-15, 1e-14, 1e-13, 1e-12, 1e-11, 1e-10, 1e-09, 1e-08, 1e-07, 1e-06]\n"
     ]
    }
   ],
   "source": [
    "alpha=[10**i for i in range(-18,-5)]\n",
    "log_alpha=[math.log(i) for i in alpha]\n",
    "plt.plot(log_alpha,train_auc,label='train_auc')\n",
    "plt.plot(log_alpha,cv_auc,label='cv_auc')\n",
    "plt.legend()\n",
    "plt.scatter(log_alpha,train_auc)\n",
    "plt.scatter(log_alpha,cv_auc)\n",
    "plt.grid()\n",
    "plt.ylabel('auc')\n",
    "plt.xlabel('value of alpha')\n",
    "plt.show()\n",
    "print(alpha)"
   ]
  },
  {
   "cell_type": "code",
   "execution_count": 323,
   "metadata": {},
   "outputs": [],
   "source": [
    "best_alpha =1e-14\n",
    "from sklearn.metrics import roc_curve,auc\n",
    "model=SVC(kernel='rbf',gamma=best_alpha)\n",
    "model.fit(train_tfidfw2v,y_train)\n",
    "y_train_pred=[]\n",
    "y_train_pred=model.decision_function(train_tfidfw2v)\n",
    "fpr_train,tpr_train,thresholds_train=roc_curve(y_train,y_train_pred)\n",
    "y_test_pred=[]\n",
    "y_test_pred=model.decision_function(test_tfidfw2v)\n",
    "fpr_test,tpr_test,thresholds_test=roc_curve(y_test,y_test_pred)"
   ]
  },
  {
   "cell_type": "code",
   "execution_count": 324,
   "metadata": {},
   "outputs": [
    {
     "data": {
      "text/plain": [
       "Text(0, 0.5, 'True positive rate')"
      ]
     },
     "execution_count": 324,
     "metadata": {},
     "output_type": "execute_result"
    },
    {
     "data": {
      "image/png": "[encoded data removed]",
      "text/plain": [
       "<Figure size 432x288 with 1 Axes>"
      ]
     },
     "metadata": {
      "needs_background": "light"
     },
     "output_type": "display_data"
    }
   ],
   "source": [
    "plt.title('Error')\n",
    "plt.plot(fpr_test,tpr_test,label='test='+str(auc(fpr_test,tpr_test)))\n",
    "plt.plot(fpr_train,tpr_train,label='train='+str(auc(fpr_train,tpr_train)))\n",
    "plt.legend()\n",
    "plt.xlabel('False positive rate')\n",
    "plt.ylabel('True positive rate')"
   ]
  },
  {
   "cell_type": "code",
   "execution_count": 325,
   "metadata": {},
   "outputs": [
    {
     "name": "stdout",
     "output_type": "stream",
     "text": [
      "Train Confusion Matrix\n",
      "[[   0  988]\n",
      " [   0 5036]]\n"
     ]
    },
    {
     "data": {
      "text/plain": [
       "<AxesSubplot:>"
      ]
     },
     "execution_count": 325,
     "metadata": {},
     "output_type": "execute_result"
    },
    {
     "data": {
      "image/png": "[encoded data removed]",
      "text/plain": [
       "<Figure size 432x288 with 1 Axes>"
      ]
     },
     "metadata": {
      "needs_background": "light"
     },
     "output_type": "display_data"
    }
   ],
   "source": [
    "print('Train Confusion Matrix')\n",
    "print(confusion_matrix(y_train,model.predict(train_tfidfw2v)))\n",
    "tn,fp,fn,tp=confusion_matrix(y_train,model.predict(train_tfidfw2v)).ravel()\n",
    "mat=np.matrix([[tn,fn],[fp,tp]])\n",
    "sns.heatmap(mat, square=True, annot=True, fmt='d', cbar=False,            \n",
    "xticklabels=[0,1], yticklabels=[0,1]) "
   ]
  },
  {
   "cell_type": "code",
   "execution_count": 319,
   "metadata": {},
   "outputs": [
    {
     "name": "stdout",
     "output_type": "stream",
     "text": [
      "Test Confusion Matrix\n",
      "[[   0  491]\n",
      " [   0 2379]]\n"
     ]
    },
    {
     "data": {
      "text/plain": [
       "<AxesSubplot:>"
      ]
     },
     "execution_count": 319,
     "metadata": {},
     "output_type": "execute_result"
    },
    {
     "data": {
      "image/png": "[encoded data removed]",
      "text/plain": [
       "<Figure size 432x288 with 1 Axes>"
      ]
     },
     "metadata": {
      "needs_background": "light"
     },
     "output_type": "display_data"
    }
   ],
   "source": [
    "print('Test Confusion Matrix')\n",
    "print(confusion_matrix(y_test,model.predict(test_tfidfw2v)))\n",
    "tn,fp,fn,tp=confusion_matrix(y_test,model.predict(test_tfidfw2v)).ravel()\n",
    "mat=np.matrix([[tn,fn],[fp,tp]])\n",
    "sns.heatmap(mat, square=True, annot=True, fmt='d', cbar=False,            \n",
    "xticklabels=[0,1], yticklabels=[0,1]) "
   ]
  },
  {
   "cell_type": "markdown",
   "metadata": {},
   "source": [
    "# [6] Conclusions"
   ]
  },
  {
   "cell_type": "code",
   "execution_count": 333,
   "metadata": {},
   "outputs": [
    {
     "name": "stdout",
     "output_type": "stream",
     "text": [
      "+----------+----------------+--------+----------------+------+\n",
      "|   Set    | hyperparameter | kernel | Regularization | AUC  |\n",
      "+----------+----------------+--------+----------------+------+\n",
      "|   BOW    |     0.001      | linear |       L2       | 0.89 |\n",
      "|  TFIDF   |     1e-07      | linear |       L1       | 0.92 |\n",
      "|  AVGW2V  |     1e-06      | linear |       L2       | 0.88 |\n",
      "| TFIDFW2V |     0.001      | linear |       L2       | 0.83 |\n",
      "|   BOW    |      0.01      |  rbf   |                | 0.91 |\n",
      "|  TFIDF   |       1        |  rbf   |                | 0.93 |\n",
      "|  AVGW2V  |      0.1       |  rbf   |                | 0.89 |\n",
      "| TFIDFW2V |     1e-14      |  rbf   |                | 0.72 |\n",
      "+----------+----------------+--------+----------------+------+\n"
     ]
    }
   ],
   "source": [
    "# Please compare all your models using Prettytable library\n",
    "from prettytable import PrettyTable\n",
    "table=PrettyTable()\n",
    "table.field_names=['Set','hyperparameter','kernel','Regularization','AUC']\n",
    "table.add_row(['BOW','0.001','linear','L2','0.89'])\n",
    "table.add_row(['TFIDF','1e-07','linear','L1','0.92'])\n",
    "table.add_row(['AVGW2V','1e-06','linear','L2','0.88'])\n",
    "table.add_row(['TFIDFW2V','0.001','linear','L2','0.83'])\n",
    "table.add_row(['BOW','0.01','rbf',' ','0.91'])\n",
    "table.add_row(['TFIDF','1','rbf',' ','0.93'])\n",
    "table.add_row(['AVGW2V','0.1','rbf',' ','0.89'])\n",
    "table.add_row(['TFIDFW2V','1e-14','rbf',' ','0.72'])\n",
    "print(table)"
   ]
  }
 ],
 "metadata": {
  "kernelspec": {
   "display_name": "Python 3",
   "language": "python",
   "name": "python3"
  },
  "language_info": {
   "codemirror_mode": {
    "name": "ipython",
    "version": 3
   },
   "file_extension": ".py",
   "mimetype": "text/x-python",
   "name": "python",
   "nbconvert_exporter": "python",
   "pygments_lexer": "ipython3",
   "version": "3.8.5"
  }
 },
 "nbformat": 4,
 "nbformat_minor": 2
}
