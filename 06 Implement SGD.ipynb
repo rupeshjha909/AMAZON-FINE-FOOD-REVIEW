{
 "cells": [
  {
   "cell_type": "code",
   "execution_count": 11,
   "metadata": {
    "colab": {},
    "colab_type": "code",
    "id": "REYPoTJ1Af7u"
   },
   "outputs": [],
   "source": [
    "import warnings\n",
    "warnings.filterwarnings(\"ignore\")\n",
    "from sklearn.datasets import load_boston\n",
    "from random import seed\n",
    "from random import randrange\n",
    "from csv import reader\n",
    "from math import sqrt\n",
    "from sklearn import preprocessing\n",
    "import pandas as pd\n",
    "import numpy as np\n",
    "import matplotlib.pyplot as plt\n",
    "from prettytable import PrettyTable\n",
    "from sklearn.linear_model import SGDRegressor\n",
    "from sklearn import preprocessing\n",
    "from sklearn.metrics import mean_squared_error"
   ]
  },
  {
   "cell_type": "code",
   "execution_count": 12,
   "metadata": {
    "colab": {},
    "colab_type": "code",
    "id": "NTQ2iH-kAwbo"
   },
   "outputs": [
    {
     "data": {
      "text/html": [
       "<div>\n",
       "<style scoped>\n",
       "    .dataframe tbody tr th:only-of-type {\n",
       "        vertical-align: middle;\n",
       "    }\n",
       "\n",
       "    .dataframe tbody tr th {\n",
       "        vertical-align: top;\n",
       "    }\n",
       "\n",
       "    .dataframe thead th {\n",
       "        text-align: right;\n",
       "    }\n",
       "</style>\n",
       "<table border=\"1\" class=\"dataframe\">\n",
       "  <thead>\n",
       "    <tr style=\"text-align: right;\">\n",
       "      <th></th>\n",
       "      <th>0</th>\n",
       "      <th>1</th>\n",
       "      <th>2</th>\n",
       "      <th>3</th>\n",
       "      <th>4</th>\n",
       "      <th>5</th>\n",
       "      <th>6</th>\n",
       "      <th>7</th>\n",
       "      <th>8</th>\n",
       "      <th>9</th>\n",
       "      <th>10</th>\n",
       "      <th>11</th>\n",
       "      <th>12</th>\n",
       "    </tr>\n",
       "  </thead>\n",
       "  <tbody>\n",
       "    <tr>\n",
       "      <th>0</th>\n",
       "      <td>0.00632</td>\n",
       "      <td>18.0</td>\n",
       "      <td>2.31</td>\n",
       "      <td>0.0</td>\n",
       "      <td>0.538</td>\n",
       "      <td>6.575</td>\n",
       "      <td>65.2</td>\n",
       "      <td>4.0900</td>\n",
       "      <td>1.0</td>\n",
       "      <td>296.0</td>\n",
       "      <td>15.3</td>\n",
       "      <td>396.90</td>\n",
       "      <td>4.98</td>\n",
       "    </tr>\n",
       "    <tr>\n",
       "      <th>1</th>\n",
       "      <td>0.02731</td>\n",
       "      <td>0.0</td>\n",
       "      <td>7.07</td>\n",
       "      <td>0.0</td>\n",
       "      <td>0.469</td>\n",
       "      <td>6.421</td>\n",
       "      <td>78.9</td>\n",
       "      <td>4.9671</td>\n",
       "      <td>2.0</td>\n",
       "      <td>242.0</td>\n",
       "      <td>17.8</td>\n",
       "      <td>396.90</td>\n",
       "      <td>9.14</td>\n",
       "    </tr>\n",
       "    <tr>\n",
       "      <th>2</th>\n",
       "      <td>0.02729</td>\n",
       "      <td>0.0</td>\n",
       "      <td>7.07</td>\n",
       "      <td>0.0</td>\n",
       "      <td>0.469</td>\n",
       "      <td>7.185</td>\n",
       "      <td>61.1</td>\n",
       "      <td>4.9671</td>\n",
       "      <td>2.0</td>\n",
       "      <td>242.0</td>\n",
       "      <td>17.8</td>\n",
       "      <td>392.83</td>\n",
       "      <td>4.03</td>\n",
       "    </tr>\n",
       "    <tr>\n",
       "      <th>3</th>\n",
       "      <td>0.03237</td>\n",
       "      <td>0.0</td>\n",
       "      <td>2.18</td>\n",
       "      <td>0.0</td>\n",
       "      <td>0.458</td>\n",
       "      <td>6.998</td>\n",
       "      <td>45.8</td>\n",
       "      <td>6.0622</td>\n",
       "      <td>3.0</td>\n",
       "      <td>222.0</td>\n",
       "      <td>18.7</td>\n",
       "      <td>394.63</td>\n",
       "      <td>2.94</td>\n",
       "    </tr>\n",
       "    <tr>\n",
       "      <th>4</th>\n",
       "      <td>0.06905</td>\n",
       "      <td>0.0</td>\n",
       "      <td>2.18</td>\n",
       "      <td>0.0</td>\n",
       "      <td>0.458</td>\n",
       "      <td>7.147</td>\n",
       "      <td>54.2</td>\n",
       "      <td>6.0622</td>\n",
       "      <td>3.0</td>\n",
       "      <td>222.0</td>\n",
       "      <td>18.7</td>\n",
       "      <td>396.90</td>\n",
       "      <td>5.33</td>\n",
       "    </tr>\n",
       "  </tbody>\n",
       "</table>\n",
       "</div>"
      ],
      "text/plain": [
       "        0     1     2    3      4      5     6       7    8      9     10  \\\n",
       "0  0.00632  18.0  2.31  0.0  0.538  6.575  65.2  4.0900  1.0  296.0  15.3   \n",
       "1  0.02731   0.0  7.07  0.0  0.469  6.421  78.9  4.9671  2.0  242.0  17.8   \n",
       "2  0.02729   0.0  7.07  0.0  0.469  7.185  61.1  4.9671  2.0  242.0  17.8   \n",
       "3  0.03237   0.0  2.18  0.0  0.458  6.998  45.8  6.0622  3.0  222.0  18.7   \n",
       "4  0.06905   0.0  2.18  0.0  0.458  7.147  54.2  6.0622  3.0  222.0  18.7   \n",
       "\n",
       "       11    12  \n",
       "0  396.90  4.98  \n",
       "1  396.90  9.14  \n",
       "2  392.83  4.03  \n",
       "3  394.63  2.94  \n",
       "4  396.90  5.33  "
      ]
     },
     "execution_count": 12,
     "metadata": {},
     "output_type": "execute_result"
    }
   ],
   "source": [
    "X = load_boston().data\n",
    "Y = load_boston().target\n",
    "df=pd.DataFrame(X)\n",
    "df.head()"
   ]
  },
  {
   "cell_type": "code",
   "execution_count": 13,
   "metadata": {},
   "outputs": [
    {
     "data": {
      "text/html": [
       "<div>\n",
       "<style scoped>\n",
       "    .dataframe tbody tr th:only-of-type {\n",
       "        vertical-align: middle;\n",
       "    }\n",
       "\n",
       "    .dataframe tbody tr th {\n",
       "        vertical-align: top;\n",
       "    }\n",
       "\n",
       "    .dataframe thead th {\n",
       "        text-align: right;\n",
       "    }\n",
       "</style>\n",
       "<table border=\"1\" class=\"dataframe\">\n",
       "  <thead>\n",
       "    <tr style=\"text-align: right;\">\n",
       "      <th></th>\n",
       "      <th>0</th>\n",
       "      <th>1</th>\n",
       "      <th>2</th>\n",
       "      <th>3</th>\n",
       "      <th>4</th>\n",
       "      <th>5</th>\n",
       "      <th>6</th>\n",
       "      <th>7</th>\n",
       "      <th>8</th>\n",
       "      <th>9</th>\n",
       "      <th>10</th>\n",
       "      <th>11</th>\n",
       "      <th>12</th>\n",
       "      <th>price</th>\n",
       "    </tr>\n",
       "  </thead>\n",
       "  <tbody>\n",
       "    <tr>\n",
       "      <th>0</th>\n",
       "      <td>1.162967</td>\n",
       "      <td>-0.490635</td>\n",
       "      <td>1.028421</td>\n",
       "      <td>-0.293069</td>\n",
       "      <td>0.360914</td>\n",
       "      <td>0.765674</td>\n",
       "      <td>1.123188</td>\n",
       "      <td>-1.081747</td>\n",
       "      <td>1.653282</td>\n",
       "      <td>1.521138</td>\n",
       "      <td>0.795832</td>\n",
       "      <td>-2.099366</td>\n",
       "      <td>1.068460</td>\n",
       "      <td>27.5</td>\n",
       "    </tr>\n",
       "    <tr>\n",
       "      <th>1</th>\n",
       "      <td>-0.007195</td>\n",
       "      <td>-0.490635</td>\n",
       "      <td>1.028421</td>\n",
       "      <td>-0.293069</td>\n",
       "      <td>1.413124</td>\n",
       "      <td>-1.869970</td>\n",
       "      <td>0.813659</td>\n",
       "      <td>-0.946479</td>\n",
       "      <td>1.653282</td>\n",
       "      <td>1.521138</td>\n",
       "      <td>0.795832</td>\n",
       "      <td>-0.512163</td>\n",
       "      <td>0.233932</td>\n",
       "      <td>21.9</td>\n",
       "    </tr>\n",
       "    <tr>\n",
       "      <th>2</th>\n",
       "      <td>-0.378396</td>\n",
       "      <td>-0.490635</td>\n",
       "      <td>-0.073669</td>\n",
       "      <td>-0.293069</td>\n",
       "      <td>-0.578249</td>\n",
       "      <td>-1.243499</td>\n",
       "      <td>-2.123273</td>\n",
       "      <td>-0.080913</td>\n",
       "      <td>-0.646823</td>\n",
       "      <td>-0.786434</td>\n",
       "      <td>0.053475</td>\n",
       "      <td>-0.130082</td>\n",
       "      <td>2.479074</td>\n",
       "      <td>23.7</td>\n",
       "    </tr>\n",
       "    <tr>\n",
       "      <th>3</th>\n",
       "      <td>-0.408305</td>\n",
       "      <td>2.812139</td>\n",
       "      <td>-1.332782</td>\n",
       "      <td>-0.293069</td>\n",
       "      <td>-1.047830</td>\n",
       "      <td>0.462903</td>\n",
       "      <td>-1.407036</td>\n",
       "      <td>2.162475</td>\n",
       "      <td>-0.646823</td>\n",
       "      <td>-0.768638</td>\n",
       "      <td>-0.688882</td>\n",
       "      <td>0.357797</td>\n",
       "      <td>-0.922569</td>\n",
       "      <td>24.5</td>\n",
       "    </tr>\n",
       "    <tr>\n",
       "      <th>4</th>\n",
       "      <td>-0.385998</td>\n",
       "      <td>-0.490635</td>\n",
       "      <td>-0.613708</td>\n",
       "      <td>-0.293069</td>\n",
       "      <td>-0.934783</td>\n",
       "      <td>-0.978399</td>\n",
       "      <td>-0.244500</td>\n",
       "      <td>1.098298</td>\n",
       "      <td>-0.761829</td>\n",
       "      <td>-1.047444</td>\n",
       "      <td>-0.271306</td>\n",
       "      <td>0.427012</td>\n",
       "      <td>0.551572</td>\n",
       "      <td>19.4</td>\n",
       "    </tr>\n",
       "  </tbody>\n",
       "</table>\n",
       "</div>"
      ],
      "text/plain": [
       "          0         1         2         3         4         5         6  \\\n",
       "0  1.162967 -0.490635  1.028421 -0.293069  0.360914  0.765674  1.123188   \n",
       "1 -0.007195 -0.490635  1.028421 -0.293069  1.413124 -1.869970  0.813659   \n",
       "2 -0.378396 -0.490635 -0.073669 -0.293069 -0.578249 -1.243499 -2.123273   \n",
       "3 -0.408305  2.812139 -1.332782 -0.293069 -1.047830  0.462903 -1.407036   \n",
       "4 -0.385998 -0.490635 -0.613708 -0.293069 -0.934783 -0.978399 -0.244500   \n",
       "\n",
       "          7         8         9        10        11        12  price  \n",
       "0 -1.081747  1.653282  1.521138  0.795832 -2.099366  1.068460   27.5  \n",
       "1 -0.946479  1.653282  1.521138  0.795832 -0.512163  0.233932   21.9  \n",
       "2 -0.080913 -0.646823 -0.786434  0.053475 -0.130082  2.479074   23.7  \n",
       "3  2.162475 -0.646823 -0.768638 -0.688882  0.357797 -0.922569   24.5  \n",
       "4  1.098298 -0.761829 -1.047444 -0.271306  0.427012  0.551572   19.4  "
      ]
     },
     "execution_count": 13,
     "metadata": {},
     "output_type": "execute_result"
    }
   ],
   "source": [
    "from sklearn.model_selection import train_test_split\n",
    "X_train, X_test, y_train, y_test=train_test_split(X, Y, test_size=0.3)\n",
    "# applying column standardization on train and test data\n",
    "scaler = preprocessing.StandardScaler()\n",
    "X_train = scaler.fit_transform(X_train)\n",
    "X_test=scaler.transform(X_test)\n",
    "df_train=pd.DataFrame(X_train)\n",
    "df_train['price']=y_train\n",
    "df_train.head()"
   ]
  },
  {
   "cell_type": "markdown",
   "metadata": {},
   "source": [
    "### Costom stochasticGradientDescent"
   ]
  },
  {
   "cell_type": "code",
   "execution_count": 14,
   "metadata": {},
   "outputs": [
    {
     "name": "stdout",
     "output_type": "stream",
     "text": [
      "[[-0.02532287  0.16047432 -0.03347209  0.13288429 -0.04400233 -0.00497934\n",
      "  -0.24033042  0.0558579  -0.06610202 -0.04911275 -0.12412294  0.10136229\n",
      "  -0.01650802]]\n",
      "[0.4336]\n"
     ]
    }
   ],
   "source": [
    "def StochasticGradientDesent(train_data,learning_rate=0.01,itr=750,sample_s=25):\n",
    "    weight=np.zeros(shape=(1,train_data.shape[1]-1))\n",
    "    intercept=0\n",
    "    lr_rate=learning_rate\n",
    "    for i in range(1,itr):\n",
    "        w_old=weight\n",
    "        intercept_old=intercept\n",
    "        weigt=np.zeros(shape=(1,train_data.shape[1]-1))\n",
    "        itecpt=0\n",
    "        train_set=train_data.sample(sample_s)\n",
    "        train_y=np.array(train_set['price'])\n",
    "        train_x=np.array(train_set.drop('price',axis=1))\n",
    "        for j in range(sample_s):\n",
    "            weigt+=train_x[j]*(train_y[j]-(np.dot(w_old,train_x[j])+intercept))*(-2)\n",
    "            itecpt+=(train_y[j]-(np.dot(w_old,train_x[j])+intercept))*(-2)\n",
    "        weight=(w_old-(lr_rate*weigt)/sample_s)\n",
    "        intercept=(intercept_old-(lr_rate*itecpt)/sample_s)\n",
    "        if (w_old==weight).all():\n",
    "            break\n",
    "        return weight,intercept\n",
    "w,b=StochasticGradientDesent(df_train)\n",
    "print(w)\n",
    "print(b)"
   ]
  },
  {
   "cell_type": "code",
   "execution_count": 15,
   "metadata": {},
   "outputs": [
    {
     "name": "stdout",
     "output_type": "stream",
     "text": [
      "Mean squared Error 519.9717548203397\n"
     ]
    },
    {
     "data": {
      "text/plain": [
       "Text(0.5, 1.0, 'Predicted VS Actual Value Graph')"
      ]
     },
     "execution_count": 15,
     "metadata": {},
     "output_type": "execute_result"
    },
    {
     "data": {
      "image/png": "[encoded data removed]",
      "text/plain": [
       "<Figure size 432x288 with 1 Axes>"
      ]
     },
     "metadata": {
      "needs_background": "light"
     },
     "output_type": "display_data"
    }
   ],
   "source": [
    "def predict(x,w,b):\n",
    "    \"\"\"predict the price\"\"\"\n",
    "    y_pred=[]\n",
    "    for i in range(len(x)):\n",
    "        y=np.asscalar(np.dot(w,x[i])+b)\n",
    "        y_pred.append(y)\n",
    "    return y_pred\n",
    "test_pred_cstm=predict(X_test,w,b)\n",
    "mse_error=mean_squared_error(y_test,test_pred_cstm)\n",
    "print(\"Mean squared Error {}\".format(mse_error))\n",
    "plt.scatter(y_test,test_pred_cstm)\n",
    "plt.xlabel(\"Actual value\")\n",
    "plt.ylabel(\"Predicted Value\")\n",
    "plt.title(\"Predicted VS Actual Value Graph\")"
   ]
  },
  {
   "cell_type": "markdown",
   "metadata": {},
   "source": [
    "### scikit-learn SGD Regression"
   ]
  },
  {
   "cell_type": "code",
   "execution_count": 16,
   "metadata": {},
   "outputs": [
    {
     "name": "stdout",
     "output_type": "stream",
     "text": [
      "Mean Squared Error 21.435042658928797\n"
     ]
    }
   ],
   "source": [
    "reg=SGDRegressor()\n",
    "train_data=df_train.drop(['price'],axis=1)\n",
    "reg.fit(train_data,y_train)\n",
    "test_pred_sgd=reg.predict(X_test)\n",
    "mse_Error=mean_squared_error(y_test,test_pred_sgd)\n",
    "print (\"Mean Squared Error {}\".format(mse_Error))"
   ]
  },
  {
   "cell_type": "code",
   "execution_count": 17,
   "metadata": {},
   "outputs": [
    {
     "data": {
      "text/plain": [
       "Text(0.5, 1.0, 'Actual vs Predicted value Graph')"
      ]
     },
     "execution_count": 17,
     "metadata": {},
     "output_type": "execute_result"
    },
    {
     "data": {
      "image/png": "[encoded data removed]",
      "text/plain": [
       "<Figure size 432x288 with 1 Axes>"
      ]
     },
     "metadata": {
      "needs_background": "light"
     },
     "output_type": "display_data"
    }
   ],
   "source": [
    "plt.scatter(y_test,test_pred_sgd)\n",
    "plt.xlabel(\"actual_value\")\n",
    "plt.ylabel(\"predicted value\")\n",
    "plt.title('Actual vs Predicted value Graph')"
   ]
  },
  {
   "cell_type": "markdown",
   "metadata": {},
   "source": [
    "### Comparing coustomSGD with SklearnSGD"
   ]
  },
  {
   "cell_type": "code",
   "execution_count": 18,
   "metadata": {},
   "outputs": [
    {
     "name": "stdout",
     "output_type": "stream",
     "text": [
      "+-----------------------+-----------------------+\n",
      "|       customSGD       |      SGDRegressor     |\n",
      "+-----------------------+-----------------------+\n",
      "|  -0.02532286671103752 |  -1.1531027386125825  |\n",
      "|   0.1604743247747556  |   0.8738732195723875  |\n",
      "|  -0.03347209472826948 | -0.014835031936899192 |\n",
      "|   0.1328842852705571  |   0.7323652450712819  |\n",
      "|  -0.04400233463381027 |   -1.837818686329121  |\n",
      "| -0.004979340915119264 |   2.6893714176142796  |\n",
      "|  -0.2403304238628225  |  0.08457397181091333  |\n",
      "|  0.05585789735463294  |   -2.884612620699346  |\n",
      "|  -0.06610201636809125 |   2.462398343277307   |\n",
      "| -0.049112751906016036 |  -1.3338777912794144  |\n",
      "|  -0.12412293765448901 |   -2.239976074184658  |\n",
      "|   0.1013622929781616  |   0.8736535695412886  |\n",
      "+-----------------------+-----------------------+\n"
     ]
    }
   ],
   "source": [
    "from prettytable import PrettyTable\n",
    "table=PrettyTable()\n",
    "table.field_names=['customSGD','SGDRegressor']\n",
    "W=reg.coef_\n",
    "for i in range(12):\n",
    "    table.add_row([w[0][i],W[i]])\n",
    "print(table)\n"
   ]
  },
  {
   "cell_type": "code",
   "execution_count": 19,
   "metadata": {},
   "outputs": [
    {
     "name": "stdout",
     "output_type": "stream",
     "text": [
      "+-------------------+--------------------+\n",
      "|  MSE of customSGD |  MSE of ScikitSGD  |\n",
      "+-------------------+--------------------+\n",
      "| 519.9717548203397 | 21.435042658928797 |\n",
      "+-------------------+--------------------+\n"
     ]
    }
   ],
   "source": [
    "table1=PrettyTable()\n",
    "table1.field_names=['MSE of customSGD','MSE of ScikitSGD']\n",
    "table1.add_row([mse_error,mse_Error])\n",
    "print(table1)"
   ]
  },
  {
   "cell_type": "code",
   "execution_count": 22,
   "metadata": {},
   "outputs": [
    {
     "data": {
      "image/png": "[encoded data removed]",
      "text/plain": [
       "<Figure size 432x288 with 1 Axes>"
      ]
     },
     "metadata": {
      "needs_background": "light"
     },
     "output_type": "display_data"
    }
   ],
   "source": [
    "import seaborn as sns\n",
    "sns.kdeplot(test_pred_sgd,label='Predicated Value')\n",
    "sns.kdeplot(y_test,label='Actual Value')\n",
    "plt.title('Actual vs Predicted')\n",
    "plt.xlabel('Predicted Value')\n",
    "plt.ylabel('Density')\n",
    "plt.grid()"
   ]
  },
  {
   "cell_type": "code",
   "execution_count": null,
   "metadata": {},
   "outputs": [],
   "source": []
  },
  {
   "cell_type": "code",
   "execution_count": null,
   "metadata": {
    "colab": {},
    "colab_type": "code",
    "id": "FgUW39s6Be0U"
   },
   "outputs": [],
   "source": [
    "scaler = preprocessing.StandardScaler().fit(X)\n",
    "X = scaler.transform(X)"
   ]
  },
  {
   "cell_type": "code",
   "execution_count": null,
   "metadata": {
    "colab": {
     "base_uri": "https://localhost:8080/",
     "height": 34
    },
    "colab_type": "code",
    "executionInfo": {
     "elapsed": 879,
     "status": "ok",
     "timestamp": 1545718892607,
     "user": {
      "displayName": "Applied AI Course",
      "photoUrl": "https://lh5.googleusercontent.com/-9_3A9F-kDXs/AAAAAAAAAAI/AAAAAAAAACw/IprjYvUuoXQ/s64/photo.jpg",
      "userId": "00484516897554883881"
     },
     "user_tz": -330
    },
    "id": "HNu1sXtEBBS2",
    "outputId": "a0c5d3d0-345c-4a34-8ccf-0d9f3d7d23fd"
   },
   "outputs": [],
   "source": [
    "clf = SGDRegressor()\n",
    "clf.fit(X, Y)\n",
    "print(mean_squared_error(Y, clf.predict(X)))"
   ]
  }
 ],
 "metadata": {
  "colab": {
   "name": "Untitled3.ipynb",
   "provenance": [],
   "version": "0.3.2"
  },
  "kernelspec": {
   "display_name": "Python 3",
   "language": "python",
   "name": "python3"
  }
 },
 "nbformat": 4,
 "nbformat_minor": 1
}
