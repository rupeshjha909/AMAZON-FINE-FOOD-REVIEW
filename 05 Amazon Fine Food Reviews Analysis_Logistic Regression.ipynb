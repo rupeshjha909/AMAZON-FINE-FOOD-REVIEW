{
 "cells": [
  {
   "cell_type": "markdown",
   "metadata": {
    "colab_type": "text",
    "id": "AM7jsfwALPlp"
   },
   "source": [
    "# Amazon Fine Food Reviews Analysis\n",
    "\n",
    "\n",
    "Data Source: https://www.kaggle.com/snap/amazon-fine-food-reviews <br>\n",
    "\n",
    "EDA: https://nycdatascience.com/blog/student-works/amazon-fine-foods-visualization/\n",
    "\n",
    "\n",
    "The Amazon Fine Food Reviews dataset consists of reviews of fine foods from Amazon.<br>\n",
    "\n",
    "Number of reviews: 568,454<br>\n",
    "Number of users: 256,059<br>\n",
    "Number of products: 74,258<br>\n",
    "Timespan: Oct 1999 - Oct 2012<br>\n",
    "Number of Attributes/Columns in data: 10 \n",
    "\n",
    "Attribute Information:\n",
    "\n",
    "1. Id\n",
    "2. ProductId - unique identifier for the product\n",
    "3. UserId - unqiue identifier for the user\n",
    "4. ProfileName\n",
    "5. HelpfulnessNumerator - number of users who found the review helpful\n",
    "6. HelpfulnessDenominator - number of users who indicated whether they found the review helpful or not\n",
    "7. Score - rating between 1 and 5\n",
    "8. Time - timestamp for the review\n",
    "9. Summary - brief summary of the review\n",
    "10. Text - text of the review\n",
    "\n",
    "\n",
    "#### Objective:\n",
    "Given a review, determine whether the review is positive (rating of 4 or 5) or negative (rating of 1 or 2).\n",
    "\n",
    "<br>\n",
    "[Q] How to determine if a review is positive or negative?<br>\n",
    "<br> \n",
    "[Ans] We could use Score/Rating. A rating of 4 or 5 can be cosnidered as a positive review. A rating of 1 or 2 can be considered as negative one. A review of rating 3 is considered nuetral and such reviews are ignored from our analysis. This is an approximate and proxy way of determining the polarity (positivity/negativity) of a review.\n",
    "\n",
    "\n"
   ]
  },
  {
   "cell_type": "markdown",
   "metadata": {
    "colab_type": "text",
    "id": "CaQ7XJ4OLPls"
   },
   "source": [
    "# [1]. Reading Data"
   ]
  },
  {
   "cell_type": "markdown",
   "metadata": {
    "colab_type": "text",
    "id": "5VnEBjKRLPlu"
   },
   "source": [
    "## [1.1] Loading the data\n",
    "\n",
    "The dataset is available in two forms\n",
    "1. .csv file\n",
    "2. SQLite Database\n",
    "\n",
    "In order to load the data, We have used the SQLITE dataset as it is easier to query the data and visualise the data efficiently.\n",
    "<br> \n",
    "\n",
    "Here as we only want to get the global sentiment of the recommendations (positive or negative), we will purposefully ignore all Scores equal to 3. If the score is above 3, then the recommendation wil be set to \"positive\". Otherwise, it will be set to \"negative\"."
   ]
  },
  {
   "cell_type": "code",
   "execution_count": 1,
   "metadata": {
    "colab": {},
    "colab_type": "code",
    "id": "x6YclOzXLPlv"
   },
   "outputs": [],
   "source": [
    "%matplotlib inline\n",
    "import warnings\n",
    "warnings.filterwarnings(\"ignore\")\n",
    "\n",
    "\n",
    "import sqlite3\n",
    "import pandas as pd\n",
    "import numpy as np\n",
    "import nltk\n",
    "import string\n",
    "import matplotlib.pyplot as plt\n",
    "import seaborn as sns\n",
    "from sklearn.feature_extraction.text import TfidfTransformer\n",
    "from sklearn.feature_extraction.text import TfidfVectorizer\n",
    "\n",
    "from sklearn.feature_extraction.text import CountVectorizer\n",
    "from sklearn.metrics import confusion_matrix\n",
    "from sklearn import metrics\n",
    "from sklearn.metrics import roc_curve, auc\n",
    "from nltk.stem.porter import PorterStemmer\n",
    "\n",
    "import re\n",
    "# Tutorial about Python regular expressions: https://pymotw.com/2/re/\n",
    "import string\n",
    "from nltk.corpus import stopwords\n",
    "from nltk.stem import PorterStemmer\n",
    "from nltk.stem.wordnet import WordNetLemmatizer\n",
    "\n",
    "from gensim.models import Word2Vec\n",
    "from gensim.models import KeyedVectors\n",
    "import pickle\n",
    "\n",
    "from tqdm import tqdm\n",
    "import os"
   ]
  },
  {
   "cell_type": "code",
   "execution_count": 2,
   "metadata": {
    "colab": {},
    "colab_type": "code",
    "id": "NZ4OSpSiLPl0",
    "outputId": "241c4c64-6186-4351-e38f-fcd06c6896dd"
   },
   "outputs": [
    {
     "name": "stdout",
     "output_type": "stream",
     "text": [
      "Number of data points in our data (10000, 10)\n"
     ]
    },
    {
     "data": {
      "text/html": [
       "<div>\n",
       "<style scoped>\n",
       "    .dataframe tbody tr th:only-of-type {\n",
       "        vertical-align: middle;\n",
       "    }\n",
       "\n",
       "    .dataframe tbody tr th {\n",
       "        vertical-align: top;\n",
       "    }\n",
       "\n",
       "    .dataframe thead th {\n",
       "        text-align: right;\n",
       "    }\n",
       "</style>\n",
       "<table border=\"1\" class=\"dataframe\">\n",
       "  <thead>\n",
       "    <tr style=\"text-align: right;\">\n",
       "      <th></th>\n",
       "      <th>Id</th>\n",
       "      <th>ProductId</th>\n",
       "      <th>UserId</th>\n",
       "      <th>ProfileName</th>\n",
       "      <th>HelpfulnessNumerator</th>\n",
       "      <th>HelpfulnessDenominator</th>\n",
       "      <th>Score</th>\n",
       "      <th>Time</th>\n",
       "      <th>Summary</th>\n",
       "      <th>Text</th>\n",
       "    </tr>\n",
       "  </thead>\n",
       "  <tbody>\n",
       "    <tr>\n",
       "      <th>0</th>\n",
       "      <td>1</td>\n",
       "      <td>B001E4KFG0</td>\n",
       "      <td>A3SGXH7AUHU8GW</td>\n",
       "      <td>delmartian</td>\n",
       "      <td>1</td>\n",
       "      <td>1</td>\n",
       "      <td>1</td>\n",
       "      <td>1303862400</td>\n",
       "      <td>Good Quality Dog Food</td>\n",
       "      <td>I have bought several of the Vitality canned d...</td>\n",
       "    </tr>\n",
       "    <tr>\n",
       "      <th>1</th>\n",
       "      <td>2</td>\n",
       "      <td>B00813GRG4</td>\n",
       "      <td>A1D87F6ZCVE5NK</td>\n",
       "      <td>dll pa</td>\n",
       "      <td>0</td>\n",
       "      <td>0</td>\n",
       "      <td>0</td>\n",
       "      <td>1346976000</td>\n",
       "      <td>Not as Advertised</td>\n",
       "      <td>Product arrived labeled as Jumbo Salted Peanut...</td>\n",
       "    </tr>\n",
       "    <tr>\n",
       "      <th>2</th>\n",
       "      <td>3</td>\n",
       "      <td>B000LQOCH0</td>\n",
       "      <td>ABXLMWJIXXAIN</td>\n",
       "      <td>Natalia Corres \"Natalia Corres\"</td>\n",
       "      <td>1</td>\n",
       "      <td>1</td>\n",
       "      <td>1</td>\n",
       "      <td>1219017600</td>\n",
       "      <td>\"Delight\" says it all</td>\n",
       "      <td>This is a confection that has been around a fe...</td>\n",
       "    </tr>\n",
       "  </tbody>\n",
       "</table>\n",
       "</div>"
      ],
      "text/plain": [
       "   Id   ProductId          UserId                      ProfileName  \\\n",
       "0   1  B001E4KFG0  A3SGXH7AUHU8GW                       delmartian   \n",
       "1   2  B00813GRG4  A1D87F6ZCVE5NK                           dll pa   \n",
       "2   3  B000LQOCH0   ABXLMWJIXXAIN  Natalia Corres \"Natalia Corres\"   \n",
       "\n",
       "   HelpfulnessNumerator  HelpfulnessDenominator  Score        Time  \\\n",
       "0                     1                       1      1  1303862400   \n",
       "1                     0                       0      0  1346976000   \n",
       "2                     1                       1      1  1219017600   \n",
       "\n",
       "                 Summary                                               Text  \n",
       "0  Good Quality Dog Food  I have bought several of the Vitality canned d...  \n",
       "1      Not as Advertised  Product arrived labeled as Jumbo Salted Peanut...  \n",
       "2  \"Delight\" says it all  This is a confection that has been around a fe...  "
      ]
     },
     "execution_count": 2,
     "metadata": {},
     "output_type": "execute_result"
    }
   ],
   "source": [
    "# using SQLite Table to read data.\n",
    "#con = sqlite3.connect('database.sqlite') \n",
    "\n",
    "# using the SQL Table to read data.\n",
    "import mysql.connector\n",
    "con=mysql.connector.connect(\n",
    "    host=\"localhost\",\n",
    "    user=\"root\",\n",
    "    passwd=\"Mother9922*\",\n",
    "    database='data'\n",
    "    )\n",
    "\n",
    "# filtering only positive and negative reviews i.e. \n",
    "# not taking into consideration those reviews with Score=3\n",
    "# SELECT * FROM Reviews WHERE Score != 3 LIMIT 500000, will give top 500000 data points\n",
    "# you can change the number to any other number based on your computing power\n",
    "\n",
    "# filtered_data = pd.read_sql_query(\"\"\" SELECT * FROM Reviews WHERE Score != 3 LIMIT 5000\"\"\", con) \n",
    "# for tsne assignment you can take 5k data points\n",
    "\n",
    "filtered_data = pd.read_sql_query(\"\"\" SELECT * FROM Reviews WHERE Score != 3 LIMIT 10000\"\"\", con) \n",
    "\n",
    "# Give reviews with Score>3 a positive rating(1), and reviews with a score<3 a negative rating(0).\n",
    "def partition(x):\n",
    "    if x < 3:\n",
    "        return 0\n",
    "    return 1\n",
    "\n",
    "#changing reviews with score less than 3 to be positive and vice-versa\n",
    "actualScore = filtered_data['Score']\n",
    "positiveNegative = actualScore.map(partition) \n",
    "filtered_data['Score'] = positiveNegative\n",
    "print(\"Number of data points in our data\", filtered_data.shape)\n",
    "filtered_data.head(3)"
   ]
  },
  {
   "cell_type": "code",
   "execution_count": 3,
   "metadata": {
    "colab": {},
    "colab_type": "code",
    "id": "r44Y4VDjLPl7"
   },
   "outputs": [],
   "source": [
    "display = pd.read_sql_query(\"\"\"\n",
    "SELECT UserId, ProductId, ProfileName, Time, Score, Text, COUNT(*)\n",
    "FROM Reviews\n",
    "GROUP BY UserId\n",
    "HAVING COUNT(*)>1\n",
    "\"\"\", con)"
   ]
  },
  {
   "cell_type": "code",
   "execution_count": 4,
   "metadata": {
    "colab": {},
    "colab_type": "code",
    "id": "tTwINQv1LPl_",
    "outputId": "0385b9ca-0a35-4c2b-b656-8e8494414e6f",
    "scrolled": true
   },
   "outputs": [
    {
     "name": "stdout",
     "output_type": "stream",
     "text": [
      "(80667, 7)\n"
     ]
    },
    {
     "data": {
      "text/html": [
       "<div>\n",
       "<style scoped>\n",
       "    .dataframe tbody tr th:only-of-type {\n",
       "        vertical-align: middle;\n",
       "    }\n",
       "\n",
       "    .dataframe tbody tr th {\n",
       "        vertical-align: top;\n",
       "    }\n",
       "\n",
       "    .dataframe thead th {\n",
       "        text-align: right;\n",
       "    }\n",
       "</style>\n",
       "<table border=\"1\" class=\"dataframe\">\n",
       "  <thead>\n",
       "    <tr style=\"text-align: right;\">\n",
       "      <th></th>\n",
       "      <th>UserId</th>\n",
       "      <th>ProductId</th>\n",
       "      <th>ProfileName</th>\n",
       "      <th>Time</th>\n",
       "      <th>Score</th>\n",
       "      <th>Text</th>\n",
       "      <th>COUNT(*)</th>\n",
       "    </tr>\n",
       "  </thead>\n",
       "  <tbody>\n",
       "    <tr>\n",
       "      <th>0</th>\n",
       "      <td>ABXLMWJIXXAIN</td>\n",
       "      <td>B000LQOCH0</td>\n",
       "      <td>Natalia Corres \"Natalia Corres\"</td>\n",
       "      <td>1219017600</td>\n",
       "      <td>4</td>\n",
       "      <td>This is a confection that has been around a fe...</td>\n",
       "      <td>3</td>\n",
       "    </tr>\n",
       "    <tr>\n",
       "      <th>1</th>\n",
       "      <td>A395BORC6FGVXV</td>\n",
       "      <td>B000UA0QIQ</td>\n",
       "      <td>Karl</td>\n",
       "      <td>1307923200</td>\n",
       "      <td>2</td>\n",
       "      <td>If you are looking for the secret ingredient i...</td>\n",
       "      <td>3</td>\n",
       "    </tr>\n",
       "    <tr>\n",
       "      <th>2</th>\n",
       "      <td>A1UQRSCLF8GW1T</td>\n",
       "      <td>B006K2ZZ7K</td>\n",
       "      <td>Michael D. Bigham \"M. Wassir\"</td>\n",
       "      <td>1350777600</td>\n",
       "      <td>5</td>\n",
       "      <td>Great taffy at a great price.  There was a wid...</td>\n",
       "      <td>2</td>\n",
       "    </tr>\n",
       "    <tr>\n",
       "      <th>3</th>\n",
       "      <td>A1SP2KVKFXXRU1</td>\n",
       "      <td>B006K2ZZ7K</td>\n",
       "      <td>David C. Sullivan</td>\n",
       "      <td>1340150400</td>\n",
       "      <td>5</td>\n",
       "      <td>This saltwater taffy had great flavors and was...</td>\n",
       "      <td>2</td>\n",
       "    </tr>\n",
       "    <tr>\n",
       "      <th>4</th>\n",
       "      <td>A1MZYO9TZK0BBI</td>\n",
       "      <td>B000E7L2R4</td>\n",
       "      <td>R. James</td>\n",
       "      <td>1322006400</td>\n",
       "      <td>5</td>\n",
       "      <td>Right now I'm mostly just sprouting this so my...</td>\n",
       "      <td>2</td>\n",
       "    </tr>\n",
       "  </tbody>\n",
       "</table>\n",
       "</div>"
      ],
      "text/plain": [
       "           UserId   ProductId                      ProfileName        Time  \\\n",
       "0   ABXLMWJIXXAIN  B000LQOCH0  Natalia Corres \"Natalia Corres\"  1219017600   \n",
       "1  A395BORC6FGVXV  B000UA0QIQ                             Karl  1307923200   \n",
       "2  A1UQRSCLF8GW1T  B006K2ZZ7K    Michael D. Bigham \"M. Wassir\"  1350777600   \n",
       "3  A1SP2KVKFXXRU1  B006K2ZZ7K                David C. Sullivan  1340150400   \n",
       "4  A1MZYO9TZK0BBI  B000E7L2R4                         R. James  1322006400   \n",
       "\n",
       "   Score                                               Text  COUNT(*)  \n",
       "0      4  This is a confection that has been around a fe...         3  \n",
       "1      2  If you are looking for the secret ingredient i...         3  \n",
       "2      5  Great taffy at a great price.  There was a wid...         2  \n",
       "3      5  This saltwater taffy had great flavors and was...         2  \n",
       "4      5  Right now I'm mostly just sprouting this so my...         2  "
      ]
     },
     "execution_count": 4,
     "metadata": {},
     "output_type": "execute_result"
    }
   ],
   "source": [
    "print(display.shape)\n",
    "display.head()"
   ]
  },
  {
   "cell_type": "code",
   "execution_count": 5,
   "metadata": {
    "colab": {},
    "colab_type": "code",
    "id": "EOslHQgnLPmF",
    "outputId": "cb28598d-470a-42bb-e742-4763f953c8cb"
   },
   "outputs": [
    {
     "data": {
      "text/html": [
       "<div>\n",
       "<style scoped>\n",
       "    .dataframe tbody tr th:only-of-type {\n",
       "        vertical-align: middle;\n",
       "    }\n",
       "\n",
       "    .dataframe tbody tr th {\n",
       "        vertical-align: top;\n",
       "    }\n",
       "\n",
       "    .dataframe thead th {\n",
       "        text-align: right;\n",
       "    }\n",
       "</style>\n",
       "<table border=\"1\" class=\"dataframe\">\n",
       "  <thead>\n",
       "    <tr style=\"text-align: right;\">\n",
       "      <th></th>\n",
       "      <th>UserId</th>\n",
       "      <th>ProductId</th>\n",
       "      <th>ProfileName</th>\n",
       "      <th>Time</th>\n",
       "      <th>Score</th>\n",
       "      <th>Text</th>\n",
       "      <th>COUNT(*)</th>\n",
       "    </tr>\n",
       "  </thead>\n",
       "  <tbody>\n",
       "    <tr>\n",
       "      <th>18816</th>\n",
       "      <td>AZY10LLTJ71NX</td>\n",
       "      <td>B001ATMQK2</td>\n",
       "      <td>undertheshrine \"undertheshrine\"</td>\n",
       "      <td>1296691200</td>\n",
       "      <td>5</td>\n",
       "      <td>I bought this 6 pack because for the price tha...</td>\n",
       "      <td>5</td>\n",
       "    </tr>\n",
       "  </tbody>\n",
       "</table>\n",
       "</div>"
      ],
      "text/plain": [
       "              UserId   ProductId                      ProfileName        Time  \\\n",
       "18816  AZY10LLTJ71NX  B001ATMQK2  undertheshrine \"undertheshrine\"  1296691200   \n",
       "\n",
       "       Score                                               Text  COUNT(*)  \n",
       "18816      5  I bought this 6 pack because for the price tha...         5  "
      ]
     },
     "execution_count": 5,
     "metadata": {},
     "output_type": "execute_result"
    }
   ],
   "source": [
    "display[display['UserId']=='AZY10LLTJ71NX']"
   ]
  },
  {
   "cell_type": "code",
   "execution_count": 6,
   "metadata": {
    "colab": {},
    "colab_type": "code",
    "id": "pSwF4sdoLPmM",
    "outputId": "2f3bd7f2-0eea-45f7-eab6-bf08c630d9a3"
   },
   "outputs": [
    {
     "data": {
      "text/plain": [
       "393061"
      ]
     },
     "execution_count": 6,
     "metadata": {},
     "output_type": "execute_result"
    }
   ],
   "source": [
    "display['COUNT(*)'].sum()"
   ]
  },
  {
   "cell_type": "markdown",
   "metadata": {
    "colab_type": "text",
    "id": "PuNkhjz0LPmQ"
   },
   "source": [
    "#  [2] Exploratory Data Analysis"
   ]
  },
  {
   "cell_type": "markdown",
   "metadata": {
    "colab_type": "text",
    "id": "oCJaTWrTLPmS"
   },
   "source": [
    "## [2.1] Data Cleaning: Deduplication\n",
    "\n",
    "It is observed (as shown in the table below) that the reviews data had many duplicate entries. Hence it was necessary to remove duplicates in order to get unbiased results for the analysis of the data.  Following is an example:"
   ]
  },
  {
   "cell_type": "code",
   "execution_count": 7,
   "metadata": {
    "colab": {},
    "colab_type": "code",
    "id": "3lvzRwWVLPmT",
    "outputId": "96ba6f90-6c40-4972-ecd2-d2d208e48877",
    "scrolled": false
   },
   "outputs": [
    {
     "data": {
      "text/html": [
       "<div>\n",
       "<style scoped>\n",
       "    .dataframe tbody tr th:only-of-type {\n",
       "        vertical-align: middle;\n",
       "    }\n",
       "\n",
       "    .dataframe tbody tr th {\n",
       "        vertical-align: top;\n",
       "    }\n",
       "\n",
       "    .dataframe thead th {\n",
       "        text-align: right;\n",
       "    }\n",
       "</style>\n",
       "<table border=\"1\" class=\"dataframe\">\n",
       "  <thead>\n",
       "    <tr style=\"text-align: right;\">\n",
       "      <th></th>\n",
       "      <th>Id</th>\n",
       "      <th>ProductId</th>\n",
       "      <th>UserId</th>\n",
       "      <th>ProfileName</th>\n",
       "      <th>HelpfulnessNumerator</th>\n",
       "      <th>HelpfulnessDenominator</th>\n",
       "      <th>Score</th>\n",
       "      <th>Time</th>\n",
       "      <th>Summary</th>\n",
       "      <th>Text</th>\n",
       "    </tr>\n",
       "  </thead>\n",
       "  <tbody>\n",
       "    <tr>\n",
       "      <th>0</th>\n",
       "      <td>78445</td>\n",
       "      <td>B000HDL1RQ</td>\n",
       "      <td>AR5J8UI46CURR</td>\n",
       "      <td>Geetha Krishnan</td>\n",
       "      <td>2</td>\n",
       "      <td>2</td>\n",
       "      <td>5</td>\n",
       "      <td>1199577600</td>\n",
       "      <td>LOACKER QUADRATINI VANILLA WAFERS</td>\n",
       "      <td>DELICIOUS WAFERS. I FIND THAT EUROPEAN WAFERS ...</td>\n",
       "    </tr>\n",
       "    <tr>\n",
       "      <th>1</th>\n",
       "      <td>138317</td>\n",
       "      <td>B000HDOPYC</td>\n",
       "      <td>AR5J8UI46CURR</td>\n",
       "      <td>Geetha Krishnan</td>\n",
       "      <td>2</td>\n",
       "      <td>2</td>\n",
       "      <td>5</td>\n",
       "      <td>1199577600</td>\n",
       "      <td>LOACKER QUADRATINI VANILLA WAFERS</td>\n",
       "      <td>DELICIOUS WAFERS. I FIND THAT EUROPEAN WAFERS ...</td>\n",
       "    </tr>\n",
       "    <tr>\n",
       "      <th>2</th>\n",
       "      <td>138277</td>\n",
       "      <td>B000HDOPYM</td>\n",
       "      <td>AR5J8UI46CURR</td>\n",
       "      <td>Geetha Krishnan</td>\n",
       "      <td>2</td>\n",
       "      <td>2</td>\n",
       "      <td>5</td>\n",
       "      <td>1199577600</td>\n",
       "      <td>LOACKER QUADRATINI VANILLA WAFERS</td>\n",
       "      <td>DELICIOUS WAFERS. I FIND THAT EUROPEAN WAFERS ...</td>\n",
       "    </tr>\n",
       "    <tr>\n",
       "      <th>3</th>\n",
       "      <td>73791</td>\n",
       "      <td>B000HDOPZG</td>\n",
       "      <td>AR5J8UI46CURR</td>\n",
       "      <td>Geetha Krishnan</td>\n",
       "      <td>2</td>\n",
       "      <td>2</td>\n",
       "      <td>5</td>\n",
       "      <td>1199577600</td>\n",
       "      <td>LOACKER QUADRATINI VANILLA WAFERS</td>\n",
       "      <td>DELICIOUS WAFERS. I FIND THAT EUROPEAN WAFERS ...</td>\n",
       "    </tr>\n",
       "    <tr>\n",
       "      <th>4</th>\n",
       "      <td>155049</td>\n",
       "      <td>B000PAQ75C</td>\n",
       "      <td>AR5J8UI46CURR</td>\n",
       "      <td>Geetha Krishnan</td>\n",
       "      <td>2</td>\n",
       "      <td>2</td>\n",
       "      <td>5</td>\n",
       "      <td>1199577600</td>\n",
       "      <td>LOACKER QUADRATINI VANILLA WAFERS</td>\n",
       "      <td>DELICIOUS WAFERS. I FIND THAT EUROPEAN WAFERS ...</td>\n",
       "    </tr>\n",
       "  </tbody>\n",
       "</table>\n",
       "</div>"
      ],
      "text/plain": [
       "       Id   ProductId         UserId      ProfileName  HelpfulnessNumerator  \\\n",
       "0   78445  B000HDL1RQ  AR5J8UI46CURR  Geetha Krishnan                     2   \n",
       "1  138317  B000HDOPYC  AR5J8UI46CURR  Geetha Krishnan                     2   \n",
       "2  138277  B000HDOPYM  AR5J8UI46CURR  Geetha Krishnan                     2   \n",
       "3   73791  B000HDOPZG  AR5J8UI46CURR  Geetha Krishnan                     2   \n",
       "4  155049  B000PAQ75C  AR5J8UI46CURR  Geetha Krishnan                     2   \n",
       "\n",
       "   HelpfulnessDenominator  Score        Time  \\\n",
       "0                       2      5  1199577600   \n",
       "1                       2      5  1199577600   \n",
       "2                       2      5  1199577600   \n",
       "3                       2      5  1199577600   \n",
       "4                       2      5  1199577600   \n",
       "\n",
       "                             Summary  \\\n",
       "0  LOACKER QUADRATINI VANILLA WAFERS   \n",
       "1  LOACKER QUADRATINI VANILLA WAFERS   \n",
       "2  LOACKER QUADRATINI VANILLA WAFERS   \n",
       "3  LOACKER QUADRATINI VANILLA WAFERS   \n",
       "4  LOACKER QUADRATINI VANILLA WAFERS   \n",
       "\n",
       "                                                Text  \n",
       "0  DELICIOUS WAFERS. I FIND THAT EUROPEAN WAFERS ...  \n",
       "1  DELICIOUS WAFERS. I FIND THAT EUROPEAN WAFERS ...  \n",
       "2  DELICIOUS WAFERS. I FIND THAT EUROPEAN WAFERS ...  \n",
       "3  DELICIOUS WAFERS. I FIND THAT EUROPEAN WAFERS ...  \n",
       "4  DELICIOUS WAFERS. I FIND THAT EUROPEAN WAFERS ...  "
      ]
     },
     "execution_count": 7,
     "metadata": {},
     "output_type": "execute_result"
    }
   ],
   "source": [
    "display= pd.read_sql_query(\"\"\"\n",
    "SELECT *\n",
    "FROM Reviews\n",
    "WHERE Score != 3 AND UserId=\"AR5J8UI46CURR\"\n",
    "ORDER BY ProductID\n",
    "\"\"\", con)\n",
    "display.head()"
   ]
  },
  {
   "cell_type": "markdown",
   "metadata": {
    "colab_type": "text",
    "id": "uT7p9_deLPmb"
   },
   "source": [
    "As it can be seen above that same user has multiple reviews with same values for HelpfulnessNumerator, HelpfulnessDenominator, Score, Time, Summary and Text and on doing analysis it was found that <br>\n",
    "<br> \n",
    "ProductId=B000HDOPZG was Loacker Quadratini Vanilla Wafer Cookies, 8.82-Ounce Packages (Pack of 8)<br>\n",
    "<br> \n",
    "ProductId=B000HDL1RQ was Loacker Quadratini Lemon Wafer Cookies, 8.82-Ounce Packages (Pack of 8) and so on<br>\n",
    "\n",
    "It was inferred after analysis that reviews with same parameters other than ProductId belonged to the same product just having different flavour or quantity. Hence in order to reduce redundancy it was decided to eliminate the rows having same parameters.<br>\n",
    "\n",
    "The method used for the same was that we first sort the data according to ProductId and then just keep the first similar product review and delelte the others. for eg. in the above just the review for ProductId=B000HDL1RQ remains. This method ensures that there is only one representative for each product and deduplication without sorting would lead to possibility of different representatives still existing for the same product."
   ]
  },
  {
   "cell_type": "code",
   "execution_count": 8,
   "metadata": {
    "colab": {},
    "colab_type": "code",
    "id": "mdsKFc50LPme"
   },
   "outputs": [],
   "source": [
    "#Sorting data according to ProductId in ascending order\n",
    "sorted_data=filtered_data.sort_values('ProductId', axis=0, ascending=True, inplace=False, kind='quicksort', na_position='last')"
   ]
  },
  {
   "cell_type": "code",
   "execution_count": 9,
   "metadata": {
    "colab": {},
    "colab_type": "code",
    "id": "2itLgX-NLPmk",
    "outputId": "ac765625-dfdc-4e4e-f886-bd3b7ca3635a"
   },
   "outputs": [
    {
     "data": {
      "text/plain": [
       "(9564, 10)"
      ]
     },
     "execution_count": 9,
     "metadata": {},
     "output_type": "execute_result"
    }
   ],
   "source": [
    "#Deduplication of entries\n",
    "final=sorted_data.drop_duplicates(subset={\"UserId\",\"ProfileName\",\"Time\",\"Text\"}, keep='first', inplace=False)\n",
    "final.shape"
   ]
  },
  {
   "cell_type": "code",
   "execution_count": 10,
   "metadata": {
    "colab": {},
    "colab_type": "code",
    "id": "IBU4iZk4LPmt",
    "outputId": "ceeba223-fe3f-407a-b4e5-0d46c08f69dd"
   },
   "outputs": [
    {
     "data": {
      "text/plain": [
       "95.64"
      ]
     },
     "execution_count": 10,
     "metadata": {},
     "output_type": "execute_result"
    }
   ],
   "source": [
    "#Checking to see how much % of data still remains\n",
    "(final['Id'].size*1.0)/(filtered_data['Id'].size*1.0)*100"
   ]
  },
  {
   "cell_type": "markdown",
   "metadata": {
    "colab_type": "text",
    "id": "gFBOfSe4LPmy"
   },
   "source": [
    "<b>Observation:-</b> It was also seen that in two rows given below the value of HelpfulnessNumerator is greater than HelpfulnessDenominator which is not practically possible hence these two rows too are removed from calcualtions"
   ]
  },
  {
   "cell_type": "code",
   "execution_count": 11,
   "metadata": {
    "colab": {},
    "colab_type": "code",
    "id": "50flE40lLPmz",
    "outputId": "b6c7e38e-25c1-4a48-be1f-70fdf31aba13"
   },
   "outputs": [
    {
     "data": {
      "text/html": [
       "<div>\n",
       "<style scoped>\n",
       "    .dataframe tbody tr th:only-of-type {\n",
       "        vertical-align: middle;\n",
       "    }\n",
       "\n",
       "    .dataframe tbody tr th {\n",
       "        vertical-align: top;\n",
       "    }\n",
       "\n",
       "    .dataframe thead th {\n",
       "        text-align: right;\n",
       "    }\n",
       "</style>\n",
       "<table border=\"1\" class=\"dataframe\">\n",
       "  <thead>\n",
       "    <tr style=\"text-align: right;\">\n",
       "      <th></th>\n",
       "      <th>Id</th>\n",
       "      <th>ProductId</th>\n",
       "      <th>UserId</th>\n",
       "      <th>ProfileName</th>\n",
       "      <th>HelpfulnessNumerator</th>\n",
       "      <th>HelpfulnessDenominator</th>\n",
       "      <th>Score</th>\n",
       "      <th>Time</th>\n",
       "      <th>Summary</th>\n",
       "      <th>Text</th>\n",
       "    </tr>\n",
       "  </thead>\n",
       "  <tbody>\n",
       "    <tr>\n",
       "      <th>0</th>\n",
       "      <td>64422</td>\n",
       "      <td>B000MIDROQ</td>\n",
       "      <td>A161DK06JJMCYF</td>\n",
       "      <td>J. E. Stephens \"Jeanne\"</td>\n",
       "      <td>3</td>\n",
       "      <td>1</td>\n",
       "      <td>5</td>\n",
       "      <td>1224892800</td>\n",
       "      <td>Bought This for My Son at College</td>\n",
       "      <td>My son loves spaghetti so I didn't hesitate or...</td>\n",
       "    </tr>\n",
       "    <tr>\n",
       "      <th>1</th>\n",
       "      <td>44737</td>\n",
       "      <td>B001EQ55RW</td>\n",
       "      <td>A2V0I904FH7ABY</td>\n",
       "      <td>Ram</td>\n",
       "      <td>3</td>\n",
       "      <td>2</td>\n",
       "      <td>4</td>\n",
       "      <td>1212883200</td>\n",
       "      <td>Pure cocoa taste with crunchy almonds inside</td>\n",
       "      <td>It was almost a 'love at first bite' - the per...</td>\n",
       "    </tr>\n",
       "  </tbody>\n",
       "</table>\n",
       "</div>"
      ],
      "text/plain": [
       "      Id   ProductId          UserId              ProfileName  \\\n",
       "0  64422  B000MIDROQ  A161DK06JJMCYF  J. E. Stephens \"Jeanne\"   \n",
       "1  44737  B001EQ55RW  A2V0I904FH7ABY                      Ram   \n",
       "\n",
       "   HelpfulnessNumerator  HelpfulnessDenominator  Score        Time  \\\n",
       "0                     3                       1      5  1224892800   \n",
       "1                     3                       2      4  1212883200   \n",
       "\n",
       "                                        Summary  \\\n",
       "0             Bought This for My Son at College   \n",
       "1  Pure cocoa taste with crunchy almonds inside   \n",
       "\n",
       "                                                Text  \n",
       "0  My son loves spaghetti so I didn't hesitate or...  \n",
       "1  It was almost a 'love at first bite' - the per...  "
      ]
     },
     "execution_count": 11,
     "metadata": {},
     "output_type": "execute_result"
    }
   ],
   "source": [
    "display= pd.read_sql_query(\"\"\"\n",
    "SELECT *\n",
    "FROM Reviews\n",
    "WHERE Score != 3 AND Id=44737 OR Id=64422\n",
    "ORDER BY ProductID\n",
    "\"\"\", con)\n",
    "\n",
    "display.head()"
   ]
  },
  {
   "cell_type": "code",
   "execution_count": 12,
   "metadata": {
    "colab": {},
    "colab_type": "code",
    "id": "0YTPJMLTLPm7"
   },
   "outputs": [],
   "source": [
    "final=final[final.HelpfulnessNumerator<=final.HelpfulnessDenominator]"
   ]
  },
  {
   "cell_type": "code",
   "execution_count": 13,
   "metadata": {
    "colab": {},
    "colab_type": "code",
    "id": "LVJ_l-x2LPnC",
    "outputId": "d4a19c7a-16fe-4b5b-c3d1-aa1ef0f948a0"
   },
   "outputs": [
    {
     "name": "stdout",
     "output_type": "stream",
     "text": [
      "(9564, 10)\n"
     ]
    },
    {
     "data": {
      "text/plain": [
       "1    7976\n",
       "0    1588\n",
       "Name: Score, dtype: int64"
      ]
     },
     "execution_count": 13,
     "metadata": {},
     "output_type": "execute_result"
    }
   ],
   "source": [
    "#Before starting the next phase of preprocessing lets see the number of entries left\n",
    "print(final.shape)\n",
    "\n",
    "#How many positive and negative reviews are present in our dataset?\n",
    "final['Score'].value_counts()"
   ]
  },
  {
   "cell_type": "markdown",
   "metadata": {
    "colab_type": "text",
    "id": "GrTYWzYrLPnH"
   },
   "source": [
    "#  [3] Preprocessing"
   ]
  },
  {
   "cell_type": "markdown",
   "metadata": {
    "colab_type": "text",
    "id": "zbvLitZeLPnI"
   },
   "source": [
    "## [3.1].  Preprocessing Review Text\n",
    "\n",
    "Now that we have finished deduplication our data requires some preprocessing before we go on further with analysis and making the prediction model.\n",
    "\n",
    "Hence in the Preprocessing phase we do the following in the order below:-\n",
    "\n",
    "1. Begin by removing the html tags\n",
    "2. Remove any punctuations or limited set of special characters like , or . or # etc.\n",
    "3. Check if the word is made up of english letters and is not alpha-numeric\n",
    "4. Check to see if the length of the word is greater than 2 (as it was researched that there is no adjective in 2-letters)\n",
    "5. Convert the word to lowercase\n",
    "6. Remove Stopwords\n",
    "7. Finally Snowball Stemming the word (it was obsereved to be better than Porter Stemming)<br>\n",
    "\n",
    "After which we collect the words used to describe positive and negative reviews"
   ]
  },
  {
   "cell_type": "code",
   "execution_count": 14,
   "metadata": {
    "colab": {},
    "colab_type": "code",
    "id": "yYDc0ZXALPnK",
    "outputId": "5403fab9-796a-493d-f9d3-2a410d004f64"
   },
   "outputs": [
    {
     "name": "stdout",
     "output_type": "stream",
     "text": [
      "262-TRIAL-Got a free package of these with a bottle of bloody mary mix I bought from the seller, and the advertising worked..lol,  I tried them, and shared them with 2 buddies, and we all loved them...  So im here to buy more, and noticed there were no reviews yet,...  well now there is.  They are Hot,  but not \"burn your mouth forever hot\"  its a nice temp...  Perfect for us.. 164\n",
      "==================================================\n",
      "This is a very good snack that I feel great about offering my 10 month old.  She can easily  pick up the small pieces and definitely enjoys the apple cinnamon taste.  My 5 year old loves them as well!  I would definitely recommend these to anyone with small (or larger) kids.  :)\n",
      "==================================================\n",
      "These spicy chips have a lot of great flavor but be warned, you will be left with some stanky breath afterwards! The first time I ate these was at night and then even after brushing and flossing I could taste them in my mouth the next morning. So just be careful about when you eat them, especially if you will be hanging out with people later in the day.\n",
      "==================================================\n",
      "These tablets definitely made things sweeter -- like lemons, limes, and grapefruit.  But it wasn't to the point of sheer amazement.  They also had an interesting effect on cheeses and vinegar, but still did virtually nothing for beer and wine. The tablets are a bit pricey but they do work.  If you've got extra money, sure, give them a try, but if you're looking for some amazing way to get your kids to eat broccoli or something along those lines then this is not the answer. Fun experiment, but not life-changing. :)\n",
      "==================================================\n"
     ]
    }
   ],
   "source": [
    "# printing some random reviews\n",
    "sent_0 = final['Text'].values[0]\n",
    "print(sent_0)\n",
    "print(\"=\"*50)\n",
    "\n",
    "sent_1000 = final['Text'].values[1000]\n",
    "print(sent_1000)\n",
    "print(\"=\"*50)\n",
    "\n",
    "sent_1500 = final['Text'].values[1500]\n",
    "print(sent_1500)\n",
    "print(\"=\"*50)\n",
    "\n",
    "sent_4900 = final['Text'].values[4900]\n",
    "print(sent_4900)\n",
    "print(\"=\"*50)"
   ]
  },
  {
   "cell_type": "code",
   "execution_count": 15,
   "metadata": {
    "colab": {},
    "colab_type": "code",
    "id": "AxYh-wPiLPnS",
    "outputId": "31bddcb2-6c52-4b16-f9fb-c03d5b3bb7c8"
   },
   "outputs": [
    {
     "name": "stdout",
     "output_type": "stream",
     "text": [
      "262-TRIAL-Got a free package of these with a bottle of bloody mary mix I bought from the seller, and the advertising worked..lol,  I tried them, and shared them with 2 buddies, and we all loved them...  So im here to buy more, and noticed there were no reviews yet,...  well now there is.  They are Hot,  but not \"burn your mouth forever hot\"  its a nice temp...  Perfect for us.. 164\n"
     ]
    }
   ],
   "source": [
    "# remove urls from text python: https://stackoverflow.com/a/40823105/4084039\n",
    "sent_0 = re.sub(r\"http\\S+\", \"\", sent_0)\n",
    "sent_1000 = re.sub(r\"http\\S+\", \"\", sent_1000)\n",
    "sent_150 = re.sub(r\"http\\S+\", \"\", sent_1500)\n",
    "sent_4900 = re.sub(r\"http\\S+\", \"\", sent_4900)\n",
    "\n",
    "print(sent_0)"
   ]
  },
  {
   "cell_type": "code",
   "execution_count": 16,
   "metadata": {
    "colab": {},
    "colab_type": "code",
    "id": "JMSSWjZqLPne",
    "outputId": "eb1bae4e-6f37-45ee-84a3-ef3bebf4e30a"
   },
   "outputs": [
    {
     "name": "stdout",
     "output_type": "stream",
     "text": [
      "262-TRIAL-Got a free package of these with a bottle of bloody mary mix I bought from the seller, and the advertising worked..lol,  I tried them, and shared them with 2 buddies, and we all loved them...  So im here to buy more, and noticed there were no reviews yet,...  well now there is.  They are Hot,  but not \"burn your mouth forever hot\"  its a nice temp...  Perfect for us.. 164\n",
      "==================================================\n",
      "This is a very good snack that I feel great about offering my 10 month old.  She can easily  pick up the small pieces and definitely enjoys the apple cinnamon taste.  My 5 year old loves them as well!  I would definitely recommend these to anyone with small (or larger) kids.  :)\n",
      "==================================================\n",
      "These spicy chips have a lot of great flavor but be warned, you will be left with some stanky breath afterwards! The first time I ate these was at night and then even after brushing and flossing I could taste them in my mouth the next morning. So just be careful about when you eat them, especially if you will be hanging out with people later in the day.\n",
      "==================================================\n",
      "These tablets definitely made things sweeter -- like lemons, limes, and grapefruit.  But it wasn't to the point of sheer amazement.  They also had an interesting effect on cheeses and vinegar, but still did virtually nothing for beer and wine. The tablets are a bit pricey but they do work.  If you've got extra money, sure, give them a try, but if you're looking for some amazing way to get your kids to eat broccoli or something along those lines then this is not the answer. Fun experiment, but not life-changing. :)\n"
     ]
    }
   ],
   "source": [
    "# https://stackoverflow.com/questions/16206380/python-beautifulsoup-how-to-remove-all-tags-from-an-element\n",
    "from bs4 import BeautifulSoup\n",
    "\n",
    "soup = BeautifulSoup(sent_0, 'lxml')\n",
    "text = soup.get_text()\n",
    "print(text)\n",
    "print(\"=\"*50)\n",
    "\n",
    "soup = BeautifulSoup(sent_1000, 'lxml')\n",
    "text = soup.get_text()\n",
    "print(text)\n",
    "print(\"=\"*50)\n",
    "\n",
    "soup = BeautifulSoup(sent_1500, 'lxml')\n",
    "text = soup.get_text()\n",
    "print(text)\n",
    "print(\"=\"*50)\n",
    "\n",
    "soup = BeautifulSoup(sent_4900, 'lxml')\n",
    "text = soup.get_text()\n",
    "print(text)"
   ]
  },
  {
   "cell_type": "code",
   "execution_count": 17,
   "metadata": {
    "colab": {},
    "colab_type": "code",
    "id": "BEtpMkhULPnt"
   },
   "outputs": [],
   "source": [
    "# https://stackoverflow.com/a/47091490/4084039\n",
    "import re\n",
    "\n",
    "def decontracted(phrase):\n",
    "    # specific\n",
    "    phrase = re.sub(r\"won't\", \"will not\", phrase)\n",
    "    phrase = re.sub(r\"can\\'t\", \"can not\", phrase)\n",
    "\n",
    "    # general\n",
    "    phrase = re.sub(r\"n\\'t\", \" not\", phrase)\n",
    "    phrase = re.sub(r\"\\'re\", \" are\", phrase)\n",
    "    phrase = re.sub(r\"\\'s\", \" is\", phrase)\n",
    "    phrase = re.sub(r\"\\'d\", \" would\", phrase)\n",
    "    phrase = re.sub(r\"\\'ll\", \" will\", phrase)\n",
    "    phrase = re.sub(r\"\\'t\", \" not\", phrase)\n",
    "    phrase = re.sub(r\"\\'ve\", \" have\", phrase)\n",
    "    phrase = re.sub(r\"\\'m\", \" am\", phrase)\n",
    "    return phrase"
   ]
  },
  {
   "cell_type": "code",
   "execution_count": 18,
   "metadata": {
    "colab": {},
    "colab_type": "code",
    "id": "GavAnzNjLPnx",
    "outputId": "517fca9a-b1b6-4c6c-ab33-4c5ac4a5bd62"
   },
   "outputs": [
    {
     "name": "stdout",
     "output_type": "stream",
     "text": [
      "These spicy chips have a lot of great flavor but be warned, you will be left with some stanky breath afterwards! The first time I ate these was at night and then even after brushing and flossing I could taste them in my mouth the next morning. So just be careful about when you eat them, especially if you will be hanging out with people later in the day.\n",
      "==================================================\n"
     ]
    }
   ],
   "source": [
    "sent_1500 = decontracted(sent_1500)\n",
    "print(sent_1500)\n",
    "print(\"=\"*50)"
   ]
  },
  {
   "cell_type": "code",
   "execution_count": 19,
   "metadata": {
    "colab": {},
    "colab_type": "code",
    "id": "Kl8nOoL-LPn3",
    "outputId": "16742d57-2529-4fc0-9d28-e9332dbbca97"
   },
   "outputs": [
    {
     "name": "stdout",
     "output_type": "stream",
     "text": [
      "a free package of these with a bottle of bloody mary mix I bought from the seller, and the advertising worked..lol,  I tried them, and shared them with  buddies, and we all loved them...  So im here to buy more, and noticed there were no reviews yet,...  well now there is.  They are Hot,  but not \"burn your mouth forever hot\"  its a nice temp...  Perfect for us..\n"
     ]
    }
   ],
   "source": [
    "#remove words with numbers python: https://stackoverflow.com/a/18082370/4084039\n",
    "sent_0 = re.sub(\"\\S*\\d\\S*\", \"\", sent_0).strip()\n",
    "print(sent_0)"
   ]
  },
  {
   "cell_type": "code",
   "execution_count": 20,
   "metadata": {
    "colab": {},
    "colab_type": "code",
    "id": "EGB6X2uxLPn7",
    "outputId": "dbd754e5-eb73-4b3a-f3c3-7b1b40952851"
   },
   "outputs": [
    {
     "name": "stdout",
     "output_type": "stream",
     "text": [
      "These spicy chips have a lot of great flavor but be warned you will be left with some stanky breath afterwards The first time I ate these was at night and then even after brushing and flossing I could taste them in my mouth the next morning So just be careful about when you eat them especially if you will be hanging out with people later in the day \n"
     ]
    }
   ],
   "source": [
    "#remove spacial character: https://stackoverflow.com/a/5843547/4084039\n",
    "sent_1500 = re.sub('[^A-Za-z0-9]+', ' ', sent_1500)\n",
    "print(sent_1500)"
   ]
  },
  {
   "cell_type": "code",
   "execution_count": 21,
   "metadata": {
    "colab": {},
    "colab_type": "code",
    "id": "CCurSJJ2LPn_"
   },
   "outputs": [],
   "source": [
    "# https://gist.github.com/sebleier/554280\n",
    "# we are removing the words from the stop words list: 'no', 'nor', 'not'\n",
    "# <br /><br /> ==> after the above steps, we are getting \"br br\"\n",
    "# we are including them into stop words list\n",
    "# instead of <br /> if we have <br/> these tags would have revmoved in the 1st step\n",
    "\n",
    "stopwords= set(['br', 'the', 'i', 'me', 'my', 'myself', 'we', 'our', 'ours', 'ourselves', 'you', \"you're\", \"you've\",\\\n",
    "            \"you'll\", \"you'd\", 'your', 'yours', 'yourself', 'yourselves', 'he', 'him', 'his', 'himself', \\\n",
    "            'she', \"she's\", 'her', 'hers', 'herself', 'it', \"it's\", 'its', 'itself', 'they', 'them', 'their',\\\n",
    "            'theirs', 'themselves', 'what', 'which', 'who', 'whom', 'this', 'that', \"that'll\", 'these', 'those', \\\n",
    "            'am', 'is', 'are', 'was', 'were', 'be', 'been', 'being', 'have', 'has', 'had', 'having', 'do', 'does', \\\n",
    "            'did', 'doing', 'a', 'an', 'the', 'and', 'but', 'if', 'or', 'because', 'as', 'until', 'while', 'of', \\\n",
    "            'at', 'by', 'for', 'with', 'about', 'against', 'between', 'into', 'through', 'during', 'before', 'after',\\\n",
    "            'above', 'below', 'to', 'from', 'up', 'down', 'in', 'out', 'on', 'off', 'over', 'under', 'again', 'further',\\\n",
    "            'then', 'once', 'here', 'there', 'when', 'where', 'why', 'how', 'all', 'any', 'both', 'each', 'few', 'more',\\\n",
    "            'most', 'other', 'some', 'such', 'only', 'own', 'same', 'so', 'than', 'too', 'very', \\\n",
    "            's', 't', 'can', 'will', 'just', 'don', \"don't\", 'should', \"should've\", 'now', 'd', 'll', 'm', 'o', 're', \\\n",
    "            've', 'y', 'ain', 'aren', \"aren't\", 'couldn', \"couldn't\", 'didn', \"didn't\", 'doesn', \"doesn't\", 'hadn',\\\n",
    "            \"hadn't\", 'hasn', \"hasn't\", 'haven', \"haven't\", 'isn', \"isn't\", 'ma', 'mightn', \"mightn't\", 'mustn',\\\n",
    "            \"mustn't\", 'needn', \"needn't\", 'shan', \"shan't\", 'shouldn', \"shouldn't\", 'wasn', \"wasn't\", 'weren', \"weren't\", \\\n",
    "            'won', \"won't\", 'wouldn', \"wouldn't\"])"
   ]
  },
  {
   "cell_type": "code",
   "execution_count": 22,
   "metadata": {
    "colab": {},
    "colab_type": "code",
    "id": "mFHQEvfnLPoF",
    "outputId": "5cd6bcc3-54fe-4a8e-a39d-d6dabf3f37f9"
   },
   "outputs": [
    {
     "name": "stderr",
     "output_type": "stream",
     "text": [
      "100%|████████████████████████████████████████████████████████████████████████████| 9564/9564 [00:02<00:00, 3198.82it/s]\n"
     ]
    }
   ],
   "source": [
    "# Combining all the above stundents \n",
    "from tqdm import tqdm\n",
    "preprocessed_reviews = []\n",
    "# tqdm is for printing the status bar\n",
    "for sentance in tqdm(final['Text'].values):\n",
    "    sentance = re.sub(r\"http\\S+\", \"\", sentance)\n",
    "    sentance = BeautifulSoup(sentance, 'lxml').get_text()\n",
    "    sentance = decontracted(sentance)\n",
    "    sentance = re.sub(\"\\S*\\d\\S*\", \"\", sentance).strip()\n",
    "    sentance = re.sub('[^A-Za-z]+', ' ', sentance)\n",
    "    # https://gist.github.com/sebleier/554280\n",
    "    sentance = ' '.join(e.lower() for e in sentance.split() if e.lower() not in stopwords)\n",
    "    preprocessed_reviews.append(sentance.strip())"
   ]
  },
  {
   "cell_type": "code",
   "execution_count": 23,
   "metadata": {
    "colab": {},
    "colab_type": "code",
    "id": "Tqx8QUeRLPoH",
    "outputId": "0182081c-6282-4113-b186-5b5bac596388"
   },
   "outputs": [
    {
     "data": {
      "text/plain": [
       "'spicy chips lot great flavor warned left stanky breath afterwards first time ate night even brushing flossing could taste mouth next morning careful eat especially hanging people later day'"
      ]
     },
     "execution_count": 23,
     "metadata": {},
     "output_type": "execute_result"
    }
   ],
   "source": [
    "preprocessed_reviews[1500]"
   ]
  },
  {
   "cell_type": "markdown",
   "metadata": {},
   "source": [
    "### Preparing data for models"
   ]
  },
  {
   "cell_type": "code",
   "execution_count": 24,
   "metadata": {},
   "outputs": [
    {
     "data": {
      "text/plain": [
       "Index(['Id', 'ProductId', 'UserId', 'ProfileName', 'HelpfulnessNumerator',\n",
       "       'HelpfulnessDenominator', 'Score', 'Time', 'Summary', 'Text'],\n",
       "      dtype='object')"
      ]
     },
     "execution_count": 24,
     "metadata": {},
     "output_type": "execute_result"
    }
   ],
   "source": [
    "final.columns"
   ]
  },
  {
   "cell_type": "code",
   "execution_count": 25,
   "metadata": {},
   "outputs": [
    {
     "data": {
      "text/plain": [
       "Index(['Id', 'ProductId', 'UserId', 'ProfileName', 'HelpfulnessNumerator',\n",
       "       'HelpfulnessDenominator', 'Score', 'Time', 'Summary', 'Text',\n",
       "       'preprocessed_reviews'],\n",
       "      dtype='object')"
      ]
     },
     "execution_count": 25,
     "metadata": {},
     "output_type": "execute_result"
    }
   ],
   "source": [
    "final['preprocessed_reviews']=preprocessed_reviews\n",
    "final.columns"
   ]
  },
  {
   "cell_type": "code",
   "execution_count": 26,
   "metadata": {},
   "outputs": [
    {
     "name": "stdout",
     "output_type": "stream",
     "text": [
      "(9564, 11)\n"
     ]
    }
   ],
   "source": [
    "final_sorted_data=final.sort_values(by='Time')\n",
    "print(final_sorted_data.shape)"
   ]
  },
  {
   "cell_type": "markdown",
   "metadata": {
    "colab_type": "text",
    "id": "B93jqKuhLPoQ"
   },
   "source": [
    "# [4] Featurization"
   ]
  },
  {
   "cell_type": "markdown",
   "metadata": {
    "colab_type": "text",
    "id": "Mr4j2QhgLPoQ"
   },
   "source": [
    "## [4.1] BAG OF WORDS"
   ]
  },
  {
   "cell_type": "code",
   "execution_count": 27,
   "metadata": {
    "colab": {},
    "colab_type": "code",
    "id": "dZVHt3mtLPoR",
    "outputId": "ea1629cd-7c92-400e-9acd-f7caeef0f389"
   },
   "outputs": [
    {
     "name": "stdout",
     "output_type": "stream",
     "text": [
      "some feature names  ['aa', 'aaaa', 'aahhhs', 'ab', 'aback', 'abandon', 'abates', 'abberline', 'abbott', 'abby']\n",
      "==================================================\n",
      "the type of count vectorizer  <class 'scipy.sparse.csr.csr_matrix'>\n",
      "the shape of out text BOW vectorizer  (9564, 18244)\n",
      "the number of unique words  18244\n"
     ]
    }
   ],
   "source": [
    "#BoW\n",
    "count_vect = CountVectorizer() #in scikit-learn\n",
    "count_vect.fit(preprocessed_reviews)\n",
    "print(\"some feature names \", count_vect.get_feature_names()[:10])\n",
    "print('='*50)\n",
    "\n",
    "final_counts = count_vect.transform(preprocessed_reviews)\n",
    "print(\"the type of count vectorizer \",type(final_counts))\n",
    "print(\"the shape of out text BOW vectorizer \",final_counts.get_shape())\n",
    "print(\"the number of unique words \", final_counts.get_shape()[1])"
   ]
  },
  {
   "cell_type": "markdown",
   "metadata": {
    "colab_type": "text",
    "id": "tSf5kRdLLPoV"
   },
   "source": [
    "## [4.2] Bi-Grams and n-Grams."
   ]
  },
  {
   "cell_type": "code",
   "execution_count": 28,
   "metadata": {
    "colab": {},
    "colab_type": "code",
    "id": "Yfk2d7bLLPoW",
    "outputId": "33472132-5eb3-493f-b08c-081749f99239"
   },
   "outputs": [
    {
     "name": "stdout",
     "output_type": "stream",
     "text": [
      "the type of count vectorizer  <class 'scipy.sparse.csr.csr_matrix'>\n",
      "the shape of out text BOW vectorizer  (9564, 5000)\n",
      "the number of unique words including both unigrams and bigrams  5000\n"
     ]
    }
   ],
   "source": [
    "#bi-gram, tri-gram and n-gram\n",
    "\n",
    "#removing stop words like \"not\" should be avoided before building n-grams\n",
    "# count_vect = CountVectorizer(ngram_range=(1,2))\n",
    "# please do read the CountVectorizer documentation http://scikit-learn.org/stable/modules/generated/sklearn.feature_extraction.text.CountVectorizer.html\n",
    "\n",
    "# you can choose these numebrs min_df=10, max_features=5000, of your choice\n",
    "count_vect = CountVectorizer(ngram_range=(1,2), min_df=10, max_features=5000)\n",
    "final_bigram_counts = count_vect.fit_transform(preprocessed_reviews)\n",
    "print(\"the type of count vectorizer \",type(final_bigram_counts))\n",
    "print(\"the shape of out text BOW vectorizer \",final_bigram_counts.get_shape())\n",
    "print(\"the number of unique words including both unigrams and bigrams \", final_bigram_counts.get_shape()[1])"
   ]
  },
  {
   "cell_type": "markdown",
   "metadata": {
    "colab_type": "text",
    "id": "-cEEpDx0LPoZ"
   },
   "source": [
    "## [4.3] TF-IDF"
   ]
  },
  {
   "cell_type": "code",
   "execution_count": 29,
   "metadata": {
    "colab": {},
    "colab_type": "code",
    "id": "TgP61HqBLPoa",
    "outputId": "15f1c123-d93b-414d-914b-d4e3f32a6ac1"
   },
   "outputs": [
    {
     "name": "stdout",
     "output_type": "stream",
     "text": [
      "some sample features(unique words in the corpus) ['ability', 'able', 'able buy', 'able eat', 'able find', 'able get', 'able order', 'able use', 'absolute', 'absolute best']\n",
      "==================================================\n",
      "the type of count vectorizer  <class 'scipy.sparse.csr.csr_matrix'>\n",
      "the shape of out text TFIDF vectorizer  (9564, 5765)\n",
      "the number of unique words including both unigrams and bigrams  5765\n"
     ]
    }
   ],
   "source": [
    "tf_idf_vect = TfidfVectorizer(ngram_range=(1,2), min_df=10)\n",
    "tf_idf_vect.fit(preprocessed_reviews)\n",
    "print(\"some sample features(unique words in the corpus)\",tf_idf_vect.get_feature_names()[0:10])\n",
    "print('='*50)\n",
    "\n",
    "final_tf_idf = tf_idf_vect.transform(preprocessed_reviews)\n",
    "print(\"the type of count vectorizer \",type(final_tf_idf))\n",
    "print(\"the shape of out text TFIDF vectorizer \",final_tf_idf.get_shape())\n",
    "print(\"the number of unique words including both unigrams and bigrams \", final_tf_idf.get_shape()[1])"
   ]
  },
  {
   "cell_type": "markdown",
   "metadata": {
    "colab_type": "text",
    "id": "m3YEHTLPLPod"
   },
   "source": [
    "## [4.4] Word2Vec"
   ]
  },
  {
   "cell_type": "code",
   "execution_count": 30,
   "metadata": {
    "colab": {},
    "colab_type": "code",
    "id": "zwPZCf8cLPoe"
   },
   "outputs": [],
   "source": [
    "# Train your own Word2Vec model using your own text corpus\n",
    "i=0\n",
    "list_of_sentance=[]\n",
    "for sentance in preprocessed_reviews:\n",
    "    list_of_sentance.append(sentance.split())"
   ]
  },
  {
   "cell_type": "code",
   "execution_count": 31,
   "metadata": {
    "colab": {},
    "colab_type": "code",
    "id": "8ddGZNUfLPog",
    "outputId": "390d4ccb-cda2-4391-83e9-0e502b578171",
    "scrolled": true
   },
   "outputs": [
    {
     "name": "stdout",
     "output_type": "stream",
     "text": [
      "[('excellent', 0.9441092014312744), ('looking', 0.941399097442627), ('think', 0.938891589641571), ('way', 0.9208793044090271), ('still', 0.9206164479255676), ('overall', 0.9201458096504211), ('alternative', 0.9186702370643616), ('bad', 0.9180050492286682), ('good', 0.9169442057609558), ('though', 0.9148377776145935)]\n",
      "==================================================\n",
      "[('amongst', 0.9988275766372681), ('kcups', 0.9987574815750122), ('peaberry', 0.9987363815307617), ('britt', 0.9987074136734009), ('tassimo', 0.998699963092804), ('sweetest', 0.9986850619316101), ('hawaiian', 0.9986513257026672), ('italian', 0.9986369013786316), ('dunkin', 0.998594343662262), ('jamaica', 0.9985609650611877)]\n"
     ]
    }
   ],
   "source": [
    "# Using Google News Word2Vectors\n",
    "\n",
    "# in this project we are using a pretrained model by google\n",
    "# its 3.3G file, once you load this into your memory \n",
    "# it occupies ~9Gb, so please do this step only if you have >12G of ram\n",
    "# we will provide a pickle file wich contains a dict , \n",
    "# and it contains all our courpus words as keys and  model[word] as values\n",
    "# To use this code-snippet, download \"GoogleNews-vectors-negative300.bin\" \n",
    "# from https://drive.google.com/file/d/0B7XkCwpI5KDYNlNUTTlSS21pQmM/edit\n",
    "# it's 1.9GB in size.\n",
    "\n",
    "\n",
    "# http://kavita-ganesan.com/gensim-word2vec-tutorial-starter-code/#.W17SRFAzZPY\n",
    "# you can comment this whole cell\n",
    "# or change these varible according to your need\n",
    "\n",
    "is_your_ram_gt_16g=False\n",
    "want_to_use_google_w2v = False\n",
    "want_to_train_w2v = True\n",
    "\n",
    "if want_to_train_w2v:\n",
    "    # min_count = 5 considers only words that occured atleast 5 times\n",
    "    w2v_model=Word2Vec(list_of_sentance,min_count=5,size=2562, workers=4)\n",
    "    print(w2v_model.wv.most_similar('great'))\n",
    "    print('='*50)\n",
    "    print(w2v_model.wv.most_similar('worst'))\n",
    "    \n",
    "elif want_to_use_google_w2v and is_your_ram_gt_16g:\n",
    "    if os.path.isfile('GoogleNews-vectors-negative300.bin'):\n",
    "        w2v_model=KeyedVectors.load_word2vec_format('GoogleNews-vectors-negative300.bin', binary=True)\n",
    "        print(w2v_model.wv.most_similar('great'))\n",
    "        print(w2v_model.wv.most_similar('worst'))\n",
    "    else:\n",
    "        print(\"you don't have gogole's word2vec file, keep want_to_train_w2v = True, to train your own w2v \")"
   ]
  },
  {
   "cell_type": "code",
   "execution_count": 32,
   "metadata": {
    "colab": {},
    "colab_type": "code",
    "id": "bRWXmmnWLPoo",
    "outputId": "1cc345e7-d991-49b8-f1b7-a0d81f0b97e6"
   },
   "outputs": [
    {
     "name": "stdout",
     "output_type": "stream",
     "text": [
      "number of words that occured minimum 5 times  5652\n",
      "sample words  ['free', 'package', 'bottle', 'bloody', 'mary', 'mix', 'bought', 'seller', 'advertising', 'worked', 'lol', 'tried', 'shared', 'buddies', 'loved', 'im', 'buy', 'noticed', 'no', 'reviews', 'yet', 'well', 'hot', 'not', 'burn', 'mouth', 'forever', 'nice', 'temp', 'perfect', 'us', 'used', 'fly', 'bait', 'seasons', 'ca', 'beat', 'great', 'product', 'available', 'traps', 'course', 'total', 'pretty', 'stinky', 'right', 'nearby', 'received', 'shipment', 'could']\n"
     ]
    }
   ],
   "source": [
    "w2v_words = list(w2v_model.wv.vocab)\n",
    "print(\"number of words that occured minimum 5 times \",len(w2v_words))\n",
    "print(\"sample words \", w2v_words[0:50])"
   ]
  },
  {
   "cell_type": "markdown",
   "metadata": {
    "colab_type": "text",
    "id": "TtWqibqfLPos"
   },
   "source": [
    "## [4.4.1] Converting text into vectors using Avg W2V, TFIDF-W2V"
   ]
  },
  {
   "cell_type": "markdown",
   "metadata": {
    "colab_type": "text",
    "id": "JriP5nZCLPot"
   },
   "source": [
    "#### [4.4.1.1] Avg W2v"
   ]
  },
  {
   "cell_type": "code",
   "execution_count": 33,
   "metadata": {
    "colab": {},
    "colab_type": "code",
    "id": "UnXI9NHTLPot",
    "outputId": "ecbe8256-9718-4bad-de33-e5ce1ee69038"
   },
   "outputs": [
    {
     "name": "stderr",
     "output_type": "stream",
     "text": [
      "100%|█████████████████████████████████████████████████████████████████████████████| 9564/9564 [00:12<00:00, 774.58it/s]"
     ]
    },
    {
     "name": "stdout",
     "output_type": "stream",
     "text": [
      "9564\n",
      "2562\n"
     ]
    },
    {
     "name": "stderr",
     "output_type": "stream",
     "text": [
      "\n"
     ]
    }
   ],
   "source": [
    "# average Word2Vec\n",
    "# compute average word2vec for each review.\n",
    "sent_vectors = []; # the avg-w2v for each sentence/review is stored in this list\n",
    "for sent in tqdm(list_of_sentance): # for each review/sentence\n",
    "    sent_vec = np.zeros(2562) # as word vectors are of zero length 50, you might need to change this to 300 if you use google's w2v\n",
    "    cnt_words =0; # num of words with a valid vector in the sentence/review\n",
    "    for word in sent: # for each word in a review/sentence\n",
    "        if word in w2v_words:\n",
    "            vec = w2v_model.wv[word]\n",
    "            sent_vec += vec\n",
    "            cnt_words += 1\n",
    "    if cnt_words != 0:\n",
    "        sent_vec /= cnt_words\n",
    "    sent_vectors.append(sent_vec)\n",
    "print(len(sent_vectors))\n",
    "print(len(sent_vectors[0]))"
   ]
  },
  {
   "cell_type": "markdown",
   "metadata": {
    "colab_type": "text",
    "id": "2sHfb529LPow"
   },
   "source": [
    "#### [4.4.1.2] TFIDF weighted W2v"
   ]
  },
  {
   "cell_type": "code",
   "execution_count": 34,
   "metadata": {
    "colab": {},
    "colab_type": "code",
    "id": "sb_wDjAqLPow"
   },
   "outputs": [],
   "source": [
    "# S = [\"abc def pqr\", \"def def def abc\", \"pqr pqr def\"]\n",
    "model = TfidfVectorizer()\n",
    "tf_idf_matrix = model.fit_transform(preprocessed_reviews)\n",
    "# we are converting a dictionary with word as a key, and the idf as a value\n",
    "dictionary = dict(zip(model.get_feature_names(), list(model.idf_)))"
   ]
  },
  {
   "cell_type": "code",
   "execution_count": 35,
   "metadata": {
    "colab": {},
    "colab_type": "code",
    "id": "3VrUzqx7LPoy",
    "outputId": "8480d5da-7b1d-4bbe-a4c9-fe0a5800b5d0",
    "scrolled": true
   },
   "outputs": [
    {
     "name": "stderr",
     "output_type": "stream",
     "text": [
      "100%|█████████████████████████████████████████████████████████████████████████████| 9564/9564 [01:13<00:00, 129.51it/s]\n"
     ]
    }
   ],
   "source": [
    "# TF-IDF weighted Word2Vec\n",
    "tfidf_feat = model.get_feature_names() # tfidf words/col-names\n",
    "# final_tf_idf is the sparse matrix with row= sentence, col=word and cell_val = tfidf\n",
    "\n",
    "tfidf_sent_vectors = []; # the tfidf-w2v for each sentence/review is stored in this list\n",
    "row=0;\n",
    "for sent in tqdm(list_of_sentance): # for each review/sentence \n",
    "    sent_vec = np.zeros(2562) # as word vectors are of zero length\n",
    "    weight_sum =0; # num of words with a valid vector in the sentence/review\n",
    "    for word in sent: # for each word in a review/sentence\n",
    "        if word in w2v_words and word in tfidf_feat:\n",
    "            vec = w2v_model.wv[word]\n",
    "#             tf_idf = tf_idf_matrix[row, tfidf_feat.index(word)]\n",
    "            # to reduce the computation we are \n",
    "            # dictionary[word] = idf value of word in whole courpus\n",
    "            # sent.count(word) = tf valeus of word in this review\n",
    "            tf_idf = dictionary[word]*(sent.count(word)/len(sent))\n",
    "            sent_vec += (vec * tf_idf)\n",
    "            weight_sum += tf_idf\n",
    "    if weight_sum != 0:\n",
    "        sent_vec /= weight_sum\n",
    "    tfidf_sent_vectors.append(sent_vec)\n",
    "    row += 1"
   ]
  },
  {
   "cell_type": "markdown",
   "metadata": {
    "colab_type": "text",
    "id": "Kxx72u1hLPo1"
   },
   "source": [
    "# [5] Assignment 5: Apply Logistic Regression"
   ]
  },
  {
   "cell_type": "markdown",
   "metadata": {
    "colab_type": "text",
    "id": "KDR9We0oLPo2"
   },
   "source": [
    "<ol>\n",
    "    <li><strong>Apply Logistic Regression on these feature sets</strong>\n",
    "        <ul>\n",
    "            <li><font color='red'>SET 1:</font>Review text, preprocessed one converted into vectors using (BOW)</li>\n",
    "            <li><font color='red'>SET 2:</font>Review text, preprocessed one converted into vectors using (TFIDF)</li>\n",
    "            <li><font color='red'>SET 3:</font>Review text, preprocessed one converted into vectors using (AVG W2v)</li>\n",
    "            <li><font color='red'>SET 4:</font>Review text, preprocessed one converted into vectors using (TFIDF W2v)</li>\n",
    "        </ul>\n",
    "    </li>\n",
    "    <br>\n",
    "    <li><strong>Hyper paramter tuning (find best hyper parameters corresponding the algorithm that you choose)</strong>\n",
    "        <ul>\n",
    "    <li>Find the best hyper parameter which will give the maximum <a href='https://www.appliedaicourse.com/course/applied-ai-course-online/lessons/receiver-operating-characteristic-curve-roc-curve-and-auc-1/'>AUC</a> value</li>\n",
    "    <li>Find the best hyper paramter using k-fold cross validation or simple cross validation data</li>\n",
    "    <li>Use gridsearch cv or randomsearch cv or you can also write your own for loops to do this task of hyperparameter tuning</li>          \n",
    "        </ul>\n",
    "    </li>\n",
    "    <br>\n",
    "    <li><strong>Pertubation Test</strong>\n",
    "        <ul>\n",
    "    <li>Get the weights W after fit your model with the data X i.e Train data.</li>\n",
    "    <li>Add a noise to the X (X' = X + e) and get the new data set X' (if X is a sparse\n",
    "matrix, X.data+=e)</li>\n",
    "    <li>Fit the model again on data X' and get the weights W'</li>\n",
    "    <li>Add a small eps value(to eliminate the divisible by zero error) to W and W’ i.e\n",
    "W=W+10^-6 and W’ = W’+10^-6</li>\n",
    "    <li>Now find the % change between W and W' (| (W-W') / (W) |)*100)</li>\n",
    "    <li>Calculate the 0th, 10th, 20th, 30th, ...100th percentiles, and observe any sudden rise in the values of percentage_change_vector</li>\n",
    "    <li> Ex: consider your 99th percentile is 1.3 and your 100th percentiles are 34.6, there is sudden rise from 1.3 to 34.6, now calculate the 99.1, 99.2, 99.3,..., 100th percentile values and get the proper value after which there is sudden rise the values, assume it is 2.5</li>\n",
    "            <li> Print the feature names whose % change is more than a threshold x(in our example it's 2.5)</li>\n",
    "        </ul>\n",
    "    </li>\n",
    "    <br>\n",
    "    <li><strong>Sparsity</strong>\n",
    "        <ul>\n",
    "    <li>Calculate sparsity on weight vector obtained after using L1 regularization</li>\n",
    "        </ul>\n",
    "    </li>\n",
    "    <br><font color='red'>NOTE: Do sparsity and multicollinearity for any one of the vectorizers. Bow or tf-idf is recommended.</font>\n",
    "    <br>\n",
    "    <br>\n",
    "    <li><strong>Feature importance</strong>\n",
    "        <ul>\n",
    "    <li>Get top 10 important features for both positive and negative classes separately.</li>\n",
    "        </ul>\n",
    "    </li>\n",
    "    <br>\n",
    "    <li><strong>Feature engineering</strong>\n",
    "        <ul>\n",
    "    <li>To increase the performance of your model, you can also experiment with with feature engineering like :</li>\n",
    "            <ul>\n",
    "            <li>Taking length of reviews as another feature.</li>\n",
    "            <li>Considering some features from review summary as well.</li>\n",
    "        </ul>\n",
    "        </ul>\n",
    "    </li>\n",
    "    <br>\n",
    "    <li><strong>Representation of results</strong>\n",
    "        <ul>\n",
    "    <li>You need to plot the performance of model both on train data and cross validation data for each hyper parameter, like shown in the figure.\n",
    "    <img src='train_cv_auc.JPG' width=300px></li>\n",
    "    <li>Once after you found the best hyper parameter, you need to train your model with it, and find the AUC on test data and plot the ROC curve on both train and test.\n",
    "    <img src='train_test_auc.JPG' width=300px></li>\n",
    "    <li>Along with plotting ROC curve, you need to print the <a href='https://www.appliedaicourse.com/course/applied-ai-course-online/lessons/confusion-matrix-tpr-fpr-fnr-tnr-1/'>confusion matrix</a> with predicted and original labels of test data points. Please visualize your confusion matrices using <a href='https://seaborn.pydata.org/generated/seaborn.heatmap.html'>seaborn heatmaps.\n",
    "    <img src='confusion_matrix.png' width=300px></li>\n",
    "        </ul>\n",
    "    </li>\n",
    "    <br>\n",
    "    <li><strong>Conclusion</strong>\n",
    "        <ul>\n",
    "    <li>You need to summarize the results at the end of the notebook, summarize it in the table format. To print out a table please refer to this prettytable library<a href='http://zetcode.com/python/prettytable/'>  link</a> \n",
    "        <img src='summary.JPG' width=400px>\n",
    "    </li>\n",
    "        </ul>\n",
    "</ol>"
   ]
  },
  {
   "cell_type": "markdown",
   "metadata": {
    "colab_type": "text",
    "id": "gilb-DOVLPo2"
   },
   "source": [
    "<h4><font color='red'>Note: Data Leakage</font></h4>\n",
    "\n",
    "1. There will be an issue of data-leakage if you vectorize the entire data and then split it into train/cv/test.\n",
    "2. To avoid the issue of data-leakag, make sure to split your data first and then vectorize it. \n",
    "3. While vectorizing your data, apply the method fit_transform() on you train data, and apply the method transform() on cv/test data.\n",
    "4. For more details please go through this <a href='https://soundcloud.com/applied-ai-course/leakage-bow-and-tfidf'>link.</a>"
   ]
  },
  {
   "cell_type": "markdown",
   "metadata": {
    "colab_type": "text",
    "id": "jiYocvSHLPo4"
   },
   "source": [
    "# Applying Logistic Regression"
   ]
  },
  {
   "cell_type": "markdown",
   "metadata": {
    "colab_type": "text",
    "id": "LE_XPVZJLPo4"
   },
   "source": [
    "## [5.1] Logistic Regression on BOW,<font color='red'> SET 1</font>"
   ]
  },
  {
   "cell_type": "markdown",
   "metadata": {
    "colab_type": "text",
    "id": "_iciJvj2LPo4"
   },
   "source": [
    "### [5.1.1] Applying Logistic Regression with L1 regularization on BOW,<font color='red'> SET 1</font>"
   ]
  },
  {
   "cell_type": "code",
   "execution_count": 36,
   "metadata": {
    "colab": {},
    "colab_type": "code",
    "id": "MyOVi-xYLPo5"
   },
   "outputs": [
    {
     "name": "stdout",
     "output_type": "stream",
     "text": [
      "(9564, 11)\n",
      "<class 'pandas.core.frame.DataFrame'>\n"
     ]
    }
   ],
   "source": [
    "print(final_sorted_data.shape)\n",
    "print(type(final_sorted_data))"
   ]
  },
  {
   "cell_type": "code",
   "execution_count": 37,
   "metadata": {},
   "outputs": [],
   "source": [
    "X=final_sorted_data['preprocessed_reviews']\n",
    "Y=final_sorted_data['Score']"
   ]
  },
  {
   "cell_type": "markdown",
   "metadata": {},
   "source": [
    "### Splitting into train,cv and test sets"
   ]
  },
  {
   "cell_type": "code",
   "execution_count": 38,
   "metadata": {},
   "outputs": [
    {
     "name": "stdout",
     "output_type": "stream",
     "text": [
      "(9564,)\n",
      "(9564,)\n",
      "<class 'pandas.core.series.Series'>\n"
     ]
    }
   ],
   "source": [
    "print(X.shape)\n",
    "print(Y.shape)\n",
    "print(type(Y))"
   ]
  },
  {
   "cell_type": "code",
   "execution_count": 39,
   "metadata": {},
   "outputs": [
    {
     "name": "stdout",
     "output_type": "stream",
     "text": [
      "(6024,)\n",
      "(6024,)\n",
      "(2870,)\n",
      "(2870,)\n",
      "(670,)\n",
      "(670,)\n"
     ]
    }
   ],
   "source": [
    "from sklearn.model_selection import train_test_split\n",
    "x_train,x_test,y_train,y_test=train_test_split(X,Y,test_size=0.3,random_state=0)\n",
    "x_train,x_cv,y_train,y_cv=train_test_split(x_train,y_train,test_size=0.1,random_state=0)\n",
    "print(x_train.shape)\n",
    "print(y_train.shape)\n",
    "print(x_test.shape)\n",
    "print(y_test.shape)\n",
    "print(x_cv.shape)\n",
    "print(y_cv.shape)"
   ]
  },
  {
   "cell_type": "code",
   "execution_count": 40,
   "metadata": {},
   "outputs": [],
   "source": [
    "from sklearn.linear_model import LogisticRegression\n",
    "from sklearn.metrics import roc_auc_score"
   ]
  },
  {
   "cell_type": "code",
   "execution_count": 41,
   "metadata": {},
   "outputs": [],
   "source": [
    "from sklearn.feature_extraction.text import CountVectorizer\n",
    "vectorizer = CountVectorizer(min_df=10)\n",
    "def bow(data):\n",
    "    text_bow = vectorizer.transform(data)\n",
    "    return text_bow\n",
    "\n",
    "vectorizer.fit(x_train)\n",
    "x_train_bow=bow(x_train)\n",
    "x_test_bow=bow(x_test)\n",
    "x_cv_bow=bow(x_cv)\n",
    "bow_feature_name=vectorizer.get_feature_names()"
   ]
  },
  {
   "cell_type": "code",
   "execution_count": 42,
   "metadata": {},
   "outputs": [
    {
     "data": {
      "text/plain": [
       "['ability',\n",
       " 'able',\n",
       " 'absolute',\n",
       " 'absolutely',\n",
       " 'acacia',\n",
       " 'according',\n",
       " 'account',\n",
       " 'acerola',\n",
       " 'acid',\n",
       " 'acidic',\n",
       " 'acidity',\n",
       " 'acquired',\n",
       " 'across',\n",
       " 'active',\n",
       " 'actual',\n",
       " 'actually',\n",
       " 'add',\n",
       " 'added',\n",
       " 'addict',\n",
       " 'addicted',\n",
       " 'addicting',\n",
       " 'addictive',\n",
       " 'adding',\n",
       " 'addition',\n",
       " 'additional',\n",
       " 'additives',\n",
       " 'adds',\n",
       " 'adequate',\n",
       " 'admit',\n",
       " 'adopted',\n",
       " 'adore',\n",
       " 'adult',\n",
       " 'adults',\n",
       " 'advantage',\n",
       " 'advertised',\n",
       " 'advice',\n",
       " 'afford',\n",
       " 'affordable',\n",
       " 'afraid',\n",
       " 'afternoon',\n",
       " 'aftertaste',\n",
       " 'afterwards',\n",
       " 'agave',\n",
       " 'age',\n",
       " 'ages',\n",
       " 'ago',\n",
       " 'agree',\n",
       " 'ahead',\n",
       " 'aid',\n",
       " 'air',\n",
       " 'alcohol',\n",
       " 'allergic',\n",
       " 'allergies',\n",
       " 'allergy',\n",
       " 'allow',\n",
       " 'allowed',\n",
       " 'allowing',\n",
       " 'allows',\n",
       " 'almond',\n",
       " 'almonds',\n",
       " 'almost',\n",
       " 'alone',\n",
       " 'along',\n",
       " 'alot',\n",
       " 'already',\n",
       " 'also',\n",
       " 'alternative',\n",
       " 'alternatives',\n",
       " 'although',\n",
       " 'aluminum',\n",
       " 'always',\n",
       " 'amazed',\n",
       " 'amazing',\n",
       " 'amazingly',\n",
       " 'amazon',\n",
       " 'america',\n",
       " 'american',\n",
       " 'among',\n",
       " 'amount',\n",
       " 'amounts',\n",
       " 'animal',\n",
       " 'animals',\n",
       " 'annie',\n",
       " 'annoying',\n",
       " 'another',\n",
       " 'answer',\n",
       " 'antioxidants',\n",
       " 'anymore',\n",
       " 'anyone',\n",
       " 'anything',\n",
       " 'anytime',\n",
       " 'anyway',\n",
       " 'anywhere',\n",
       " 'apart',\n",
       " 'apparently',\n",
       " 'appeal',\n",
       " 'appealing',\n",
       " 'appear',\n",
       " 'appears',\n",
       " 'apple',\n",
       " 'apples',\n",
       " 'appreciate',\n",
       " 'approximately',\n",
       " 'area',\n",
       " 'aroma',\n",
       " 'aromatic',\n",
       " 'around',\n",
       " 'arrive',\n",
       " 'arrived',\n",
       " 'arrives',\n",
       " 'artificial',\n",
       " 'asian',\n",
       " 'aside',\n",
       " 'ask',\n",
       " 'asked',\n",
       " 'asking',\n",
       " 'assorted',\n",
       " 'assortment',\n",
       " 'assume',\n",
       " 'assuming',\n",
       " 'ate',\n",
       " 'attempt',\n",
       " 'attention',\n",
       " 'attractive',\n",
       " 'audio',\n",
       " 'authentic',\n",
       " 'auto',\n",
       " 'automatic',\n",
       " 'available',\n",
       " 'average',\n",
       " 'avoid',\n",
       " 'awake',\n",
       " 'aware',\n",
       " 'away',\n",
       " 'awesome',\n",
       " 'awful',\n",
       " 'awhile',\n",
       " 'babies',\n",
       " 'baby',\n",
       " 'back',\n",
       " 'bacon',\n",
       " 'bad',\n",
       " 'bag',\n",
       " 'bags',\n",
       " 'bake',\n",
       " 'baked',\n",
       " 'baking',\n",
       " 'balance',\n",
       " 'balanced',\n",
       " 'ball',\n",
       " 'balls',\n",
       " 'banana',\n",
       " 'bananas',\n",
       " 'bar',\n",
       " 'barbecue',\n",
       " 'barbeque',\n",
       " 'barely',\n",
       " 'bargain',\n",
       " 'barley',\n",
       " 'bars',\n",
       " 'base',\n",
       " 'based',\n",
       " 'basic',\n",
       " 'basically',\n",
       " 'basil',\n",
       " 'basis',\n",
       " 'basket',\n",
       " 'batch',\n",
       " 'batches',\n",
       " 'batter',\n",
       " 'bbq',\n",
       " 'bean',\n",
       " 'beans',\n",
       " 'bear',\n",
       " 'bears',\n",
       " 'beat',\n",
       " 'beats',\n",
       " 'beautiful',\n",
       " 'beautifully',\n",
       " 'became',\n",
       " 'become',\n",
       " 'becomes',\n",
       " 'becoming',\n",
       " 'bed',\n",
       " 'beef',\n",
       " 'beer',\n",
       " 'began',\n",
       " 'begin',\n",
       " 'beginning',\n",
       " 'behind',\n",
       " 'belgian',\n",
       " 'believe',\n",
       " 'belly',\n",
       " 'benefit',\n",
       " 'benefits',\n",
       " 'berries',\n",
       " 'berry',\n",
       " 'besides',\n",
       " 'best',\n",
       " 'bet',\n",
       " 'better',\n",
       " 'betty',\n",
       " 'beverage',\n",
       " 'beverages',\n",
       " 'beware',\n",
       " 'beyond',\n",
       " 'big',\n",
       " 'bigger',\n",
       " 'biggest',\n",
       " 'bill',\n",
       " 'birthday',\n",
       " 'biscuit',\n",
       " 'biscuits',\n",
       " 'bisquick',\n",
       " 'bit',\n",
       " 'bite',\n",
       " 'bites',\n",
       " 'bits',\n",
       " 'bitter',\n",
       " 'bitterness',\n",
       " 'black',\n",
       " 'bland',\n",
       " 'blend',\n",
       " 'blender',\n",
       " 'blends',\n",
       " 'blood',\n",
       " 'blown',\n",
       " 'blue',\n",
       " 'blueberries',\n",
       " 'blueberry',\n",
       " 'bob',\n",
       " 'bodied',\n",
       " 'body',\n",
       " 'boil',\n",
       " 'bold',\n",
       " 'bone',\n",
       " 'bones',\n",
       " 'bonus',\n",
       " 'book',\n",
       " 'boost',\n",
       " 'born',\n",
       " 'bother',\n",
       " 'bottle',\n",
       " 'bottled',\n",
       " 'bottles',\n",
       " 'bottom',\n",
       " 'bought',\n",
       " 'bowel',\n",
       " 'bowl',\n",
       " 'bowls',\n",
       " 'box',\n",
       " 'boxed',\n",
       " 'boxes',\n",
       " 'boy',\n",
       " 'boyfriend',\n",
       " 'boys',\n",
       " 'bpa',\n",
       " 'brand',\n",
       " 'brands',\n",
       " 'bread',\n",
       " 'breads',\n",
       " 'break',\n",
       " 'breakfast',\n",
       " 'breaking',\n",
       " 'breath',\n",
       " 'breed',\n",
       " 'brew',\n",
       " 'brewed',\n",
       " 'brewer',\n",
       " 'brewing',\n",
       " 'brews',\n",
       " 'bright',\n",
       " 'bring',\n",
       " 'brings',\n",
       " 'broccoli',\n",
       " 'broke',\n",
       " 'broken',\n",
       " 'broth',\n",
       " 'brother',\n",
       " 'brought',\n",
       " 'brown',\n",
       " 'brownies',\n",
       " 'btw',\n",
       " 'bubble',\n",
       " 'bucks',\n",
       " 'budget',\n",
       " 'buds',\n",
       " 'buffalo',\n",
       " 'bulk',\n",
       " 'bunch',\n",
       " 'burn',\n",
       " 'burned',\n",
       " 'burnt',\n",
       " 'business',\n",
       " 'busy',\n",
       " 'butter',\n",
       " 'buttermilk',\n",
       " 'buttery',\n",
       " 'buy',\n",
       " 'buyer',\n",
       " 'buying',\n",
       " 'ca',\n",
       " 'cafe',\n",
       " 'caffeine',\n",
       " 'cajun',\n",
       " 'cake',\n",
       " 'cakes',\n",
       " 'cal',\n",
       " 'calcium',\n",
       " 'california',\n",
       " 'call',\n",
       " 'called',\n",
       " 'calls',\n",
       " 'calorie',\n",
       " 'calories',\n",
       " 'came',\n",
       " 'candies',\n",
       " 'candy',\n",
       " 'cane',\n",
       " 'canned',\n",
       " 'cannot',\n",
       " 'canola',\n",
       " 'cans',\n",
       " 'cant',\n",
       " 'car',\n",
       " 'caramel',\n",
       " 'carb',\n",
       " 'carbonated',\n",
       " 'carbonation',\n",
       " 'carbs',\n",
       " 'card',\n",
       " 'cardboard',\n",
       " 'care',\n",
       " 'careful',\n",
       " 'carefully',\n",
       " 'caribou',\n",
       " 'carried',\n",
       " 'carries',\n",
       " 'carrot',\n",
       " 'carrots',\n",
       " 'carry',\n",
       " 'carrying',\n",
       " 'carton',\n",
       " 'case',\n",
       " 'cases',\n",
       " 'cat',\n",
       " 'catch',\n",
       " 'cats',\n",
       " 'caught',\n",
       " 'cause',\n",
       " 'caused',\n",
       " 'causes',\n",
       " 'caution',\n",
       " 'celery',\n",
       " 'celiac',\n",
       " 'center',\n",
       " 'cents',\n",
       " 'cereal',\n",
       " 'cereals',\n",
       " 'certain',\n",
       " 'certainly',\n",
       " 'certified',\n",
       " 'challenge',\n",
       " 'chamomile',\n",
       " 'chance',\n",
       " 'change',\n",
       " 'changed',\n",
       " 'changes',\n",
       " 'changing',\n",
       " 'character',\n",
       " 'charge',\n",
       " 'charges',\n",
       " 'charging',\n",
       " 'cheap',\n",
       " 'cheaper',\n",
       " 'cheapest',\n",
       " 'check',\n",
       " 'checked',\n",
       " 'cheddar',\n",
       " 'cheese',\n",
       " 'chemical',\n",
       " 'chemicals',\n",
       " 'cherry',\n",
       " 'chew',\n",
       " 'chewing',\n",
       " 'chews',\n",
       " 'chewy',\n",
       " 'chia',\n",
       " 'chicken',\n",
       " 'child',\n",
       " 'childhood',\n",
       " 'children',\n",
       " 'chili',\n",
       " 'chilled',\n",
       " 'china',\n",
       " 'chinese',\n",
       " 'chip',\n",
       " 'chips',\n",
       " 'chocolate',\n",
       " 'chocolates',\n",
       " 'chocolatey',\n",
       " 'choice',\n",
       " 'choices',\n",
       " 'cholesterol',\n",
       " 'choose',\n",
       " 'chopped',\n",
       " 'chose',\n",
       " 'chowder',\n",
       " 'christmas',\n",
       " 'chunks',\n",
       " 'cider',\n",
       " 'cinnamon',\n",
       " 'citrus',\n",
       " 'claim',\n",
       " 'claims',\n",
       " 'clam',\n",
       " 'class',\n",
       " 'classic',\n",
       " 'clean',\n",
       " 'cleaning',\n",
       " 'clear',\n",
       " 'clearly',\n",
       " 'close',\n",
       " 'closer',\n",
       " 'closest',\n",
       " 'club',\n",
       " 'co',\n",
       " 'coast',\n",
       " 'coat',\n",
       " 'coated',\n",
       " 'coating',\n",
       " 'coats',\n",
       " 'coco',\n",
       " 'cocoa',\n",
       " 'coconut',\n",
       " 'coffee',\n",
       " 'coffees',\n",
       " 'coke',\n",
       " 'cold',\n",
       " 'collection',\n",
       " 'color',\n",
       " 'colored',\n",
       " 'coloring',\n",
       " 'colors',\n",
       " 'com',\n",
       " 'combination',\n",
       " 'combined',\n",
       " 'combo',\n",
       " 'come',\n",
       " 'comes',\n",
       " 'coming',\n",
       " 'comment',\n",
       " 'comments',\n",
       " 'commercial',\n",
       " 'common',\n",
       " 'companies',\n",
       " 'company',\n",
       " 'comparable',\n",
       " 'compare',\n",
       " 'compared',\n",
       " 'comparison',\n",
       " 'complain',\n",
       " 'complained',\n",
       " 'complaint',\n",
       " 'complaints',\n",
       " 'complete',\n",
       " 'completely',\n",
       " 'complex',\n",
       " 'computer',\n",
       " 'concentrate',\n",
       " 'concentrates',\n",
       " 'concerned',\n",
       " 'concerns',\n",
       " 'condition',\n",
       " 'confused',\n",
       " 'consider',\n",
       " 'considered',\n",
       " 'considering',\n",
       " 'consistency',\n",
       " 'consistent',\n",
       " 'consistently',\n",
       " 'constant',\n",
       " 'constantly',\n",
       " 'consume',\n",
       " 'consumed',\n",
       " 'consumer',\n",
       " 'consuming',\n",
       " 'consumption',\n",
       " 'contact',\n",
       " 'contain',\n",
       " 'contained',\n",
       " 'container',\n",
       " 'containers',\n",
       " 'containing',\n",
       " 'contains',\n",
       " 'content',\n",
       " 'contents',\n",
       " 'continue',\n",
       " 'continued',\n",
       " 'control',\n",
       " 'convenience',\n",
       " 'convenient',\n",
       " 'cook',\n",
       " 'cooked',\n",
       " 'cookie',\n",
       " 'cookies',\n",
       " 'cooking',\n",
       " 'cooks',\n",
       " 'cool',\n",
       " 'corn',\n",
       " 'corner',\n",
       " 'correct',\n",
       " 'correctly',\n",
       " 'cost',\n",
       " 'costco',\n",
       " 'costs',\n",
       " 'could',\n",
       " 'count',\n",
       " 'counter',\n",
       " 'country',\n",
       " 'couple',\n",
       " 'coupon',\n",
       " 'course',\n",
       " 'cover',\n",
       " 'covered',\n",
       " 'cow',\n",
       " 'cracked',\n",
       " 'cracker',\n",
       " 'crackers',\n",
       " 'crap',\n",
       " 'crave',\n",
       " 'craving',\n",
       " 'cravings',\n",
       " 'crazy',\n",
       " 'cream',\n",
       " 'creamer',\n",
       " 'creamy',\n",
       " 'create',\n",
       " 'created',\n",
       " 'creates',\n",
       " 'creme',\n",
       " 'crisp',\n",
       " 'crisps',\n",
       " 'crispy',\n",
       " 'crocker',\n",
       " 'crumbled',\n",
       " 'crumbly',\n",
       " 'crumbs',\n",
       " 'crunch',\n",
       " 'crunchy',\n",
       " 'crushed',\n",
       " 'crust',\n",
       " 'cubes',\n",
       " 'cup',\n",
       " 'cupboard',\n",
       " 'cupcakes',\n",
       " 'cups',\n",
       " 'current',\n",
       " 'currently',\n",
       " 'curry',\n",
       " 'customer',\n",
       " 'customers',\n",
       " 'cut',\n",
       " 'cute',\n",
       " 'cutting',\n",
       " 'dad',\n",
       " 'daily',\n",
       " 'dairy',\n",
       " 'damage',\n",
       " 'damaged',\n",
       " 'dark',\n",
       " 'darker',\n",
       " 'darn',\n",
       " 'date',\n",
       " 'dates',\n",
       " 'daughter',\n",
       " 'day',\n",
       " 'days',\n",
       " 'de',\n",
       " 'dead',\n",
       " 'deal',\n",
       " 'decaf',\n",
       " 'decaffeinated',\n",
       " 'decent',\n",
       " 'decide',\n",
       " 'decided',\n",
       " 'deep',\n",
       " 'definately',\n",
       " 'definite',\n",
       " 'definitely',\n",
       " 'degrees',\n",
       " 'delicate',\n",
       " 'delicious',\n",
       " 'delight',\n",
       " 'delighted',\n",
       " 'delightful',\n",
       " 'delivered',\n",
       " 'delivers',\n",
       " 'delivery',\n",
       " 'dense',\n",
       " 'dented',\n",
       " 'depending',\n",
       " 'describe',\n",
       " 'described',\n",
       " 'description',\n",
       " 'design',\n",
       " 'designed',\n",
       " 'desired',\n",
       " 'desk',\n",
       " 'despite',\n",
       " 'dessert',\n",
       " 'desserts',\n",
       " 'diabetes',\n",
       " 'diabetic',\n",
       " 'diagnosed',\n",
       " 'diamond',\n",
       " 'diarrhea',\n",
       " 'didnt',\n",
       " 'diet',\n",
       " 'dietary',\n",
       " 'dieting',\n",
       " 'diets',\n",
       " 'difference',\n",
       " 'different',\n",
       " 'differently',\n",
       " 'difficult',\n",
       " 'digest',\n",
       " 'digestion',\n",
       " 'digestive',\n",
       " 'dinner',\n",
       " 'dinners',\n",
       " 'dip',\n",
       " 'dipping',\n",
       " 'dips',\n",
       " 'direct',\n",
       " 'directions',\n",
       " 'directly',\n",
       " 'dirt',\n",
       " 'dirty',\n",
       " 'disappointed',\n",
       " 'disappointing',\n",
       " 'disappointment',\n",
       " 'discontinued',\n",
       " 'discount',\n",
       " 'discover',\n",
       " 'discovered',\n",
       " 'disease',\n",
       " 'disgusting',\n",
       " 'dish',\n",
       " 'dishes',\n",
       " 'dislike',\n",
       " 'disposable',\n",
       " 'disposakups',\n",
       " 'dissolve',\n",
       " 'dissolved',\n",
       " 'dissolves',\n",
       " 'distinct',\n",
       " 'doctor',\n",
       " 'doesnt',\n",
       " 'dog',\n",
       " 'dogs',\n",
       " 'dollar',\n",
       " 'dollars',\n",
       " 'done',\n",
       " 'dont',\n",
       " 'donut',\n",
       " 'donuts',\n",
       " 'door',\n",
       " 'dose',\n",
       " 'double',\n",
       " 'doubt',\n",
       " 'dough',\n",
       " 'downside',\n",
       " 'dozen',\n",
       " 'dr',\n",
       " 'drank',\n",
       " 'drawback',\n",
       " 'dressing',\n",
       " 'dried',\n",
       " 'drink',\n",
       " 'drinker',\n",
       " 'drinkers',\n",
       " 'drinking',\n",
       " 'drinks',\n",
       " 'drip',\n",
       " 'drive',\n",
       " 'drop',\n",
       " 'dropped',\n",
       " 'drops',\n",
       " 'drunk',\n",
       " 'dry',\n",
       " 'due',\n",
       " 'dunkin',\n",
       " 'dust',\n",
       " 'earlier',\n",
       " 'early',\n",
       " 'earth',\n",
       " 'earthy',\n",
       " 'ease',\n",
       " 'easier',\n",
       " 'easily',\n",
       " 'easy',\n",
       " 'eat',\n",
       " 'eaten',\n",
       " 'eater',\n",
       " 'eating',\n",
       " 'eats',\n",
       " 'economical',\n",
       " 'edge',\n",
       " 'edible',\n",
       " 'edit',\n",
       " 'effect',\n",
       " 'effective',\n",
       " 'effects',\n",
       " 'effort',\n",
       " 'egg',\n",
       " 'eggs',\n",
       " 'either',\n",
       " 'electrolytes',\n",
       " 'else',\n",
       " 'elsewhere',\n",
       " 'em',\n",
       " 'email',\n",
       " 'empty',\n",
       " 'end',\n",
       " 'ended',\n",
       " 'ends',\n",
       " 'energy',\n",
       " 'england',\n",
       " 'english',\n",
       " 'enjoy',\n",
       " 'enjoyable',\n",
       " 'enjoyed',\n",
       " 'enjoying',\n",
       " 'enjoys',\n",
       " 'enough',\n",
       " 'entire',\n",
       " 'entirely',\n",
       " 'equal',\n",
       " 'equally',\n",
       " 'equivalent',\n",
       " 'error',\n",
       " 'especially',\n",
       " 'espresso',\n",
       " 'essential',\n",
       " 'etc',\n",
       " 'european',\n",
       " 'even',\n",
       " 'evening',\n",
       " 'eventually',\n",
       " 'ever',\n",
       " 'every',\n",
       " 'everybody',\n",
       " 'everyday',\n",
       " 'everyone',\n",
       " 'everything',\n",
       " 'everytime',\n",
       " 'everywhere',\n",
       " 'exact',\n",
       " 'exactly',\n",
       " 'example',\n",
       " 'excellent',\n",
       " 'except',\n",
       " 'exception',\n",
       " 'excited',\n",
       " 'expect',\n",
       " 'expectations',\n",
       " 'expected',\n",
       " 'expecting',\n",
       " 'expensive',\n",
       " 'experience',\n",
       " 'experienced',\n",
       " 'experiment',\n",
       " 'expiration',\n",
       " 'expired',\n",
       " 'extra',\n",
       " 'extract',\n",
       " 'extremely',\n",
       " 'eye',\n",
       " 'eyes',\n",
       " 'fabulous',\n",
       " 'face',\n",
       " 'fact',\n",
       " 'factor',\n",
       " 'facts',\n",
       " 'fair',\n",
       " 'fairly',\n",
       " 'fake',\n",
       " 'fall',\n",
       " 'familiar',\n",
       " 'family',\n",
       " 'fan',\n",
       " 'fancy',\n",
       " 'fans',\n",
       " 'fantastic',\n",
       " 'far',\n",
       " 'farms',\n",
       " 'fast',\n",
       " 'faster',\n",
       " 'fat',\n",
       " 'father',\n",
       " 'fats',\n",
       " 'fatty',\n",
       " 'favor',\n",
       " 'favorite',\n",
       " 'favorites',\n",
       " 'favors',\n",
       " 'fed',\n",
       " 'feed',\n",
       " 'feeding',\n",
       " 'feel',\n",
       " 'feeling',\n",
       " 'feels',\n",
       " 'fell',\n",
       " 'felt',\n",
       " 'fiber',\n",
       " 'figure',\n",
       " 'figured',\n",
       " 'fill',\n",
       " 'filled',\n",
       " 'fillers',\n",
       " 'filling',\n",
       " 'fills',\n",
       " 'filter',\n",
       " 'filtered',\n",
       " 'filters',\n",
       " 'final',\n",
       " 'finally',\n",
       " 'find',\n",
       " 'finding',\n",
       " 'fine',\n",
       " 'fingers',\n",
       " 'finicky',\n",
       " 'finish',\n",
       " 'finished',\n",
       " 'firm',\n",
       " 'first',\n",
       " 'fish',\n",
       " 'fit',\n",
       " 'fits',\n",
       " 'five',\n",
       " 'fix',\n",
       " 'fizz',\n",
       " 'fizzy',\n",
       " 'flat',\n",
       " 'flavor',\n",
       " 'flavored',\n",
       " 'flavorful',\n",
       " 'flavoring',\n",
       " 'flavorings',\n",
       " 'flavors',\n",
       " 'flavour',\n",
       " 'flax',\n",
       " 'floor',\n",
       " 'florida',\n",
       " 'flour',\n",
       " 'flowers',\n",
       " 'fluffy',\n",
       " 'foil',\n",
       " 'folgers',\n",
       " 'folks',\n",
       " 'follow',\n",
       " 'followed',\n",
       " 'following',\n",
       " 'fond',\n",
       " 'fondant',\n",
       " 'food',\n",
       " 'foods',\n",
       " 'forever',\n",
       " 'forget',\n",
       " 'forgot',\n",
       " 'form',\n",
       " 'formula',\n",
       " 'formulas',\n",
       " 'fortunately',\n",
       " 'forward',\n",
       " 'found',\n",
       " 'four',\n",
       " 'fourth',\n",
       " 'fragrant',\n",
       " 'free',\n",
       " 'freeze',\n",
       " 'freezer',\n",
       " 'french',\n",
       " 'frequently',\n",
       " 'fresh',\n",
       " 'fresher',\n",
       " 'freshly',\n",
       " 'freshness',\n",
       " 'fridge',\n",
       " 'fried',\n",
       " 'friend',\n",
       " 'friendly',\n",
       " 'friends',\n",
       " 'fries',\n",
       " 'front',\n",
       " 'frosting',\n",
       " 'frozen',\n",
       " 'fructose',\n",
       " 'fruit',\n",
       " 'fruits',\n",
       " 'fruity',\n",
       " 'fry',\n",
       " 'fuel',\n",
       " 'full',\n",
       " 'fully',\n",
       " 'fun',\n",
       " 'funny',\n",
       " 'fur',\n",
       " 'future',\n",
       " 'gain',\n",
       " 'gallon',\n",
       " 'game',\n",
       " 'garbage',\n",
       " 'garden',\n",
       " 'garlic',\n",
       " 'gas',\n",
       " 'gave',\n",
       " 'gel',\n",
       " 'general',\n",
       " 'generally',\n",
       " 'gerber',\n",
       " 'german',\n",
       " 'get',\n",
       " 'gets',\n",
       " 'getting',\n",
       " 'gevalia',\n",
       " 'gf',\n",
       " 'gift',\n",
       " 'gifts',\n",
       " 'ginger',\n",
       " 'girl',\n",
       " 'girlfriend',\n",
       " 'girls',\n",
       " 'give',\n",
       " 'given',\n",
       " 'gives',\n",
       " 'giving',\n",
       " 'glad',\n",
       " 'glass',\n",
       " 'gluten',\n",
       " 'go',\n",
       " 'goat',\n",
       " 'goats',\n",
       " 'god',\n",
       " 'goes',\n",
       " 'going',\n",
       " 'gold',\n",
       " 'golden',\n",
       " 'gone',\n",
       " 'good',\n",
       " 'goodness',\n",
       " 'goods',\n",
       " 'google',\n",
       " 'got',\n",
       " 'gotta',\n",
       " 'gotten',\n",
       " 'gourmet',\n",
       " 'grab',\n",
       " 'grade',\n",
       " 'grain',\n",
       " 'grains',\n",
       " 'grainy',\n",
       " 'gram',\n",
       " 'grams',\n",
       " 'grandmother',\n",
       " 'grandpa',\n",
       " 'grandson',\n",
       " 'granola',\n",
       " 'granted',\n",
       " 'grape',\n",
       " 'grapefruit',\n",
       " 'grass',\n",
       " 'grateful',\n",
       " 'gravy',\n",
       " 'greasy',\n",
       " 'great',\n",
       " 'greatest',\n",
       " 'greatly',\n",
       " 'green',\n",
       " 'grew',\n",
       " 'grey',\n",
       " 'grill',\n",
       " 'grilled',\n",
       " 'grind',\n",
       " 'grinder',\n",
       " 'grinding',\n",
       " 'gritty',\n",
       " 'grocer',\n",
       " 'groceries',\n",
       " 'grocery',\n",
       " 'gross',\n",
       " 'ground',\n",
       " 'grounds',\n",
       " 'group',\n",
       " 'grove',\n",
       " 'grow',\n",
       " 'growing',\n",
       " 'grown',\n",
       " 'guess',\n",
       " ...]"
      ]
     },
     "execution_count": 42,
     "metadata": {},
     "output_type": "execute_result"
    }
   ],
   "source": [
    "bow_feature_name"
   ]
  },
  {
   "cell_type": "code",
   "execution_count": 43,
   "metadata": {},
   "outputs": [
    {
     "name": "stdout",
     "output_type": "stream",
     "text": [
      "(6024, 2562)\n",
      "(670, 2562)\n",
      "(2870, 2562)\n"
     ]
    }
   ],
   "source": [
    "print(x_train_bow.shape)\n",
    "print(x_cv_bow.shape)\n",
    "print(x_test_bow.shape)"
   ]
  },
  {
   "cell_type": "markdown",
   "metadata": {},
   "source": [
    "### 5.1.1.2. Training and Testing"
   ]
  },
  {
   "cell_type": "code",
   "execution_count": 44,
   "metadata": {},
   "outputs": [
    {
     "name": "stderr",
     "output_type": "stream",
     "text": [
      "100%|████████████████████████████████████████████████████████████████████████████████████| 8/8 [00:00<00:00, 18.23it/s]\n"
     ]
    }
   ],
   "source": [
    "train_auc=[]\n",
    "cv_auc=[]\n",
    "from tqdm import tqdm\n",
    "K=[10**i for i in range(-4,4)]\n",
    "for k in tqdm(K):\n",
    "    model=LogisticRegression(C=k,penalty='l1',class_weight='balanced',solver='liblinear')\n",
    "    model.fit(x_train_bow,y_train)\n",
    "    y_train_prob=[]\n",
    "    for i in range(0,x_train_bow.shape[0],1000):\n",
    "        y_train_prob.extend(model.predict_proba(x_train_bow[i:i+1000])[:,1])\n",
    "    y_cv_prob=[]\n",
    "    for i in range(0,x_cv_bow.shape[0],1000):\n",
    "        y_cv_prob.extend(model.predict_proba(x_cv_bow[i:i+1000])[:,1])\n",
    "    train_auc.append(roc_auc_score(y_train,y_train_prob))\n",
    "    cv_auc.append(roc_auc_score(y_cv,y_cv_prob))\n"
   ]
  },
  {
   "cell_type": "code",
   "execution_count": 45,
   "metadata": {},
   "outputs": [
    {
     "name": "stdout",
     "output_type": "stream",
     "text": [
      "[0.0001, 0.001, 0.01, 0.1, 1, 10, 100, 1000]\n"
     ]
    },
    {
     "data": {
      "image/png": "[encoded data removed]",
      "text/plain": [
       "<Figure size 432x288 with 1 Axes>"
      ]
     },
     "metadata": {
      "needs_background": "light"
     },
     "output_type": "display_data"
    }
   ],
   "source": [
    "import math\n",
    "k=[10**i for i in range(-4,4)]\n",
    "print(k)\n",
    "log_c=[math.log(i) for i in k]\n",
    "plt.plot(log_c,train_auc,label='train_auc')\n",
    "plt.plot(log_c,cv_auc,label='cv_auc')\n",
    "plt.legend()\n",
    "plt.scatter(log_c,train_auc)\n",
    "plt.scatter(log_c,cv_auc)\n",
    "plt.grid()\n",
    "plt.ylabel('auc')\n",
    "plt.xlabel('value of c')\n",
    "plt.show()"
   ]
  },
  {
   "cell_type": "markdown",
   "metadata": {},
   "source": [
    "### best alpha is 0.01 from this graph"
   ]
  },
  {
   "cell_type": "markdown",
   "metadata": {},
   "source": [
    "### plotting the roc_auc curve"
   ]
  },
  {
   "cell_type": "code",
   "execution_count": 46,
   "metadata": {},
   "outputs": [
    {
     "name": "stderr",
     "output_type": "stream",
     "text": [
      "100%|██████████████████████████████████████████████████████████████████████████████████| 7/7 [00:00<00:00, 1002.53it/s]\n",
      "100%|██████████████████████████████████████████████████████████████████████████████████| 3/3 [00:00<00:00, 1001.82it/s]\n"
     ]
    }
   ],
   "source": [
    "best_C=0.1\n",
    "from sklearn.metrics import roc_curve,auc\n",
    "model=LogisticRegression(C=best_C,penalty='l1',class_weight='balanced',solver='liblinear')\n",
    "model.fit(x_train_bow,y_train)\n",
    "y_train_pred=[]\n",
    "for i in tqdm(range(0,x_train_bow.shape[0],1000)):\n",
    "    y_train_pred.extend(model.predict_proba(x_train_bow[i:i+1000])[:,1])\n",
    "fpr_train,tpr_train,thresholds_train=roc_curve(y_train,y_train_pred)\n",
    "y_test_pred=[]\n",
    "for i in tqdm(range(0,x_test_bow.shape[0],1000)):\n",
    "    y_test_pred.extend(model.predict_proba(x_test_bow[i:i+1000])[:,1])\n",
    "fpr_test,tpr_test,thresholds_test=roc_curve(y_test,y_test_pred)\n"
   ]
  },
  {
   "cell_type": "code",
   "execution_count": 47,
   "metadata": {},
   "outputs": [
    {
     "data": {
      "text/plain": [
       "Text(0, 0.5, 'True positive rate')"
      ]
     },
     "execution_count": 47,
     "metadata": {},
     "output_type": "execute_result"
    },
    {
     "data": {
      "image/png": "[encoded data removed]",
      "text/plain": [
       "<Figure size 432x288 with 1 Axes>"
      ]
     },
     "metadata": {
      "needs_background": "light"
     },
     "output_type": "display_data"
    }
   ],
   "source": [
    "plt.title('Error')\n",
    "plt.plot(fpr_test,tpr_test,label='test='+str(auc(fpr_test,tpr_test)))\n",
    "plt.plot(fpr_train,tpr_train,label='train='+str(auc(fpr_train,tpr_train)))\n",
    "plt.legend()\n",
    "plt.xlabel('False positive rate')\n",
    "plt.ylabel('True positive rate')"
   ]
  },
  {
   "cell_type": "markdown",
   "metadata": {},
   "source": [
    "### Confusion Matrix"
   ]
  },
  {
   "cell_type": "markdown",
   "metadata": {},
   "source": [
    "### Confusion Matrix of Train data"
   ]
  },
  {
   "cell_type": "code",
   "execution_count": 48,
   "metadata": {},
   "outputs": [
    {
     "name": "stdout",
     "output_type": "stream",
     "text": [
      "Train Confusion Matrix\n",
      "[[ 878  110]\n",
      " [ 702 4334]]\n"
     ]
    },
    {
     "data": {
      "text/plain": [
       "<AxesSubplot:>"
      ]
     },
     "execution_count": 48,
     "metadata": {},
     "output_type": "execute_result"
    },
    {
     "data": {
      "image/png": "[encoded data removed]",
      "text/plain": [
       "<Figure size 432x288 with 1 Axes>"
      ]
     },
     "metadata": {
      "needs_background": "light"
     },
     "output_type": "display_data"
    }
   ],
   "source": [
    "from sklearn.metrics import confusion_matrix\n",
    "print('Train Confusion Matrix')\n",
    "print(confusion_matrix(y_train,model.predict(x_train_bow)))\n",
    "tn,fp,fn,tp=confusion_matrix(y_train,model.predict(x_train_bow)).ravel()\n",
    "mat=np.matrix([[tn,fn],[fp,tp]])\n",
    "sns.heatmap(mat, square=True, annot=True, fmt='d', cbar=False,\n",
    "xticklabels=[0,1], yticklabels=[0,1])"
   ]
  },
  {
   "cell_type": "markdown",
   "metadata": {},
   "source": [
    "### Confusion Matrix of Test data"
   ]
  },
  {
   "cell_type": "code",
   "execution_count": 49,
   "metadata": {},
   "outputs": [
    {
     "name": "stdout",
     "output_type": "stream",
     "text": [
      "Test Confusion Matrix\n",
      "[[ 389  102]\n",
      " [ 357 2022]]\n"
     ]
    },
    {
     "data": {
      "text/plain": [
       "<AxesSubplot:>"
      ]
     },
     "execution_count": 49,
     "metadata": {},
     "output_type": "execute_result"
    },
    {
     "data": {
      "image/png": "[encoded data removed]",
      "text/plain": [
       "<Figure size 432x288 with 1 Axes>"
      ]
     },
     "metadata": {
      "needs_background": "light"
     },
     "output_type": "display_data"
    }
   ],
   "source": [
    "print('Test Confusion Matrix')\n",
    "print(confusion_matrix(y_test,model.predict(x_test_bow)))\n",
    "tn,fp,fn,tp=confusion_matrix(y_test,model.predict(x_test_bow)).ravel()\n",
    "mat=np.matrix([[tn,fn],[fp,tp]])\n",
    "sns.heatmap(mat, square=True, annot=True, fmt='d', cbar=False,\n",
    "xticklabels=[0,1], yticklabels=[0,1])"
   ]
  },
  {
   "cell_type": "markdown",
   "metadata": {
    "colab_type": "text",
    "id": "5h4NhywcLPo7"
   },
   "source": [
    "#### [5.1.1.1] Calculating sparsity on weight vector obtained using L1 regularization on BOW,<font color='red'> SET 1</font>"
   ]
  },
  {
   "cell_type": "code",
   "execution_count": 50,
   "metadata": {
    "colab": {},
    "colab_type": "code",
    "id": "-mmdLzUALPo-"
   },
   "outputs": [
    {
     "name": "stdout",
     "output_type": "stream",
     "text": [
      "145\n"
     ]
    }
   ],
   "source": [
    "clf = LogisticRegression(C=0.1,  penalty='l1',solver='liblinear');\n",
    "clf.fit(x_train_bow, y_train);\n",
    "w = clf.coef_\n",
    "print(np.count_nonzero(w))"
   ]
  },
  {
   "cell_type": "markdown",
   "metadata": {
    "colab_type": "text",
    "id": "aRHMa52qLPpA"
   },
   "source": [
    "### [5.1.2] Applying Logistic Regression with L2 regularization on BOW,<font color='red'> SET 1</font>"
   ]
  },
  {
   "cell_type": "markdown",
   "metadata": {
    "colab": {},
    "colab_type": "code",
    "id": "GBbb9lxlLPpB"
   },
   "source": [
    "### Training and Testing"
   ]
  },
  {
   "cell_type": "code",
   "execution_count": 51,
   "metadata": {},
   "outputs": [
    {
     "name": "stderr",
     "output_type": "stream",
     "text": [
      "100%|████████████████████████████████████████████████████████████████████████████████████| 8/8 [00:00<00:00, 11.59it/s]\n"
     ]
    }
   ],
   "source": [
    "train_auc=[]\n",
    "cv_auc=[]\n",
    "from tqdm import tqdm\n",
    "K=[10**i for i in range(-4,4)]\n",
    "for k in tqdm(K):\n",
    "    model=LogisticRegression(C=k,penalty='l2',class_weight='balanced')\n",
    "    model.fit(x_train_bow,y_train)\n",
    "    y_train_prob=[]\n",
    "    for i in range(0,x_train_bow.shape[0],1000):\n",
    "        y_train_prob.extend(model.predict_proba(x_train_bow[i:i+1000])[:,1])\n",
    "    y_cv_prob=[]\n",
    "    for i in range(0,x_cv_bow.shape[0],1000):\n",
    "        y_cv_prob.extend(model.predict_proba(x_cv_bow[i:i+1000])[:,1])\n",
    "    train_auc.append(roc_auc_score(y_train,y_train_prob))\n",
    "    cv_auc.append(roc_auc_score(y_cv,y_cv_prob))\n"
   ]
  },
  {
   "cell_type": "code",
   "execution_count": 52,
   "metadata": {},
   "outputs": [
    {
     "name": "stdout",
     "output_type": "stream",
     "text": [
      "[0.0001, 0.001, 0.01, 0.1, 1, 10, 100, 1000]\n"
     ]
    },
    {
     "data": {
      "image/png": "[encoded data removed]",
      "text/plain": [
       "<Figure size 432x288 with 1 Axes>"
      ]
     },
     "metadata": {
      "needs_background": "light"
     },
     "output_type": "display_data"
    }
   ],
   "source": [
    "import math\n",
    "k=[10**i for i in range(-4,4)]\n",
    "print(k)\n",
    "log_c=[math.log(i) for i in k]\n",
    "plt.plot(log_c,train_auc,label='train_auc')\n",
    "plt.plot(log_c,cv_auc,label='cv_auc')\n",
    "plt.legend()\n",
    "plt.scatter(log_c,train_auc)\n",
    "plt.scatter(log_c,cv_auc)\n",
    "plt.grid()\n",
    "plt.ylabel('auc')\n",
    "plt.xlabel('value of c')\n",
    "plt.show()\n"
   ]
  },
  {
   "cell_type": "markdown",
   "metadata": {},
   "source": [
    "from alpha 10 to 100 work well after that validation score is reducing"
   ]
  },
  {
   "cell_type": "markdown",
   "metadata": {},
   "source": [
    "### computing accuracy using gridSearchCV"
   ]
  },
  {
   "cell_type": "code",
   "execution_count": 53,
   "metadata": {},
   "outputs": [
    {
     "name": "stderr",
     "output_type": "stream",
     "text": [
      "100%|██████████████████████████████████████████████████████████████████████████████████| 7/7 [00:00<00:00, 1754.94it/s]\n",
      "100%|██████████████████████████████████████████████████████████████████████████████████| 3/3 [00:00<00:00, 1002.30it/s]\n"
     ]
    }
   ],
   "source": [
    "best_C=0.01\n",
    "from sklearn.metrics import roc_curve,auc\n",
    "model=LogisticRegression(C=0.01,penalty='l2',class_weight='balanced')\n",
    "model.fit(x_train_bow,y_train)\n",
    "y_train_pred=[]\n",
    "for i in tqdm(range(0,x_train_bow.shape[0],1000)):\n",
    "    y_train_pred.extend(model.predict_proba(x_train_bow[i:i+1000])[:,1])\n",
    "fpr_train,tpr_train,thresholds_train=roc_curve(y_train,y_train_pred)\n",
    "y_test_pred=[]\n",
    "for i in tqdm(range(0,x_test_bow.shape[0],1000)):\n",
    "    y_test_pred.extend(model.predict_proba(x_test_bow[i:i+1000])[:,1])\n",
    "fpr_test,tpr_test,thresholds_test=roc_curve(y_test,y_test_pred)"
   ]
  },
  {
   "cell_type": "code",
   "execution_count": 54,
   "metadata": {},
   "outputs": [
    {
     "data": {
      "text/plain": [
       "Text(0, 0.5, 'True positive rate')"
      ]
     },
     "execution_count": 54,
     "metadata": {},
     "output_type": "execute_result"
    },
    {
     "data": {
      "image/png": "[encoded data removed]",
      "text/plain": [
       "<Figure size 432x288 with 1 Axes>"
      ]
     },
     "metadata": {
      "needs_background": "light"
     },
     "output_type": "display_data"
    }
   ],
   "source": [
    "plt.title('Error')\n",
    "plt.plot(fpr_test,tpr_test,label='test='+str(auc(fpr_test,tpr_test)))\n",
    "plt.plot(fpr_train,tpr_train,label='train='+str(auc(fpr_train,tpr_train)))\n",
    "plt.legend()\n",
    "plt.xlabel('False positive rate')\n",
    "plt.ylabel('True positive rate')"
   ]
  },
  {
   "cell_type": "markdown",
   "metadata": {},
   "source": [
    "### plotting the roc_auc curve"
   ]
  },
  {
   "cell_type": "code",
   "execution_count": 55,
   "metadata": {},
   "outputs": [
    {
     "name": "stderr",
     "output_type": "stream",
     "text": [
      "100%|██████████████████████████████████████████████████████████████████████████████████| 7/7 [00:00<00:00, 1387.60it/s]\n",
      "100%|██████████████████████████████████████████████████████████████████████████████████| 3/3 [00:00<00:00, 1507.66it/s]\n"
     ]
    }
   ],
   "source": [
    "best_C=0.01\n",
    "from sklearn.metrics import roc_curve,auc\n",
    "model=LogisticRegression(C=best_C,penalty='l2',class_weight='balanced')\n",
    "model.fit(x_train_bow,y_train)\n",
    "y_train_pred=[]\n",
    "for i in tqdm(range(0,x_train_bow.shape[0],1000)):\n",
    "    y_train_pred.extend(model.predict_proba(x_train_bow[i:i+1000])[:,1])\n",
    "fpr_train,tpr_train,thresholds_train=roc_curve(y_train,y_train_pred)\n",
    "y_test_pred=[]\n",
    "for i in tqdm(range(0,x_test_bow.shape[0],1000)):\n",
    "    y_test_pred.extend(model.predict_proba(x_test_bow[i:i+1000])[:,1])\n",
    "fpr_test,tpr_test,thresholds_test=roc_curve(y_test,y_test_pred)"
   ]
  },
  {
   "cell_type": "code",
   "execution_count": 56,
   "metadata": {},
   "outputs": [
    {
     "data": {
      "text/plain": [
       "Text(0, 0.5, 'True positive rate')"
      ]
     },
     "execution_count": 56,
     "metadata": {},
     "output_type": "execute_result"
    },
    {
     "data": {
      "image/png": "[encoded data removed]",
      "text/plain": [
       "<Figure size 432x288 with 1 Axes>"
      ]
     },
     "metadata": {
      "needs_background": "light"
     },
     "output_type": "display_data"
    }
   ],
   "source": [
    "plt.title('Error')\n",
    "plt.plot(fpr_test,tpr_test,label='test='+str(auc(fpr_test,tpr_test)))\n",
    "plt.plot(fpr_train,tpr_train,label='train='+str(auc(fpr_train,tpr_train)))\n",
    "plt.legend()\n",
    "plt.xlabel('False positive rate')\n",
    "plt.ylabel('True positive rate')"
   ]
  },
  {
   "cell_type": "markdown",
   "metadata": {},
   "source": [
    "### Confusion Matrix"
   ]
  },
  {
   "cell_type": "markdown",
   "metadata": {},
   "source": [
    "### Confusion Matrix of Train data"
   ]
  },
  {
   "cell_type": "code",
   "execution_count": 57,
   "metadata": {},
   "outputs": [
    {
     "name": "stdout",
     "output_type": "stream",
     "text": [
      "Train Confusion Matrix\n",
      "[[ 877  111]\n",
      " [ 620 4416]]\n"
     ]
    },
    {
     "data": {
      "text/plain": [
       "<AxesSubplot:>"
      ]
     },
     "execution_count": 57,
     "metadata": {},
     "output_type": "execute_result"
    },
    {
     "data": {
      "image/png": "[encoded data removed]",
      "text/plain": [
       "<Figure size 432x288 with 1 Axes>"
      ]
     },
     "metadata": {
      "needs_background": "light"
     },
     "output_type": "display_data"
    }
   ],
   "source": [
    "from sklearn.metrics import confusion_matrix\n",
    "print('Train Confusion Matrix')\n",
    "print(confusion_matrix(y_train,model.predict(x_train_bow)))\n",
    "tn,fp,fn,tp=confusion_matrix(y_train,model.predict(x_train_bow)).ravel()\n",
    "mat=np.matrix([[tn,fn],[fp,tp]])\n",
    "sns.heatmap(mat, square=True, annot=True, fmt='d', cbar=False,\n",
    "xticklabels=[0,1], yticklabels=[0,1])"
   ]
  },
  {
   "cell_type": "markdown",
   "metadata": {},
   "source": [
    "### Confusion Matrix of Test data"
   ]
  },
  {
   "cell_type": "code",
   "execution_count": 58,
   "metadata": {},
   "outputs": [
    {
     "name": "stdout",
     "output_type": "stream",
     "text": [
      "Test Confusion Matrix\n",
      "[[ 387  104]\n",
      " [ 315 2064]]\n"
     ]
    },
    {
     "data": {
      "text/plain": [
       "<AxesSubplot:>"
      ]
     },
     "execution_count": 58,
     "metadata": {},
     "output_type": "execute_result"
    },
    {
     "data": {
      "image/png": "[encoded data removed]",
      "text/plain": [
       "<Figure size 432x288 with 1 Axes>"
      ]
     },
     "metadata": {
      "needs_background": "light"
     },
     "output_type": "display_data"
    }
   ],
   "source": [
    "print('Test Confusion Matrix')\n",
    "print(confusion_matrix(y_test,model.predict(x_test_bow)))\n",
    "tn,fp,fn,tp=confusion_matrix(y_test,model.predict(x_test_bow)).ravel()\n",
    "mat=np.matrix([[tn,fn],[fp,tp]])\n",
    "sns.heatmap(mat, square=True, annot=True, fmt='d', cbar=False,\n",
    "xticklabels=[0,1], yticklabels=[0,1])"
   ]
  },
  {
   "cell_type": "markdown",
   "metadata": {
    "colab_type": "text",
    "id": "nKn3VXcZLPpN"
   },
   "source": [
    "## [5.2] Logistic Regression on TFIDF,<font color='red'> SET 2</font>"
   ]
  },
  {
   "cell_type": "markdown",
   "metadata": {
    "colab_type": "text",
    "id": "naTBSzm6LPpN"
   },
   "source": [
    "### [5.2.1] Applying Logistic Regression with L1 regularization on TFIDF,<font color='red'> SET 2</font>"
   ]
  },
  {
   "cell_type": "code",
   "execution_count": 62,
   "metadata": {
    "colab": {},
    "colab_type": "code",
    "id": "PEhaagXXLPpS"
   },
   "outputs": [
    {
     "name": "stdout",
     "output_type": "stream",
     "text": [
      "(9564, 11)\n",
      "<class 'pandas.core.frame.DataFrame'>\n"
     ]
    }
   ],
   "source": [
    "print(final_sorted_data.shape)\n",
    "print(type(final_sorted_data))"
   ]
  },
  {
   "cell_type": "code",
   "execution_count": 63,
   "metadata": {},
   "outputs": [],
   "source": [
    "X=final_sorted_data['preprocessed_reviews']\n",
    "Y=final_sorted_data['Score']"
   ]
  },
  {
   "cell_type": "markdown",
   "metadata": {},
   "source": [
    "### Splitting into train,cv and test sets"
   ]
  },
  {
   "cell_type": "code",
   "execution_count": 64,
   "metadata": {},
   "outputs": [
    {
     "name": "stdout",
     "output_type": "stream",
     "text": [
      "(9564,)\n",
      "(9564,)\n",
      "<class 'pandas.core.series.Series'>\n"
     ]
    }
   ],
   "source": [
    "print(X.shape)\n",
    "print(Y.shape)\n",
    "print(type(Y))"
   ]
  },
  {
   "cell_type": "code",
   "execution_count": 65,
   "metadata": {},
   "outputs": [
    {
     "name": "stdout",
     "output_type": "stream",
     "text": [
      "(6024,)\n",
      "(6024,)\n",
      "(2870,)\n",
      "(2870,)\n",
      "(670,)\n",
      "(670,)\n"
     ]
    }
   ],
   "source": [
    "from sklearn.model_selection import train_test_split\n",
    "x_train,x_test,y_train,y_test=train_test_split(X,Y,test_size=0.3,random_state=0)\n",
    "x_train,x_cv,y_train,y_cv=train_test_split(x_train,y_train,test_size=0.1,random_state=0)\n",
    "print(x_train.shape)\n",
    "print(y_train.shape)\n",
    "print(x_test.shape)\n",
    "print(y_test.shape)\n",
    "print(x_cv.shape)\n",
    "print(y_cv.shape)"
   ]
  },
  {
   "cell_type": "code",
   "execution_count": 66,
   "metadata": {},
   "outputs": [],
   "source": [
    "from sklearn.linear_model import LogisticRegression\n",
    "from sklearn.metrics import roc_auc_score"
   ]
  },
  {
   "cell_type": "code",
   "execution_count": 67,
   "metadata": {},
   "outputs": [],
   "source": [
    "from sklearn.feature_extraction.text import CountVectorizer\n",
    "vectorizer = tf_idf_vect = TfidfVectorizer(ngram_range=(1,2), min_df=10)\n",
    "def tfidf(data):\n",
    "    text_tfidf = vectorizer.transform(data)\n",
    "    return text_tfidf\n",
    "\n",
    "vectorizer.fit(x_train)\n",
    "x_train_tfidf=tfidf(x_train)\n",
    "x_test_tfidf=tfidf(x_test)\n",
    "x_cv_tfidf=tfidf(x_cv)\n",
    "tfidf_feature_name=vectorizer.get_feature_names()"
   ]
  },
  {
   "cell_type": "code",
   "execution_count": 68,
   "metadata": {},
   "outputs": [
    {
     "data": {
      "text/plain": [
       "['ability',\n",
       " 'able',\n",
       " 'able find',\n",
       " 'able use',\n",
       " 'absolute',\n",
       " 'absolute best',\n",
       " 'absolute favorite',\n",
       " 'absolutely',\n",
       " 'absolutely delicious',\n",
       " 'absolutely love',\n",
       " 'absolutely loves',\n",
       " 'acacia',\n",
       " 'according',\n",
       " 'account',\n",
       " 'acerola',\n",
       " 'acid',\n",
       " 'acidic',\n",
       " 'acidity',\n",
       " 'acquired',\n",
       " 'across',\n",
       " 'active',\n",
       " 'actual',\n",
       " 'actually',\n",
       " 'add',\n",
       " 'add little',\n",
       " 'add water',\n",
       " 'added',\n",
       " 'added bonus',\n",
       " 'added sugar',\n",
       " 'added sugars',\n",
       " 'addict',\n",
       " 'addicted',\n",
       " 'addicting',\n",
       " 'addictive',\n",
       " 'adding',\n",
       " 'addition',\n",
       " 'additional',\n",
       " 'additives',\n",
       " 'adds',\n",
       " 'adequate',\n",
       " 'admit',\n",
       " 'adopted',\n",
       " 'adore',\n",
       " 'adult',\n",
       " 'adults',\n",
       " 'advantage',\n",
       " 'advertised',\n",
       " 'advice',\n",
       " 'afford',\n",
       " 'affordable',\n",
       " 'afraid',\n",
       " 'afternoon',\n",
       " 'aftertaste',\n",
       " 'aftertaste not',\n",
       " 'afterwards',\n",
       " 'agave',\n",
       " 'age',\n",
       " 'ages',\n",
       " 'ago',\n",
       " 'agree',\n",
       " 'ahead',\n",
       " 'aid',\n",
       " 'air',\n",
       " 'air tight',\n",
       " 'alcohol',\n",
       " 'allergic',\n",
       " 'allergies',\n",
       " 'allergy',\n",
       " 'allow',\n",
       " 'allowed',\n",
       " 'allowing',\n",
       " 'allows',\n",
       " 'almond',\n",
       " 'almond milk',\n",
       " 'almonds',\n",
       " 'almost',\n",
       " 'almost every',\n",
       " 'almost like',\n",
       " 'alone',\n",
       " 'along',\n",
       " 'alot',\n",
       " 'already',\n",
       " 'also',\n",
       " 'also good',\n",
       " 'also great',\n",
       " 'also like',\n",
       " 'also love',\n",
       " 'also make',\n",
       " 'also not',\n",
       " 'also tried',\n",
       " 'also use',\n",
       " 'also used',\n",
       " 'alternative',\n",
       " 'alternative regular',\n",
       " 'alternatives',\n",
       " 'although',\n",
       " 'although not',\n",
       " 'aluminum',\n",
       " 'always',\n",
       " 'amazed',\n",
       " 'amazing',\n",
       " 'amazingly',\n",
       " 'amazon',\n",
       " 'amazon com',\n",
       " 'amazon get',\n",
       " 'amazon great',\n",
       " 'amazon not',\n",
       " 'amazon price',\n",
       " 'amazon prime',\n",
       " 'america',\n",
       " 'american',\n",
       " 'among',\n",
       " 'amount',\n",
       " 'amount salt',\n",
       " 'amounts',\n",
       " 'animal',\n",
       " 'animals',\n",
       " 'annie',\n",
       " 'annoying',\n",
       " 'another',\n",
       " 'another brand',\n",
       " 'another one',\n",
       " 'another reviewer',\n",
       " 'answer',\n",
       " 'antioxidants',\n",
       " 'anymore',\n",
       " 'anyone',\n",
       " 'anything',\n",
       " 'anything else',\n",
       " 'anything like',\n",
       " 'anytime',\n",
       " 'anyway',\n",
       " 'anywhere',\n",
       " 'apart',\n",
       " 'apparently',\n",
       " 'appeal',\n",
       " 'appealing',\n",
       " 'appear',\n",
       " 'appears',\n",
       " 'apple',\n",
       " 'apple grape',\n",
       " 'apples',\n",
       " 'appreciate',\n",
       " 'approximately',\n",
       " 'area',\n",
       " 'aroma',\n",
       " 'aroma taste',\n",
       " 'aromatic',\n",
       " 'around',\n",
       " 'around house',\n",
       " 'arrive',\n",
       " 'arrived',\n",
       " 'arrived quickly',\n",
       " 'arrived time',\n",
       " 'arrives',\n",
       " 'artificial',\n",
       " 'artificial flavors',\n",
       " 'artificial sweeteners',\n",
       " 'asian',\n",
       " 'aside',\n",
       " 'ask',\n",
       " 'asked',\n",
       " 'asking',\n",
       " 'assorted',\n",
       " 'assortment',\n",
       " 'assume',\n",
       " 'assuming',\n",
       " 'ate',\n",
       " 'attempt',\n",
       " 'attention',\n",
       " 'attractive',\n",
       " 'audio',\n",
       " 'authentic',\n",
       " 'auto',\n",
       " 'automatic',\n",
       " 'available',\n",
       " 'available amazon',\n",
       " 'average',\n",
       " 'avoid',\n",
       " 'awake',\n",
       " 'aware',\n",
       " 'away',\n",
       " 'away not',\n",
       " 'awesome',\n",
       " 'awful',\n",
       " 'awhile',\n",
       " 'babies',\n",
       " 'baby',\n",
       " 'baby food',\n",
       " 'baby loves',\n",
       " 'back',\n",
       " 'bacon',\n",
       " 'bad',\n",
       " 'bad batch',\n",
       " 'bad not',\n",
       " 'bad taste',\n",
       " 'bag',\n",
       " 'bag not',\n",
       " 'bags',\n",
       " 'bake',\n",
       " 'baked',\n",
       " 'baked goods',\n",
       " 'baking',\n",
       " 'baking mix',\n",
       " 'baking soda',\n",
       " 'balance',\n",
       " 'balanced',\n",
       " 'ball',\n",
       " 'balls',\n",
       " 'banana',\n",
       " 'bananas',\n",
       " 'bar',\n",
       " 'barbecue',\n",
       " 'barbeque',\n",
       " 'barely',\n",
       " 'bargain',\n",
       " 'barley',\n",
       " 'bars',\n",
       " 'base',\n",
       " 'based',\n",
       " 'basic',\n",
       " 'basically',\n",
       " 'basil',\n",
       " 'basis',\n",
       " 'basket',\n",
       " 'batch',\n",
       " 'batches',\n",
       " 'batter',\n",
       " 'bbq',\n",
       " 'bean',\n",
       " 'beans',\n",
       " 'bear',\n",
       " 'bears',\n",
       " 'beat',\n",
       " 'beats',\n",
       " 'beautiful',\n",
       " 'beautifully',\n",
       " 'became',\n",
       " 'become',\n",
       " 'becomes',\n",
       " 'becoming',\n",
       " 'bed',\n",
       " 'beef',\n",
       " 'beef jerky',\n",
       " 'beer',\n",
       " 'began',\n",
       " 'begin',\n",
       " 'beginning',\n",
       " 'behind',\n",
       " 'belgian',\n",
       " 'believe',\n",
       " 'belly',\n",
       " 'benefit',\n",
       " 'benefits',\n",
       " 'berries',\n",
       " 'berry',\n",
       " 'besides',\n",
       " 'best',\n",
       " 'best baby',\n",
       " 'best coffee',\n",
       " 'best cup',\n",
       " 'best ever',\n",
       " 'best flavor',\n",
       " 'best found',\n",
       " 'best hot',\n",
       " 'best not',\n",
       " 'best part',\n",
       " 'best price',\n",
       " 'best tasting',\n",
       " 'best thing',\n",
       " 'best way',\n",
       " 'bet',\n",
       " 'better',\n",
       " 'better not',\n",
       " 'better price',\n",
       " 'better regular',\n",
       " 'better tasting',\n",
       " 'betty',\n",
       " 'betty crocker',\n",
       " 'beverage',\n",
       " 'beverages',\n",
       " 'beware',\n",
       " 'beyond',\n",
       " 'big',\n",
       " 'big fan',\n",
       " 'big hit',\n",
       " 'bigger',\n",
       " 'biggest',\n",
       " 'bill',\n",
       " 'birthday',\n",
       " 'biscuit',\n",
       " 'biscuits',\n",
       " 'bisquick',\n",
       " 'bit',\n",
       " 'bit better',\n",
       " 'bite',\n",
       " 'bites',\n",
       " 'bits',\n",
       " 'bitter',\n",
       " 'bitter aftertaste',\n",
       " 'bitter not',\n",
       " 'bitter taste',\n",
       " 'bitterness',\n",
       " 'black',\n",
       " 'black tea',\n",
       " 'bland',\n",
       " 'blend',\n",
       " 'blender',\n",
       " 'blends',\n",
       " 'blood',\n",
       " 'blood pressure',\n",
       " 'blood sugar',\n",
       " 'blown',\n",
       " 'blue',\n",
       " 'blue diamond',\n",
       " 'blueberries',\n",
       " 'blueberry',\n",
       " 'bob',\n",
       " 'bob red',\n",
       " 'bodied',\n",
       " 'body',\n",
       " 'boil',\n",
       " 'bold',\n",
       " 'bold coffee',\n",
       " 'bone',\n",
       " 'bones',\n",
       " 'bonus',\n",
       " 'book',\n",
       " 'boost',\n",
       " 'born',\n",
       " 'bother',\n",
       " 'bottle',\n",
       " 'bottled',\n",
       " 'bottles',\n",
       " 'bottom',\n",
       " 'bottom bag',\n",
       " 'bottom line',\n",
       " 'bought',\n",
       " 'bought one',\n",
       " 'bought product',\n",
       " 'bowel',\n",
       " 'bowl',\n",
       " 'bowls',\n",
       " 'box',\n",
       " 'box not',\n",
       " 'boxed',\n",
       " 'boxes',\n",
       " 'boy',\n",
       " 'boyfriend',\n",
       " 'boys',\n",
       " 'bpa',\n",
       " 'bpa free',\n",
       " 'brand',\n",
       " 'brand chips',\n",
       " 'brand coffee',\n",
       " 'brand not',\n",
       " 'brands',\n",
       " 'brands not',\n",
       " 'brands tried',\n",
       " 'bread',\n",
       " 'breads',\n",
       " 'break',\n",
       " 'breakfast',\n",
       " 'breakfast bed',\n",
       " 'breakfast blend',\n",
       " 'breaking',\n",
       " 'breath',\n",
       " 'breed',\n",
       " 'brew',\n",
       " 'brewed',\n",
       " 'brewer',\n",
       " 'brewing',\n",
       " 'brews',\n",
       " 'bright',\n",
       " 'bring',\n",
       " 'brings',\n",
       " 'broccoli',\n",
       " 'broke',\n",
       " 'broken',\n",
       " 'broth',\n",
       " 'brother',\n",
       " 'brought',\n",
       " 'brown',\n",
       " 'brown rice',\n",
       " 'brown sugar',\n",
       " 'brownies',\n",
       " 'btw',\n",
       " 'bubble',\n",
       " 'bucks',\n",
       " 'budget',\n",
       " 'buds',\n",
       " 'buffalo',\n",
       " 'bulk',\n",
       " 'bunch',\n",
       " 'burn',\n",
       " 'burned',\n",
       " 'burnt',\n",
       " 'business',\n",
       " 'busy',\n",
       " 'butter',\n",
       " 'buttermilk',\n",
       " 'buttery',\n",
       " 'buy',\n",
       " 'buy amazon',\n",
       " 'buy bulk',\n",
       " 'buy case',\n",
       " 'buy not',\n",
       " 'buy one',\n",
       " 'buy product',\n",
       " 'buy store',\n",
       " 'buyer',\n",
       " 'buying',\n",
       " 'buying product',\n",
       " 'ca',\n",
       " 'ca not',\n",
       " 'cafe',\n",
       " 'caffeine',\n",
       " 'cajun',\n",
       " 'cake',\n",
       " 'cake mix',\n",
       " 'cakes',\n",
       " 'cal',\n",
       " 'calcium',\n",
       " 'california',\n",
       " 'call',\n",
       " 'called',\n",
       " 'calls',\n",
       " 'calorie',\n",
       " 'calorie count',\n",
       " 'calories',\n",
       " 'calories fat',\n",
       " 'calories not',\n",
       " 'calories per',\n",
       " 'came',\n",
       " 'came across',\n",
       " 'candies',\n",
       " 'candy',\n",
       " 'cane',\n",
       " 'cane sugar',\n",
       " 'canned',\n",
       " 'canned food',\n",
       " 'cannot',\n",
       " 'cannot find',\n",
       " 'canola',\n",
       " 'cans',\n",
       " 'cant',\n",
       " 'car',\n",
       " 'caramel',\n",
       " 'carb',\n",
       " 'carb diet',\n",
       " 'carbonated',\n",
       " 'carbonated juice',\n",
       " 'carbonated water',\n",
       " 'carbonation',\n",
       " 'carbs',\n",
       " 'card',\n",
       " 'cardboard',\n",
       " 'care',\n",
       " 'careful',\n",
       " 'carefully',\n",
       " 'caribou',\n",
       " 'carried',\n",
       " 'carries',\n",
       " 'carrot',\n",
       " 'carrots',\n",
       " 'carry',\n",
       " 'carrying',\n",
       " 'carton',\n",
       " 'case',\n",
       " 'case not',\n",
       " 'cases',\n",
       " 'cat',\n",
       " 'cat food',\n",
       " 'cat grass',\n",
       " 'cat loves',\n",
       " 'catch',\n",
       " 'cats',\n",
       " 'cats love',\n",
       " 'caught',\n",
       " 'cause',\n",
       " 'caused',\n",
       " 'causes',\n",
       " 'caution',\n",
       " 'celery',\n",
       " 'celiac',\n",
       " 'celiac disease',\n",
       " 'center',\n",
       " 'cents',\n",
       " 'cents per',\n",
       " 'cereal',\n",
       " 'cereals',\n",
       " 'certain',\n",
       " 'certainly',\n",
       " 'certainly not',\n",
       " 'certified',\n",
       " 'challenge',\n",
       " 'chamomile',\n",
       " 'chance',\n",
       " 'change',\n",
       " 'changed',\n",
       " 'changes',\n",
       " 'changing',\n",
       " 'character',\n",
       " 'charge',\n",
       " 'charges',\n",
       " 'charging',\n",
       " 'cheap',\n",
       " 'cheaper',\n",
       " 'cheapest',\n",
       " 'check',\n",
       " 'checked',\n",
       " 'cheddar',\n",
       " 'cheese',\n",
       " 'chemical',\n",
       " 'chemicals',\n",
       " 'cherry',\n",
       " 'chew',\n",
       " 'chewing',\n",
       " 'chews',\n",
       " 'chewy',\n",
       " 'chia',\n",
       " 'chia seeds',\n",
       " 'chicken',\n",
       " 'child',\n",
       " 'childhood',\n",
       " 'children',\n",
       " 'chili',\n",
       " 'chilled',\n",
       " 'china',\n",
       " 'chinese',\n",
       " 'chip',\n",
       " 'chips',\n",
       " 'chips ever',\n",
       " 'chips great',\n",
       " 'chips not',\n",
       " 'chips really',\n",
       " 'chips taste',\n",
       " 'chocolate',\n",
       " 'chocolate chip',\n",
       " 'chocolate cups',\n",
       " 'chocolate flavor',\n",
       " 'chocolate not',\n",
       " 'chocolates',\n",
       " 'chocolatey',\n",
       " 'choice',\n",
       " 'choices',\n",
       " 'cholesterol',\n",
       " 'choose',\n",
       " 'chopped',\n",
       " 'chose',\n",
       " 'chowder',\n",
       " 'christmas',\n",
       " 'chunks',\n",
       " 'cider',\n",
       " 'cinnamon',\n",
       " 'citrus',\n",
       " 'claim',\n",
       " 'claims',\n",
       " 'clam',\n",
       " 'clam chowder',\n",
       " 'class',\n",
       " 'classic',\n",
       " 'clean',\n",
       " 'cleaning',\n",
       " 'clear',\n",
       " 'clearly',\n",
       " 'close',\n",
       " 'closer',\n",
       " 'closest',\n",
       " 'club',\n",
       " 'co',\n",
       " 'coast',\n",
       " 'coat',\n",
       " 'coated',\n",
       " 'coating',\n",
       " 'coats',\n",
       " 'coco',\n",
       " 'cocoa',\n",
       " 'cocoa powder',\n",
       " 'coconut',\n",
       " 'coconut oil',\n",
       " 'coconut water',\n",
       " 'coffee',\n",
       " 'coffee beans',\n",
       " 'coffee best',\n",
       " 'coffee cups',\n",
       " 'coffee drinker',\n",
       " 'coffee drinkers',\n",
       " 'coffee ever',\n",
       " 'coffee every',\n",
       " 'coffee flavor',\n",
       " 'coffee good',\n",
       " 'coffee great',\n",
       " 'coffee like',\n",
       " 'coffee machine',\n",
       " 'coffee maker',\n",
       " 'coffee no',\n",
       " 'coffee not',\n",
       " 'coffee one',\n",
       " 'coffee people',\n",
       " 'coffee shop',\n",
       " 'coffee smooth',\n",
       " 'coffee strong',\n",
       " 'coffee tastes',\n",
       " 'coffee tea',\n",
       " 'coffee use',\n",
       " 'coffee would',\n",
       " 'coffees',\n",
       " 'coke',\n",
       " 'cold',\n",
       " 'cold water',\n",
       " 'collection',\n",
       " 'color',\n",
       " 'colored',\n",
       " 'coloring',\n",
       " 'colors',\n",
       " 'com',\n",
       " 'combination',\n",
       " 'combined',\n",
       " 'combo',\n",
       " 'come',\n",
       " 'comes',\n",
       " 'coming',\n",
       " 'comment',\n",
       " 'comments',\n",
       " 'commercial',\n",
       " 'common',\n",
       " 'companies',\n",
       " 'company',\n",
       " 'company not',\n",
       " 'comparable',\n",
       " 'compare',\n",
       " 'compared',\n",
       " 'comparison',\n",
       " 'complain',\n",
       " 'complained',\n",
       " 'complaint',\n",
       " 'complaints',\n",
       " 'complete',\n",
       " 'completely',\n",
       " 'complex',\n",
       " 'computer',\n",
       " 'concentrate',\n",
       " 'concentrates',\n",
       " 'concerned',\n",
       " 'concerns',\n",
       " 'condition',\n",
       " 'confused',\n",
       " 'consider',\n",
       " 'considered',\n",
       " 'considering',\n",
       " 'consistency',\n",
       " 'consistent',\n",
       " 'consistently',\n",
       " 'constant',\n",
       " 'constantly',\n",
       " 'consume',\n",
       " 'consumed',\n",
       " 'consumer',\n",
       " 'consuming',\n",
       " 'consumption',\n",
       " 'contact',\n",
       " 'contain',\n",
       " 'contained',\n",
       " 'container',\n",
       " 'containers',\n",
       " 'containing',\n",
       " 'contains',\n",
       " 'content',\n",
       " 'contents',\n",
       " 'continue',\n",
       " 'continue buy',\n",
       " 'continued',\n",
       " 'control',\n",
       " 'convenience',\n",
       " 'convenient',\n",
       " 'cook',\n",
       " 'cooked',\n",
       " 'cookie',\n",
       " 'cookie bars',\n",
       " 'cookies',\n",
       " 'cooking',\n",
       " 'cooks',\n",
       " 'cool',\n",
       " 'corn',\n",
       " 'corn syrup',\n",
       " 'corner',\n",
       " 'correct',\n",
       " 'correctly',\n",
       " 'cost',\n",
       " 'costco',\n",
       " 'costs',\n",
       " 'could',\n",
       " 'could buy',\n",
       " 'could eat',\n",
       " 'could find',\n",
       " 'could get',\n",
       " 'could make',\n",
       " 'could not',\n",
       " 'count',\n",
       " 'counter',\n",
       " 'country',\n",
       " 'couple',\n",
       " 'couple days',\n",
       " 'couple years',\n",
       " 'coupon',\n",
       " 'course',\n",
       " 'cover',\n",
       " 'covered',\n",
       " 'cow',\n",
       " 'cow milk',\n",
       " 'cracked',\n",
       " 'cracker',\n",
       " 'crackers',\n",
       " 'crap',\n",
       " 'crave',\n",
       " 'craving',\n",
       " 'cravings',\n",
       " 'crazy',\n",
       " 'cream',\n",
       " 'cream cheese',\n",
       " 'cream onion',\n",
       " 'cream sugar',\n",
       " 'creamer',\n",
       " 'creamy',\n",
       " 'create',\n",
       " 'created',\n",
       " 'creates',\n",
       " 'creme',\n",
       " 'crisp',\n",
       " 'crisps',\n",
       " 'crispy',\n",
       " 'crocker',\n",
       " 'crumbled',\n",
       " 'crumbly',\n",
       " 'crumbs',\n",
       " 'crunch',\n",
       " 'crunchy',\n",
       " 'crushed',\n",
       " 'crust',\n",
       " 'cubes',\n",
       " 'cup',\n",
       " 'cup coffee',\n",
       " 'cup hot',\n",
       " 'cup not',\n",
       " 'cup setting',\n",
       " 'cup size',\n",
       " 'cup tea',\n",
       " 'cupboard',\n",
       " 'cupcakes',\n",
       " 'cups',\n",
       " 'cups not',\n",
       " 'current',\n",
       " 'currently',\n",
       " 'curry',\n",
       " 'customer',\n",
       " 'customer service',\n",
       " 'customers',\n",
       " 'cut',\n",
       " 'cut back',\n",
       " 'cute',\n",
       " 'cutting',\n",
       " 'dad',\n",
       " 'daily',\n",
       " 'dairy',\n",
       " 'dairy free',\n",
       " 'damage',\n",
       " 'damaged',\n",
       " 'dark',\n",
       " 'dark chocolate',\n",
       " 'dark roast',\n",
       " 'darker',\n",
       " 'darn',\n",
       " 'date',\n",
       " 'dates',\n",
       " 'daughter',\n",
       " 'daughter loves',\n",
       " 'day',\n",
       " 'day not',\n",
       " 'days',\n",
       " 'de',\n",
       " 'dead',\n",
       " 'deal',\n",
       " 'decaf',\n",
       " 'decaf coffee',\n",
       " 'decaffeinated',\n",
       " 'decent',\n",
       " 'decide',\n",
       " 'decided',\n",
       " 'decided give',\n",
       " 'decided try',\n",
       " 'deep',\n",
       " 'definately',\n",
       " 'definite',\n",
       " 'definitely',\n",
       " 'definitely buy',\n",
       " 'definitely buying',\n",
       " 'definitely not',\n",
       " 'definitely order',\n",
       " 'definitely recommend',\n",
       " 'definitely worth',\n",
       " 'degrees',\n",
       " 'delicate',\n",
       " 'delicious',\n",
       " 'delicious not',\n",
       " 'delight',\n",
       " 'delighted',\n",
       " 'delightful',\n",
       " 'delivered',\n",
       " 'delivers',\n",
       " 'delivery',\n",
       " 'dense',\n",
       " 'dented',\n",
       " 'depending',\n",
       " 'describe',\n",
       " 'described',\n",
       " 'description',\n",
       " 'design',\n",
       " 'designed',\n",
       " 'desired',\n",
       " 'desk',\n",
       " 'despite',\n",
       " 'dessert',\n",
       " 'desserts',\n",
       " 'diabetes',\n",
       " 'diabetic',\n",
       " 'diagnosed',\n",
       " 'diamond',\n",
       " 'diarrhea',\n",
       " 'didnt',\n",
       " 'diet',\n",
       " 'dietary',\n",
       " 'dieting',\n",
       " 'diets',\n",
       " 'difference',\n",
       " 'different',\n",
       " 'different brand',\n",
       " 'different brands',\n",
       " 'different flavors',\n",
       " 'different kinds',\n",
       " 'different types',\n",
       " 'differently',\n",
       " 'difficult',\n",
       " 'difficult find',\n",
       " 'digest',\n",
       " 'digestion',\n",
       " 'digestive',\n",
       " 'digestive system',\n",
       " 'dinner',\n",
       " 'dinners',\n",
       " 'dip',\n",
       " 'dipping',\n",
       " 'dips',\n",
       " 'direct',\n",
       " 'directions',\n",
       " 'directly',\n",
       " 'dirt',\n",
       " 'dirty',\n",
       " 'disappointed',\n",
       " 'disappointed product',\n",
       " 'disappointing',\n",
       " 'disappointment',\n",
       " 'discontinued',\n",
       " 'discount',\n",
       " 'discover',\n",
       " 'discovered',\n",
       " 'disease',\n",
       " 'disgusting',\n",
       " 'dish',\n",
       " 'dishes',\n",
       " 'dislike',\n",
       " 'disposable',\n",
       " 'disposakups',\n",
       " 'dissolve',\n",
       " 'dissolved',\n",
       " 'dissolves',\n",
       " 'distinct',\n",
       " 'doctor',\n",
       " 'doesnt',\n",
       " 'dog',\n",
       " 'dog food',\n",
       " 'dog loves',\n",
       " 'dog not',\n",
       " 'dogs',\n",
       " 'dogs love',\n",
       " 'dollar',\n",
       " 'dollars',\n",
       " 'done',\n",
       " 'dont',\n",
       " 'donut',\n",
       " 'donut shop',\n",
       " 'donuts',\n",
       " 'door',\n",
       " 'dose',\n",
       " 'double',\n",
       " 'doubt',\n",
       " 'dough',\n",
       " 'downside',\n",
       " 'dozen',\n",
       " 'dr',\n",
       " 'drank',\n",
       " 'drawback',\n",
       " 'dressing',\n",
       " 'dried',\n",
       " 'drink',\n",
       " 'drink coffee',\n",
       " 'drink lot',\n",
       " 'drink not',\n",
       " 'drinker',\n",
       " 'drinkers',\n",
       " 'drinking',\n",
       " 'drinking tea',\n",
       " 'drinks',\n",
       " 'drip',\n",
       " 'drip coffee',\n",
       " 'drive',\n",
       " 'drop',\n",
       " 'dropped',\n",
       " 'drops',\n",
       " 'drunk',\n",
       " 'dry',\n",
       " 'dry food',\n",
       " 'due',\n",
       " 'dunkin',\n",
       " 'dust',\n",
       " 'earlier',\n",
       " 'early',\n",
       " 'earth',\n",
       " 'earth best',\n",
       " 'earthy',\n",
       " 'ease',\n",
       " 'easier',\n",
       " 'easily',\n",
       " 'easy',\n",
       " 'easy make',\n",
       " 'easy prepare',\n",
       " 'easy use',\n",
       " 'easy way',\n",
       " 'eat',\n",
       " 'eat anything',\n",
       " 'eat much',\n",
       " 'eat not',\n",
       " 'eat one',\n",
       " 'eat whole',\n",
       " 'eaten',\n",
       " 'eater',\n",
       " 'eating',\n",
       " 'eats',\n",
       " 'economical',\n",
       " 'edge',\n",
       " 'edible',\n",
       " 'edit',\n",
       " 'effect',\n",
       " 'effective',\n",
       " 'effects',\n",
       " 'effort',\n",
       " 'egg',\n",
       " 'eggs',\n",
       " 'either',\n",
       " 'either way',\n",
       " 'electrolytes',\n",
       " 'else',\n",
       " 'elsewhere',\n",
       " 'em',\n",
       " 'email',\n",
       " 'empty',\n",
       " 'end',\n",
       " 'ended',\n",
       " 'ends',\n",
       " 'energy',\n",
       " 'energy drink',\n",
       " 'england',\n",
       " 'english',\n",
       " 'enjoy',\n",
       " 'enjoyable',\n",
       " 'enjoyed',\n",
       " 'enjoying',\n",
       " 'enjoys',\n",
       " 'enough',\n",
       " 'entire',\n",
       " 'entirely',\n",
       " 'equal',\n",
       " 'equally',\n",
       " 'equivalent',\n",
       " 'error',\n",
       " 'especially',\n",
       " 'especially like',\n",
       " 'espresso',\n",
       " 'essential',\n",
       " 'etc',\n",
       " 'european',\n",
       " 'even',\n",
       " 'even better',\n",
       " 'even like',\n",
       " 'even not',\n",
       " 'even though',\n",
       " 'evening',\n",
       " 'eventually',\n",
       " 'ever',\n",
       " 'ever eaten',\n",
       " ...]"
      ]
     },
     "execution_count": 68,
     "metadata": {},
     "output_type": "execute_result"
    }
   ],
   "source": [
    "tfidf_feature_name"
   ]
  },
  {
   "cell_type": "code",
   "execution_count": 69,
   "metadata": {
    "scrolled": true
   },
   "outputs": [
    {
     "name": "stdout",
     "output_type": "stream",
     "text": [
      "(6024, 3793)\n",
      "(670, 3793)\n",
      "(2870, 3793)\n"
     ]
    }
   ],
   "source": [
    "print(x_train_tfidf.shape)\n",
    "print(x_cv_tfidf.shape)\n",
    "print(x_test_tfidf.shape)"
   ]
  },
  {
   "cell_type": "markdown",
   "metadata": {},
   "source": [
    "### 5.1.1.2. Training and Testing"
   ]
  },
  {
   "cell_type": "code",
   "execution_count": 70,
   "metadata": {},
   "outputs": [
    {
     "name": "stderr",
     "output_type": "stream",
     "text": [
      "100%|████████████████████████████████████████████████████████████████████████████████████| 8/8 [00:00<00:00, 22.03it/s]\n"
     ]
    }
   ],
   "source": [
    "train_auc=[]\n",
    "cv_auc=[]\n",
    "from tqdm import tqdm\n",
    "K=[10**i for i in range(-4,4)]\n",
    "for k in tqdm(K):\n",
    "    model=LogisticRegression(C=k,penalty='l1',class_weight='balanced',solver='liblinear')\n",
    "    model.fit(x_train_tfidf,y_train)\n",
    "    y_train_prob=[]\n",
    "    for i in range(0,x_train_tfidf.shape[0],1000):\n",
    "        y_train_prob.extend(model.predict_proba(x_train_tfidf[i:i+1000])[:,1])\n",
    "    y_cv_prob=[]\n",
    "    for i in range(0,x_cv_tfidf.shape[0],1000):\n",
    "        y_cv_prob.extend(model.predict_proba(x_cv_tfidf[i:i+1000])[:,1])\n",
    "    train_auc.append(roc_auc_score(y_train,y_train_prob))\n",
    "    cv_auc.append(roc_auc_score(y_cv,y_cv_prob))\n"
   ]
  },
  {
   "cell_type": "code",
   "execution_count": 71,
   "metadata": {},
   "outputs": [
    {
     "name": "stdout",
     "output_type": "stream",
     "text": [
      "[0.0001, 0.001, 0.01, 0.1, 1, 10, 100, 1000]\n"
     ]
    },
    {
     "data": {
      "image/png": "[encoded data removed]",
      "text/plain": [
       "<Figure size 432x288 with 1 Axes>"
      ]
     },
     "metadata": {
      "needs_background": "light"
     },
     "output_type": "display_data"
    }
   ],
   "source": [
    "import math\n",
    "k=[10**i for i in range(-4,4)]\n",
    "print(k)\n",
    "log_c=[math.log(i) for i in k]\n",
    "plt.plot(log_c,train_auc,label='train_auc')\n",
    "plt.plot(log_c,cv_auc,label='cv_auc')\n",
    "plt.legend()\n",
    "plt.scatter(log_c,train_auc)\n",
    "plt.scatter(log_c,cv_auc)\n",
    "plt.grid()\n",
    "plt.ylabel('auc')\n",
    "plt.xlabel('value of c')\n",
    "plt.show()"
   ]
  },
  {
   "cell_type": "markdown",
   "metadata": {},
   "source": [
    "### best alpha is 5 from this graph"
   ]
  },
  {
   "cell_type": "markdown",
   "metadata": {},
   "source": [
    "### plotting the roc_auc curve"
   ]
  },
  {
   "cell_type": "code",
   "execution_count": 72,
   "metadata": {},
   "outputs": [
    {
     "name": "stderr",
     "output_type": "stream",
     "text": [
      "100%|██████████████████████████████████████████████████████████████████████████████████| 7/7 [00:00<00:00, 2311.46it/s]\n",
      "100%|██████████████████████████████████████████████████████████████████████████████████| 3/3 [00:00<00:00, 1504.41it/s]\n"
     ]
    }
   ],
   "source": [
    "best_C=5\n",
    "from sklearn.metrics import roc_curve,auc\n",
    "model=LogisticRegression(C=best_C,penalty='l1',class_weight='balanced',solver='liblinear')\n",
    "model.fit(x_train_tfidf,y_train)\n",
    "y_train_pred=[]\n",
    "for i in tqdm(range(0,x_train_tfidf.shape[0],1000)):\n",
    "    y_train_pred.extend(model.predict_proba(x_train_tfidf[i:i+1000])[:,1])\n",
    "fpr_train,tpr_train,thresholds_train=roc_curve(y_train,y_train_pred)\n",
    "y_test_pred=[]\n",
    "for i in tqdm(range(0,x_test_tfidf.shape[0],1000)):\n",
    "    y_test_pred.extend(model.predict_proba(x_test_tfidf[i:i+1000])[:,1])\n",
    "fpr_test,tpr_test,thresholds_test=roc_curve(y_test,y_test_pred)\n"
   ]
  },
  {
   "cell_type": "code",
   "execution_count": 73,
   "metadata": {},
   "outputs": [
    {
     "data": {
      "text/plain": [
       "Text(0, 0.5, 'True positive rate')"
      ]
     },
     "execution_count": 73,
     "metadata": {},
     "output_type": "execute_result"
    },
    {
     "data": {
      "image/png": "[encoded data removed]",
      "text/plain": [
       "<Figure size 432x288 with 1 Axes>"
      ]
     },
     "metadata": {
      "needs_background": "light"
     },
     "output_type": "display_data"
    }
   ],
   "source": [
    "plt.title('Error')\n",
    "plt.plot(fpr_test,tpr_test,label='test='+str(auc(fpr_test,tpr_test)))\n",
    "plt.plot(fpr_train,tpr_train,label='train='+str(auc(fpr_train,tpr_train)))\n",
    "plt.legend()\n",
    "plt.xlabel('False positive rate')\n",
    "plt.ylabel('True positive rate')"
   ]
  },
  {
   "cell_type": "markdown",
   "metadata": {},
   "source": [
    "### Confusion Matrix"
   ]
  },
  {
   "cell_type": "markdown",
   "metadata": {},
   "source": [
    "### Confusion Matrix of Train data"
   ]
  },
  {
   "cell_type": "code",
   "execution_count": 74,
   "metadata": {},
   "outputs": [
    {
     "name": "stdout",
     "output_type": "stream",
     "text": [
      "Train Confusion Matrix\n",
      "[[ 987    1]\n",
      " [ 118 4918]]\n"
     ]
    },
    {
     "data": {
      "text/plain": [
       "<AxesSubplot:>"
      ]
     },
     "execution_count": 74,
     "metadata": {},
     "output_type": "execute_result"
    },
    {
     "data": {
      "image/png": "[encoded data removed]",
      "text/plain": [
       "<Figure size 432x288 with 1 Axes>"
      ]
     },
     "metadata": {
      "needs_background": "light"
     },
     "output_type": "display_data"
    }
   ],
   "source": [
    "from sklearn.metrics import confusion_matrix\n",
    "print('Train Confusion Matrix')\n",
    "print(confusion_matrix(y_train,model.predict(x_train_tfidf)))\n",
    "tn,fp,fn,tp=confusion_matrix(y_train,model.predict(x_train_tfidf)).ravel()\n",
    "mat=np.matrix([[tn,fn],[fp,tp]])\n",
    "sns.heatmap(mat, square=True, annot=True, fmt='d', cbar=False,\n",
    "xticklabels=[0,1], yticklabels=[0,1])"
   ]
  },
  {
   "cell_type": "markdown",
   "metadata": {},
   "source": [
    "### Confusion Matrix of Test data"
   ]
  },
  {
   "cell_type": "code",
   "execution_count": 75,
   "metadata": {},
   "outputs": [
    {
     "name": "stdout",
     "output_type": "stream",
     "text": [
      "Test Confusion Matrix\n",
      "[[ 356  135]\n",
      " [ 188 2191]]\n"
     ]
    },
    {
     "data": {
      "text/plain": [
       "<AxesSubplot:>"
      ]
     },
     "execution_count": 75,
     "metadata": {},
     "output_type": "execute_result"
    },
    {
     "data": {
      "image/png": "[encoded data removed]",
      "text/plain": [
       "<Figure size 432x288 with 1 Axes>"
      ]
     },
     "metadata": {
      "needs_background": "light"
     },
     "output_type": "display_data"
    }
   ],
   "source": [
    "print('Test Confusion Matrix')\n",
    "print(confusion_matrix(y_test,model.predict(x_test_tfidf)))\n",
    "tn,fp,fn,tp=confusion_matrix(y_test,model.predict(x_test_tfidf)).ravel()\n",
    "mat=np.matrix([[tn,fn],[fp,tp]])\n",
    "sns.heatmap(mat, square=True, annot=True, fmt='d', cbar=False,\n",
    "xticklabels=[0,1], yticklabels=[0,1])"
   ]
  },
  {
   "cell_type": "markdown",
   "metadata": {},
   "source": [
    "#### [5.1.1.1] Calculating sparsity on weight vector obtained using L1 regularization on BOW,<font color='red'> SET 1</font>"
   ]
  },
  {
   "cell_type": "code",
   "execution_count": 76,
   "metadata": {},
   "outputs": [
    {
     "name": "stdout",
     "output_type": "stream",
     "text": [
      "4\n"
     ]
    }
   ],
   "source": [
    "clf = LogisticRegression(C=0.1,  penalty='l1',solver='liblinear');\n",
    "clf.fit(x_train_tfidf, y_train);\n",
    "w = clf.coef_\n",
    "print(np.count_nonzero(w))"
   ]
  },
  {
   "cell_type": "markdown",
   "metadata": {
    "colab_type": "text",
    "id": "NdFShHQJLPpV"
   },
   "source": [
    "### [5.2.2] Applying Logistic Regression with L2 regularization on TFIDF,<font color='red'> SET 2</font>"
   ]
  },
  {
   "cell_type": "markdown",
   "metadata": {
    "colab": {},
    "colab_type": "code",
    "id": "Jyhq3JDzLPpW"
   },
   "source": [
    "### Training and Testing"
   ]
  },
  {
   "cell_type": "code",
   "execution_count": 77,
   "metadata": {},
   "outputs": [
    {
     "name": "stderr",
     "output_type": "stream",
     "text": [
      "100%|████████████████████████████████████████████████████████████████████████████████████| 8/8 [00:00<00:00, 11.41it/s]\n"
     ]
    }
   ],
   "source": [
    "train_auc=[]\n",
    "cv_auc=[]\n",
    "from tqdm import tqdm\n",
    "K=[10**i for i in range(-4,4)]\n",
    "for k in tqdm(K):\n",
    "    model=LogisticRegression(C=k,penalty='l2',class_weight='balanced')\n",
    "    model.fit(x_train_tfidf,y_train)\n",
    "    y_train_prob=[]\n",
    "    for i in range(0,x_train_tfidf.shape[0],1000):\n",
    "        y_train_prob.extend(model.predict_proba(x_train_tfidf[i:i+1000])[:,1])\n",
    "    y_cv_prob=[]\n",
    "    for i in range(0,x_cv_tfidf.shape[0],1000):\n",
    "        y_cv_prob.extend(model.predict_proba(x_cv_tfidf[i:i+1000])[:,1])\n",
    "    train_auc.append(roc_auc_score(y_train,y_train_prob))\n",
    "    cv_auc.append(roc_auc_score(y_cv,y_cv_prob))"
   ]
  },
  {
   "cell_type": "code",
   "execution_count": 78,
   "metadata": {},
   "outputs": [
    {
     "name": "stdout",
     "output_type": "stream",
     "text": [
      "[0.0001, 0.001, 0.01, 0.1, 1, 10, 100, 1000]\n"
     ]
    },
    {
     "data": {
      "image/png": "[encoded data removed]",
      "text/plain": [
       "<Figure size 432x288 with 1 Axes>"
      ]
     },
     "metadata": {
      "needs_background": "light"
     },
     "output_type": "display_data"
    }
   ],
   "source": [
    "import math\n",
    "k=[10**i for i in range(-4,4)]\n",
    "print(k)\n",
    "log_c=[math.log(i) for i in k]\n",
    "plt.plot(log_c,train_auc,label='train_auc')\n",
    "plt.plot(log_c,cv_auc,label='cv_auc')\n",
    "plt.legend()\n",
    "plt.scatter(log_c,train_auc)\n",
    "plt.scatter(log_c,cv_auc)\n",
    "plt.grid()\n",
    "plt.ylabel('auc')\n",
    "plt.xlabel('value of c')\n",
    "plt.show()"
   ]
  },
  {
   "cell_type": "markdown",
   "metadata": {},
   "source": [
    "### plotting the roc_auc curve"
   ]
  },
  {
   "cell_type": "code",
   "execution_count": 79,
   "metadata": {},
   "outputs": [
    {
     "name": "stderr",
     "output_type": "stream",
     "text": [
      "100%|██████████████████████████████████████████████████████████████████████████████████| 7/7 [00:00<00:00, 1740.38it/s]\n",
      "100%|██████████████████████████████████████████████████████████████████████████████████| 3/3 [00:00<00:00, 1530.77it/s]\n"
     ]
    }
   ],
   "source": [
    "best_C=0.01\n",
    "from sklearn.metrics import roc_curve,auc\n",
    "model=LogisticRegression(C=0.01,penalty='l2',class_weight='balanced')\n",
    "model.fit(x_train_bow,y_train)\n",
    "y_train_pred=[]\n",
    "for i in tqdm(range(0,x_train_bow.shape[0],1000)):\n",
    "    y_train_pred.extend(model.predict_proba(x_train_bow[i:i+1000])[:,1])\n",
    "fpr_train,tpr_train,thresholds_train=roc_curve(y_train,y_train_pred)\n",
    "y_test_pred=[]\n",
    "for i in tqdm(range(0,x_test_bow.shape[0],1000)):\n",
    "    y_test_pred.extend(model.predict_proba(x_test_bow[i:i+1000])[:,1])\n",
    "fpr_test,tpr_test,thresholds_test=roc_curve(y_test,y_test_pred)"
   ]
  },
  {
   "cell_type": "code",
   "execution_count": 80,
   "metadata": {},
   "outputs": [
    {
     "data": {
      "text/plain": [
       "Text(0, 0.5, 'True positive rate')"
      ]
     },
     "execution_count": 80,
     "metadata": {},
     "output_type": "execute_result"
    },
    {
     "data": {
      "image/png": "[encoded data removed]",
      "text/plain": [
       "<Figure size 432x288 with 1 Axes>"
      ]
     },
     "metadata": {
      "needs_background": "light"
     },
     "output_type": "display_data"
    }
   ],
   "source": [
    "plt.title('Error')\n",
    "plt.plot(fpr_test,tpr_test,label='test='+str(auc(fpr_test,tpr_test)))\n",
    "plt.plot(fpr_train,tpr_train,label='train='+str(auc(fpr_train,tpr_train)))\n",
    "plt.legend()\n",
    "plt.xlabel('False positive rate')\n",
    "plt.ylabel('True positive rate')"
   ]
  },
  {
   "cell_type": "markdown",
   "metadata": {},
   "source": [
    "### Confusion Matrix"
   ]
  },
  {
   "cell_type": "markdown",
   "metadata": {},
   "source": [
    "### Confusion Matrix of Train data"
   ]
  },
  {
   "cell_type": "code",
   "execution_count": 81,
   "metadata": {},
   "outputs": [
    {
     "name": "stdout",
     "output_type": "stream",
     "text": [
      "Train Confusion Matrix\n",
      "[[ 877  111]\n",
      " [ 620 4416]]\n"
     ]
    },
    {
     "data": {
      "text/plain": [
       "<AxesSubplot:>"
      ]
     },
     "execution_count": 81,
     "metadata": {},
     "output_type": "execute_result"
    },
    {
     "data": {
      "image/png": "[encoded data removed]",
      "text/plain": [
       "<Figure size 432x288 with 1 Axes>"
      ]
     },
     "metadata": {
      "needs_background": "light"
     },
     "output_type": "display_data"
    }
   ],
   "source": [
    "from sklearn.metrics import confusion_matrix\n",
    "print('Train Confusion Matrix')\n",
    "print(confusion_matrix(y_train,model.predict(x_train_bow)))\n",
    "tn,fp,fn,tp=confusion_matrix(y_train,model.predict(x_train_bow)).ravel()\n",
    "mat=np.matrix([[tn,fn],[fp,tp]])\n",
    "sns.heatmap(mat, square=True, annot=True, fmt='d', cbar=False,\n",
    "xticklabels=[0,1], yticklabels=[0,1])"
   ]
  },
  {
   "cell_type": "markdown",
   "metadata": {},
   "source": [
    "### Confusion Matrix of Test data"
   ]
  },
  {
   "cell_type": "code",
   "execution_count": 82,
   "metadata": {},
   "outputs": [
    {
     "name": "stdout",
     "output_type": "stream",
     "text": [
      "Test Confusion Matrix\n",
      "[[ 387  104]\n",
      " [ 315 2064]]\n"
     ]
    },
    {
     "data": {
      "text/plain": [
       "<AxesSubplot:>"
      ]
     },
     "execution_count": 82,
     "metadata": {},
     "output_type": "execute_result"
    },
    {
     "data": {
      "image/png": "[encoded data removed]",
      "text/plain": [
       "<Figure size 432x288 with 1 Axes>"
      ]
     },
     "metadata": {
      "needs_background": "light"
     },
     "output_type": "display_data"
    }
   ],
   "source": [
    "print('Test Confusion Matrix')\n",
    "print(confusion_matrix(y_test,model.predict(x_test_bow)))\n",
    "tn,fp,fn,tp=confusion_matrix(y_test,model.predict(x_test_bow)).ravel()\n",
    "mat=np.matrix([[tn,fn],[fp,tp]])\n",
    "sns.heatmap(mat, square=True, annot=True, fmt='d', cbar=False,\n",
    "xticklabels=[0,1], yticklabels=[0,1])"
   ]
  },
  {
   "cell_type": "markdown",
   "metadata": {
    "colab_type": "text",
    "id": "xeeJ8eVvLPpX"
   },
   "source": [
    "### [5.2.3] Feature Importance on TFIDF,<font color='red'> SET 2</font>"
   ]
  },
  {
   "cell_type": "markdown",
   "metadata": {
    "colab_type": "text",
    "id": "Cj9XEmqQLPpY"
   },
   "source": [
    "#### [5.2.3.1] Top 10 important features of positive class from<font color='red'> SET 2</font>"
   ]
  },
  {
   "cell_type": "code",
   "execution_count": 83,
   "metadata": {
    "colab": {},
    "colab_type": "code",
    "id": "RG10txygLPpb"
   },
   "outputs": [],
   "source": [
    "# Please write all the code with proper documentation"
   ]
  },
  {
   "cell_type": "markdown",
   "metadata": {
    "colab_type": "text",
    "id": "PowEfns4LPpg"
   },
   "source": [
    "#### [5.2.3.2] Top 10 important features of negative class from<font color='red'> SET 2</font>"
   ]
  },
  {
   "cell_type": "code",
   "execution_count": 84,
   "metadata": {
    "colab": {},
    "colab_type": "code",
    "id": "G7jrma95LPpg"
   },
   "outputs": [],
   "source": [
    "# Please write all the code with proper documentation"
   ]
  },
  {
   "cell_type": "markdown",
   "metadata": {
    "colab_type": "text",
    "id": "sqYadGOgLPpi"
   },
   "source": [
    "## [5.3] Logistic Regression on AVG W2V,<font color='red'> SET 3</font>"
   ]
  },
  {
   "cell_type": "markdown",
   "metadata": {
    "colab_type": "text",
    "id": "kByBCEA1LPpj"
   },
   "source": [
    "### [5.3.1] Applying Logistic Regression with L1 regularization on AVG W2V<font color='red'> SET 3</font>"
   ]
  },
  {
   "cell_type": "code",
   "execution_count": 85,
   "metadata": {
    "colab": {},
    "colab_type": "code",
    "id": "yCQ_4iJkLPpj"
   },
   "outputs": [
    {
     "data": {
      "text/plain": [
       "Index(['Id', 'ProductId', 'UserId', 'ProfileName', 'HelpfulnessNumerator',\n",
       "       'HelpfulnessDenominator', 'Score', 'Time', 'Summary', 'Text',\n",
       "       'preprocessed_reviews'],\n",
       "      dtype='object')"
      ]
     },
     "execution_count": 85,
     "metadata": {},
     "output_type": "execute_result"
    }
   ],
   "source": [
    "final_sorted_data.columns"
   ]
  },
  {
   "cell_type": "code",
   "execution_count": 86,
   "metadata": {},
   "outputs": [],
   "source": [
    "# Train your own Word2Vec model using your own text corpus\n",
    "i=0\n",
    "list_of_sentance_w2v=[]\n",
    "for sentance in final_sorted_data['preprocessed_reviews']:\n",
    "    list_of_sentance_w2v.append(sentance.split())"
   ]
  },
  {
   "cell_type": "code",
   "execution_count": 87,
   "metadata": {},
   "outputs": [
    {
     "name": "stderr",
     "output_type": "stream",
     "text": [
      "100%|█████████████████████████████████████████████████████████████████████████████| 9564/9564 [00:13<00:00, 708.58it/s]"
     ]
    },
    {
     "name": "stdout",
     "output_type": "stream",
     "text": [
      "9564\n",
      "2562\n"
     ]
    },
    {
     "name": "stderr",
     "output_type": "stream",
     "text": [
      "\n"
     ]
    }
   ],
   "source": [
    "# average Word2Vec\n",
    "# compute average word2vec for each review.\n",
    "sent_vectors = []; # the avg-w2v for each sentence/review is stored in this list\n",
    "for sent in tqdm(list_of_sentance): # for each review/sentence\n",
    "    sent_vec = np.zeros(2562) # as word vectors are of zero length 50, you might need to change this to 300 if you use google's w2v\n",
    "    cnt_words =0; # num of words with a valid vector in the sentence/review\n",
    "    for word in sent: # for each word in a review/sentence\n",
    "        if word in w2v_words:\n",
    "            vec = w2v_model.wv[word]\n",
    "            sent_vec += vec\n",
    "            cnt_words += 1\n",
    "    if cnt_words != 0:\n",
    "        sent_vec /= cnt_words\n",
    "    sent_vectors.append(sent_vec)\n",
    "print(len(sent_vectors))\n",
    "print(len(sent_vectors[0]))"
   ]
  },
  {
   "cell_type": "code",
   "execution_count": 88,
   "metadata": {},
   "outputs": [],
   "source": [
    "X=sent_vectors\n",
    "Y=final_sorted_data['Score']"
   ]
  },
  {
   "cell_type": "code",
   "execution_count": 89,
   "metadata": {},
   "outputs": [
    {
     "name": "stdout",
     "output_type": "stream",
     "text": [
      "6024\n",
      "6024\n",
      "2870\n",
      "2870\n",
      "670\n",
      "670\n"
     ]
    }
   ],
   "source": [
    "from sklearn.model_selection import train_test_split\n",
    "x_train,x_test,y_train,y_test=train_test_split(X,Y,test_size=0.3,random_state=0)\n",
    "x_train,x_cv,y_train,y_cv=train_test_split(x_train,y_train,test_size=0.1,random_state=0)\n",
    "print(len(x_train))\n",
    "print(len(y_train))\n",
    "print(len(x_test))\n",
    "print(len(y_test))\n",
    "print(len(x_cv))\n",
    "print(len(y_cv))"
   ]
  },
  {
   "cell_type": "code",
   "execution_count": 90,
   "metadata": {},
   "outputs": [],
   "source": [
    "from sklearn.linear_model import LogisticRegression\n",
    "from sklearn.metrics import roc_auc_score"
   ]
  },
  {
   "cell_type": "markdown",
   "metadata": {},
   "source": [
    "### 5.1.1.2. Training and Testing"
   ]
  },
  {
   "cell_type": "code",
   "execution_count": 91,
   "metadata": {},
   "outputs": [
    {
     "name": "stderr",
     "output_type": "stream",
     "text": [
      "100%|██████████████████████████████████████████████████████████████████████████████████| 14/14 [00:24<00:00,  1.73s/it]\n"
     ]
    }
   ],
   "source": [
    "train_auc=[]\n",
    "cv_auc=[]\n",
    "from tqdm import tqdm\n",
    "K=[10**i for i in range(-4,10)]\n",
    "for k in tqdm(K):\n",
    "    model=LogisticRegression(C=k,penalty='l2',class_weight='balanced')\n",
    "    model.fit(x_train,y_train)\n",
    "    y_train_prob=[]\n",
    "    for i in range(0,len(x_train),1000):\n",
    "        y_train_prob.extend(model.predict_proba(x_train_bow[i:i+1000])[:,1])\n",
    "    y_cv_prob=[]\n",
    "    for i in range(0,x_cv_bow.shape[0],1000):\n",
    "        y_cv_prob.extend(model.predict_proba(x_cv_bow[i:i+1000])[:,1])\n",
    "    train_auc.append(roc_auc_score(y_train,y_train_prob))\n",
    "    cv_auc.append(roc_auc_score(y_cv,y_cv_prob))"
   ]
  },
  {
   "cell_type": "code",
   "execution_count": 92,
   "metadata": {},
   "outputs": [
    {
     "data": {
      "image/png": "[encoded data removed]",
      "text/plain": [
       "<Figure size 432x288 with 1 Axes>"
      ]
     },
     "metadata": {
      "needs_background": "light"
     },
     "output_type": "display_data"
    }
   ],
   "source": [
    "k=[10**i for i in range(-4,10)]\n",
    "log_c =[math.log(i) for i in k]\n",
    "plt.plot(log_c,train_auc,label='train_auc')\n",
    "plt.plot(log_c,cv_auc,label='cv_auc')\n",
    "plt.legend()\n",
    "plt.scatter(log_c,train_auc)\n",
    "plt.scatter(log_c,cv_auc)\n",
    "plt.grid()\n",
    "plt.ylabel('auc')\n",
    "plt.xlabel('value of c')\n",
    "plt.show()"
   ]
  },
  {
   "cell_type": "code",
   "execution_count": 93,
   "metadata": {},
   "outputs": [
    {
     "name": "stderr",
     "output_type": "stream",
     "text": [
      "100%|████████████████████████████████████████████████████████████████████████████████████| 7/7 [00:00<00:00, 88.81it/s]\n",
      "100%|████████████████████████████████████████████████████████████████████████████████████| 3/3 [00:00<00:00, 75.14it/s]\n"
     ]
    }
   ],
   "source": [
    "best_C=10\n",
    "from sklearn.metrics import roc_curve,auc\n",
    "model=LogisticRegression(C=1,penalty='l2',class_weight='balanced')\n",
    "model.fit(x_train,y_train)\n",
    "y_train_pred=[]\n",
    "for i in tqdm(range(0,len(x_train),1000)):\n",
    "    y_train_pred.extend(model.predict_proba(x_train[i:i+1000])[:,1])\n",
    "fpr_train,tpr_train,thresholds_train=roc_curve(y_train,y_train_pred)\n",
    "y_test_pred=[]\n",
    "for i in tqdm(range(0,len(x_test[0]),1000)):\n",
    "    y_test_pred.extend(model.predict_proba(x_test[i:i+1000])[:,1])\n",
    "fpr_test,tpr_test,thresholds_test=roc_curve(y_test,y_test_pred)"
   ]
  },
  {
   "cell_type": "code",
   "execution_count": 94,
   "metadata": {},
   "outputs": [
    {
     "data": {
      "text/plain": [
       "Text(0, 0.5, 'True positive rate')"
      ]
     },
     "execution_count": 94,
     "metadata": {},
     "output_type": "execute_result"
    },
    {
     "data": {
      "image/png": "[encoded data removed]",
      "text/plain": [
       "<Figure size 432x288 with 1 Axes>"
      ]
     },
     "metadata": {
      "needs_background": "light"
     },
     "output_type": "display_data"
    }
   ],
   "source": [
    "plt.title('Error')\n",
    "plt.plot(fpr_test,tpr_test,label='test='+str(auc(fpr_test,tpr_test)))\n",
    "plt.plot(fpr_train,tpr_train,label='train='+str(auc(fpr_train,tpr_train)))\n",
    "plt.legend()\n",
    "plt.xlabel('False positive rate')\n",
    "plt.ylabel('True positive rate')"
   ]
  },
  {
   "cell_type": "code",
   "execution_count": 95,
   "metadata": {},
   "outputs": [
    {
     "name": "stdout",
     "output_type": "stream",
     "text": [
      "Train Confusion Matrix\n",
      "[[ 516  472]\n",
      " [2312 2724]]\n"
     ]
    },
    {
     "data": {
      "text/plain": [
       "<AxesSubplot:>"
      ]
     },
     "execution_count": 95,
     "metadata": {},
     "output_type": "execute_result"
    },
    {
     "data": {
      "image/png": "[encoded data removed]",
      "text/plain": [
       "<Figure size 432x288 with 1 Axes>"
      ]
     },
     "metadata": {
      "needs_background": "light"
     },
     "output_type": "display_data"
    }
   ],
   "source": [
    "print('Train Confusion Matrix')\n",
    "print(confusion_matrix(y_train,model.predict(x_train)))\n",
    "tn,fp,fn,tp=confusion_matrix(y_train,model.predict(x_train)).ravel()\n",
    "mat=np.matrix([[tn,fn],[fp,tp]])\n",
    "sns.heatmap(mat, square=True, annot=True, fmt='d', cbar=False,\n",
    "xticklabels=[0,1], yticklabels=[0,1])"
   ]
  },
  {
   "cell_type": "code",
   "execution_count": 96,
   "metadata": {},
   "outputs": [
    {
     "name": "stdout",
     "output_type": "stream",
     "text": [
      "Test Confusion Matrix\n",
      "[[ 235  256]\n",
      " [1129 1250]]\n"
     ]
    },
    {
     "data": {
      "text/plain": [
       "<AxesSubplot:>"
      ]
     },
     "execution_count": 96,
     "metadata": {},
     "output_type": "execute_result"
    },
    {
     "data": {
      "image/png": "[encoded data removed]",
      "text/plain": [
       "<Figure size 432x288 with 1 Axes>"
      ]
     },
     "metadata": {
      "needs_background": "light"
     },
     "output_type": "display_data"
    }
   ],
   "source": [
    "print('Test Confusion Matrix')\n",
    "print(confusion_matrix(y_test,model.predict(x_test)))\n",
    "tn,fp,fn,tp=confusion_matrix(y_test,model.predict(x_test)).ravel()\n",
    "mat=np.matrix([[tn,fn],[fp,tp]])\n",
    "sns.heatmap(mat, square=True, annot=True, fmt='d', cbar=False,\n",
    "xticklabels=[0,1], yticklabels=[0,1])"
   ]
  },
  {
   "cell_type": "markdown",
   "metadata": {
    "colab_type": "text",
    "id": "pdXTwVIPLPpp"
   },
   "source": [
    "## [5.4] Logistic Regression on TFIDF W2V,<font color='red'> SET 4</font>"
   ]
  },
  {
   "cell_type": "markdown",
   "metadata": {
    "colab_type": "text",
    "id": "ynUK2tYDLPps"
   },
   "source": [
    "### [5.4.2] Applying Logistic Regression with L2 regularization on TFIDF W2V,<font color='red'> SET 4</font>"
   ]
  },
  {
   "cell_type": "code",
   "execution_count": 97,
   "metadata": {},
   "outputs": [],
   "source": [
    "preprocessed_reviews=final_sorted_data['preprocessed_reviews']"
   ]
  },
  {
   "cell_type": "code",
   "execution_count": 98,
   "metadata": {
    "colab": {},
    "colab_type": "code",
    "id": "hVYuiXl2LPpt"
   },
   "outputs": [],
   "source": [
    "# S = [\"abc def pqr\", \"def def def abc\", \"pqr pqr def\"]\n",
    "model = TfidfVectorizer()\n",
    "tf_idf_matrix = model.fit_transform(preprocessed_reviews)\n",
    "# we are converting a dictionary with word as a key, and the idf as a value\n",
    "dictionary = dict(zip(model.get_feature_names(), list(model.idf_)))"
   ]
  },
  {
   "cell_type": "code",
   "execution_count": 100,
   "metadata": {},
   "outputs": [
    {
     "name": "stderr",
     "output_type": "stream",
     "text": [
      "100%|█████████████████████████████████████████████████████████████████████████████| 9564/9564 [01:15<00:00, 126.25it/s]\n"
     ]
    }
   ],
   "source": [
    "# TF-IDF weighted Word2Vec\n",
    "tfidf_feat = model.get_feature_names() # tfidf words/col-names\n",
    "# final_tf_idf is the sparse matrix with row= sentence, col=word and cell_val = tfidf\n",
    "\n",
    "tfidf_sent_vectors = []; # the tfidf-w2v for each sentence/review is stored in this list\n",
    "row=0;\n",
    "for sent in tqdm(list_of_sentance): # for each review/sentence \n",
    "    sent_vec = np.zeros(2562) # as word vectors are of zero length\n",
    "    weight_sum =0; # num of words with a valid vector in the sentence/review\n",
    "    for word in sent: # for each word in a review/sentence\n",
    "        if word in w2v_words and word in tfidf_feat:\n",
    "            vec = w2v_model.wv[word]\n",
    "#             tf_idf = tf_idf_matrix[row, tfidf_feat.index(word)]\n",
    "            # to reduce the computation we are \n",
    "            # dictionary[word] = idf value of word in whole courpus\n",
    "            # sent.count(word) = tf valeus of word in this review\n",
    "            tf_idf = dictionary[word]*(sent.count(word)/len(sent))\n",
    "            sent_vec += (vec * tf_idf)\n",
    "            weight_sum += tf_idf\n",
    "    if weight_sum != 0:\n",
    "        sent_vec /= weight_sum\n",
    "    tfidf_sent_vectors.append(sent_vec)\n",
    "    row += 1"
   ]
  },
  {
   "cell_type": "code",
   "execution_count": 101,
   "metadata": {},
   "outputs": [],
   "source": [
    "X=tfidf_sent_vectors\n",
    "Y=final_sorted_data['Score']"
   ]
  },
  {
   "cell_type": "code",
   "execution_count": 102,
   "metadata": {},
   "outputs": [
    {
     "name": "stdout",
     "output_type": "stream",
     "text": [
      "9564\n",
      "9564\n",
      "<class 'pandas.core.series.Series'>\n"
     ]
    }
   ],
   "source": [
    "print(len(X))\n",
    "print(len(Y))\n",
    "print(type(Y))"
   ]
  },
  {
   "cell_type": "code",
   "execution_count": 118,
   "metadata": {},
   "outputs": [
    {
     "name": "stdout",
     "output_type": "stream",
     "text": [
      "6024\n",
      "6024\n",
      "2870\n",
      "2870\n",
      "670\n",
      "670\n"
     ]
    }
   ],
   "source": [
    "from sklearn.model_selection import train_test_split\n",
    "x_train,x_test_tfidf_w2v,y_train,y_test=train_test_split(X,Y,test_size=0.3,random_state=0)\n",
    "x_train_tfidf_w2v,x_cv_tfidf_w2v,y_train,y_cv=train_test_split(x_train,y_train,test_size=0.1,random_state=0)\n",
    "print(len(x_train_tfidf_w2v))\n",
    "print(len(y_train))\n",
    "print(len(x_test_tfidf_w2v))\n",
    "print(len(y_test))\n",
    "print(len(x_cv_tfidf_w2v))\n",
    "print(len(y_cv))"
   ]
  },
  {
   "cell_type": "code",
   "execution_count": 104,
   "metadata": {},
   "outputs": [],
   "source": [
    "from sklearn.linear_model import LogisticRegression\n",
    "from sklearn.metrics import roc_auc_score"
   ]
  },
  {
   "cell_type": "code",
   "execution_count": 107,
   "metadata": {},
   "outputs": [
    {
     "name": "stdout",
     "output_type": "stream",
     "text": [
      "2562\n"
     ]
    }
   ],
   "source": [
    "print(len(x_train_tfidf_w2v[0]))"
   ]
  },
  {
   "cell_type": "code",
   "execution_count": 120,
   "metadata": {
    "collapsed": true
   },
   "outputs": [
    {
     "name": "stderr",
     "output_type": "stream",
     "text": [
      "  0%|                                                                                            | 0/8 [00:00<?, ?it/s]\n"
     ]
    },
    {
     "ename": "ValueError",
     "evalue": "Found input variables with inconsistent numbers of samples: [670, 672]",
     "output_type": "error",
     "traceback": [
      "\u001b[1;31m---------------------------------------------------------------------------\u001b[0m",
      "\u001b[1;31mValueError\u001b[0m                                Traceback (most recent call last)",
      "\u001b[1;32m<ipython-input-120-e24ece7a3b61>\u001b[0m in \u001b[0;36m<module>\u001b[1;34m\u001b[0m\n\u001b[0;32m     13\u001b[0m         \u001b[0my_cv_prob\u001b[0m\u001b[1;33m.\u001b[0m\u001b[0mextend\u001b[0m\u001b[1;33m(\u001b[0m\u001b[0mmodel\u001b[0m\u001b[1;33m.\u001b[0m\u001b[0mpredict_proba\u001b[0m\u001b[1;33m(\u001b[0m\u001b[0mx_train_tfidf_w2v\u001b[0m\u001b[1;33m[\u001b[0m\u001b[0mi\u001b[0m\u001b[1;33m:\u001b[0m\u001b[0mi\u001b[0m\u001b[1;33m+\u001b[0m\u001b[1;36m224\u001b[0m\u001b[1;33m]\u001b[0m\u001b[1;33m)\u001b[0m\u001b[1;33m[\u001b[0m\u001b[1;33m:\u001b[0m\u001b[1;33m,\u001b[0m\u001b[1;36m1\u001b[0m\u001b[1;33m]\u001b[0m\u001b[1;33m)\u001b[0m\u001b[1;33m\u001b[0m\u001b[1;33m\u001b[0m\u001b[0m\n\u001b[0;32m     14\u001b[0m     \u001b[0mtrain_auc\u001b[0m\u001b[1;33m.\u001b[0m\u001b[0mappend\u001b[0m\u001b[1;33m(\u001b[0m\u001b[0mroc_auc_score\u001b[0m\u001b[1;33m(\u001b[0m\u001b[0my_train\u001b[0m\u001b[1;33m,\u001b[0m\u001b[0my_train_prob\u001b[0m\u001b[1;33m)\u001b[0m\u001b[1;33m)\u001b[0m\u001b[1;33m\u001b[0m\u001b[1;33m\u001b[0m\u001b[0m\n\u001b[1;32m---> 15\u001b[1;33m     \u001b[0mcv_auc\u001b[0m\u001b[1;33m.\u001b[0m\u001b[0mappend\u001b[0m\u001b[1;33m(\u001b[0m\u001b[0mroc_auc_score\u001b[0m\u001b[1;33m(\u001b[0m\u001b[0my_cv\u001b[0m\u001b[1;33m,\u001b[0m\u001b[0my_cv_prob\u001b[0m\u001b[1;33m)\u001b[0m\u001b[1;33m)\u001b[0m\u001b[1;33m\u001b[0m\u001b[1;33m\u001b[0m\u001b[0m\n\u001b[0m",
      "\u001b[1;32me:\\python 3.8.5\\lib\\site-packages\\sklearn\\utils\\validation.py\u001b[0m in \u001b[0;36minner_f\u001b[1;34m(*args, **kwargs)\u001b[0m\n\u001b[0;32m     70\u001b[0m                           FutureWarning)\n\u001b[0;32m     71\u001b[0m         \u001b[0mkwargs\u001b[0m\u001b[1;33m.\u001b[0m\u001b[0mupdate\u001b[0m\u001b[1;33m(\u001b[0m\u001b[1;33m{\u001b[0m\u001b[0mk\u001b[0m\u001b[1;33m:\u001b[0m \u001b[0marg\u001b[0m \u001b[1;32mfor\u001b[0m \u001b[0mk\u001b[0m\u001b[1;33m,\u001b[0m \u001b[0marg\u001b[0m \u001b[1;32min\u001b[0m \u001b[0mzip\u001b[0m\u001b[1;33m(\u001b[0m\u001b[0msig\u001b[0m\u001b[1;33m.\u001b[0m\u001b[0mparameters\u001b[0m\u001b[1;33m,\u001b[0m \u001b[0margs\u001b[0m\u001b[1;33m)\u001b[0m\u001b[1;33m}\u001b[0m\u001b[1;33m)\u001b[0m\u001b[1;33m\u001b[0m\u001b[1;33m\u001b[0m\u001b[0m\n\u001b[1;32m---> 72\u001b[1;33m         \u001b[1;32mreturn\u001b[0m \u001b[0mf\u001b[0m\u001b[1;33m(\u001b[0m\u001b[1;33m**\u001b[0m\u001b[0mkwargs\u001b[0m\u001b[1;33m)\u001b[0m\u001b[1;33m\u001b[0m\u001b[1;33m\u001b[0m\u001b[0m\n\u001b[0m\u001b[0;32m     73\u001b[0m     \u001b[1;32mreturn\u001b[0m \u001b[0minner_f\u001b[0m\u001b[1;33m\u001b[0m\u001b[1;33m\u001b[0m\u001b[0m\n\u001b[0;32m     74\u001b[0m \u001b[1;33m\u001b[0m\u001b[0m\n",
      "\u001b[1;32me:\\python 3.8.5\\lib\\site-packages\\sklearn\\metrics\\_ranking.py\u001b[0m in \u001b[0;36mroc_auc_score\u001b[1;34m(y_true, y_score, average, sample_weight, max_fpr, multi_class, labels)\u001b[0m\n\u001b[0;32m    388\u001b[0m         \u001b[0mlabels\u001b[0m \u001b[1;33m=\u001b[0m \u001b[0mnp\u001b[0m\u001b[1;33m.\u001b[0m\u001b[0munique\u001b[0m\u001b[1;33m(\u001b[0m\u001b[0my_true\u001b[0m\u001b[1;33m)\u001b[0m\u001b[1;33m\u001b[0m\u001b[1;33m\u001b[0m\u001b[0m\n\u001b[0;32m    389\u001b[0m         \u001b[0my_true\u001b[0m \u001b[1;33m=\u001b[0m \u001b[0mlabel_binarize\u001b[0m\u001b[1;33m(\u001b[0m\u001b[0my_true\u001b[0m\u001b[1;33m,\u001b[0m \u001b[0mclasses\u001b[0m\u001b[1;33m=\u001b[0m\u001b[0mlabels\u001b[0m\u001b[1;33m)\u001b[0m\u001b[1;33m[\u001b[0m\u001b[1;33m:\u001b[0m\u001b[1;33m,\u001b[0m \u001b[1;36m0\u001b[0m\u001b[1;33m]\u001b[0m\u001b[1;33m\u001b[0m\u001b[1;33m\u001b[0m\u001b[0m\n\u001b[1;32m--> 390\u001b[1;33m         return _average_binary_score(partial(_binary_roc_auc_score,\n\u001b[0m\u001b[0;32m    391\u001b[0m                                              max_fpr=max_fpr),\n\u001b[0;32m    392\u001b[0m                                      \u001b[0my_true\u001b[0m\u001b[1;33m,\u001b[0m \u001b[0my_score\u001b[0m\u001b[1;33m,\u001b[0m \u001b[0maverage\u001b[0m\u001b[1;33m,\u001b[0m\u001b[1;33m\u001b[0m\u001b[1;33m\u001b[0m\u001b[0m\n",
      "\u001b[1;32me:\\python 3.8.5\\lib\\site-packages\\sklearn\\metrics\\_base.py\u001b[0m in \u001b[0;36m_average_binary_score\u001b[1;34m(binary_metric, y_true, y_score, average, sample_weight)\u001b[0m\n\u001b[0;32m     75\u001b[0m \u001b[1;33m\u001b[0m\u001b[0m\n\u001b[0;32m     76\u001b[0m     \u001b[1;32mif\u001b[0m \u001b[0my_type\u001b[0m \u001b[1;33m==\u001b[0m \u001b[1;34m\"binary\"\u001b[0m\u001b[1;33m:\u001b[0m\u001b[1;33m\u001b[0m\u001b[1;33m\u001b[0m\u001b[0m\n\u001b[1;32m---> 77\u001b[1;33m         \u001b[1;32mreturn\u001b[0m \u001b[0mbinary_metric\u001b[0m\u001b[1;33m(\u001b[0m\u001b[0my_true\u001b[0m\u001b[1;33m,\u001b[0m \u001b[0my_score\u001b[0m\u001b[1;33m,\u001b[0m \u001b[0msample_weight\u001b[0m\u001b[1;33m=\u001b[0m\u001b[0msample_weight\u001b[0m\u001b[1;33m)\u001b[0m\u001b[1;33m\u001b[0m\u001b[1;33m\u001b[0m\u001b[0m\n\u001b[0m\u001b[0;32m     78\u001b[0m \u001b[1;33m\u001b[0m\u001b[0m\n\u001b[0;32m     79\u001b[0m     \u001b[0mcheck_consistent_length\u001b[0m\u001b[1;33m(\u001b[0m\u001b[0my_true\u001b[0m\u001b[1;33m,\u001b[0m \u001b[0my_score\u001b[0m\u001b[1;33m,\u001b[0m \u001b[0msample_weight\u001b[0m\u001b[1;33m)\u001b[0m\u001b[1;33m\u001b[0m\u001b[1;33m\u001b[0m\u001b[0m\n",
      "\u001b[1;32me:\\python 3.8.5\\lib\\site-packages\\sklearn\\metrics\\_ranking.py\u001b[0m in \u001b[0;36m_binary_roc_auc_score\u001b[1;34m(y_true, y_score, sample_weight, max_fpr)\u001b[0m\n\u001b[0;32m    224\u001b[0m                          \"is not defined in that case.\")\n\u001b[0;32m    225\u001b[0m \u001b[1;33m\u001b[0m\u001b[0m\n\u001b[1;32m--> 226\u001b[1;33m     fpr, tpr, _ = roc_curve(y_true, y_score,\n\u001b[0m\u001b[0;32m    227\u001b[0m                             sample_weight=sample_weight)\n\u001b[0;32m    228\u001b[0m     \u001b[1;32mif\u001b[0m \u001b[0mmax_fpr\u001b[0m \u001b[1;32mis\u001b[0m \u001b[1;32mNone\u001b[0m \u001b[1;32mor\u001b[0m \u001b[0mmax_fpr\u001b[0m \u001b[1;33m==\u001b[0m \u001b[1;36m1\u001b[0m\u001b[1;33m:\u001b[0m\u001b[1;33m\u001b[0m\u001b[1;33m\u001b[0m\u001b[0m\n",
      "\u001b[1;32me:\\python 3.8.5\\lib\\site-packages\\sklearn\\utils\\validation.py\u001b[0m in \u001b[0;36minner_f\u001b[1;34m(*args, **kwargs)\u001b[0m\n\u001b[0;32m     70\u001b[0m                           FutureWarning)\n\u001b[0;32m     71\u001b[0m         \u001b[0mkwargs\u001b[0m\u001b[1;33m.\u001b[0m\u001b[0mupdate\u001b[0m\u001b[1;33m(\u001b[0m\u001b[1;33m{\u001b[0m\u001b[0mk\u001b[0m\u001b[1;33m:\u001b[0m \u001b[0marg\u001b[0m \u001b[1;32mfor\u001b[0m \u001b[0mk\u001b[0m\u001b[1;33m,\u001b[0m \u001b[0marg\u001b[0m \u001b[1;32min\u001b[0m \u001b[0mzip\u001b[0m\u001b[1;33m(\u001b[0m\u001b[0msig\u001b[0m\u001b[1;33m.\u001b[0m\u001b[0mparameters\u001b[0m\u001b[1;33m,\u001b[0m \u001b[0margs\u001b[0m\u001b[1;33m)\u001b[0m\u001b[1;33m}\u001b[0m\u001b[1;33m)\u001b[0m\u001b[1;33m\u001b[0m\u001b[1;33m\u001b[0m\u001b[0m\n\u001b[1;32m---> 72\u001b[1;33m         \u001b[1;32mreturn\u001b[0m \u001b[0mf\u001b[0m\u001b[1;33m(\u001b[0m\u001b[1;33m**\u001b[0m\u001b[0mkwargs\u001b[0m\u001b[1;33m)\u001b[0m\u001b[1;33m\u001b[0m\u001b[1;33m\u001b[0m\u001b[0m\n\u001b[0m\u001b[0;32m     73\u001b[0m     \u001b[1;32mreturn\u001b[0m \u001b[0minner_f\u001b[0m\u001b[1;33m\u001b[0m\u001b[1;33m\u001b[0m\u001b[0m\n\u001b[0;32m     74\u001b[0m \u001b[1;33m\u001b[0m\u001b[0m\n",
      "\u001b[1;32me:\\python 3.8.5\\lib\\site-packages\\sklearn\\metrics\\_ranking.py\u001b[0m in \u001b[0;36mroc_curve\u001b[1;34m(y_true, y_score, pos_label, sample_weight, drop_intermediate)\u001b[0m\n\u001b[0;32m    773\u001b[0m \u001b[1;33m\u001b[0m\u001b[0m\n\u001b[0;32m    774\u001b[0m     \"\"\"\n\u001b[1;32m--> 775\u001b[1;33m     fps, tps, thresholds = _binary_clf_curve(\n\u001b[0m\u001b[0;32m    776\u001b[0m         y_true, y_score, pos_label=pos_label, sample_weight=sample_weight)\n\u001b[0;32m    777\u001b[0m \u001b[1;33m\u001b[0m\u001b[0m\n",
      "\u001b[1;32me:\\python 3.8.5\\lib\\site-packages\\sklearn\\metrics\\_ranking.py\u001b[0m in \u001b[0;36m_binary_clf_curve\u001b[1;34m(y_true, y_score, pos_label, sample_weight)\u001b[0m\n\u001b[0;32m    539\u001b[0m         \u001b[1;32mraise\u001b[0m \u001b[0mValueError\u001b[0m\u001b[1;33m(\u001b[0m\u001b[1;34m\"{0} format is not supported\"\u001b[0m\u001b[1;33m.\u001b[0m\u001b[0mformat\u001b[0m\u001b[1;33m(\u001b[0m\u001b[0my_type\u001b[0m\u001b[1;33m)\u001b[0m\u001b[1;33m)\u001b[0m\u001b[1;33m\u001b[0m\u001b[1;33m\u001b[0m\u001b[0m\n\u001b[0;32m    540\u001b[0m \u001b[1;33m\u001b[0m\u001b[0m\n\u001b[1;32m--> 541\u001b[1;33m     \u001b[0mcheck_consistent_length\u001b[0m\u001b[1;33m(\u001b[0m\u001b[0my_true\u001b[0m\u001b[1;33m,\u001b[0m \u001b[0my_score\u001b[0m\u001b[1;33m,\u001b[0m \u001b[0msample_weight\u001b[0m\u001b[1;33m)\u001b[0m\u001b[1;33m\u001b[0m\u001b[1;33m\u001b[0m\u001b[0m\n\u001b[0m\u001b[0;32m    542\u001b[0m     \u001b[0my_true\u001b[0m \u001b[1;33m=\u001b[0m \u001b[0mcolumn_or_1d\u001b[0m\u001b[1;33m(\u001b[0m\u001b[0my_true\u001b[0m\u001b[1;33m)\u001b[0m\u001b[1;33m\u001b[0m\u001b[1;33m\u001b[0m\u001b[0m\n\u001b[0;32m    543\u001b[0m     \u001b[0my_score\u001b[0m \u001b[1;33m=\u001b[0m \u001b[0mcolumn_or_1d\u001b[0m\u001b[1;33m(\u001b[0m\u001b[0my_score\u001b[0m\u001b[1;33m)\u001b[0m\u001b[1;33m\u001b[0m\u001b[1;33m\u001b[0m\u001b[0m\n",
      "\u001b[1;32me:\\python 3.8.5\\lib\\site-packages\\sklearn\\utils\\validation.py\u001b[0m in \u001b[0;36mcheck_consistent_length\u001b[1;34m(*arrays)\u001b[0m\n\u001b[0;32m    253\u001b[0m     \u001b[0muniques\u001b[0m \u001b[1;33m=\u001b[0m \u001b[0mnp\u001b[0m\u001b[1;33m.\u001b[0m\u001b[0munique\u001b[0m\u001b[1;33m(\u001b[0m\u001b[0mlengths\u001b[0m\u001b[1;33m)\u001b[0m\u001b[1;33m\u001b[0m\u001b[1;33m\u001b[0m\u001b[0m\n\u001b[0;32m    254\u001b[0m     \u001b[1;32mif\u001b[0m \u001b[0mlen\u001b[0m\u001b[1;33m(\u001b[0m\u001b[0muniques\u001b[0m\u001b[1;33m)\u001b[0m \u001b[1;33m>\u001b[0m \u001b[1;36m1\u001b[0m\u001b[1;33m:\u001b[0m\u001b[1;33m\u001b[0m\u001b[1;33m\u001b[0m\u001b[0m\n\u001b[1;32m--> 255\u001b[1;33m         raise ValueError(\"Found input variables with inconsistent numbers of\"\n\u001b[0m\u001b[0;32m    256\u001b[0m                          \" samples: %r\" % [int(l) for l in lengths])\n\u001b[0;32m    257\u001b[0m \u001b[1;33m\u001b[0m\u001b[0m\n",
      "\u001b[1;31mValueError\u001b[0m: Found input variables with inconsistent numbers of samples: [670, 672]"
     ]
    }
   ],
   "source": [
    "train_auc=[]\n",
    "cv_auc=[]\n",
    "from tqdm import tqdm\n",
    "k=[10**i for i in range(-4,4)]\n",
    "for k in tqdm(k):\n",
    "    model=LogisticRegression(C=k,penalty='l2',class_weight='balanced')\n",
    "    model.fit(x_train_tfidf_w2v,y_train)\n",
    "    y_train_prob=[]\n",
    "    for i in range(0,len(x_train_tfidf_w2v[0]),1000):\n",
    "        y_train_prob.extend(model.predict_proba(x_train_tfidf_w2v[i:i+2008])[:,1])\n",
    "    y_cv_prob=[]\n",
    "    for i in range(0,len(x_train_tfidf_w2v[0]),1000):\n",
    "        y_cv_prob.extend(model.predict_proba(x_train_tfidf_w2v[i:i+224])[:,1])\n",
    "    train_auc.append(roc_auc_score(y_train,y_train_prob))\n",
    "    cv_auc.append(roc_auc_score(y_cv,y_cv_prob))"
   ]
  },
  {
   "cell_type": "markdown",
   "metadata": {
    "colab_type": "text",
    "id": "nOvsBNf2LPpv"
   },
   "source": [
    "# [6] Conclusions"
   ]
  },
  {
   "cell_type": "code",
   "execution_count": 122,
   "metadata": {
    "colab": {},
    "colab_type": "code",
    "id": "T7VxD0q2LPpw"
   },
   "outputs": [
    {
     "name": "stdout",
     "output_type": "stream",
     "text": [
      "+-------+----------------+----------------+-------------+\n",
      "|  Set  | Hyperparameter | Regularization | Auc on Test |\n",
      "+-------+----------------+----------------+-------------+\n",
      "|  BOW  |      0.01      |       L2       |     0.90    |\n",
      "| TFIDF |      0.01      |       L2       |     0.90    |\n",
      "+-------+----------------+----------------+-------------+\n"
     ]
    }
   ],
   "source": [
    "# Please compare all your models using Prettytable library\n",
    "from prettytable import PrettyTable\n",
    "table=PrettyTable()\n",
    "table.field_names=['Set','Hyperparameter','Regularization','Auc on Test']\n",
    "table.add_row(['BOW','0.01','L2','0.90'])\n",
    "table.add_row(['TFIDF','0.01','L2','0.90'])\n",
    "print(table)"
   ]
  }
 ],
 "metadata": {
  "colab": {
   "name": "05 Amazon Fine Food Reviews Analysis_Logistic Regression.ipynb",
   "provenance": []
  },
  "kernelspec": {
   "display_name": "Python 3",
   "language": "python",
   "name": "python3"
  },
  "language_info": {
   "codemirror_mode": {
    "name": "ipython",
    "version": 3
   },
   "file_extension": ".py",
   "mimetype": "text/x-python",
   "name": "python",
   "nbconvert_exporter": "python",
   "pygments_lexer": "ipython3",
   "version": "3.8.5"
  }
 },
 "nbformat": 4,
 "nbformat_minor": 1
}
